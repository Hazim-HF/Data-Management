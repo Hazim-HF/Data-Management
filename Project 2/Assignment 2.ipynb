{
 "cells": [
  {
   "cell_type": "markdown",
   "id": "473f568d",
   "metadata": {},
   "source": [
    "# Project 2: Airline On-Time Performance Data\n",
    "Airline on-time performance data from 1987 to 2012 "
   ]
  },
  {
   "cell_type": "markdown",
   "id": "0b3187dd",
   "metadata": {},
   "source": [
    "**1987 - 2008**\n",
    "| **Variable** | **Description** |\n",
    "|---:|---:|\n",
    "| Year | Year of flight |\n",
    "| Month | Month of the flight (1 = Jan, ..., 12 = Dec) |\n",
    "| DayofMonth | Day of the Month (1 to 31) |\n",
    "| DayofWeek | Day of the week (1 = Monday, ..., 7 = Sunday) |\n",
    "| DepTime | Actual Departure Time in 24hrs format |\n",
    "| CRSDepTime | Scheduled Departure Time in 24hrs format |\n",
    "| ArrTime | Actual Arrival Time in 24hrs format |\n",
    "| CRSArrTime | Scheduled Arrival Time in 24hrs format |\n",
    "| UniqueCarrier | Carrier Code | \n",
    "| FlightNum | Flight Number |\n",
    "| TailNum | Plane's tail number |\n",
    "| ActualEplapsedTime | Actual elapsed time (in minutes) |\n",
    "| CRSElapsedTime | Estimated elapsed time (in minutes) |\n",
    "| AirTime | Flight time (in minutes) |\n",
    "| ArrDelay | Arrival Delay in minutes (ArrTime - CRSArrTime) | \n",
    "| DepDelay | Departure Delay in minutes (DepTime - CRSDepTime) |\n",
    "| Origin | Origin IATA airport code |\n",
    "| Dest | Destination IATA airport code|\n",
    "| Distance | Distance in KM|\n",
    "| TaxiIn | Wheels down and arrival at the destination airport gate (in minutes) |\n",
    "| Cancelled | Was the flight cancelled? (1 = yes, 0 = no) |\n",
    "| CancellationCode | Reasons for cancellation (A = carrier, B =  weather, C = NAS, D = security) |\n",
    "| Diverted | 1 = yes, 0 = no |\n",
    "| CarrierDelay | Delay (in minutes) caused by carrier |\n",
    "| WeatherDelay | Delay (in minutes) caused by weather|\n",
    "| NASDelay | National Air Security (NAS) delay |\n",
    "| SecurityDelay | Delay (in minutes) caused by security |\n",
    "| LateAircraftDelay | Delay (in minutes) caused by late aircraft |\n",
    "\n",
    "**airports**\n",
    "| **Variable** | **Description** |\n",
    "| ---: | ---: | \n",
    "| iata | Airport code |\n",
    "| airport | Airport Name  |\n",
    "| city | Airport ity |\n",
    "| state | Airport state |\n",
    "| country | Airport country |\n",
    "| lat | Airport latitude |\n",
    "| long | Airport longitude | \n",
    "\n",
    "**carriers**\n",
    "| **Variable** | **Description** |\n",
    "| ---: | ---: | \n",
    "| Code | Carrier code |\n",
    "| Description | Carrier name |\n",
    "\n",
    "**plane-data**\n",
    "| **Variable** | **Description** |\n",
    "| ---: | ---: | \n",
    "| tailnum | Aircraft tial number |\n",
    "| type | Usage type | \n",
    "| manufacturer | Manufacturer company | \n",
    "| issue_date | Date start operating |\n",
    "| model | Aircraft model |\n",
    "| status | Status |\n",
    "| aircraft_type | Aircraft type |\n",
    "| engine_type | Engine type |\n",
    "| year | Manufacture year |\n",
    "\n",
    "2006['TailNum'] = plane-data['tailnum']\n",
    "\n",
    "2006[['Dest', 'Origin']] = airports['iata']\n",
    "\n",
    "2006['UniqueCarrier'] = carriers['Code']"
   ]
  },
  {
   "cell_type": "code",
   "execution_count": 1,
   "id": "8fc809a8",
   "metadata": {},
   "outputs": [],
   "source": [
    "# Import necessary libraries\n",
    "from pyhive import hive\n",
    "import pandas as pd\n",
    "import matplotlib.pyplot as plt\n",
    "import seaborn as sns"
   ]
  },
  {
   "cell_type": "code",
   "execution_count": 38,
   "id": "0bfe3618",
   "metadata": {},
   "outputs": [
    {
     "data": {
      "application/vnd.microsoft.datawrangler.viewer.v0+json": {
       "columns": [
        {
         "name": "index",
         "rawType": "int64",
         "type": "integer"
        },
        {
         "name": "database_name",
         "rawType": "object",
         "type": "string"
        }
       ],
       "ref": "86881f17-a02c-4387-bbd6-d044a2456287",
       "rows": [
        [
         "0",
         "adult"
        ],
        [
         "1",
         "credit"
        ],
        [
         "2",
         "default"
        ],
        [
         "3",
         "foodmart"
        ],
        [
         "4",
         "project"
        ],
        [
         "5",
         "project2"
        ],
        [
         "6",
         "test"
        ],
        [
         "7",
         "worldbank"
        ]
       ],
       "shape": {
        "columns": 1,
        "rows": 8
       }
      },
      "text/html": [
       "<div>\n",
       "<style scoped>\n",
       "    .dataframe tbody tr th:only-of-type {\n",
       "        vertical-align: middle;\n",
       "    }\n",
       "\n",
       "    .dataframe tbody tr th {\n",
       "        vertical-align: top;\n",
       "    }\n",
       "\n",
       "    .dataframe thead th {\n",
       "        text-align: right;\n",
       "    }\n",
       "</style>\n",
       "<table border=\"1\" class=\"dataframe\">\n",
       "  <thead>\n",
       "    <tr style=\"text-align: right;\">\n",
       "      <th></th>\n",
       "      <th>database_name</th>\n",
       "    </tr>\n",
       "  </thead>\n",
       "  <tbody>\n",
       "    <tr>\n",
       "      <th>0</th>\n",
       "      <td>adult</td>\n",
       "    </tr>\n",
       "    <tr>\n",
       "      <th>1</th>\n",
       "      <td>credit</td>\n",
       "    </tr>\n",
       "    <tr>\n",
       "      <th>2</th>\n",
       "      <td>default</td>\n",
       "    </tr>\n",
       "    <tr>\n",
       "      <th>3</th>\n",
       "      <td>foodmart</td>\n",
       "    </tr>\n",
       "    <tr>\n",
       "      <th>4</th>\n",
       "      <td>project</td>\n",
       "    </tr>\n",
       "    <tr>\n",
       "      <th>5</th>\n",
       "      <td>project2</td>\n",
       "    </tr>\n",
       "    <tr>\n",
       "      <th>6</th>\n",
       "      <td>test</td>\n",
       "    </tr>\n",
       "    <tr>\n",
       "      <th>7</th>\n",
       "      <td>worldbank</td>\n",
       "    </tr>\n",
       "  </tbody>\n",
       "</table>\n",
       "</div>"
      ],
      "text/plain": [
       "  database_name\n",
       "0         adult\n",
       "1        credit\n",
       "2       default\n",
       "3      foodmart\n",
       "4       project\n",
       "5      project2\n",
       "6          test\n",
       "7     worldbank"
      ]
     },
     "execution_count": 38,
     "metadata": {},
     "output_type": "execute_result"
    }
   ],
   "source": [
    "from sqlalchemy.engine import create_engine\n",
    "import pandas as pd\n",
    "\n",
    "engine = create_engine('hive://maria_dev@localhost:10000/default')\n",
    "\n",
    "query = \"SHOW DATABASES\"\n",
    "df = pd.read_sql(query, engine)\n",
    "df\n"
   ]
  },
  {
   "cell_type": "code",
   "execution_count": 2,
   "id": "6b16e036",
   "metadata": {},
   "outputs": [],
   "source": [
    "# establish a connection to hive\n",
    "conn = hive.Connection(host='localhost',\n",
    "                       port=10000,\n",
    "                       username='maria_dev')\n",
    "\n",
    "# create a cursor object using the connection\n",
    "cursor = conn.cursor()\n",
    "\n",
    "def hive_query(query):\n",
    "    cursor.execute(query)\n",
    "    for result in cursor.fetchall():\n",
    "        print(result)"
   ]
  },
  {
   "cell_type": "code",
   "execution_count": 3,
   "id": "0b5b1b1e",
   "metadata": {},
   "outputs": [
    {
     "name": "stdout",
     "output_type": "stream",
     "text": [
      "('adult',)\n",
      "('credit',)\n",
      "('default',)\n",
      "('foodmart',)\n",
      "('project',)\n",
      "('project2',)\n",
      "('test',)\n",
      "('worldbank',)\n"
     ]
    }
   ],
   "source": [
    "# Create a database\n",
    "cursor.execute(\"CREATE DATABASE IF NOT EXISTS project2\")\n",
    "\n",
    "# View all databases to make sure the database was created\n",
    "hive_query(\"SHOW DATABASES\")"
   ]
  },
  {
   "cell_type": "code",
   "execution_count": 4,
   "id": "90a261b1",
   "metadata": {},
   "outputs": [],
   "source": [
    "# import 1987 - 2008 airline data from HDFS (in csv file) to Hive\n",
    "for year in range(1987, 2009):\n",
    "    location = f\"/user/maria_dev/project2/{year}\"\n",
    "    table_name = f\"project2.airline_{year}\"\n",
    "# Create external table pointing to the CSV\n",
    "    cursor.execute(f\"\"\"\n",
    "    CREATE EXTERNAL TABLE IF NOT EXISTS {table_name} (\n",
    "        Year INT,\n",
    "        Month INT,\n",
    "        DayofMonth INT,\n",
    "        DayOfWeek INT,\n",
    "        DepTime INT,\n",
    "        CRSDepTime INT,\n",
    "        ArrTime INT,\n",
    "        CRSArrTime INT,\n",
    "        UniqueCarrier STRING,\n",
    "        FlightNum INT,\n",
    "        TailNum STRING,\n",
    "        ActualElapsedTime INT,\n",
    "        CRSElapsedTime INT,\n",
    "        AirTime INT,\n",
    "        ArrDelay INT,\n",
    "        DepDelay INT,\n",
    "        Origin STRING,\n",
    "        Dest STRING,\n",
    "        Distance INT,\n",
    "        TaxiIn INT,\n",
    "        TaxiOut INT,\n",
    "        Cancelled INT,\n",
    "        CancellationCode STRING,\n",
    "        Diverted INT,\n",
    "        CarrierDelay INT,\n",
    "        WeatherDelay INT,\n",
    "        NASDelay INT,\n",
    "        SecurityDelay INT,\n",
    "        LateAircraftDelay INT\n",
    "    )\n",
    "    ROW FORMAT DELIMITED\n",
    "    FIELDS TERMINATED BY ','\n",
    "    STORED AS TEXTFILE\n",
    "    LOCATION '{location}'\n",
    "    TBLPROPERTIES (\"skip.header.line.count\"=\"1\")\n",
    "    \"\"\")\n"
   ]
  },
  {
   "cell_type": "code",
   "execution_count": 5,
   "id": "baabf5ca",
   "metadata": {},
   "outputs": [],
   "source": [
    "# import airports data from HDFS (in csv file) to Hive\n",
    "cursor.execute(\"\"\"\n",
    "               CREATE TABLE IF NOT EXISTS project2.airports (\n",
    "                iata STRING,\n",
    "                airport STRING,\n",
    "                city STRING,\n",
    "                state STRING,\n",
    "                country STRING,\n",
    "                lat FLOAT,\n",
    "                long FLOAT\n",
    "               )\n",
    "                ROW FORMAT DELIMITED\n",
    "                FIELDS TERMINATED BY ','\n",
    "                STORED AS TEXTFILE\n",
    "                LOCATION '/user/maria_dev/project2/airports'\n",
    "                TBLPROPERTIES (\"skip.header.line.count\"=\"1\")\n",
    "                \"\"\")\n"
   ]
  },
  {
   "cell_type": "code",
   "execution_count": 67,
   "id": "f9db0580",
   "metadata": {},
   "outputs": [],
   "source": [
    "# import carriers data from HDFS (in csv file) to Hive\n",
    "cursor.execute(\"\"\"\n",
    "               CREATE TABLE IF NOT EXISTS project2.carriers (\n",
    "                Code STRING,\n",
    "                Description STRING\n",
    "               )\n",
    "                ROW FORMAT DELIMITED\n",
    "                FIELDS TERMINATED BY ','\n",
    "                STORED AS TEXTFILE\n",
    "                LOCATION '/user/maria_dev/project2/carriers'\n",
    "                TBLPROPERTIES (\"skip.header.line.count\"=\"1\")\n",
    "\"\"\")\n"
   ]
  },
  {
   "cell_type": "code",
   "execution_count": 7,
   "id": "0932424a",
   "metadata": {},
   "outputs": [],
   "source": [
    "# import plane data from HDFS (in csv file) to Hive\n",
    "cursor.execute(\"\"\"\n",
    "               CREATE TABLE IF NOT EXISTS project2.plane_data (\n",
    "                tailnum STRING,\n",
    "                type STRING,\n",
    "                manufacturer STRING,\n",
    "                issue_date STRING,\n",
    "                model STRING,\n",
    "                status STRING,\n",
    "                serial_number STRING,\n",
    "                engine_type STRING,\n",
    "                year INT\n",
    "               )\n",
    "                ROW FORMAT DELIMITED\n",
    "                FIELDS TERMINATED BY ','\n",
    "                STORED AS TEXTFILE\n",
    "                LOCATION '/user/maria_dev/project2/plane_data'\n",
    "                TBLPROPERTIES (\"skip.header.line.count\"=\"1\")\n",
    "\"\"\")\n"
   ]
  },
  {
   "cell_type": "code",
   "execution_count": null,
   "id": "f3804e8c",
   "metadata": {},
   "outputs": [],
   "source": [
    "# combine all airline data from 1987 to 2008 into a single table airline_all\n",
    "years = range(1987, 2009)  \n",
    "union_query_parts = [f\"SELECT * FROM project2.airline_{year}\" for year in years]\n",
    "union_all_query = \" UNION ALL\\n\".join(union_query_parts)\n",
    "\n",
    "cursor.execute(f\"\"\"\n",
    "CREATE TABLE IF NOT EXISTS project2.airline_all\n",
    "AS\n",
    "{union_all_query}\n",
    "\"\"\")"
   ]
  },
  {
   "cell_type": "markdown",
   "id": "080e46a0",
   "metadata": {},
   "source": [
    "<h1 style = 'font-weight:bold'> Selecting Year of Interest </h1>"
   ]
  },
  {
   "cell_type": "code",
   "execution_count": 117,
   "id": "da5fbc74",
   "metadata": {},
   "outputs": [
    {
     "name": "stdout",
     "output_type": "stream",
     "text": [
      "Processing project2.airline_1987\n",
      "Processing project2.airline_1988\n",
      "Processing project2.airline_1989\n",
      "Processing project2.airline_1990\n",
      "Processing project2.airline_1991\n",
      "Processing project2.airline_1992\n",
      "Processing project2.airline_1993\n",
      "Processing project2.airline_1994\n",
      "Processing project2.airline_1995\n",
      "Processing project2.airline_1996\n",
      "Processing project2.airline_1997\n",
      "Processing project2.airline_1998\n",
      "Processing project2.airline_1999\n",
      "Processing project2.airline_2000\n",
      "Processing project2.airline_2001\n",
      "Processing project2.airline_2002\n",
      "Processing project2.airline_2003\n",
      "Processing project2.airline_2004\n",
      "Processing project2.airline_2005\n",
      "Processing project2.airline_2006\n",
      "Processing project2.airline_2007\n",
      "Processing project2.airline_2008\n"
     ]
    }
   ],
   "source": [
    "columns = [\n",
    "    \"Year\", \"Month\", \"DayofMonth\", \"DayOfWeek\", \"DepTime\", \"CRSDepTime\", \"ArrTime\", \"CRSArrTime\",\n",
    "    \"UniqueCarrier\", \"FlightNum\", \"TailNum\", \"ActualElapsedTime\", \"CRSElapsedTime\", \"AirTime\",\n",
    "    \"ArrDelay\", \"DepDelay\", \"Origin\", \"Dest\", \"Distance\", \"TaxiIn\", \"TaxiOut\", \"Cancelled\",\n",
    "    \"CancellationCode\", \"Diverted\", \"CarrierDelay\", \"WeatherDelay\", \"NASDelay\", \"SecurityDelay\", \"LateAircraftDelay\"\n",
    "]\n",
    "\n",
    "results = []\n",
    "\n",
    "for year in range(1987, 2009):\n",
    "    table = f\"project2.airline_{year}\"\n",
    "    print(f\"Processing {table}\")\n",
    "\n",
    "    null_checks = \" +\\n    \".join([\n",
    "        f\"IF({col} IS NULL OR {col} = '', 1, 0)\" if col in ['TailNum', 'UniqueCarrier', 'Origin', 'Dest', 'CancellationCode']\n",
    "        else f\"IF({col} IS NULL, 1, 0)\"\n",
    "        for col in columns\n",
    "    ])\n",
    "\n",
    "    query = f\"\"\"\n",
    "        SELECT\n",
    "            {year} AS year,\n",
    "            COUNT(*) AS total_rows,\n",
    "            SUM(\n",
    "                {null_checks}\n",
    "            ) AS total_missing_values\n",
    "        FROM {table}\n",
    "    \"\"\"\n",
    "\n",
    "    cursor.execute(query)\n",
    "    row = cursor.fetchone()\n",
    "    results.append(row)\n",
    "\n",
    "\n",
    "data = pd.DataFrame(results, columns=[\"year\", \"total_rows\", \"total_missing_values\"])"
   ]
  },
  {
   "cell_type": "code",
   "execution_count": 118,
   "id": "9b3a1d72",
   "metadata": {},
   "outputs": [],
   "source": [
    "data['missing_ratio'] = (data['total_missing_values'] / data['total_rows'])\n",
    "data['missing_ratio'] = data['missing_ratio'].round(2)\n",
    "data.sort_values(by='missing_ratio', ascending=True)\n",
    "data['year'] = data['year'].astype(str)  # Convert year to string for better plotting"
   ]
  },
  {
   "cell_type": "code",
   "execution_count": null,
   "id": "ce75efd8",
   "metadata": {},
   "outputs": [
    {
     "data": {
      "application/vnd.microsoft.datawrangler.viewer.v0+json": {
       "columns": [
        {
         "name": "index",
         "rawType": "int64",
         "type": "integer"
        },
        {
         "name": "time_of_day",
         "rawType": "object",
         "type": "string"
        },
        {
         "name": "avg_depdelay",
         "rawType": "float64",
         "type": "float"
        }
       ],
       "ref": "89dc0f9b-4229-435e-a058-6c047790d475",
       "rows": [
        [
         "0",
         "Morning",
         "4.49"
        ],
        [
         "1",
         "Afternoon",
         "11.8"
        ],
        [
         "2",
         "Night",
         "13.3"
        ],
        [
         "3",
         "Evening",
         "17.02"
        ]
       ],
       "shape": {
        "columns": 2,
        "rows": 4
       }
      },
      "text/html": [
       "<div>\n",
       "<style scoped>\n",
       "    .dataframe tbody tr th:only-of-type {\n",
       "        vertical-align: middle;\n",
       "    }\n",
       "\n",
       "    .dataframe tbody tr th {\n",
       "        vertical-align: top;\n",
       "    }\n",
       "\n",
       "    .dataframe thead th {\n",
       "        text-align: right;\n",
       "    }\n",
       "</style>\n",
       "<table border=\"1\" class=\"dataframe\">\n",
       "  <thead>\n",
       "    <tr style=\"text-align: right;\">\n",
       "      <th></th>\n",
       "      <th>time_of_day</th>\n",
       "      <th>avg_depdelay</th>\n",
       "    </tr>\n",
       "  </thead>\n",
       "  <tbody>\n",
       "    <tr>\n",
       "      <th>0</th>\n",
       "      <td>Morning</td>\n",
       "      <td>4.49</td>\n",
       "    </tr>\n",
       "    <tr>\n",
       "      <th>1</th>\n",
       "      <td>Afternoon</td>\n",
       "      <td>11.80</td>\n",
       "    </tr>\n",
       "    <tr>\n",
       "      <th>2</th>\n",
       "      <td>Night</td>\n",
       "      <td>13.30</td>\n",
       "    </tr>\n",
       "    <tr>\n",
       "      <th>3</th>\n",
       "      <td>Evening</td>\n",
       "      <td>17.02</td>\n",
       "    </tr>\n",
       "  </tbody>\n",
       "</table>\n",
       "</div>"
      ],
      "text/plain": [
       "  time_of_day  avg_depdelay\n",
       "0     Morning          4.49\n",
       "1   Afternoon         11.80\n",
       "2       Night         13.30\n",
       "3     Evening         17.02"
      ]
     },
     "execution_count": 116,
     "metadata": {},
     "output_type": "execute_result"
    }
   ],
   "source": [
    "data"
   ]
  },
  {
   "cell_type": "code",
   "execution_count": 119,
   "id": "01b92076",
   "metadata": {},
   "outputs": [
    {
     "name": "stderr",
     "output_type": "stream",
     "text": [
      "C:\\Users\\user\\AppData\\Local\\Temp\\ipykernel_17428\\3391576344.py:1: FutureWarning: \n",
      "\n",
      "Passing `palette` without assigning `hue` is deprecated and will be removed in v0.14.0. Assign the `x` variable to `hue` and set `legend=False` for the same effect.\n",
      "\n",
      "  ax = sns.barplot(x='year', y='missing_ratio', data=data, palette='magma')\n"
     ]
    },
    {
     "data": {
      "image/png": "[encoded data removed]",
      "text/plain": [
       "<Figure size 640x480 with 1 Axes>"
      ]
     },
     "metadata": {},
     "output_type": "display_data"
    }
   ],
   "source": [
    "ax = sns.barplot(x='year', y='missing_ratio', data=data, palette='magma')\n",
    "for container in ax.containers:\n",
    "    ax.bar_label(container, labels=[f'{v:.1f}%' for v in container.datavalues], padding=3)\n",
    "plt.title(\"Missing Values Ratio by Year\")\n",
    "plt.xlabel(\"Year\")\n",
    "plt.ylabel(\"Missing Values Ratio (%)\")\n",
    "plt.show();"
   ]
  },
  {
   "cell_type": "markdown",
   "id": "a4c06971",
   "metadata": {},
   "source": [
    "In order to choose the best year for analysis, we are looking for the year that has the highest number of observation as more data will lead to better analysis. Next, we also will be looking at the total number of missing values to ensure the best accuracy. Thus, we calculated the missing-per-row ratio to which year has the highest total number of rows and the lowest number of missing values. Based on the table above, we can see that the year with the lowest ratio is 2006, thus, it will be selected for this analysis."
   ]
  },
  {
   "cell_type": "markdown",
   "id": "591bc160",
   "metadata": {},
   "source": [
    "<h1 style = 'font-weight:bold'> 1. Delay patterns </h1>\n",
    "<h2> 1.1 What times of the day have the lowest average delays </h2>"
   ]
  },
  {
   "cell_type": "code",
   "execution_count": 39,
   "id": "b7872f96",
   "metadata": {},
   "outputs": [
    {
     "name": "stderr",
     "output_type": "stream",
     "text": [
      "C:\\Users\\user\\AppData\\Local\\Temp\\ipykernel_17428\\1649678941.py:24: UserWarning: pandas only supports SQLAlchemy connectable (engine/connection) or database string URI or sqlite3 DBAPI2 connection. Other DBAPI2 objects are not tested. Please consider using SQLAlchemy.\n",
      "  df = pd.read_sql(query1, conn)\n"
     ]
    },
    {
     "data": {
      "application/vnd.microsoft.datawrangler.viewer.v0+json": {
       "columns": [
        {
         "name": "index",
         "rawType": "int64",
         "type": "integer"
        },
        {
         "name": "time_of_day",
         "rawType": "object",
         "type": "string"
        },
        {
         "name": "avg_depdelay",
         "rawType": "float64",
         "type": "float"
        }
       ],
       "ref": "0b97a220-33f4-4e32-811c-71eff26f3321",
       "rows": [
        [
         "0",
         "Morning",
         "4.49"
        ],
        [
         "1",
         "Afternoon",
         "11.8"
        ],
        [
         "2",
         "Night",
         "13.3"
        ],
        [
         "3",
         "Evening",
         "17.02"
        ]
       ],
       "shape": {
        "columns": 2,
        "rows": 4
       }
      },
      "text/html": [
       "<div>\n",
       "<style scoped>\n",
       "    .dataframe tbody tr th:only-of-type {\n",
       "        vertical-align: middle;\n",
       "    }\n",
       "\n",
       "    .dataframe tbody tr th {\n",
       "        vertical-align: top;\n",
       "    }\n",
       "\n",
       "    .dataframe thead th {\n",
       "        text-align: right;\n",
       "    }\n",
       "</style>\n",
       "<table border=\"1\" class=\"dataframe\">\n",
       "  <thead>\n",
       "    <tr style=\"text-align: right;\">\n",
       "      <th></th>\n",
       "      <th>time_of_day</th>\n",
       "      <th>avg_depdelay</th>\n",
       "    </tr>\n",
       "  </thead>\n",
       "  <tbody>\n",
       "    <tr>\n",
       "      <th>0</th>\n",
       "      <td>Morning</td>\n",
       "      <td>4.49</td>\n",
       "    </tr>\n",
       "    <tr>\n",
       "      <th>1</th>\n",
       "      <td>Afternoon</td>\n",
       "      <td>11.80</td>\n",
       "    </tr>\n",
       "    <tr>\n",
       "      <th>2</th>\n",
       "      <td>Night</td>\n",
       "      <td>13.30</td>\n",
       "    </tr>\n",
       "    <tr>\n",
       "      <th>3</th>\n",
       "      <td>Evening</td>\n",
       "      <td>17.02</td>\n",
       "    </tr>\n",
       "  </tbody>\n",
       "</table>\n",
       "</div>"
      ],
      "text/plain": [
       "  time_of_day  avg_depdelay\n",
       "0     Morning          4.49\n",
       "1   Afternoon         11.80\n",
       "2       Night         13.30\n",
       "3     Evening         17.02"
      ]
     },
     "execution_count": 39,
     "metadata": {},
     "output_type": "execute_result"
    }
   ],
   "source": [
    "# query data of average departure delay by time of day\n",
    "query1 = \"\"\"\n",
    "    SELECT\n",
    "        CASE\n",
    "            WHEN crsdeptime BETWEEN 500 AND 1159 THEN 'Morning'\n",
    "            WHEN crsdeptime BETWEEN 1200 AND 1659 THEN 'Afternoon'\n",
    "            WHEN crsdeptime BETWEEN 1700 AND 2059 THEN 'Evening'\n",
    "            ELSE 'Night'\n",
    "        END AS time_of_day,\n",
    "        AVG(depdelay) AS avg_depdelay\n",
    "    FROM project2.airline_2006\n",
    "    WHERE depdelay IS NOT NULL\n",
    "    AND crsdeptime IS NOT NULL\n",
    "    GROUP BY\n",
    "        CASE\n",
    "            WHEN crsdeptime BETWEEN 500 AND 1159 THEN 'Morning'\n",
    "            WHEN crsdeptime BETWEEN 1200 AND 1659 THEN 'Afternoon'\n",
    "            WHEN crsdeptime BETWEEN 1700 AND 2059 THEN 'Evening'\n",
    "            ELSE 'Night'\n",
    "        END\n",
    "    ORDER BY avg_depdelay\n",
    "\"\"\"\n",
    "\n",
    "df = pd.read_sql(query1, conn)\n",
    "df['avg_depdelay'] = df['avg_depdelay'].round(2)\n",
    "df"
   ]
  },
  {
   "cell_type": "code",
   "execution_count": 40,
   "id": "8baaf107",
   "metadata": {},
   "outputs": [
    {
     "name": "stderr",
     "output_type": "stream",
     "text": [
      "C:\\Users\\user\\AppData\\Local\\Temp\\ipykernel_17428\\2395380804.py:3: FutureWarning: \n",
      "\n",
      "Passing `palette` without assigning `hue` is deprecated and will be removed in v0.14.0. Assign the `x` variable to `hue` and set `legend=False` for the same effect.\n",
      "\n",
      "  ax = sns.barplot(x='time_of_day', y='avg_depdelay', data=df, palette='magma', order=order)\n"
     ]
    },
    {
     "data": {
      "image/png": "[encoded data removed]",
      "text/plain": [
       "<Figure size 640x480 with 1 Axes>"
      ]
     },
     "metadata": {},
     "output_type": "display_data"
    }
   ],
   "source": [
    "# visualize the average departure delay by time of day\n",
    "order = ['Morning', 'Afternoon', 'Evening', 'Night']\n",
    "ax = sns.barplot(x='time_of_day', y='avg_depdelay', data=df, palette='magma', order=order)\n",
    "for container in ax.containers:\n",
    "    ax.bar_label(container, labels=[f'{v:.1f}%' for v in container.datavalues], padding=3)\n",
    "plt.title(\"Average Departure Delay by Time of Day\")\n",
    "plt.xlabel(\"Time of Day\")\n",
    "plt.ylabel(\"Average Departure Delay (minutes)\")\n",
    "plt.ylim(0, 20)\n",
    "plt.show();"
   ]
  },
  {
   "cell_type": "markdown",
   "id": "74b5a8e2",
   "metadata": {},
   "source": [
    "<h2> 1.2 Which days of the week show better on-time performance? </h2>"
   ]
  },
  {
   "cell_type": "code",
   "execution_count": 28,
   "id": "485c9378",
   "metadata": {},
   "outputs": [
    {
     "name": "stderr",
     "output_type": "stream",
     "text": [
      "C:\\Users\\user\\AppData\\Local\\Temp\\ipykernel_17428\\76254639.py:13: UserWarning: pandas only supports SQLAlchemy connectable (engine/connection) or database string URI or sqlite3 DBAPI2 connection. Other DBAPI2 objects are not tested. Please consider using SQLAlchemy.\n",
      "  df2 = pd.read_sql(query, conn)\n"
     ]
    },
    {
     "data": {
      "application/vnd.microsoft.datawrangler.viewer.v0+json": {
       "columns": [
        {
         "name": "index",
         "rawType": "int64",
         "type": "integer"
        },
        {
         "name": "dayofweek",
         "rawType": "int64",
         "type": "integer"
        },
        {
         "name": "total_flights",
         "rawType": "int64",
         "type": "integer"
        },
        {
         "name": "on_time_flights",
         "rawType": "int64",
         "type": "integer"
        },
        {
         "name": "on_time_percent",
         "rawType": "float64",
         "type": "float"
        }
       ],
       "ref": "317b8ee7-a6be-4ae2-ba61-0175e2d8eb7a",
       "rows": [
        [
         "0",
         "2",
         "1014389",
         "653861",
         "64.46"
        ],
        [
         "1",
         "3",
         "1024673",
         "640678",
         "62.53"
        ],
        [
         "2",
         "6",
         "888200",
         "546647",
         "61.55"
        ],
        [
         "3",
         "1",
         "1030449",
         "613288",
         "59.52"
        ],
        [
         "4",
         "7",
         "996120",
         "582195",
         "58.45"
        ],
        [
         "5",
         "4",
         "1031078",
         "592634",
         "57.48"
        ],
        [
         "6",
         "5",
         "1035079",
         "565030",
         "54.59"
        ]
       ],
       "shape": {
        "columns": 4,
        "rows": 7
       }
      },
      "text/html": [
       "<div>\n",
       "<style scoped>\n",
       "    .dataframe tbody tr th:only-of-type {\n",
       "        vertical-align: middle;\n",
       "    }\n",
       "\n",
       "    .dataframe tbody tr th {\n",
       "        vertical-align: top;\n",
       "    }\n",
       "\n",
       "    .dataframe thead th {\n",
       "        text-align: right;\n",
       "    }\n",
       "</style>\n",
       "<table border=\"1\" class=\"dataframe\">\n",
       "  <thead>\n",
       "    <tr style=\"text-align: right;\">\n",
       "      <th></th>\n",
       "      <th>dayofweek</th>\n",
       "      <th>total_flights</th>\n",
       "      <th>on_time_flights</th>\n",
       "      <th>on_time_percent</th>\n",
       "    </tr>\n",
       "  </thead>\n",
       "  <tbody>\n",
       "    <tr>\n",
       "      <th>0</th>\n",
       "      <td>2</td>\n",
       "      <td>1014389</td>\n",
       "      <td>653861</td>\n",
       "      <td>64.46</td>\n",
       "    </tr>\n",
       "    <tr>\n",
       "      <th>1</th>\n",
       "      <td>3</td>\n",
       "      <td>1024673</td>\n",
       "      <td>640678</td>\n",
       "      <td>62.53</td>\n",
       "    </tr>\n",
       "    <tr>\n",
       "      <th>2</th>\n",
       "      <td>6</td>\n",
       "      <td>888200</td>\n",
       "      <td>546647</td>\n",
       "      <td>61.55</td>\n",
       "    </tr>\n",
       "    <tr>\n",
       "      <th>3</th>\n",
       "      <td>1</td>\n",
       "      <td>1030449</td>\n",
       "      <td>613288</td>\n",
       "      <td>59.52</td>\n",
       "    </tr>\n",
       "    <tr>\n",
       "      <th>4</th>\n",
       "      <td>7</td>\n",
       "      <td>996120</td>\n",
       "      <td>582195</td>\n",
       "      <td>58.45</td>\n",
       "    </tr>\n",
       "    <tr>\n",
       "      <th>5</th>\n",
       "      <td>4</td>\n",
       "      <td>1031078</td>\n",
       "      <td>592634</td>\n",
       "      <td>57.48</td>\n",
       "    </tr>\n",
       "    <tr>\n",
       "      <th>6</th>\n",
       "      <td>5</td>\n",
       "      <td>1035079</td>\n",
       "      <td>565030</td>\n",
       "      <td>54.59</td>\n",
       "    </tr>\n",
       "  </tbody>\n",
       "</table>\n",
       "</div>"
      ],
      "text/plain": [
       "   dayofweek  total_flights  on_time_flights  on_time_percent\n",
       "0          2        1014389           653861            64.46\n",
       "1          3        1024673           640678            62.53\n",
       "2          6         888200           546647            61.55\n",
       "3          1        1030449           613288            59.52\n",
       "4          7         996120           582195            58.45\n",
       "5          4        1031078           592634            57.48\n",
       "6          5        1035079           565030            54.59"
      ]
     },
     "execution_count": 28,
     "metadata": {},
     "output_type": "execute_result"
    }
   ],
   "source": [
    "query = \"\"\"\n",
    "    SELECT \n",
    "        dayofweek,\n",
    "        COUNT(*) AS total_flights,\n",
    "        SUM(CASE WHEN depdelay <= 0 THEN 1 ELSE 0 END) AS on_time_flights,\n",
    "        ROUND(100.0 * SUM(CASE WHEN depdelay <= 0 THEN 1 ELSE 0 END) / COUNT(*), 2) AS on_time_percent\n",
    "    FROM project2.airline_2006\n",
    "    WHERE depdelay IS NOT NULL AND dayofweek IS NOT NULL\n",
    "    GROUP BY dayofweek\n",
    "    ORDER BY on_time_percent DESC\n",
    "\"\"\"\n",
    "\n",
    "df2 = pd.read_sql(query, conn)\n",
    "df2"
   ]
  },
  {
   "cell_type": "code",
   "execution_count": 29,
   "id": "7e987c73",
   "metadata": {},
   "outputs": [
    {
     "name": "stderr",
     "output_type": "stream",
     "text": [
      "C:\\Users\\user\\AppData\\Local\\Temp\\ipykernel_17428\\3245201645.py:2: FutureWarning: \n",
      "\n",
      "Passing `palette` without assigning `hue` is deprecated and will be removed in v0.14.0. Assign the `x` variable to `hue` and set `legend=False` for the same effect.\n",
      "\n",
      "  ax = sns.barplot(x='dayofweek', y='on_time_percent', data=df2, palette='viridis')\n"
     ]
    },
    {
     "data": {
      "image/png": "[encoded data removed]",
      "text/plain": [
       "<Figure size 640x480 with 1 Axes>"
      ]
     },
     "metadata": {},
     "output_type": "display_data"
    }
   ],
   "source": [
    "# plt.figure(figsize=(8, 6))\n",
    "ax = sns.barplot(x='dayofweek', y='on_time_percent', data=df2, palette='viridis')\n",
    "plt.title(\"On-Time Performance by Day of Week\")\n",
    "\n",
    "# Add percentage labels on top of the bars\n",
    "for container in ax.containers:\n",
    "    ax.bar_label(container, labels=[f'{v:.1f}%' for v in container.datavalues], padding=3)\n",
    "\n",
    "plt.xlabel(\"Day of Week\")\n",
    "plt.ylabel(\"On-Time Percentage (%)\")\n",
    "plt.xticks(ticks=range(7), labels=['Mon', 'Tue', 'Wed', 'Thu', 'Fri', 'Sat', 'Sun'])\n",
    "plt.ylim(0, 100)\n",
    "\n",
    "# plt.tight_layout()\n",
    "plt.show();"
   ]
  },
  {
   "cell_type": "markdown",
   "id": "7e12200c",
   "metadata": {},
   "source": [
    "<h2> 1.3 During which months or seasons are flights most likely to be on time? </h2>"
   ]
  },
  {
   "cell_type": "code",
   "execution_count": 41,
   "id": "8e8df4a6",
   "metadata": {},
   "outputs": [
    {
     "name": "stderr",
     "output_type": "stream",
     "text": [
      "C:\\Users\\user\\AppData\\Local\\Temp\\ipykernel_17428\\1053818677.py:13: UserWarning: pandas only supports SQLAlchemy connectable (engine/connection) or database string URI or sqlite3 DBAPI2 connection. Other DBAPI2 objects are not tested. Please consider using SQLAlchemy.\n",
      "  df3 = pd.read_sql(query3, conn)\n"
     ]
    },
    {
     "data": {
      "application/vnd.microsoft.datawrangler.viewer.v0+json": {
       "columns": [
        {
         "name": "index",
         "rawType": "int64",
         "type": "integer"
        },
        {
         "name": "month",
         "rawType": "int64",
         "type": "integer"
        },
        {
         "name": "total_flights",
         "rawType": "int64",
         "type": "integer"
        },
        {
         "name": "on_time_flights",
         "rawType": "int64",
         "type": "integer"
        },
        {
         "name": "on_time_percent",
         "rawType": "float64",
         "type": "float"
        }
       ],
       "ref": "ad2d95df-9f4a-4bf3-bc3b-5c7ee894f805",
       "rows": [
        [
         "0",
         "1",
         "571500",
         "373711",
         "65.39"
        ],
        [
         "1",
         "9",
         "574987",
         "365002",
         "63.48"
        ],
        [
         "2",
         "5",
         "595862",
         "377765",
         "63.4"
        ],
        [
         "3",
         "4",
         "578747",
         "366335",
         "63.3"
        ],
        [
         "4",
         "2",
         "519954",
         "321583",
         "61.85"
        ],
        [
         "5",
         "3",
         "597631",
         "362424",
         "60.64"
        ],
        [
         "6",
         "11",
         "576639",
         "346415",
         "60.07"
        ],
        [
         "7",
         "8",
         "618949",
         "364544",
         "58.9"
        ],
        [
         "8",
         "10",
         "600319",
         "351441",
         "58.54"
        ],
        [
         "9",
         "6",
         "588227",
         "324327",
         "55.14"
        ],
        [
         "10",
         "7",
         "610509",
         "329052",
         "53.9"
        ],
        [
         "11",
         "12",
         "586664",
         "311734",
         "53.14"
        ]
       ],
       "shape": {
        "columns": 4,
        "rows": 12
       }
      },
      "text/html": [
       "<div>\n",
       "<style scoped>\n",
       "    .dataframe tbody tr th:only-of-type {\n",
       "        vertical-align: middle;\n",
       "    }\n",
       "\n",
       "    .dataframe tbody tr th {\n",
       "        vertical-align: top;\n",
       "    }\n",
       "\n",
       "    .dataframe thead th {\n",
       "        text-align: right;\n",
       "    }\n",
       "</style>\n",
       "<table border=\"1\" class=\"dataframe\">\n",
       "  <thead>\n",
       "    <tr style=\"text-align: right;\">\n",
       "      <th></th>\n",
       "      <th>month</th>\n",
       "      <th>total_flights</th>\n",
       "      <th>on_time_flights</th>\n",
       "      <th>on_time_percent</th>\n",
       "    </tr>\n",
       "  </thead>\n",
       "  <tbody>\n",
       "    <tr>\n",
       "      <th>0</th>\n",
       "      <td>1</td>\n",
       "      <td>571500</td>\n",
       "      <td>373711</td>\n",
       "      <td>65.39</td>\n",
       "    </tr>\n",
       "    <tr>\n",
       "      <th>1</th>\n",
       "      <td>9</td>\n",
       "      <td>574987</td>\n",
       "      <td>365002</td>\n",
       "      <td>63.48</td>\n",
       "    </tr>\n",
       "    <tr>\n",
       "      <th>2</th>\n",
       "      <td>5</td>\n",
       "      <td>595862</td>\n",
       "      <td>377765</td>\n",
       "      <td>63.40</td>\n",
       "    </tr>\n",
       "    <tr>\n",
       "      <th>3</th>\n",
       "      <td>4</td>\n",
       "      <td>578747</td>\n",
       "      <td>366335</td>\n",
       "      <td>63.30</td>\n",
       "    </tr>\n",
       "    <tr>\n",
       "      <th>4</th>\n",
       "      <td>2</td>\n",
       "      <td>519954</td>\n",
       "      <td>321583</td>\n",
       "      <td>61.85</td>\n",
       "    </tr>\n",
       "    <tr>\n",
       "      <th>5</th>\n",
       "      <td>3</td>\n",
       "      <td>597631</td>\n",
       "      <td>362424</td>\n",
       "      <td>60.64</td>\n",
       "    </tr>\n",
       "    <tr>\n",
       "      <th>6</th>\n",
       "      <td>11</td>\n",
       "      <td>576639</td>\n",
       "      <td>346415</td>\n",
       "      <td>60.07</td>\n",
       "    </tr>\n",
       "    <tr>\n",
       "      <th>7</th>\n",
       "      <td>8</td>\n",
       "      <td>618949</td>\n",
       "      <td>364544</td>\n",
       "      <td>58.90</td>\n",
       "    </tr>\n",
       "    <tr>\n",
       "      <th>8</th>\n",
       "      <td>10</td>\n",
       "      <td>600319</td>\n",
       "      <td>351441</td>\n",
       "      <td>58.54</td>\n",
       "    </tr>\n",
       "    <tr>\n",
       "      <th>9</th>\n",
       "      <td>6</td>\n",
       "      <td>588227</td>\n",
       "      <td>324327</td>\n",
       "      <td>55.14</td>\n",
       "    </tr>\n",
       "    <tr>\n",
       "      <th>10</th>\n",
       "      <td>7</td>\n",
       "      <td>610509</td>\n",
       "      <td>329052</td>\n",
       "      <td>53.90</td>\n",
       "    </tr>\n",
       "    <tr>\n",
       "      <th>11</th>\n",
       "      <td>12</td>\n",
       "      <td>586664</td>\n",
       "      <td>311734</td>\n",
       "      <td>53.14</td>\n",
       "    </tr>\n",
       "  </tbody>\n",
       "</table>\n",
       "</div>"
      ],
      "text/plain": [
       "    month  total_flights  on_time_flights  on_time_percent\n",
       "0       1         571500           373711            65.39\n",
       "1       9         574987           365002            63.48\n",
       "2       5         595862           377765            63.40\n",
       "3       4         578747           366335            63.30\n",
       "4       2         519954           321583            61.85\n",
       "5       3         597631           362424            60.64\n",
       "6      11         576639           346415            60.07\n",
       "7       8         618949           364544            58.90\n",
       "8      10         600319           351441            58.54\n",
       "9       6         588227           324327            55.14\n",
       "10      7         610509           329052            53.90\n",
       "11     12         586664           311734            53.14"
      ]
     },
     "execution_count": 41,
     "metadata": {},
     "output_type": "execute_result"
    }
   ],
   "source": [
    "query3 = \"\"\"\n",
    "    SELECT \n",
    "        month,\n",
    "        COUNT(*) AS total_flights,\n",
    "        SUM(CASE WHEN depdelay <= 0 THEN 1 ELSE 0 END) AS on_time_flights,\n",
    "        ROUND(100.0 * SUM(CASE WHEN depdelay <= 0 THEN 1 ELSE 0 END) / COUNT(*), 2) AS on_time_percent\n",
    "    FROM project2.airline_2006\n",
    "    WHERE depdelay IS NOT NULL AND month IS NOT NULL\n",
    "    GROUP BY month\n",
    "    ORDER BY on_time_percent DESC\n",
    "\"\"\"\n",
    "\n",
    "df3 = pd.read_sql(query3, conn)\n",
    "df3"
   ]
  },
  {
   "cell_type": "code",
   "execution_count": 42,
   "id": "52c702d6",
   "metadata": {},
   "outputs": [
    {
     "name": "stderr",
     "output_type": "stream",
     "text": [
      "C:\\Users\\user\\AppData\\Local\\Temp\\ipykernel_17428\\1357178883.py:24: UserWarning: pandas only supports SQLAlchemy connectable (engine/connection) or database string URI or sqlite3 DBAPI2 connection. Other DBAPI2 objects are not tested. Please consider using SQLAlchemy.\n",
      "  df4 = pd.read_sql(query4, conn)\n"
     ]
    },
    {
     "data": {
      "application/vnd.microsoft.datawrangler.viewer.v0+json": {
       "columns": [
        {
         "name": "index",
         "rawType": "int64",
         "type": "integer"
        },
        {
         "name": "season",
         "rawType": "object",
         "type": "string"
        },
        {
         "name": "total_flights",
         "rawType": "int64",
         "type": "integer"
        },
        {
         "name": "on_time_flights",
         "rawType": "int64",
         "type": "integer"
        },
        {
         "name": "on_time_percent",
         "rawType": "float64",
         "type": "float"
        }
       ],
       "ref": "724f4f2d-57ed-476b-b9a2-752129c2f864",
       "rows": [
        [
         "0",
         "Spring",
         "1772240",
         "1106524",
         "62.44"
        ],
        [
         "1",
         "Fall",
         "1751945",
         "1062858",
         "60.67"
        ],
        [
         "2",
         "Winter",
         "1678118",
         "1007028",
         "60.01"
        ],
        [
         "3",
         "Summer",
         "1817685",
         "1017923",
         "56.0"
        ]
       ],
       "shape": {
        "columns": 4,
        "rows": 4
       }
      },
      "text/html": [
       "<div>\n",
       "<style scoped>\n",
       "    .dataframe tbody tr th:only-of-type {\n",
       "        vertical-align: middle;\n",
       "    }\n",
       "\n",
       "    .dataframe tbody tr th {\n",
       "        vertical-align: top;\n",
       "    }\n",
       "\n",
       "    .dataframe thead th {\n",
       "        text-align: right;\n",
       "    }\n",
       "</style>\n",
       "<table border=\"1\" class=\"dataframe\">\n",
       "  <thead>\n",
       "    <tr style=\"text-align: right;\">\n",
       "      <th></th>\n",
       "      <th>season</th>\n",
       "      <th>total_flights</th>\n",
       "      <th>on_time_flights</th>\n",
       "      <th>on_time_percent</th>\n",
       "    </tr>\n",
       "  </thead>\n",
       "  <tbody>\n",
       "    <tr>\n",
       "      <th>0</th>\n",
       "      <td>Spring</td>\n",
       "      <td>1772240</td>\n",
       "      <td>1106524</td>\n",
       "      <td>62.44</td>\n",
       "    </tr>\n",
       "    <tr>\n",
       "      <th>1</th>\n",
       "      <td>Fall</td>\n",
       "      <td>1751945</td>\n",
       "      <td>1062858</td>\n",
       "      <td>60.67</td>\n",
       "    </tr>\n",
       "    <tr>\n",
       "      <th>2</th>\n",
       "      <td>Winter</td>\n",
       "      <td>1678118</td>\n",
       "      <td>1007028</td>\n",
       "      <td>60.01</td>\n",
       "    </tr>\n",
       "    <tr>\n",
       "      <th>3</th>\n",
       "      <td>Summer</td>\n",
       "      <td>1817685</td>\n",
       "      <td>1017923</td>\n",
       "      <td>56.00</td>\n",
       "    </tr>\n",
       "  </tbody>\n",
       "</table>\n",
       "</div>"
      ],
      "text/plain": [
       "   season  total_flights  on_time_flights  on_time_percent\n",
       "0  Spring        1772240          1106524            62.44\n",
       "1    Fall        1751945          1062858            60.67\n",
       "2  Winter        1678118          1007028            60.01\n",
       "3  Summer        1817685          1017923            56.00"
      ]
     },
     "execution_count": 42,
     "metadata": {},
     "output_type": "execute_result"
    }
   ],
   "source": [
    "query4 = \"\"\"\n",
    "    SELECT \n",
    "    CASE \n",
    "        WHEN month IN (12, 1, 2) THEN 'Winter'\n",
    "        WHEN month IN (3, 4, 5) THEN 'Spring'\n",
    "        WHEN month IN (6, 7, 8) THEN 'Summer'\n",
    "        WHEN month IN (9, 10, 11) THEN 'Fall'\n",
    "    END AS season,\n",
    "    COUNT(*) AS total_flights,\n",
    "    SUM(CASE WHEN depdelay <= 0 THEN 1 ELSE 0 END) AS on_time_flights,\n",
    "    ROUND(100.0 * SUM(CASE WHEN depdelay <= 0 THEN 1 ELSE 0 END) / COUNT(*), 2) AS on_time_percent\n",
    "    FROM project2.airline_2006\n",
    "    WHERE depdelay IS NOT NULL AND month IS NOT NULL\n",
    "    GROUP BY \n",
    "    CASE \n",
    "        WHEN month IN (12, 1, 2) THEN 'Winter'\n",
    "        WHEN month IN (3, 4, 5) THEN 'Spring'\n",
    "        WHEN month IN (6, 7, 8) THEN 'Summer'\n",
    "        WHEN month IN (9, 10, 11) THEN 'Fall'\n",
    "    END\n",
    "    ORDER BY on_time_percent DESC\n",
    "\"\"\"\n",
    "\n",
    "df4 = pd.read_sql(query4, conn)\n",
    "df4"
   ]
  },
  {
   "cell_type": "code",
   "execution_count": 43,
   "id": "9214d293",
   "metadata": {},
   "outputs": [
    {
     "name": "stderr",
     "output_type": "stream",
     "text": [
      "C:\\Users\\user\\AppData\\Local\\Temp\\ipykernel_17428\\443066582.py:2: FutureWarning: \n",
      "\n",
      "Passing `palette` without assigning `hue` is deprecated and will be removed in v0.14.0. Assign the `x` variable to `hue` and set `legend=False` for the same effect.\n",
      "\n",
      "  ax = sns.barplot(x='month', y='on_time_percent', data=df3, palette='magma')\n"
     ]
    },
    {
     "data": {
      "image/png": "[encoded data removed]",
      "text/plain": [
       "<Figure size 640x480 with 1 Axes>"
      ]
     },
     "metadata": {},
     "output_type": "display_data"
    }
   ],
   "source": [
    "# combine month and season data\n",
    "ax = sns.barplot(x='month', y='on_time_percent', data=df3, palette='magma')\n",
    "\n",
    "for container in ax.containers:\n",
    "    ax.bar_label(container, labels=[f'{v:.1f}%' for v in container.datavalues], padding=3)\n",
    "\n",
    "plt.ylim(0, 100)\n",
    "plt.title(\"On-Time Performance by Month\")\n",
    "plt.xlabel(\"Month\")\n",
    "plt.ylabel(\"On-Time Percentage (%)\")\n",
    "plt.tight_layout()\n",
    "plt.xticks(ticks=range(12), labels=['Jan', 'Feb', 'Mar', 'Apr', 'May', 'Jun', 'Jul', 'Aug', 'Sep', 'Oct', 'Nov', 'Dec'])\n",
    "plt.show();"
   ]
  },
  {
   "cell_type": "code",
   "execution_count": 44,
   "id": "3ebb9187",
   "metadata": {},
   "outputs": [
    {
     "name": "stderr",
     "output_type": "stream",
     "text": [
      "C:\\Users\\user\\AppData\\Local\\Temp\\ipykernel_17428\\591297471.py:1: FutureWarning: \n",
      "\n",
      "Passing `palette` without assigning `hue` is deprecated and will be removed in v0.14.0. Assign the `x` variable to `hue` and set `legend=False` for the same effect.\n",
      "\n",
      "  ax = sns.barplot(x='season', y='on_time_percent', data=df4, palette='magma')\n"
     ]
    },
    {
     "data": {
      "image/png": "[encoded data removed]",
      "text/plain": [
       "<Figure size 640x480 with 1 Axes>"
      ]
     },
     "metadata": {},
     "output_type": "display_data"
    }
   ],
   "source": [
    "ax = sns.barplot(x='season', y='on_time_percent', data=df4, palette='magma')\n",
    "for container in ax.containers:\n",
    "    ax.bar_label(container, labels=[f'{v:.1f}%' for v in container.datavalues], padding=3)\n",
    "plt.title(\"On-Time Performance by Season\")\n",
    "plt.xlabel(\"Season\")\n",
    "plt.ylabel(\"On-Time Percentage (%)\")\n",
    "plt.ylim(0, 100)\n",
    "plt.show();"
   ]
  },
  {
   "cell_type": "markdown",
   "id": "9e769b03",
   "metadata": {},
   "source": [
    "<h1 style='font-weight:bold'> 2. Delay Factors </h1>"
   ]
  },
  {
   "cell_type": "markdown",
   "id": "871cf616",
   "metadata": {},
   "source": [
    "<h2> 2.1 Identify and rank the top 3 - 5 factors contributing to flight delays, based on the delays categories provided in the dataset </h2>"
   ]
  },
  {
   "cell_type": "code",
   "execution_count": null,
   "id": "41ce1d9e",
   "metadata": {},
   "outputs": [
    {
     "name": "stderr",
     "output_type": "stream",
     "text": [
      "C:\\Users\\user\\AppData\\Local\\Temp\\ipykernel_17428\\2975633771.py:30: UserWarning: pandas only supports SQLAlchemy connectable (engine/connection) or database string URI or sqlite3 DBAPI2 connection. Other DBAPI2 objects are not tested. Please consider using SQLAlchemy.\n",
      "  df5 = pd.read_sql(query5, conn)\n"
     ]
    },
    {
     "data": {
      "application/vnd.microsoft.datawrangler.viewer.v0+json": {
       "columns": [
        {
         "name": "index",
         "rawType": "int64",
         "type": "integer"
        },
        {
         "name": "delay_type",
         "rawType": "object",
         "type": "string"
        },
        {
         "name": "total_delay",
         "rawType": "int64",
         "type": "integer"
        },
        {
         "name": "Total Delay (000)",
         "rawType": "float64",
         "type": "float"
        }
       ],
       "ref": "32d8e241-1fbf-468c-8268-eae046c3893e",
       "rows": [
        [
         "0",
         "Late Aircraft Delay",
         "32245816",
         "3225.0"
        ],
        [
         "1",
         "NAS Delay",
         "25610715",
         "2561.0"
        ],
        [
         "2",
         "Carrier Delay",
         "24255294",
         "2426.0"
        ],
        [
         "3",
         "Weather Delay",
         "4853843",
         "485.0"
        ],
        [
         "4",
         "Security Delay",
         "221371",
         "22.0"
        ]
       ],
       "shape": {
        "columns": 3,
        "rows": 5
       }
      },
      "text/html": [
       "<div>\n",
       "<style scoped>\n",
       "    .dataframe tbody tr th:only-of-type {\n",
       "        vertical-align: middle;\n",
       "    }\n",
       "\n",
       "    .dataframe tbody tr th {\n",
       "        vertical-align: top;\n",
       "    }\n",
       "\n",
       "    .dataframe thead th {\n",
       "        text-align: right;\n",
       "    }\n",
       "</style>\n",
       "<table border=\"1\" class=\"dataframe\">\n",
       "  <thead>\n",
       "    <tr style=\"text-align: right;\">\n",
       "      <th></th>\n",
       "      <th>delay_type</th>\n",
       "      <th>total_delay</th>\n",
       "      <th>Total Delay (000)</th>\n",
       "    </tr>\n",
       "  </thead>\n",
       "  <tbody>\n",
       "    <tr>\n",
       "      <th>0</th>\n",
       "      <td>Late Aircraft Delay</td>\n",
       "      <td>32245816</td>\n",
       "      <td>3225.0</td>\n",
       "    </tr>\n",
       "    <tr>\n",
       "      <th>1</th>\n",
       "      <td>NAS Delay</td>\n",
       "      <td>25610715</td>\n",
       "      <td>2561.0</td>\n",
       "    </tr>\n",
       "    <tr>\n",
       "      <th>2</th>\n",
       "      <td>Carrier Delay</td>\n",
       "      <td>24255294</td>\n",
       "      <td>2426.0</td>\n",
       "    </tr>\n",
       "    <tr>\n",
       "      <th>3</th>\n",
       "      <td>Weather Delay</td>\n",
       "      <td>4853843</td>\n",
       "      <td>485.0</td>\n",
       "    </tr>\n",
       "    <tr>\n",
       "      <th>4</th>\n",
       "      <td>Security Delay</td>\n",
       "      <td>221371</td>\n",
       "      <td>22.0</td>\n",
       "    </tr>\n",
       "  </tbody>\n",
       "</table>\n",
       "</div>"
      ],
      "text/plain": [
       "            delay_type  total_delay  Total Delay (000)\n",
       "0  Late Aircraft Delay     32245816             3225.0\n",
       "1            NAS Delay     25610715             2561.0\n",
       "2        Carrier Delay     24255294             2426.0\n",
       "3        Weather Delay      4853843              485.0\n",
       "4       Security Delay       221371               22.0"
      ]
     },
     "execution_count": 45,
     "metadata": {},
     "output_type": "execute_result"
    }
   ],
   "source": [
    "query5 = \"\"\"\n",
    "    SELECT \n",
    "        'Carrier Delay' AS delay_type, \n",
    "        SUM(carrierdelay) AS total_delay \n",
    "    FROM project2.airline_2006\n",
    "    UNION ALL\n",
    "    SELECT \n",
    "        'Weather Delay', \n",
    "        SUM(weatherdelay) \n",
    "    FROM project2.airline_2006\n",
    "    UNION ALL\n",
    "    SELECT \n",
    "        'NAS Delay', \n",
    "        SUM(nasdelay) \n",
    "    FROM project2.airline_2006\n",
    "    UNION ALL\n",
    "    SELECT \n",
    "        'Security Delay', \n",
    "        SUM(securitydelay) \n",
    "    FROM project2.airline_2006\n",
    "    UNION ALL\n",
    "    SELECT \n",
    "        'Late Aircraft Delay', \n",
    "        SUM(lateaircraftdelay) \n",
    "    FROM project2.airline_2006\n",
    "    ORDER BY total_delay DESC\n",
    "    LIMIT 5\n",
    "\"\"\"\n",
    "\n",
    "df5 = pd.read_sql(query5, conn)\n",
    "df5.columns = ['delay_type', 'total_delay']\n",
    "df5['Total Delay (000)'] = (df5['total_delay'] / 10000).round(0)  # Convert to thousands for better readability\n",
    "df5"
   ]
  },
  {
   "cell_type": "code",
   "execution_count": 47,
   "id": "41ce1d9e",
   "metadata": {},
   "outputs": [
    {
     "name": "stderr",
     "output_type": "stream",
     "text": [
      "C:\\Users\\user\\AppData\\Local\\Temp\\ipykernel_17428\\1968035691.py:1: FutureWarning: \n",
      "\n",
      "Passing `palette` without assigning `hue` is deprecated and will be removed in v0.14.0. Assign the `x` variable to `hue` and set `legend=False` for the same effect.\n",
      "\n",
      "  ax = sns.barplot(x='Total Delay (000)', y='total_delay', data=df5, palette='magma')\n"
     ]
    },
    {
     "data": {
      "image/png": "[encoded data removed]",
      "text/plain": [
       "<Figure size 640x480 with 1 Axes>"
      ]
     },
     "metadata": {},
     "output_type": "display_data"
    }
   ],
   "source": [
    "ax = sns.barplot(x='Total Delay (000)', y='total_delay', data=df5, palette='magma')\n",
    "for container in ax.containers:\n",
    "    ax.bar_label(container, labels=[f'{v:.1f}' for v in container.datavalues], padding=3)\n",
    "plt.title(\"Total Delay by Delay Type\")\n",
    "plt.xlabel(\"Delay Type\")\n",
    "plt.ylabel(\"Total Delay (minutes)\")\n",
    "plt.tight_layout()\n",
    "plt.show();"
   ]
  },
  {
   "cell_type": "markdown",
   "id": "960ddbb5",
   "metadata": {},
   "source": [
    "<h2> 2.2 Quantify the impact of each factor (in minutes of delay and percentage of total delays). </h2>"
   ]
  },
  {
   "cell_type": "code",
   "execution_count": null,
   "id": "5ef75515",
   "metadata": {},
   "outputs": [
    {
     "name": "stderr",
     "output_type": "stream",
     "text": [
      "C:\\Users\\user\\AppData\\Local\\Temp\\ipykernel_21476\\712895008.py:58: UserWarning: pandas only supports SQLAlchemy connectable (engine/connection) or database string URI or sqlite3 DBAPI2 connection. Other DBAPI2 objects are not tested. Please consider using SQLAlchemy.\n",
      "  df6 = pd.read_sql(query6, conn)\n"
     ]
    },
    {
     "data": {
      "application/vnd.microsoft.datawrangler.viewer.v0+json": {
       "columns": [
        {
         "name": "index",
         "rawType": "int64",
         "type": "integer"
        },
        {
         "name": "u1.delay_type",
         "rawType": "object",
         "type": "string"
        },
        {
         "name": "u1.delay_minutes",
         "rawType": "int64",
         "type": "integer"
        },
        {
         "name": "u1.percentage",
         "rawType": "float64",
         "type": "float"
        }
       ],
       "ref": "0934d5b4-ed85-4e8a-8190-279b2489f8ff",
       "rows": [
        [
         "0",
         "Late Aircraft Delay",
         "143279932",
         "35.56"
        ],
        [
         "1",
         "NAS Delay",
         "123638531",
         "30.68"
        ],
        [
         "2",
         "Carrier Delay",
         "111115872",
         "27.58"
        ],
        [
         "3",
         "Weather Delay",
         "24049544",
         "5.97"
        ],
        [
         "4",
         "Security Delay",
         "846239",
         "0.21"
        ]
       ],
       "shape": {
        "columns": 3,
        "rows": 5
       }
      },
      "text/html": [
       "<div>\n",
       "<style scoped>\n",
       "    .dataframe tbody tr th:only-of-type {\n",
       "        vertical-align: middle;\n",
       "    }\n",
       "\n",
       "    .dataframe tbody tr th {\n",
       "        vertical-align: top;\n",
       "    }\n",
       "\n",
       "    .dataframe thead th {\n",
       "        text-align: right;\n",
       "    }\n",
       "</style>\n",
       "<table border=\"1\" class=\"dataframe\">\n",
       "  <thead>\n",
       "    <tr style=\"text-align: right;\">\n",
       "      <th></th>\n",
       "      <th>u1.delay_type</th>\n",
       "      <th>u1.delay_minutes</th>\n",
       "      <th>u1.percentage</th>\n",
       "    </tr>\n",
       "  </thead>\n",
       "  <tbody>\n",
       "    <tr>\n",
       "      <th>0</th>\n",
       "      <td>Late Aircraft Delay</td>\n",
       "      <td>143279932</td>\n",
       "      <td>35.56</td>\n",
       "    </tr>\n",
       "    <tr>\n",
       "      <th>1</th>\n",
       "      <td>NAS Delay</td>\n",
       "      <td>123638531</td>\n",
       "      <td>30.68</td>\n",
       "    </tr>\n",
       "    <tr>\n",
       "      <th>2</th>\n",
       "      <td>Carrier Delay</td>\n",
       "      <td>111115872</td>\n",
       "      <td>27.58</td>\n",
       "    </tr>\n",
       "    <tr>\n",
       "      <th>3</th>\n",
       "      <td>Weather Delay</td>\n",
       "      <td>24049544</td>\n",
       "      <td>5.97</td>\n",
       "    </tr>\n",
       "    <tr>\n",
       "      <th>4</th>\n",
       "      <td>Security Delay</td>\n",
       "      <td>846239</td>\n",
       "      <td>0.21</td>\n",
       "    </tr>\n",
       "  </tbody>\n",
       "</table>\n",
       "</div>"
      ],
      "text/plain": [
       "         u1.delay_type  u1.delay_minutes  u1.percentage\n",
       "0  Late Aircraft Delay         143279932          35.56\n",
       "1            NAS Delay         123638531          30.68\n",
       "2        Carrier Delay         111115872          27.58\n",
       "3        Weather Delay          24049544           5.97\n",
       "4       Security Delay            846239           0.21"
      ]
     },
     "execution_count": 17,
     "metadata": {},
     "output_type": "execute_result"
    }
   ],
   "source": [
    "query6 = \"\"\"\n",
    "    WITH delay_totals AS (\n",
    "    SELECT\n",
    "        SUM(carrierdelay) AS carrier,\n",
    "        SUM(weatherdelay) AS weather,\n",
    "        SUM(nasdelay) AS nas,\n",
    "        SUM(securitydelay) AS security,\n",
    "        SUM(lateaircraftdelay) AS late_aircraft\n",
    "    FROM project2.airline_2006\n",
    "    ),\n",
    "    total_delay AS (\n",
    "    SELECT\n",
    "        (carrier + weather + nas + security + late_aircraft) AS grand_total\n",
    "    FROM delay_totals\n",
    "    )\n",
    "\n",
    "    SELECT\n",
    "    'Carrier Delay' AS delay_type,\n",
    "    dt.carrier AS delay_minutes,\n",
    "    ROUND(100.0 * dt.carrier / td.grand_total, 2) AS percentage\n",
    "    FROM delay_totals dt, total_delay td\n",
    "\n",
    "    UNION ALL\n",
    "\n",
    "    SELECT\n",
    "    'Weather Delay',\n",
    "    dt.weather,\n",
    "    ROUND(100.0 * dt.weather / td.grand_total, 2)\n",
    "    FROM delay_totals dt, total_delay td\n",
    "\n",
    "    UNION ALL\n",
    "\n",
    "    SELECT\n",
    "    'NAS Delay',\n",
    "    dt.nas,\n",
    "    ROUND(100.0 * dt.nas / td.grand_total, 2)\n",
    "    FROM delay_totals dt, total_delay td\n",
    "\n",
    "    UNION ALL\n",
    "\n",
    "    SELECT\n",
    "    'Security Delay',\n",
    "    dt.security,\n",
    "    ROUND(100.0 * dt.security / td.grand_total, 2)\n",
    "    FROM delay_totals dt, total_delay td\n",
    "\n",
    "    UNION ALL\n",
    "\n",
    "    SELECT\n",
    "    'Late Aircraft Delay',\n",
    "    dt.late_aircraft,\n",
    "    ROUND(100.0 * dt.late_aircraft / td.grand_total, 2)\n",
    "    FROM delay_totals dt, total_delay td\n",
    "\n",
    "    ORDER BY percentage DESC\n",
    "\"\"\"\n",
    "\n",
    "df6 = pd.read_sql(query6, conn)\n",
    "df6.columns = ['delay_type', 'delay_minutes', 'percentage']\n",
    "df6\n"
   ]
  },
  {
   "cell_type": "code",
   "execution_count": null,
   "id": "3785aa75",
   "metadata": {},
   "outputs": [
    {
     "name": "stderr",
     "output_type": "stream",
     "text": [
      "C:\\Users\\user\\AppData\\Local\\Temp\\ipykernel_21476\\3292482910.py:9: UserWarning: set_ticklabels() should only be used with a fixed number of ticks, i.e. after set_ticks() or using a FixedLocator.\n",
      "  ax1.set_xticklabels(df6['delay_type'], rotation=45, ha='right')\n"
     ]
    },
    {
     "data": {
      "image/png": "[encoded data removed]",
      "text/plain": [
       "<Figure size 1000x600 with 1 Axes>"
      ]
     },
     "metadata": {},
     "output_type": "display_data"
    }
   ],
   "source": [
    "# Set figure size\n",
    "fig, ax1 = plt.subplots(figsize=(10, 6))\n",
    "\n",
    "# Bar plot for delay_minutes\n",
    "ax1.bar(df6['delay_type'], df6['delay_minutes'], color='skyblue', label='Delay (minutes)')\n",
    "ax1.set_xlabel('Delay Type')\n",
    "ax1.set_ylabel('Delay Minutes', color='skyblue')\n",
    "ax1.tick_params(axis='y', labelcolor='skyblue')\n",
    "ax1.set_xticklabels(df6['delay_type'], rotation=45, ha='right')\n",
    "\n",
    "# Add legends\n",
    "fig.legend(loc='upper right', bbox_to_anchor=(1, 1), bbox_transform=ax1.transAxes)\n",
    "\n",
    "# Add title\n",
    "plt.title('Delay Impact by Type: Minutes vs Percentage')\n",
    "\n",
    "# Layout adjustment\n",
    "plt.tight_layout()\n",
    "plt.show()\n"
   ]
  },
  {
   "cell_type": "code",
   "execution_count": null,
   "id": "be36e28e",
   "metadata": {},
   "outputs": [
    {
     "data": {
      "image/png": "[encoded data removed]",
      "text/plain": [
       "<Figure size 800x800 with 1 Axes>"
      ]
     },
     "metadata": {},
     "output_type": "display_data"
    }
   ],
   "source": [
    "# Pie chart\n",
    "fig, ax = plt.subplots(figsize=(8, 8))\n",
    "ax.pie(\n",
    "    df6['percentage'],\n",
    "    labels=df6['delay_type'],\n",
    "    autopct='%1.1f%%',\n",
    "    startangle=140,\n",
    "    colors=plt.cm.tab20.colors  # optional color scheme\n",
    ")\n",
    "\n",
    "# Title\n",
    "plt.title('Percentage Distribution of Delay Types')\n",
    "\n",
    "# Equal aspect ratio ensures pie is a circle\n",
    "plt.axis('equal')\n",
    "\n",
    "plt.show()"
   ]
  },
  {
   "cell_type": "code",
   "execution_count": null,
   "id": "57a440ef",
   "metadata": {},
   "outputs": [
    {
     "data": {
      "image/png": "[encoded data removed]",
      "text/plain": [
       "<Figure size 800x800 with 1 Axes>"
      ]
     },
     "metadata": {},
     "output_type": "display_data"
    }
   ],
   "source": [
    "import matplotlib.pyplot as plt\n",
    "import seaborn as sns\n",
    "\n",
    "# Prepare labels and explode\n",
    "explode = [0.1 if p == max(df6['percentage']) else 0 for p in df6['percentage']]\n",
    "labels = [f\"{label}\\n({val:.1f}%)\" for label, val in zip(df6['delay_type'], df6['percentage'])]\n",
    "colors = sns.color_palette(\"pastel\")[0:len(df6)]\n",
    "\n",
    "# Create pie chart\n",
    "fig, ax = plt.subplots(figsize=(8, 8))\n",
    "ax.pie(\n",
    "    df6['percentage'],\n",
    "    labels=labels,\n",
    "    explode=explode,\n",
    "    startangle=140,\n",
    "    colors=colors,\n",
    "    wedgeprops=dict(edgecolor='black', linewidth=1)\n",
    ")\n",
    "\n",
    "# Add donut style\n",
    "centre_circle = plt.Circle((0, 0), 0.70, fc='white')\n",
    "fig.gca().add_artist(centre_circle)\n",
    "\n",
    "# Title and layout\n",
    "plt.title('Percentage Distribution of Delay Types', fontsize=14, weight='bold')\n",
    "plt.axis('equal')\n",
    "plt.tight_layout()\n",
    "plt.show()\n"
   ]
  },
  {
   "cell_type": "markdown",
   "id": "fe8dc649",
   "metadata": {},
   "source": [
    "From the pie chart above, we can see that the factors that contribute the most"
   ]
  },
  {
   "cell_type": "markdown",
   "id": "8a507c68",
   "metadata": {},
   "source": [
    "<h1 style='font-weight:bold'> 3. Cancellation Analysis </h1>"
   ]
  },
  {
   "cell_type": "markdown",
   "id": "180d951a",
   "metadata": {},
   "source": [
    "<h2> 3.1 Identify the primary reasons for flight cancellations as categorized in the dataset. </h2>"
   ]
  },
  {
   "cell_type": "code",
   "execution_count": 59,
   "id": "a645fb30",
   "metadata": {},
   "outputs": [
    {
     "name": "stderr",
     "output_type": "stream",
     "text": [
      "C:\\Users\\user\\AppData\\Local\\Temp\\ipykernel_17428\\3073624163.py:24: UserWarning: pandas only supports SQLAlchemy connectable (engine/connection) or database string URI or sqlite3 DBAPI2 connection. Other DBAPI2 objects are not tested. Please consider using SQLAlchemy.\n",
      "  df7 = pd.read_sql(query7, conn)\n"
     ]
    },
    {
     "data": {
      "application/vnd.microsoft.datawrangler.viewer.v0+json": {
       "columns": [
        {
         "name": "index",
         "rawType": "int64",
         "type": "integer"
        },
        {
         "name": "cancellation_reason",
         "rawType": "object",
         "type": "string"
        },
        {
         "name": "total_cancellations",
         "rawType": "int64",
         "type": "integer"
        }
       ],
       "ref": "12162055-8395-4a49-a0c6-e62b7958249b",
       "rows": [
        [
         "0",
         "Carrier",
         "55655"
        ],
        [
         "1",
         "Weather",
         "37913"
        ],
        [
         "2",
         "NAS",
         "28209"
        ],
        [
         "3",
         "Security",
         "157"
        ]
       ],
       "shape": {
        "columns": 2,
        "rows": 4
       }
      },
      "text/html": [
       "<div>\n",
       "<style scoped>\n",
       "    .dataframe tbody tr th:only-of-type {\n",
       "        vertical-align: middle;\n",
       "    }\n",
       "\n",
       "    .dataframe tbody tr th {\n",
       "        vertical-align: top;\n",
       "    }\n",
       "\n",
       "    .dataframe thead th {\n",
       "        text-align: right;\n",
       "    }\n",
       "</style>\n",
       "<table border=\"1\" class=\"dataframe\">\n",
       "  <thead>\n",
       "    <tr style=\"text-align: right;\">\n",
       "      <th></th>\n",
       "      <th>cancellation_reason</th>\n",
       "      <th>total_cancellations</th>\n",
       "    </tr>\n",
       "  </thead>\n",
       "  <tbody>\n",
       "    <tr>\n",
       "      <th>0</th>\n",
       "      <td>Carrier</td>\n",
       "      <td>55655</td>\n",
       "    </tr>\n",
       "    <tr>\n",
       "      <th>1</th>\n",
       "      <td>Weather</td>\n",
       "      <td>37913</td>\n",
       "    </tr>\n",
       "    <tr>\n",
       "      <th>2</th>\n",
       "      <td>NAS</td>\n",
       "      <td>28209</td>\n",
       "    </tr>\n",
       "    <tr>\n",
       "      <th>3</th>\n",
       "      <td>Security</td>\n",
       "      <td>157</td>\n",
       "    </tr>\n",
       "  </tbody>\n",
       "</table>\n",
       "</div>"
      ],
      "text/plain": [
       "  cancellation_reason  total_cancellations\n",
       "0             Carrier                55655\n",
       "1             Weather                37913\n",
       "2                 NAS                28209\n",
       "3            Security                  157"
      ]
     },
     "execution_count": 59,
     "metadata": {},
     "output_type": "execute_result"
    }
   ],
   "source": [
    "query7 = \"\"\"\n",
    "    SELECT\n",
    "    CASE cancellationcode\n",
    "        WHEN 'A' THEN 'Carrier'\n",
    "        WHEN 'B' THEN 'Weather'\n",
    "        WHEN 'C' THEN 'NAS'\n",
    "        WHEN 'D' THEN 'Security'\n",
    "        ELSE 'Unknown'\n",
    "    END AS cancellation_reason,\n",
    "    COUNT(*) AS total_cancellations\n",
    "    FROM project2.airline_2006\n",
    "    WHERE cancelled = 1 AND cancellationcode IS NOT NULL\n",
    "    GROUP BY\n",
    "    CASE cancellationcode\n",
    "        WHEN 'A' THEN 'Carrier'\n",
    "        WHEN 'B' THEN 'Weather'\n",
    "        WHEN 'C' THEN 'NAS'\n",
    "        WHEN 'D' THEN 'Security'\n",
    "        ELSE 'Unknown'\n",
    "    END\n",
    "    ORDER BY total_cancellations DESC\n",
    "\"\"\"\n",
    "\n",
    "df7 = pd.read_sql(query7, conn)\n",
    "df7"
   ]
  },
  {
   "cell_type": "code",
   "execution_count": 63,
   "id": "a92e5364",
   "metadata": {},
   "outputs": [
    {
     "name": "stderr",
     "output_type": "stream",
     "text": [
      "C:\\Users\\user\\AppData\\Local\\Temp\\ipykernel_17428\\3185733415.py:1: FutureWarning: \n",
      "\n",
      "Passing `palette` without assigning `hue` is deprecated and will be removed in v0.14.0. Assign the `x` variable to `hue` and set `legend=False` for the same effect.\n",
      "\n",
      "  ax = sns.barplot(x='cancellation_reason', y='total_cancellations', data=df7, palette='magma')\n"
     ]
    },
    {
     "data": {
      "image/png": "[encoded data removed]",
      "text/plain": [
       "<Figure size 640x480 with 1 Axes>"
      ]
     },
     "metadata": {},
     "output_type": "display_data"
    }
   ],
   "source": [
    "ax = sns.barplot(x='cancellation_reason', y='total_cancellations', data=df7, palette='magma')\n",
    "for container in ax.containers:\n",
    "    ax.bar_label(container, labels=[f'{v:.0f}' for v in container.datavalues], padding=3)\n",
    "plt.title(\"Cancellations by Reason\")\n",
    "plt.xlabel(\"Cancellation Reason\")\n",
    "plt.ylabel(\"Total Cancellations\")\n",
    "plt.tight_layout()\n",
    "plt.show();"
   ]
  },
  {
   "cell_type": "markdown",
   "id": "2c675f52",
   "metadata": {},
   "source": []
  },
  {
   "cell_type": "markdown",
   "id": "027b60ba",
   "metadata": {},
   "source": [
    "<h2> 3.2 Determine if cancellations correlate with specific airlines, airports, or time periods. </h2>"
   ]
  },
  {
   "cell_type": "code",
   "execution_count": 68,
   "id": "6b6aada4",
   "metadata": {},
   "outputs": [
    {
     "name": "stderr",
     "output_type": "stream",
     "text": [
      "C:\\Users\\user\\AppData\\Local\\Temp\\ipykernel_17428\\1271864442.py:15: UserWarning: pandas only supports SQLAlchemy connectable (engine/connection) or database string URI or sqlite3 DBAPI2 connection. Other DBAPI2 objects are not tested. Please consider using SQLAlchemy.\n",
      "  df8 = pd.read_sql(query8, conn)\n"
     ]
    },
    {
     "data": {
      "application/vnd.microsoft.datawrangler.viewer.v0+json": {
       "columns": [
        {
         "name": "index",
         "rawType": "int64",
         "type": "integer"
        },
        {
         "name": "airline",
         "rawType": "object",
         "type": "string"
        },
        {
         "name": "airline_name",
         "rawType": "object",
         "type": "string"
        },
        {
         "name": "total_flights",
         "rawType": "int64",
         "type": "integer"
        },
        {
         "name": "cancellations",
         "rawType": "int64",
         "type": "integer"
        },
        {
         "name": "cancel_rate",
         "rawType": "float64",
         "type": "float"
        }
       ],
       "ref": "19e0ede1-73c7-47d8-a5cc-4b35d199e4cf",
       "rows": [
        [
         "0",
         "MQ",
         "American Eagle Airlines Inc.",
         "550088",
         "19990",
         "3.63"
        ],
        [
         "1",
         "YV",
         "Mesa Airlines Inc.",
         "304764",
         "9544",
         "3.13"
        ],
        [
         "2",
         "EV",
         "Atlantic Southeast Airlines",
         "273143",
         "6783",
         "2.48"
        ],
        [
         "3",
         "OH",
         "Comair Inc.",
         "278099",
         "6875",
         "2.47"
        ],
        [
         "4",
         "OO",
         "Skywest Airlines Inc.",
         "548109",
         "12844",
         "2.34"
        ],
        [
         "5",
         "XE",
         "Expressjet Airlines Inc.",
         "441470",
         "9716",
         "2.2"
        ],
        [
         "6",
         "AQ",
         "Aloha Airlines Inc.",
         "35387",
         "745",
         "2.11"
        ],
        [
         "7",
         "UA",
         "United Air Lines Inc.",
         "500008",
         "10238",
         "2.05"
        ],
        [
         "8",
         "AA",
         "American Airlines Inc.",
         "643597",
         "10127",
         "1.57"
        ],
        [
         "9",
         "DL",
         "Delta Air Lines Inc.",
         "506086",
         "7695",
         "1.52"
        ],
        [
         "10",
         "AS",
         "Alaska Airlines Inc.",
         "159404",
         "2430",
         "1.52"
        ],
        [
         "11",
         "TZ",
         "ATA Airlines d/b/a ATA",
         "19602",
         "227",
         "1.16"
        ],
        [
         "12",
         "NW",
         "Northwest Airlines Inc.",
         "432880",
         "4854",
         "1.12"
        ],
        [
         "13",
         "US",
         "US Airways Inc. (Merged with America West 9/05. Reporting for both starting 10/07.)",
         "504844",
         "5511",
         "1.09"
        ],
        [
         "14",
         "F9",
         "Frontier Airlines Inc.",
         "90181",
         "902",
         "1.0"
        ],
        [
         "15",
         "FL",
         "AirTran Airways Corporation",
         "237645",
         "1941",
         "0.82"
        ],
        [
         "16",
         "WN",
         "Southwest Airlines Co.",
         "1099321",
         "8951",
         "0.81"
        ],
        [
         "17",
         "CO",
         "Continental Air Lines Inc.",
         "309389",
         "1649",
         "0.53"
        ],
        [
         "18",
         "HA",
         "Hawaiian Airlines Inc.",
         "52173",
         "253",
         "0.48"
        ],
        [
         "19",
         "B6",
         "JetBlue Airways",
         "155732",
         "659",
         "0.42"
        ]
       ],
       "shape": {
        "columns": 5,
        "rows": 20
       }
      },
      "text/html": [
       "<div>\n",
       "<style scoped>\n",
       "    .dataframe tbody tr th:only-of-type {\n",
       "        vertical-align: middle;\n",
       "    }\n",
       "\n",
       "    .dataframe tbody tr th {\n",
       "        vertical-align: top;\n",
       "    }\n",
       "\n",
       "    .dataframe thead th {\n",
       "        text-align: right;\n",
       "    }\n",
       "</style>\n",
       "<table border=\"1\" class=\"dataframe\">\n",
       "  <thead>\n",
       "    <tr style=\"text-align: right;\">\n",
       "      <th></th>\n",
       "      <th>airline</th>\n",
       "      <th>airline_name</th>\n",
       "      <th>total_flights</th>\n",
       "      <th>cancellations</th>\n",
       "      <th>cancel_rate</th>\n",
       "    </tr>\n",
       "  </thead>\n",
       "  <tbody>\n",
       "    <tr>\n",
       "      <th>0</th>\n",
       "      <td>MQ</td>\n",
       "      <td>American Eagle Airlines Inc.</td>\n",
       "      <td>550088</td>\n",
       "      <td>19990</td>\n",
       "      <td>3.63</td>\n",
       "    </tr>\n",
       "    <tr>\n",
       "      <th>1</th>\n",
       "      <td>YV</td>\n",
       "      <td>Mesa Airlines Inc.</td>\n",
       "      <td>304764</td>\n",
       "      <td>9544</td>\n",
       "      <td>3.13</td>\n",
       "    </tr>\n",
       "    <tr>\n",
       "      <th>2</th>\n",
       "      <td>EV</td>\n",
       "      <td>Atlantic Southeast Airlines</td>\n",
       "      <td>273143</td>\n",
       "      <td>6783</td>\n",
       "      <td>2.48</td>\n",
       "    </tr>\n",
       "    <tr>\n",
       "      <th>3</th>\n",
       "      <td>OH</td>\n",
       "      <td>Comair Inc.</td>\n",
       "      <td>278099</td>\n",
       "      <td>6875</td>\n",
       "      <td>2.47</td>\n",
       "    </tr>\n",
       "    <tr>\n",
       "      <th>4</th>\n",
       "      <td>OO</td>\n",
       "      <td>Skywest Airlines Inc.</td>\n",
       "      <td>548109</td>\n",
       "      <td>12844</td>\n",
       "      <td>2.34</td>\n",
       "    </tr>\n",
       "    <tr>\n",
       "      <th>5</th>\n",
       "      <td>XE</td>\n",
       "      <td>Expressjet Airlines Inc.</td>\n",
       "      <td>441470</td>\n",
       "      <td>9716</td>\n",
       "      <td>2.20</td>\n",
       "    </tr>\n",
       "    <tr>\n",
       "      <th>6</th>\n",
       "      <td>AQ</td>\n",
       "      <td>Aloha Airlines Inc.</td>\n",
       "      <td>35387</td>\n",
       "      <td>745</td>\n",
       "      <td>2.11</td>\n",
       "    </tr>\n",
       "    <tr>\n",
       "      <th>7</th>\n",
       "      <td>UA</td>\n",
       "      <td>United Air Lines Inc.</td>\n",
       "      <td>500008</td>\n",
       "      <td>10238</td>\n",
       "      <td>2.05</td>\n",
       "    </tr>\n",
       "    <tr>\n",
       "      <th>8</th>\n",
       "      <td>AA</td>\n",
       "      <td>American Airlines Inc.</td>\n",
       "      <td>643597</td>\n",
       "      <td>10127</td>\n",
       "      <td>1.57</td>\n",
       "    </tr>\n",
       "    <tr>\n",
       "      <th>9</th>\n",
       "      <td>DL</td>\n",
       "      <td>Delta Air Lines Inc.</td>\n",
       "      <td>506086</td>\n",
       "      <td>7695</td>\n",
       "      <td>1.52</td>\n",
       "    </tr>\n",
       "    <tr>\n",
       "      <th>10</th>\n",
       "      <td>AS</td>\n",
       "      <td>Alaska Airlines Inc.</td>\n",
       "      <td>159404</td>\n",
       "      <td>2430</td>\n",
       "      <td>1.52</td>\n",
       "    </tr>\n",
       "    <tr>\n",
       "      <th>11</th>\n",
       "      <td>TZ</td>\n",
       "      <td>ATA Airlines d/b/a ATA</td>\n",
       "      <td>19602</td>\n",
       "      <td>227</td>\n",
       "      <td>1.16</td>\n",
       "    </tr>\n",
       "    <tr>\n",
       "      <th>12</th>\n",
       "      <td>NW</td>\n",
       "      <td>Northwest Airlines Inc.</td>\n",
       "      <td>432880</td>\n",
       "      <td>4854</td>\n",
       "      <td>1.12</td>\n",
       "    </tr>\n",
       "    <tr>\n",
       "      <th>13</th>\n",
       "      <td>US</td>\n",
       "      <td>US Airways Inc. (Merged with America West 9/05...</td>\n",
       "      <td>504844</td>\n",
       "      <td>5511</td>\n",
       "      <td>1.09</td>\n",
       "    </tr>\n",
       "    <tr>\n",
       "      <th>14</th>\n",
       "      <td>F9</td>\n",
       "      <td>Frontier Airlines Inc.</td>\n",
       "      <td>90181</td>\n",
       "      <td>902</td>\n",
       "      <td>1.00</td>\n",
       "    </tr>\n",
       "    <tr>\n",
       "      <th>15</th>\n",
       "      <td>FL</td>\n",
       "      <td>AirTran Airways Corporation</td>\n",
       "      <td>237645</td>\n",
       "      <td>1941</td>\n",
       "      <td>0.82</td>\n",
       "    </tr>\n",
       "    <tr>\n",
       "      <th>16</th>\n",
       "      <td>WN</td>\n",
       "      <td>Southwest Airlines Co.</td>\n",
       "      <td>1099321</td>\n",
       "      <td>8951</td>\n",
       "      <td>0.81</td>\n",
       "    </tr>\n",
       "    <tr>\n",
       "      <th>17</th>\n",
       "      <td>CO</td>\n",
       "      <td>Continental Air Lines Inc.</td>\n",
       "      <td>309389</td>\n",
       "      <td>1649</td>\n",
       "      <td>0.53</td>\n",
       "    </tr>\n",
       "    <tr>\n",
       "      <th>18</th>\n",
       "      <td>HA</td>\n",
       "      <td>Hawaiian Airlines Inc.</td>\n",
       "      <td>52173</td>\n",
       "      <td>253</td>\n",
       "      <td>0.48</td>\n",
       "    </tr>\n",
       "    <tr>\n",
       "      <th>19</th>\n",
       "      <td>B6</td>\n",
       "      <td>JetBlue Airways</td>\n",
       "      <td>155732</td>\n",
       "      <td>659</td>\n",
       "      <td>0.42</td>\n",
       "    </tr>\n",
       "  </tbody>\n",
       "</table>\n",
       "</div>"
      ],
      "text/plain": [
       "   airline                                       airline_name  total_flights  \\\n",
       "0       MQ                       American Eagle Airlines Inc.         550088   \n",
       "1       YV                                 Mesa Airlines Inc.         304764   \n",
       "2       EV                        Atlantic Southeast Airlines         273143   \n",
       "3       OH                                        Comair Inc.         278099   \n",
       "4       OO                              Skywest Airlines Inc.         548109   \n",
       "5       XE                           Expressjet Airlines Inc.         441470   \n",
       "6       AQ                                Aloha Airlines Inc.          35387   \n",
       "7       UA                              United Air Lines Inc.         500008   \n",
       "8       AA                             American Airlines Inc.         643597   \n",
       "9       DL                               Delta Air Lines Inc.         506086   \n",
       "10      AS                               Alaska Airlines Inc.         159404   \n",
       "11      TZ                             ATA Airlines d/b/a ATA          19602   \n",
       "12      NW                            Northwest Airlines Inc.         432880   \n",
       "13      US  US Airways Inc. (Merged with America West 9/05...         504844   \n",
       "14      F9                             Frontier Airlines Inc.          90181   \n",
       "15      FL                        AirTran Airways Corporation         237645   \n",
       "16      WN                             Southwest Airlines Co.        1099321   \n",
       "17      CO                         Continental Air Lines Inc.         309389   \n",
       "18      HA                             Hawaiian Airlines Inc.          52173   \n",
       "19      B6                                    JetBlue Airways         155732   \n",
       "\n",
       "    cancellations  cancel_rate  \n",
       "0           19990         3.63  \n",
       "1            9544         3.13  \n",
       "2            6783         2.48  \n",
       "3            6875         2.47  \n",
       "4           12844         2.34  \n",
       "5            9716         2.20  \n",
       "6             745         2.11  \n",
       "7           10238         2.05  \n",
       "8           10127         1.57  \n",
       "9            7695         1.52  \n",
       "10           2430         1.52  \n",
       "11            227         1.16  \n",
       "12           4854         1.12  \n",
       "13           5511         1.09  \n",
       "14            902         1.00  \n",
       "15           1941         0.82  \n",
       "16           8951         0.81  \n",
       "17           1649         0.53  \n",
       "18            253         0.48  \n",
       "19            659         0.42  "
      ]
     },
     "execution_count": 68,
     "metadata": {},
     "output_type": "execute_result"
    }
   ],
   "source": [
    "# by airline\n",
    "query8 = \"\"\"\n",
    "    SELECT\n",
    "        a.uniquecarrier AS airline,\n",
    "        c.description AS airline_name,\n",
    "        COUNT(*) AS total_flights,\n",
    "        SUM(CASE WHEN cancelled = 1 THEN 1 ELSE 0 END) AS cancellations,\n",
    "        ROUND(100.0 * SUM(CASE WHEN cancelled = 1 THEN 1 ELSE 0 END) / COUNT(*), 2) AS cancel_rate\n",
    "    FROM project2.airline_2006 a\n",
    "    LEFT JOIN project2.carriers c ON a.uniquecarrier = c.code\n",
    "    GROUP BY a.uniquecarrier, c.description\n",
    "    ORDER BY cancel_rate DESC\n",
    "\"\"\"\n",
    "\n",
    "df8 = pd.read_sql(query8, conn)\n",
    "df8"
   ]
  },
  {
   "cell_type": "code",
   "execution_count": 74,
   "id": "6cacc1dc",
   "metadata": {},
   "outputs": [
    {
     "name": "stderr",
     "output_type": "stream",
     "text": [
      "C:\\Users\\user\\AppData\\Local\\Temp\\ipykernel_17428\\1130898156.py:1: FutureWarning: \n",
      "\n",
      "Passing `palette` without assigning `hue` is deprecated and will be removed in v0.14.0. Assign the `x` variable to `hue` and set `legend=False` for the same effect.\n",
      "\n",
      "  ax = sns.barplot(x='airline_name', y='cancel_rate', data=df8, palette='magma')\n",
      "C:\\Users\\user\\AppData\\Local\\Temp\\ipykernel_17428\\1130898156.py:8: UserWarning: Tight layout not applied. The bottom and top margins cannot be made large enough to accommodate all Axes decorations.\n",
      "  plt.tight_layout()\n"
     ]
    },
    {
     "data": {
      "image/png": "[encoded data removed]",
      "text/plain": [
       "<Figure size 640x480 with 1 Axes>"
      ]
     },
     "metadata": {},
     "output_type": "display_data"
    }
   ],
   "source": [
    "ax = sns.barplot(x='airline_name', y='cancel_rate', data=df8, palette='magma')\n",
    "for container in ax.containers:\n",
    "    ax.bar_label(container, labels=[f'{v:.1f}' for v in container.datavalues], padding=3)\n",
    "plt.title(\"Cancellation Rate by Airline\")\n",
    "plt.xlabel(\"Airline\")\n",
    "plt.ylabel(\"Cancellation Rate (%)\")\n",
    "plt.xticks(rotation=90)\n",
    "plt.tight_layout()\n",
    "plt.show();"
   ]
  },
  {
   "cell_type": "code",
   "execution_count": null,
   "id": "349f30b1",
   "metadata": {},
   "outputs": [
    {
     "name": "stderr",
     "output_type": "stream",
     "text": [
      "C:\\Users\\user\\AppData\\Local\\Temp\\ipykernel_17428\\4221284415.py:15: UserWarning: pandas only supports SQLAlchemy connectable (engine/connection) or database string URI or sqlite3 DBAPI2 connection. Other DBAPI2 objects are not tested. Please consider using SQLAlchemy.\n",
      "  df9 = pd.read_sql(query9, conn)\n"
     ]
    },
    {
     "data": {
      "application/vnd.microsoft.datawrangler.viewer.v0+json": {
       "columns": [
        {
         "name": "index",
         "rawType": "int64",
         "type": "integer"
        },
        {
         "name": "airport",
         "rawType": "object",
         "type": "string"
        },
        {
         "name": "airport_name",
         "rawType": "object",
         "type": "string"
        },
        {
         "name": "total_flights",
         "rawType": "int64",
         "type": "integer"
        },
        {
         "name": "cancellations",
         "rawType": "int64",
         "type": "integer"
        },
        {
         "name": "cancel_rate",
         "rawType": "float64",
         "type": "float"
        }
       ],
       "ref": "251c8d42-5953-4cf8-acc4-62d8806df946",
       "rows": [
        [
         "0",
         "PVU",
         "Provo Muni",
         "2",
         "1",
         "50.0"
        ],
        [
         "1",
         "DUT",
         "Unalaska",
         "6336",
         "1282",
         "20.23"
        ],
        [
         "2",
         "TEX",
         "Telluride Regional",
         "655",
         "100",
         "15.27"
        ],
        [
         "3",
         "BJI",
         "Bemidji-Beltrami County",
         "128",
         "14",
         "10.94"
        ],
        [
         "4",
         "ASE",
         "Aspen-Pitkin Co/Sardy ",
         "11570",
         "1170",
         "10.11"
        ],
        [
         "5",
         "INL",
         "Falls International",
         "218",
         "22",
         "10.09"
        ],
        [
         "6",
         "RHI",
         "Rhinelander-Oneida County",
         "255",
         "25",
         "9.8"
        ],
        [
         "7",
         "ACK",
         "Nantucket Memorial",
         "1355",
         "130",
         "9.59"
        ],
        [
         "8",
         "CMX",
         "Houghton County Memorial",
         "430",
         "41",
         "9.53"
        ],
        [
         "9",
         "KSM",
         "St. Mary's",
         "467",
         "44",
         "9.42"
        ],
        [
         "10",
         "ALO",
         "Waterloo Municipal",
         "1345",
         "118",
         "8.77"
        ],
        [
         "11",
         "ADK",
         "Adak",
         "521",
         "41",
         "7.87"
        ],
        [
         "12",
         "MKK",
         "Molokai",
         "289",
         "22",
         "7.61"
        ],
        [
         "13",
         "VIS",
         "Visalia Municipal",
         "1993",
         "149",
         "7.48"
        ],
        [
         "14",
         "TVL",
         "Lake Tahoe",
         "3314",
         "243",
         "7.33"
        ],
        [
         "15",
         "ADQ",
         "Kodiak ",
         "9863",
         "686",
         "6.96"
        ],
        [
         "16",
         "ROP",
         "Prachinburi",
         "1958",
         "131",
         "6.69"
        ],
        [
         "17",
         "SPI",
         "Capital",
         "5306",
         "354",
         "6.67"
        ],
        [
         "18",
         "ORH",
         "Worcester Regional",
         "14321",
         "917",
         "6.4"
        ],
        [
         "19",
         "SUN",
         "Friedman Memorial",
         "16745",
         "1033",
         "6.17"
        ],
        [
         "20",
         "HPN",
         "Westchester Cty",
         "118394",
         "7173",
         "6.06"
        ],
        [
         "21",
         "MAZ",
         "Eugenio Maria De Hostos",
         "149",
         "9",
         "6.04"
        ],
        [
         "22",
         "HHH",
         "Hilton Head",
         "1311",
         "74",
         "5.64"
        ],
        [
         "23",
         "PSG",
         "James C. Johnson Petersburg",
         "14550",
         "818",
         "5.62"
        ],
        [
         "24",
         "DBQ",
         "Dubuque Municipal",
         "9339",
         "507",
         "5.43"
        ],
        [
         "25",
         "BMI",
         "Central Illinois Regional",
         "20009",
         "1065",
         "5.32"
        ],
        [
         "26",
         "ANI",
         "Aniak",
         "475",
         "25",
         "5.26"
        ],
        [
         "27",
         "TUP",
         "Tupelo Municipal ",
         "1971",
         "101",
         "5.12"
        ],
        [
         "28",
         "PLN",
         "Pellston Regional  of Emmet County",
         "550",
         "28",
         "5.09"
        ],
        [
         "29",
         "ATW",
         "Outagamie County Regional",
         "21041",
         "1054",
         "5.01"
        ],
        [
         "30",
         "BRW",
         "Wiley Post Will Rogers Memorial",
         "12549",
         "628",
         "5.0"
        ],
        [
         "31",
         "ILG",
         "New Castle County ",
         "794",
         "39",
         "4.91"
        ],
        [
         "32",
         "HVN",
         "Tweed-New Haven",
         "7365",
         "354",
         "4.81"
        ],
        [
         "33",
         "CWA",
         "Central Wisconsin",
         "5838",
         "279",
         "4.78"
        ],
        [
         "34",
         "FLG",
         "Flagstaff Pulliam",
         "16195",
         "768",
         "4.74"
        ],
        [
         "35",
         "WRG",
         "Wrangell",
         "14556",
         "687",
         "4.72"
        ],
        [
         "36",
         "MQT",
         "Marquette County Airport",
         "5100",
         "240",
         "4.71"
        ],
        [
         "37",
         "MOD",
         "Modesto City-County-Harry Sham ",
         "10612",
         "498",
         "4.69"
        ],
        [
         "38",
         "MCN",
         "Middle Georgia Regional",
         "6822",
         "317",
         "4.65"
        ],
        [
         "39",
         "MEI",
         "Key ",
         "5813",
         "265",
         "4.56"
        ],
        [
         "40",
         "LNY",
         "Lanai",
         "289",
         "13",
         "4.5"
        ],
        [
         "41",
         "CMI",
         "University of Illinois-Willard",
         "26674",
         "1180",
         "4.42"
        ],
        [
         "42",
         "EFD",
         "Ellington ",
         "3633",
         "159",
         "4.38"
        ],
        [
         "43",
         "ROR",
         "Babelthoup/Koror",
         "2228",
         "97",
         "4.35"
        ],
        [
         "44",
         "HKY",
         "Hickory Municipal",
         "648",
         "28",
         "4.32"
        ],
        [
         "45",
         "AZO",
         "Kalamazoo County",
         "62455",
         "2690",
         "4.31"
        ],
        [
         "46",
         "SCC",
         "Deadhorse",
         "11068",
         "477",
         "4.31"
        ],
        [
         "47",
         "OTZ",
         "Ralph Wien Memorial",
         "20084",
         "862",
         "4.29"
        ],
        [
         "48",
         "PIA",
         "Greater Peoria Regional",
         "41134",
         "1757",
         "4.27"
        ],
        [
         "49",
         "BET",
         "Bethel",
         "19120",
         "798",
         "4.17"
        ]
       ],
       "shape": {
        "columns": 5,
        "rows": 346
       }
      },
      "text/html": [
       "<div>\n",
       "<style scoped>\n",
       "    .dataframe tbody tr th:only-of-type {\n",
       "        vertical-align: middle;\n",
       "    }\n",
       "\n",
       "    .dataframe tbody tr th {\n",
       "        vertical-align: top;\n",
       "    }\n",
       "\n",
       "    .dataframe thead th {\n",
       "        text-align: right;\n",
       "    }\n",
       "</style>\n",
       "<table border=\"1\" class=\"dataframe\">\n",
       "  <thead>\n",
       "    <tr style=\"text-align: right;\">\n",
       "      <th></th>\n",
       "      <th>airport</th>\n",
       "      <th>airport_name</th>\n",
       "      <th>total_flights</th>\n",
       "      <th>cancellations</th>\n",
       "      <th>cancel_rate</th>\n",
       "    </tr>\n",
       "  </thead>\n",
       "  <tbody>\n",
       "    <tr>\n",
       "      <th>0</th>\n",
       "      <td>PVU</td>\n",
       "      <td>Provo Muni</td>\n",
       "      <td>2</td>\n",
       "      <td>1</td>\n",
       "      <td>50.00</td>\n",
       "    </tr>\n",
       "    <tr>\n",
       "      <th>1</th>\n",
       "      <td>DUT</td>\n",
       "      <td>Unalaska</td>\n",
       "      <td>6336</td>\n",
       "      <td>1282</td>\n",
       "      <td>20.23</td>\n",
       "    </tr>\n",
       "    <tr>\n",
       "      <th>2</th>\n",
       "      <td>TEX</td>\n",
       "      <td>Telluride Regional</td>\n",
       "      <td>655</td>\n",
       "      <td>100</td>\n",
       "      <td>15.27</td>\n",
       "    </tr>\n",
       "    <tr>\n",
       "      <th>3</th>\n",
       "      <td>BJI</td>\n",
       "      <td>Bemidji-Beltrami County</td>\n",
       "      <td>128</td>\n",
       "      <td>14</td>\n",
       "      <td>10.94</td>\n",
       "    </tr>\n",
       "    <tr>\n",
       "      <th>4</th>\n",
       "      <td>ASE</td>\n",
       "      <td>Aspen-Pitkin Co/Sardy</td>\n",
       "      <td>11570</td>\n",
       "      <td>1170</td>\n",
       "      <td>10.11</td>\n",
       "    </tr>\n",
       "    <tr>\n",
       "      <th>...</th>\n",
       "      <td>...</td>\n",
       "      <td>...</td>\n",
       "      <td>...</td>\n",
       "      <td>...</td>\n",
       "      <td>...</td>\n",
       "    </tr>\n",
       "    <tr>\n",
       "      <th>341</th>\n",
       "      <td>BFI</td>\n",
       "      <td>Boeing Field/King County Intl</td>\n",
       "      <td>1</td>\n",
       "      <td>0</td>\n",
       "      <td>0.00</td>\n",
       "    </tr>\n",
       "    <tr>\n",
       "      <th>342</th>\n",
       "      <td>MKC</td>\n",
       "      <td>Downtown</td>\n",
       "      <td>1</td>\n",
       "      <td>0</td>\n",
       "      <td>0.00</td>\n",
       "    </tr>\n",
       "    <tr>\n",
       "      <th>343</th>\n",
       "      <td>CYS</td>\n",
       "      <td>Cheyenne</td>\n",
       "      <td>2</td>\n",
       "      <td>0</td>\n",
       "      <td>0.00</td>\n",
       "    </tr>\n",
       "    <tr>\n",
       "      <th>344</th>\n",
       "      <td>FOE</td>\n",
       "      <td>Forbes</td>\n",
       "      <td>57</td>\n",
       "      <td>0</td>\n",
       "      <td>0.00</td>\n",
       "    </tr>\n",
       "    <tr>\n",
       "      <th>345</th>\n",
       "      <td>GLH</td>\n",
       "      <td>Mid Delta Regional</td>\n",
       "      <td>2</td>\n",
       "      <td>0</td>\n",
       "      <td>0.00</td>\n",
       "    </tr>\n",
       "  </tbody>\n",
       "</table>\n",
       "<p>346 rows × 5 columns</p>\n",
       "</div>"
      ],
      "text/plain": [
       "    airport                   airport_name  total_flights  cancellations  \\\n",
       "0       PVU                     Provo Muni              2              1   \n",
       "1       DUT                       Unalaska           6336           1282   \n",
       "2       TEX             Telluride Regional            655            100   \n",
       "3       BJI        Bemidji-Beltrami County            128             14   \n",
       "4       ASE         Aspen-Pitkin Co/Sardy           11570           1170   \n",
       "..      ...                            ...            ...            ...   \n",
       "341     BFI  Boeing Field/King County Intl              1              0   \n",
       "342     MKC                       Downtown              1              0   \n",
       "343     CYS                       Cheyenne              2              0   \n",
       "344     FOE                        Forbes              57              0   \n",
       "345     GLH             Mid Delta Regional              2              0   \n",
       "\n",
       "     cancel_rate  \n",
       "0          50.00  \n",
       "1          20.23  \n",
       "2          15.27  \n",
       "3          10.94  \n",
       "4          10.11  \n",
       "..           ...  \n",
       "341         0.00  \n",
       "342         0.00  \n",
       "343         0.00  \n",
       "344         0.00  \n",
       "345         0.00  \n",
       "\n",
       "[346 rows x 5 columns]"
      ]
     },
     "execution_count": 77,
     "metadata": {},
     "output_type": "execute_result"
    }
   ],
   "source": [
    "# by origin airport\n",
    "query9 = \"\"\"\n",
    "  SELECT\n",
    "    a.origin AS airport,\n",
    "    b.airport AS airport_name,\n",
    "    COUNT(*) AS total_flights,\n",
    "    SUM(CASE WHEN cancelled = 1 THEN 1 ELSE 0 END) AS cancellations,\n",
    "    ROUND(100.0 * SUM(CASE WHEN cancelled = 1 THEN 1 ELSE 0 END) / COUNT(*), 2) AS cancel_rate\n",
    "  FROM project2.airline_2006 a\n",
    "  LEFT JOIN project2.airports b ON a.origin = b.iata\n",
    "  GROUP BY a.origin, b.airport\n",
    "  ORDER BY cancel_rate DESC\n",
    "\"\"\"\n",
    "\n",
    "df9 = pd.read_sql(query9, conn)\n",
    "df9"
   ]
  },
  {
   "cell_type": "code",
   "execution_count": 79,
   "id": "dbf684ae",
   "metadata": {},
   "outputs": [
    {
     "name": "stderr",
     "output_type": "stream",
     "text": [
      "C:\\Users\\user\\AppData\\Local\\Temp\\ipykernel_17428\\769055348.py:1: FutureWarning: \n",
      "\n",
      "Passing `palette` without assigning `hue` is deprecated and will be removed in v0.14.0. Assign the `x` variable to `hue` and set `legend=False` for the same effect.\n",
      "\n",
      "  ax = sns.barplot(x='airport_name', y='cancel_rate', data=df9.head(20), palette='magma')\n"
     ]
    },
    {
     "data": {
      "image/png": "[encoded data removed]",
      "text/plain": [
       "<Figure size 640x480 with 1 Axes>"
      ]
     },
     "metadata": {},
     "output_type": "display_data"
    }
   ],
   "source": [
    "ax = sns.barplot(x='airport_name', y='cancel_rate', data=df9.head(20), palette='magma')\n",
    "for container in ax.containers:\n",
    "    ax.bar_label(container, labels=[f'{v:.1f}' for v in container.datavalues], padding=3)\n",
    "plt.title(\"Cancellation Rate by Origin Airport\")\n",
    "plt.xlabel(\"Origin Airport\")\n",
    "plt.ylabel(\"Cancellation Rate (%)\")\n",
    "plt.xticks(rotation=90)\n",
    "plt.tight_layout()\n",
    "plt.show();"
   ]
  },
  {
   "cell_type": "code",
   "execution_count": null,
   "id": "cbc5ac1a",
   "metadata": {},
   "outputs": [
    {
     "name": "stderr",
     "output_type": "stream",
     "text": [
      "C:\\Users\\user\\AppData\\Local\\Temp\\ipykernel_17428\\870941485.py:13: UserWarning: pandas only supports SQLAlchemy connectable (engine/connection) or database string URI or sqlite3 DBAPI2 connection. Other DBAPI2 objects are not tested. Please consider using SQLAlchemy.\n",
      "  df10 = pd.read_sql(query10, conn)\n"
     ]
    },
    {
     "data": {
      "application/vnd.microsoft.datawrangler.viewer.v0+json": {
       "columns": [
        {
         "name": "index",
         "rawType": "int64",
         "type": "integer"
        },
        {
         "name": "month",
         "rawType": "int64",
         "type": "integer"
        },
        {
         "name": "total_flights",
         "rawType": "int64",
         "type": "integer"
        },
        {
         "name": "cancellations",
         "rawType": "int64",
         "type": "integer"
        },
        {
         "name": "cancel_rate",
         "rawType": "float64",
         "type": "float"
        }
       ],
       "ref": "f0767628-ad15-4737-87cd-0aa2880243db",
       "rows": [
        [
         "0",
         "1",
         "10272489",
         "322248",
         "3.14"
        ],
        [
         "1",
         "2",
         "9431225",
         "248669",
         "2.64"
        ],
        [
         "2",
         "3",
         "10448039",
         "212262",
         "2.03"
        ],
        [
         "3",
         "4",
         "10081982",
         "125717",
         "1.25"
        ],
        [
         "4",
         "5",
         "9724174",
         "120589",
         "1.24"
        ],
        [
         "5",
         "6",
         "9618281",
         "155064",
         "1.61"
        ],
        [
         "6",
         "7",
         "9944011",
         "155926",
         "1.57"
        ],
        [
         "7",
         "8",
         "10034556",
         "156959",
         "1.56"
        ],
        [
         "8",
         "9",
         "9435046",
         "255148",
         "2.7"
        ],
        [
         "9",
         "10",
         "10202453",
         "131139",
         "1.29"
        ],
        [
         "10",
         "11",
         "9694904",
         "121207",
         "1.25"
        ],
        [
         "11",
         "12",
         "10027298",
         "225404",
         "2.25"
        ]
       ],
       "shape": {
        "columns": 4,
        "rows": 12
       }
      },
      "text/html": [
       "<div>\n",
       "<style scoped>\n",
       "    .dataframe tbody tr th:only-of-type {\n",
       "        vertical-align: middle;\n",
       "    }\n",
       "\n",
       "    .dataframe tbody tr th {\n",
       "        vertical-align: top;\n",
       "    }\n",
       "\n",
       "    .dataframe thead th {\n",
       "        text-align: right;\n",
       "    }\n",
       "</style>\n",
       "<table border=\"1\" class=\"dataframe\">\n",
       "  <thead>\n",
       "    <tr style=\"text-align: right;\">\n",
       "      <th></th>\n",
       "      <th>month</th>\n",
       "      <th>total_flights</th>\n",
       "      <th>cancellations</th>\n",
       "      <th>cancel_rate</th>\n",
       "    </tr>\n",
       "  </thead>\n",
       "  <tbody>\n",
       "    <tr>\n",
       "      <th>0</th>\n",
       "      <td>1</td>\n",
       "      <td>10272489</td>\n",
       "      <td>322248</td>\n",
       "      <td>3.14</td>\n",
       "    </tr>\n",
       "    <tr>\n",
       "      <th>1</th>\n",
       "      <td>2</td>\n",
       "      <td>9431225</td>\n",
       "      <td>248669</td>\n",
       "      <td>2.64</td>\n",
       "    </tr>\n",
       "    <tr>\n",
       "      <th>2</th>\n",
       "      <td>3</td>\n",
       "      <td>10448039</td>\n",
       "      <td>212262</td>\n",
       "      <td>2.03</td>\n",
       "    </tr>\n",
       "    <tr>\n",
       "      <th>3</th>\n",
       "      <td>4</td>\n",
       "      <td>10081982</td>\n",
       "      <td>125717</td>\n",
       "      <td>1.25</td>\n",
       "    </tr>\n",
       "    <tr>\n",
       "      <th>4</th>\n",
       "      <td>5</td>\n",
       "      <td>9724174</td>\n",
       "      <td>120589</td>\n",
       "      <td>1.24</td>\n",
       "    </tr>\n",
       "    <tr>\n",
       "      <th>5</th>\n",
       "      <td>6</td>\n",
       "      <td>9618281</td>\n",
       "      <td>155064</td>\n",
       "      <td>1.61</td>\n",
       "    </tr>\n",
       "    <tr>\n",
       "      <th>6</th>\n",
       "      <td>7</td>\n",
       "      <td>9944011</td>\n",
       "      <td>155926</td>\n",
       "      <td>1.57</td>\n",
       "    </tr>\n",
       "    <tr>\n",
       "      <th>7</th>\n",
       "      <td>8</td>\n",
       "      <td>10034556</td>\n",
       "      <td>156959</td>\n",
       "      <td>1.56</td>\n",
       "    </tr>\n",
       "    <tr>\n",
       "      <th>8</th>\n",
       "      <td>9</td>\n",
       "      <td>9435046</td>\n",
       "      <td>255148</td>\n",
       "      <td>2.70</td>\n",
       "    </tr>\n",
       "    <tr>\n",
       "      <th>9</th>\n",
       "      <td>10</td>\n",
       "      <td>10202453</td>\n",
       "      <td>131139</td>\n",
       "      <td>1.29</td>\n",
       "    </tr>\n",
       "    <tr>\n",
       "      <th>10</th>\n",
       "      <td>11</td>\n",
       "      <td>9694904</td>\n",
       "      <td>121207</td>\n",
       "      <td>1.25</td>\n",
       "    </tr>\n",
       "    <tr>\n",
       "      <th>11</th>\n",
       "      <td>12</td>\n",
       "      <td>10027298</td>\n",
       "      <td>225404</td>\n",
       "      <td>2.25</td>\n",
       "    </tr>\n",
       "  </tbody>\n",
       "</table>\n",
       "</div>"
      ],
      "text/plain": [
       "    month  total_flights  cancellations  cancel_rate\n",
       "0       1       10272489         322248         3.14\n",
       "1       2        9431225         248669         2.64\n",
       "2       3       10448039         212262         2.03\n",
       "3       4       10081982         125717         1.25\n",
       "4       5        9724174         120589         1.24\n",
       "5       6        9618281         155064         1.61\n",
       "6       7        9944011         155926         1.57\n",
       "7       8       10034556         156959         1.56\n",
       "8       9        9435046         255148         2.70\n",
       "9      10       10202453         131139         1.29\n",
       "10     11        9694904         121207         1.25\n",
       "11     12       10027298         225404         2.25"
      ]
     },
     "execution_count": 89,
     "metadata": {},
     "output_type": "execute_result"
    }
   ],
   "source": [
    "# by month\n",
    "query10 = \"\"\"\n",
    "    SELECT\n",
    "        month,\n",
    "        COUNT(*) AS total_flights,\n",
    "        SUM(CASE WHEN cancelled = 1 THEN 1 ELSE 0 END) AS cancellations,\n",
    "        ROUND(100.0 * SUM(CASE WHEN cancelled = 1 THEN 1 ELSE 0 END) / COUNT(*), 2) AS cancel_rate\n",
    "    FROM project2.airline_2006\n",
    "    GROUP BY month\n",
    "    ORDER BY month\n",
    "\"\"\"\n",
    "\n",
    "df10 = pd.read_sql(query10, conn)\n",
    "df10"
   ]
  },
  {
   "cell_type": "code",
   "execution_count": 90,
   "id": "952c17f8",
   "metadata": {},
   "outputs": [
    {
     "data": {
      "application/vnd.microsoft.datawrangler.viewer.v0+json": {
       "columns": [
        {
         "name": "index",
         "rawType": "int64",
         "type": "integer"
        },
        {
         "name": "month",
         "rawType": "int64",
         "type": "integer"
        },
        {
         "name": "total_flights",
         "rawType": "int64",
         "type": "integer"
        },
        {
         "name": "cancellations",
         "rawType": "int64",
         "type": "integer"
        },
        {
         "name": "cancel_rate",
         "rawType": "float64",
         "type": "float"
        },
        {
         "name": "month_name",
         "rawType": "object",
         "type": "string"
        }
       ],
       "ref": "540e57cc-634f-4eb8-ba1d-ff4f5ea22eea",
       "rows": [
        [
         "0",
         "1",
         "10272489",
         "322248",
         "3.14",
         "Jan"
        ],
        [
         "1",
         "2",
         "9431225",
         "248669",
         "2.64",
         "Feb"
        ],
        [
         "2",
         "3",
         "10448039",
         "212262",
         "2.03",
         "Mar"
        ],
        [
         "3",
         "4",
         "10081982",
         "125717",
         "1.25",
         "Apr"
        ],
        [
         "4",
         "5",
         "9724174",
         "120589",
         "1.24",
         "May"
        ],
        [
         "5",
         "6",
         "9618281",
         "155064",
         "1.61",
         "Jun"
        ],
        [
         "6",
         "7",
         "9944011",
         "155926",
         "1.57",
         "Jul"
        ],
        [
         "7",
         "8",
         "10034556",
         "156959",
         "1.56",
         "Aug"
        ],
        [
         "8",
         "9",
         "9435046",
         "255148",
         "2.7",
         "Sep"
        ],
        [
         "9",
         "10",
         "10202453",
         "131139",
         "1.29",
         "Oct"
        ],
        [
         "10",
         "11",
         "9694904",
         "121207",
         "1.25",
         "Nov"
        ],
        [
         "11",
         "12",
         "10027298",
         "225404",
         "2.25",
         "Dec"
        ]
       ],
       "shape": {
        "columns": 5,
        "rows": 12
       }
      },
      "text/html": [
       "<div>\n",
       "<style scoped>\n",
       "    .dataframe tbody tr th:only-of-type {\n",
       "        vertical-align: middle;\n",
       "    }\n",
       "\n",
       "    .dataframe tbody tr th {\n",
       "        vertical-align: top;\n",
       "    }\n",
       "\n",
       "    .dataframe thead th {\n",
       "        text-align: right;\n",
       "    }\n",
       "</style>\n",
       "<table border=\"1\" class=\"dataframe\">\n",
       "  <thead>\n",
       "    <tr style=\"text-align: right;\">\n",
       "      <th></th>\n",
       "      <th>month</th>\n",
       "      <th>total_flights</th>\n",
       "      <th>cancellations</th>\n",
       "      <th>cancel_rate</th>\n",
       "      <th>month_name</th>\n",
       "    </tr>\n",
       "  </thead>\n",
       "  <tbody>\n",
       "    <tr>\n",
       "      <th>0</th>\n",
       "      <td>1</td>\n",
       "      <td>10272489</td>\n",
       "      <td>322248</td>\n",
       "      <td>3.14</td>\n",
       "      <td>Jan</td>\n",
       "    </tr>\n",
       "    <tr>\n",
       "      <th>1</th>\n",
       "      <td>2</td>\n",
       "      <td>9431225</td>\n",
       "      <td>248669</td>\n",
       "      <td>2.64</td>\n",
       "      <td>Feb</td>\n",
       "    </tr>\n",
       "    <tr>\n",
       "      <th>2</th>\n",
       "      <td>3</td>\n",
       "      <td>10448039</td>\n",
       "      <td>212262</td>\n",
       "      <td>2.03</td>\n",
       "      <td>Mar</td>\n",
       "    </tr>\n",
       "    <tr>\n",
       "      <th>3</th>\n",
       "      <td>4</td>\n",
       "      <td>10081982</td>\n",
       "      <td>125717</td>\n",
       "      <td>1.25</td>\n",
       "      <td>Apr</td>\n",
       "    </tr>\n",
       "    <tr>\n",
       "      <th>4</th>\n",
       "      <td>5</td>\n",
       "      <td>9724174</td>\n",
       "      <td>120589</td>\n",
       "      <td>1.24</td>\n",
       "      <td>May</td>\n",
       "    </tr>\n",
       "    <tr>\n",
       "      <th>5</th>\n",
       "      <td>6</td>\n",
       "      <td>9618281</td>\n",
       "      <td>155064</td>\n",
       "      <td>1.61</td>\n",
       "      <td>Jun</td>\n",
       "    </tr>\n",
       "    <tr>\n",
       "      <th>6</th>\n",
       "      <td>7</td>\n",
       "      <td>9944011</td>\n",
       "      <td>155926</td>\n",
       "      <td>1.57</td>\n",
       "      <td>Jul</td>\n",
       "    </tr>\n",
       "    <tr>\n",
       "      <th>7</th>\n",
       "      <td>8</td>\n",
       "      <td>10034556</td>\n",
       "      <td>156959</td>\n",
       "      <td>1.56</td>\n",
       "      <td>Aug</td>\n",
       "    </tr>\n",
       "    <tr>\n",
       "      <th>8</th>\n",
       "      <td>9</td>\n",
       "      <td>9435046</td>\n",
       "      <td>255148</td>\n",
       "      <td>2.70</td>\n",
       "      <td>Sep</td>\n",
       "    </tr>\n",
       "    <tr>\n",
       "      <th>9</th>\n",
       "      <td>10</td>\n",
       "      <td>10202453</td>\n",
       "      <td>131139</td>\n",
       "      <td>1.29</td>\n",
       "      <td>Oct</td>\n",
       "    </tr>\n",
       "    <tr>\n",
       "      <th>10</th>\n",
       "      <td>11</td>\n",
       "      <td>9694904</td>\n",
       "      <td>121207</td>\n",
       "      <td>1.25</td>\n",
       "      <td>Nov</td>\n",
       "    </tr>\n",
       "    <tr>\n",
       "      <th>11</th>\n",
       "      <td>12</td>\n",
       "      <td>10027298</td>\n",
       "      <td>225404</td>\n",
       "      <td>2.25</td>\n",
       "      <td>Dec</td>\n",
       "    </tr>\n",
       "  </tbody>\n",
       "</table>\n",
       "</div>"
      ],
      "text/plain": [
       "    month  total_flights  cancellations  cancel_rate month_name\n",
       "0       1       10272489         322248         3.14        Jan\n",
       "1       2        9431225         248669         2.64        Feb\n",
       "2       3       10448039         212262         2.03        Mar\n",
       "3       4       10081982         125717         1.25        Apr\n",
       "4       5        9724174         120589         1.24        May\n",
       "5       6        9618281         155064         1.61        Jun\n",
       "6       7        9944011         155926         1.57        Jul\n",
       "7       8       10034556         156959         1.56        Aug\n",
       "8       9        9435046         255148         2.70        Sep\n",
       "9      10       10202453         131139         1.29        Oct\n",
       "10     11        9694904         121207         1.25        Nov\n",
       "11     12       10027298         225404         2.25        Dec"
      ]
     },
     "execution_count": 90,
     "metadata": {},
     "output_type": "execute_result"
    }
   ],
   "source": [
    "month_map = {\n",
    "    1: 'Jan', 2: 'Feb', 3: 'Mar', 4: 'Apr',\n",
    "    5: 'May', 6: 'Jun', 7: 'Jul', 8: 'Aug',\n",
    "    9: 'Sep', 10: 'Oct', 11: 'Nov', 12: 'Dec'\n",
    "}\n",
    "\n",
    "df10['month_name'] = df10['month'].map(month_map)\n",
    "df10\n"
   ]
  },
  {
   "cell_type": "code",
   "execution_count": 91,
   "id": "4354e457",
   "metadata": {},
   "outputs": [
    {
     "name": "stderr",
     "output_type": "stream",
     "text": [
      "C:\\Users\\user\\AppData\\Local\\Temp\\ipykernel_17428\\948601241.py:1: FutureWarning: \n",
      "\n",
      "Passing `palette` without assigning `hue` is deprecated and will be removed in v0.14.0. Assign the `x` variable to `hue` and set `legend=False` for the same effect.\n",
      "\n",
      "  ax = sns.barplot(x='month_name', y='cancel_rate', data=df10.head(20), palette='magma')\n"
     ]
    },
    {
     "data": {
      "image/png": "[encoded data removed]",
      "text/plain": [
       "<Figure size 640x480 with 1 Axes>"
      ]
     },
     "metadata": {},
     "output_type": "display_data"
    }
   ],
   "source": [
    "ax = sns.barplot(x='month_name', y='cancel_rate', data=df10.head(20), palette='magma')\n",
    "for container in ax.containers:\n",
    "    ax.bar_label(container, labels=[f'{v:.1f}' for v in container.datavalues], padding=3)\n",
    "plt.title(\"Cancellation Rate by Month\")\n",
    "plt.xlabel(\"Month\")\n",
    "plt.ylabel(\"Cancellation Rate (%)\")\n",
    "plt.xticks(rotation=90)\n",
    "plt.tight_layout()\n",
    "plt.show();"
   ]
  },
  {
   "cell_type": "markdown",
   "id": "42aab565",
   "metadata": {},
   "source": [
    "<h1 style='font-weight:bold'> 4. Problematic Routes </h1>"
   ]
  },
  {
   "cell_type": "markdown",
   "id": "dfd62cc0",
   "metadata": {},
   "source": [
    "<h2> 4.1 Identify specific routes (origin-destination pairs), carriers, or flight numbers that show consistently poor performance </h2>"
   ]
  },
  {
   "cell_type": "code",
   "execution_count": 95,
   "id": "7d5e051e",
   "metadata": {},
   "outputs": [
    {
     "name": "stderr",
     "output_type": "stream",
     "text": [
      "C:\\Users\\user\\AppData\\Local\\Temp\\ipykernel_17428\\3032478093.py:18: UserWarning: pandas only supports SQLAlchemy connectable (engine/connection) or database string URI or sqlite3 DBAPI2 connection. Other DBAPI2 objects are not tested. Please consider using SQLAlchemy.\n",
      "  df11 = pd.read_sql(query11, conn)\n"
     ]
    },
    {
     "data": {
      "application/vnd.microsoft.datawrangler.viewer.v0+json": {
       "columns": [
        {
         "name": "index",
         "rawType": "int64",
         "type": "integer"
        },
        {
         "name": "origin",
         "rawType": "object",
         "type": "string"
        },
        {
         "name": "dest",
         "rawType": "object",
         "type": "string"
        },
        {
         "name": "total_flights",
         "rawType": "int64",
         "type": "integer"
        },
        {
         "name": "avg_depdelay",
         "rawType": "float64",
         "type": "float"
        },
        {
         "name": "cancellations",
         "rawType": "int64",
         "type": "integer"
        },
        {
         "name": "cancel_rate",
         "rawType": "float64",
         "type": "float"
        }
       ],
       "ref": "f4d4dadc-f1dd-42e9-87c9-f9bb59cf5008",
       "rows": [
        [
         "0",
         "EWR",
         "PHL",
         "151",
         "10.92741935483871",
         "27",
         "17.88"
        ],
        [
         "1",
         "PHL",
         "EWR",
         "151",
         "12.798387096774194",
         "27",
         "17.88"
        ],
        [
         "2",
         "LGA",
         "LEX",
         "328",
         "21.322916666666668",
         "40",
         "12.2"
        ],
        [
         "3",
         "TEX",
         "PHX",
         "273",
         "6.916666666666667",
         "33",
         "12.09"
        ],
        [
         "4",
         "EWR",
         "ACK",
         "235",
         "30.5",
         "27",
         "11.49"
        ],
        [
         "5",
         "ACK",
         "EWR",
         "235",
         "33.51196172248804",
         "26",
         "11.06"
        ],
        [
         "6",
         "LGA",
         "TYS",
         "316",
         "22.20774647887324",
         "32",
         "10.13"
        ],
        [
         "7",
         "AKN",
         "ADK",
         "103",
         "16.35483870967742",
         "10",
         "9.71"
        ],
        [
         "8",
         "ADK",
         "AKN",
         "103",
         "39.0",
         "10",
         "9.71"
        ],
        [
         "9",
         "ASE",
         "PHX",
         "313",
         "18.12676056338028",
         "29",
         "9.27"
        ]
       ],
       "shape": {
        "columns": 6,
        "rows": 10
       }
      },
      "text/html": [
       "<div>\n",
       "<style scoped>\n",
       "    .dataframe tbody tr th:only-of-type {\n",
       "        vertical-align: middle;\n",
       "    }\n",
       "\n",
       "    .dataframe tbody tr th {\n",
       "        vertical-align: top;\n",
       "    }\n",
       "\n",
       "    .dataframe thead th {\n",
       "        text-align: right;\n",
       "    }\n",
       "</style>\n",
       "<table border=\"1\" class=\"dataframe\">\n",
       "  <thead>\n",
       "    <tr style=\"text-align: right;\">\n",
       "      <th></th>\n",
       "      <th>origin</th>\n",
       "      <th>dest</th>\n",
       "      <th>total_flights</th>\n",
       "      <th>avg_depdelay</th>\n",
       "      <th>cancellations</th>\n",
       "      <th>cancel_rate</th>\n",
       "    </tr>\n",
       "  </thead>\n",
       "  <tbody>\n",
       "    <tr>\n",
       "      <th>0</th>\n",
       "      <td>EWR</td>\n",
       "      <td>PHL</td>\n",
       "      <td>151</td>\n",
       "      <td>10.927419</td>\n",
       "      <td>27</td>\n",
       "      <td>17.88</td>\n",
       "    </tr>\n",
       "    <tr>\n",
       "      <th>1</th>\n",
       "      <td>PHL</td>\n",
       "      <td>EWR</td>\n",
       "      <td>151</td>\n",
       "      <td>12.798387</td>\n",
       "      <td>27</td>\n",
       "      <td>17.88</td>\n",
       "    </tr>\n",
       "    <tr>\n",
       "      <th>2</th>\n",
       "      <td>LGA</td>\n",
       "      <td>LEX</td>\n",
       "      <td>328</td>\n",
       "      <td>21.322917</td>\n",
       "      <td>40</td>\n",
       "      <td>12.20</td>\n",
       "    </tr>\n",
       "    <tr>\n",
       "      <th>3</th>\n",
       "      <td>TEX</td>\n",
       "      <td>PHX</td>\n",
       "      <td>273</td>\n",
       "      <td>6.916667</td>\n",
       "      <td>33</td>\n",
       "      <td>12.09</td>\n",
       "    </tr>\n",
       "    <tr>\n",
       "      <th>4</th>\n",
       "      <td>EWR</td>\n",
       "      <td>ACK</td>\n",
       "      <td>235</td>\n",
       "      <td>30.500000</td>\n",
       "      <td>27</td>\n",
       "      <td>11.49</td>\n",
       "    </tr>\n",
       "    <tr>\n",
       "      <th>5</th>\n",
       "      <td>ACK</td>\n",
       "      <td>EWR</td>\n",
       "      <td>235</td>\n",
       "      <td>33.511962</td>\n",
       "      <td>26</td>\n",
       "      <td>11.06</td>\n",
       "    </tr>\n",
       "    <tr>\n",
       "      <th>6</th>\n",
       "      <td>LGA</td>\n",
       "      <td>TYS</td>\n",
       "      <td>316</td>\n",
       "      <td>22.207746</td>\n",
       "      <td>32</td>\n",
       "      <td>10.13</td>\n",
       "    </tr>\n",
       "    <tr>\n",
       "      <th>7</th>\n",
       "      <td>AKN</td>\n",
       "      <td>ADK</td>\n",
       "      <td>103</td>\n",
       "      <td>16.354839</td>\n",
       "      <td>10</td>\n",
       "      <td>9.71</td>\n",
       "    </tr>\n",
       "    <tr>\n",
       "      <th>8</th>\n",
       "      <td>ADK</td>\n",
       "      <td>AKN</td>\n",
       "      <td>103</td>\n",
       "      <td>39.000000</td>\n",
       "      <td>10</td>\n",
       "      <td>9.71</td>\n",
       "    </tr>\n",
       "    <tr>\n",
       "      <th>9</th>\n",
       "      <td>ASE</td>\n",
       "      <td>PHX</td>\n",
       "      <td>313</td>\n",
       "      <td>18.126761</td>\n",
       "      <td>29</td>\n",
       "      <td>9.27</td>\n",
       "    </tr>\n",
       "  </tbody>\n",
       "</table>\n",
       "</div>"
      ],
      "text/plain": [
       "  origin dest  total_flights  avg_depdelay  cancellations  cancel_rate\n",
       "0    EWR  PHL            151     10.927419             27        17.88\n",
       "1    PHL  EWR            151     12.798387             27        17.88\n",
       "2    LGA  LEX            328     21.322917             40        12.20\n",
       "3    TEX  PHX            273      6.916667             33        12.09\n",
       "4    EWR  ACK            235     30.500000             27        11.49\n",
       "5    ACK  EWR            235     33.511962             26        11.06\n",
       "6    LGA  TYS            316     22.207746             32        10.13\n",
       "7    AKN  ADK            103     16.354839             10         9.71\n",
       "8    ADK  AKN            103     39.000000             10         9.71\n",
       "9    ASE  PHX            313     18.126761             29         9.27"
      ]
     },
     "execution_count": 95,
     "metadata": {},
     "output_type": "execute_result"
    }
   ],
   "source": [
    "# by route\n",
    "query11 = \"\"\"\n",
    "    SELECT\n",
    "        origin,\n",
    "        dest,\n",
    "        COUNT(*) AS total_flights,\n",
    "        AVG(depdelay) AS avg_depdelay,\n",
    "        SUM(CASE WHEN cancelled = 1 THEN 1 ELSE 0 END) AS cancellations,\n",
    "        ROUND(100.0 * SUM(CASE WHEN cancelled = 1 THEN 1 ELSE 0 END) / COUNT(*), 2) AS cancel_rate\n",
    "    FROM project2.airline_2006\n",
    "    WHERE depdelay IS NOT NULL OR cancelled = 1\n",
    "    GROUP BY origin, dest\n",
    "    HAVING COUNT(*) >= 100\n",
    "    ORDER BY cancel_rate DESC\n",
    "    LIMIT 10\n",
    "\"\"\"\n",
    "\n",
    "df11 = pd.read_sql(query11, conn)\n",
    "df11"
   ]
  },
  {
   "cell_type": "code",
   "execution_count": 96,
   "id": "27c269cf",
   "metadata": {},
   "outputs": [
    {
     "data": {
      "application/vnd.microsoft.datawrangler.viewer.v0+json": {
       "columns": [
        {
         "name": "index",
         "rawType": "int64",
         "type": "integer"
        },
        {
         "name": "origin",
         "rawType": "object",
         "type": "string"
        },
        {
         "name": "dest",
         "rawType": "object",
         "type": "string"
        },
        {
         "name": "total_flights",
         "rawType": "int64",
         "type": "integer"
        },
        {
         "name": "avg_depdelay",
         "rawType": "float64",
         "type": "float"
        },
        {
         "name": "cancellations",
         "rawType": "int64",
         "type": "integer"
        },
        {
         "name": "cancel_rate",
         "rawType": "float64",
         "type": "float"
        },
        {
         "name": "route",
         "rawType": "object",
         "type": "string"
        }
       ],
       "ref": "bd0c5077-bcac-4658-ad25-4223305aae5b",
       "rows": [
        [
         "0",
         "EWR",
         "PHL",
         "151",
         "10.92741935483871",
         "27",
         "17.88",
         "EWR - PHL"
        ],
        [
         "1",
         "PHL",
         "EWR",
         "151",
         "12.798387096774194",
         "27",
         "17.88",
         "PHL - EWR"
        ],
        [
         "2",
         "LGA",
         "LEX",
         "328",
         "21.322916666666668",
         "40",
         "12.2",
         "LGA - LEX"
        ],
        [
         "3",
         "TEX",
         "PHX",
         "273",
         "6.916666666666667",
         "33",
         "12.09",
         "TEX - PHX"
        ],
        [
         "4",
         "EWR",
         "ACK",
         "235",
         "30.5",
         "27",
         "11.49",
         "EWR - ACK"
        ],
        [
         "5",
         "ACK",
         "EWR",
         "235",
         "33.51196172248804",
         "26",
         "11.06",
         "ACK - EWR"
        ],
        [
         "6",
         "LGA",
         "TYS",
         "316",
         "22.20774647887324",
         "32",
         "10.13",
         "LGA - TYS"
        ],
        [
         "7",
         "AKN",
         "ADK",
         "103",
         "16.35483870967742",
         "10",
         "9.71",
         "AKN - ADK"
        ],
        [
         "8",
         "ADK",
         "AKN",
         "103",
         "39.0",
         "10",
         "9.71",
         "ADK - AKN"
        ],
        [
         "9",
         "ASE",
         "PHX",
         "313",
         "18.12676056338028",
         "29",
         "9.27",
         "ASE - PHX"
        ]
       ],
       "shape": {
        "columns": 7,
        "rows": 10
       }
      },
      "text/html": [
       "<div>\n",
       "<style scoped>\n",
       "    .dataframe tbody tr th:only-of-type {\n",
       "        vertical-align: middle;\n",
       "    }\n",
       "\n",
       "    .dataframe tbody tr th {\n",
       "        vertical-align: top;\n",
       "    }\n",
       "\n",
       "    .dataframe thead th {\n",
       "        text-align: right;\n",
       "    }\n",
       "</style>\n",
       "<table border=\"1\" class=\"dataframe\">\n",
       "  <thead>\n",
       "    <tr style=\"text-align: right;\">\n",
       "      <th></th>\n",
       "      <th>origin</th>\n",
       "      <th>dest</th>\n",
       "      <th>total_flights</th>\n",
       "      <th>avg_depdelay</th>\n",
       "      <th>cancellations</th>\n",
       "      <th>cancel_rate</th>\n",
       "      <th>route</th>\n",
       "    </tr>\n",
       "  </thead>\n",
       "  <tbody>\n",
       "    <tr>\n",
       "      <th>0</th>\n",
       "      <td>EWR</td>\n",
       "      <td>PHL</td>\n",
       "      <td>151</td>\n",
       "      <td>10.927419</td>\n",
       "      <td>27</td>\n",
       "      <td>17.88</td>\n",
       "      <td>EWR - PHL</td>\n",
       "    </tr>\n",
       "    <tr>\n",
       "      <th>1</th>\n",
       "      <td>PHL</td>\n",
       "      <td>EWR</td>\n",
       "      <td>151</td>\n",
       "      <td>12.798387</td>\n",
       "      <td>27</td>\n",
       "      <td>17.88</td>\n",
       "      <td>PHL - EWR</td>\n",
       "    </tr>\n",
       "    <tr>\n",
       "      <th>2</th>\n",
       "      <td>LGA</td>\n",
       "      <td>LEX</td>\n",
       "      <td>328</td>\n",
       "      <td>21.322917</td>\n",
       "      <td>40</td>\n",
       "      <td>12.20</td>\n",
       "      <td>LGA - LEX</td>\n",
       "    </tr>\n",
       "    <tr>\n",
       "      <th>3</th>\n",
       "      <td>TEX</td>\n",
       "      <td>PHX</td>\n",
       "      <td>273</td>\n",
       "      <td>6.916667</td>\n",
       "      <td>33</td>\n",
       "      <td>12.09</td>\n",
       "      <td>TEX - PHX</td>\n",
       "    </tr>\n",
       "    <tr>\n",
       "      <th>4</th>\n",
       "      <td>EWR</td>\n",
       "      <td>ACK</td>\n",
       "      <td>235</td>\n",
       "      <td>30.500000</td>\n",
       "      <td>27</td>\n",
       "      <td>11.49</td>\n",
       "      <td>EWR - ACK</td>\n",
       "    </tr>\n",
       "    <tr>\n",
       "      <th>5</th>\n",
       "      <td>ACK</td>\n",
       "      <td>EWR</td>\n",
       "      <td>235</td>\n",
       "      <td>33.511962</td>\n",
       "      <td>26</td>\n",
       "      <td>11.06</td>\n",
       "      <td>ACK - EWR</td>\n",
       "    </tr>\n",
       "    <tr>\n",
       "      <th>6</th>\n",
       "      <td>LGA</td>\n",
       "      <td>TYS</td>\n",
       "      <td>316</td>\n",
       "      <td>22.207746</td>\n",
       "      <td>32</td>\n",
       "      <td>10.13</td>\n",
       "      <td>LGA - TYS</td>\n",
       "    </tr>\n",
       "    <tr>\n",
       "      <th>7</th>\n",
       "      <td>AKN</td>\n",
       "      <td>ADK</td>\n",
       "      <td>103</td>\n",
       "      <td>16.354839</td>\n",
       "      <td>10</td>\n",
       "      <td>9.71</td>\n",
       "      <td>AKN - ADK</td>\n",
       "    </tr>\n",
       "    <tr>\n",
       "      <th>8</th>\n",
       "      <td>ADK</td>\n",
       "      <td>AKN</td>\n",
       "      <td>103</td>\n",
       "      <td>39.000000</td>\n",
       "      <td>10</td>\n",
       "      <td>9.71</td>\n",
       "      <td>ADK - AKN</td>\n",
       "    </tr>\n",
       "    <tr>\n",
       "      <th>9</th>\n",
       "      <td>ASE</td>\n",
       "      <td>PHX</td>\n",
       "      <td>313</td>\n",
       "      <td>18.126761</td>\n",
       "      <td>29</td>\n",
       "      <td>9.27</td>\n",
       "      <td>ASE - PHX</td>\n",
       "    </tr>\n",
       "  </tbody>\n",
       "</table>\n",
       "</div>"
      ],
      "text/plain": [
       "  origin dest  total_flights  avg_depdelay  cancellations  cancel_rate  \\\n",
       "0    EWR  PHL            151     10.927419             27        17.88   \n",
       "1    PHL  EWR            151     12.798387             27        17.88   \n",
       "2    LGA  LEX            328     21.322917             40        12.20   \n",
       "3    TEX  PHX            273      6.916667             33        12.09   \n",
       "4    EWR  ACK            235     30.500000             27        11.49   \n",
       "5    ACK  EWR            235     33.511962             26        11.06   \n",
       "6    LGA  TYS            316     22.207746             32        10.13   \n",
       "7    AKN  ADK            103     16.354839             10         9.71   \n",
       "8    ADK  AKN            103     39.000000             10         9.71   \n",
       "9    ASE  PHX            313     18.126761             29         9.27   \n",
       "\n",
       "       route  \n",
       "0  EWR - PHL  \n",
       "1  PHL - EWR  \n",
       "2  LGA - LEX  \n",
       "3  TEX - PHX  \n",
       "4  EWR - ACK  \n",
       "5  ACK - EWR  \n",
       "6  LGA - TYS  \n",
       "7  AKN - ADK  \n",
       "8  ADK - AKN  \n",
       "9  ASE - PHX  "
      ]
     },
     "execution_count": 96,
     "metadata": {},
     "output_type": "execute_result"
    }
   ],
   "source": [
    "df11['route'] = df11['origin'] + ' - ' + df11['dest']\n",
    "df11"
   ]
  },
  {
   "cell_type": "code",
   "execution_count": 99,
   "id": "41be5198",
   "metadata": {},
   "outputs": [
    {
     "name": "stderr",
     "output_type": "stream",
     "text": [
      "C:\\Users\\user\\AppData\\Local\\Temp\\ipykernel_17428\\3640041900.py:1: FutureWarning: \n",
      "\n",
      "Passing `palette` without assigning `hue` is deprecated and will be removed in v0.14.0. Assign the `x` variable to `hue` and set `legend=False` for the same effect.\n",
      "\n",
      "  ax = sns.barplot(x='route', y='cancel_rate', data=df11, palette='magma')\n"
     ]
    },
    {
     "data": {
      "image/png": "[encoded data removed]",
      "text/plain": [
       "<Figure size 640x480 with 1 Axes>"
      ]
     },
     "metadata": {},
     "output_type": "display_data"
    }
   ],
   "source": [
    "ax = sns.barplot(x='route', y='cancel_rate', data=df11, palette='magma')\n",
    "for container in ax.containers:\n",
    "    ax.bar_label(container, labels=[f'{v:.1f}' for v in container.datavalues], padding=3)\n",
    "plt.title(\"Cancellation Rate by Route\")\n",
    "plt.xlabel(\"Route\")\n",
    "plt.ylabel(\"Cancellation Rate (%)\")\n",
    "plt.xticks(rotation=90)\n",
    "plt.tight_layout()\n",
    "plt.ylim(0, 20)\n",
    "plt.show();"
   ]
  },
  {
   "cell_type": "code",
   "execution_count": null,
   "id": "0152207d",
   "metadata": {},
   "outputs": [],
   "source": [
    "# by carrier\n",
    "query13 = \"\"\"\n",
    "    SELECT\n",
    "        flightnum,\n",
    "        COUNT(*) AS total_flights,\n",
    "        AVG(depdelay) AS avg_depdelay,\n",
    "        ROUND(100.0 * SUM(CASE WHEN cancelled = 1 THEN 1 ELSE 0 END) / COUNT(*), 2) AS cancel_rate\n",
    "    FROM project2.airline_2006\n",
    "    WHERE depdelay IS NOT NULL OR cancelled = 1\n",
    "    GROUP BY flightnum\n",
    "    HAVING COUNT(*) >= 100  -- Filter out uncommon flights\n",
    "    ORDER BY cancel_rate DESC\n",
    "    LIMIT 10\n",
    "\"\"\"\n",
    "\n",
    "df13 = pd.read_sql(query13, conn)\n",
    "df13"
   ]
  },
  {
   "cell_type": "code",
   "execution_count": null,
   "id": "173986d7",
   "metadata": {},
   "outputs": [
    {
     "name": "stderr",
     "output_type": "stream",
     "text": [
      "C:\\Users\\user\\AppData\\Local\\Temp\\ipykernel_17428\\511044766.py:16: UserWarning: pandas only supports SQLAlchemy connectable (engine/connection) or database string URI or sqlite3 DBAPI2 connection. Other DBAPI2 objects are not tested. Please consider using SQLAlchemy.\n",
      "  df12 = pd.read_sql(query12, conn)\n"
     ]
    },
    {
     "data": {
      "application/vnd.microsoft.datawrangler.viewer.v0+json": {
       "columns": [
        {
         "name": "index",
         "rawType": "int64",
         "type": "integer"
        },
        {
         "name": "flightnum",
         "rawType": "int64",
         "type": "integer"
        },
        {
         "name": "total_flights",
         "rawType": "int64",
         "type": "integer"
        },
        {
         "name": "avg_depdelay",
         "rawType": "float64",
         "type": "float"
        },
        {
         "name": "cancel_rate",
         "rawType": "float64",
         "type": "float"
        }
       ],
       "ref": "e684855e-682c-42a4-ab41-3997a4e74712",
       "rows": [
        [
         "0",
         "7426",
         "103",
         "50.08536585365854",
         "20.39"
        ],
        [
         "1",
         "5166",
         "206",
         "36.86746987951807",
         "19.42"
        ],
        [
         "2",
         "6906",
         "422",
         "17.107558139534884",
         "18.48"
        ],
        [
         "3",
         "6939",
         "489",
         "13.925",
         "18.2"
        ],
        [
         "4",
         "6876",
         "444",
         "16.64850136239782",
         "17.34"
        ],
        [
         "5",
         "6828",
         "413",
         "21.291545189504372",
         "16.95"
        ],
        [
         "6",
         "6815",
         "420",
         "15.614730878186968",
         "15.95"
        ],
        [
         "7",
         "6911",
         "383",
         "16.503086419753085",
         "15.4"
        ],
        [
         "8",
         "6854",
         "269",
         "21.209606986899562",
         "14.87"
        ],
        [
         "9",
         "6824",
         "290",
         "16.700404858299596",
         "14.83"
        ]
       ],
       "shape": {
        "columns": 4,
        "rows": 10
       }
      },
      "text/html": [
       "<div>\n",
       "<style scoped>\n",
       "    .dataframe tbody tr th:only-of-type {\n",
       "        vertical-align: middle;\n",
       "    }\n",
       "\n",
       "    .dataframe tbody tr th {\n",
       "        vertical-align: top;\n",
       "    }\n",
       "\n",
       "    .dataframe thead th {\n",
       "        text-align: right;\n",
       "    }\n",
       "</style>\n",
       "<table border=\"1\" class=\"dataframe\">\n",
       "  <thead>\n",
       "    <tr style=\"text-align: right;\">\n",
       "      <th></th>\n",
       "      <th>flightnum</th>\n",
       "      <th>total_flights</th>\n",
       "      <th>avg_depdelay</th>\n",
       "      <th>cancel_rate</th>\n",
       "    </tr>\n",
       "  </thead>\n",
       "  <tbody>\n",
       "    <tr>\n",
       "      <th>0</th>\n",
       "      <td>7426</td>\n",
       "      <td>103</td>\n",
       "      <td>50.085366</td>\n",
       "      <td>20.39</td>\n",
       "    </tr>\n",
       "    <tr>\n",
       "      <th>1</th>\n",
       "      <td>5166</td>\n",
       "      <td>206</td>\n",
       "      <td>36.867470</td>\n",
       "      <td>19.42</td>\n",
       "    </tr>\n",
       "    <tr>\n",
       "      <th>2</th>\n",
       "      <td>6906</td>\n",
       "      <td>422</td>\n",
       "      <td>17.107558</td>\n",
       "      <td>18.48</td>\n",
       "    </tr>\n",
       "    <tr>\n",
       "      <th>3</th>\n",
       "      <td>6939</td>\n",
       "      <td>489</td>\n",
       "      <td>13.925000</td>\n",
       "      <td>18.20</td>\n",
       "    </tr>\n",
       "    <tr>\n",
       "      <th>4</th>\n",
       "      <td>6876</td>\n",
       "      <td>444</td>\n",
       "      <td>16.648501</td>\n",
       "      <td>17.34</td>\n",
       "    </tr>\n",
       "    <tr>\n",
       "      <th>5</th>\n",
       "      <td>6828</td>\n",
       "      <td>413</td>\n",
       "      <td>21.291545</td>\n",
       "      <td>16.95</td>\n",
       "    </tr>\n",
       "    <tr>\n",
       "      <th>6</th>\n",
       "      <td>6815</td>\n",
       "      <td>420</td>\n",
       "      <td>15.614731</td>\n",
       "      <td>15.95</td>\n",
       "    </tr>\n",
       "    <tr>\n",
       "      <th>7</th>\n",
       "      <td>6911</td>\n",
       "      <td>383</td>\n",
       "      <td>16.503086</td>\n",
       "      <td>15.40</td>\n",
       "    </tr>\n",
       "    <tr>\n",
       "      <th>8</th>\n",
       "      <td>6854</td>\n",
       "      <td>269</td>\n",
       "      <td>21.209607</td>\n",
       "      <td>14.87</td>\n",
       "    </tr>\n",
       "    <tr>\n",
       "      <th>9</th>\n",
       "      <td>6824</td>\n",
       "      <td>290</td>\n",
       "      <td>16.700405</td>\n",
       "      <td>14.83</td>\n",
       "    </tr>\n",
       "  </tbody>\n",
       "</table>\n",
       "</div>"
      ],
      "text/plain": [
       "   flightnum  total_flights  avg_depdelay  cancel_rate\n",
       "0       7426            103     50.085366        20.39\n",
       "1       5166            206     36.867470        19.42\n",
       "2       6906            422     17.107558        18.48\n",
       "3       6939            489     13.925000        18.20\n",
       "4       6876            444     16.648501        17.34\n",
       "5       6828            413     21.291545        16.95\n",
       "6       6815            420     15.614731        15.95\n",
       "7       6911            383     16.503086        15.40\n",
       "8       6854            269     21.209607        14.87\n",
       "9       6824            290     16.700405        14.83"
      ]
     },
     "execution_count": 103,
     "metadata": {},
     "output_type": "execute_result"
    }
   ],
   "source": [
    "# by flight number\n",
    "query13 = \"\"\"\n",
    "    SELECT\n",
    "        flightnum,\n",
    "        COUNT(*) AS total_flights,\n",
    "        AVG(depdelay) AS avg_depdelay,\n",
    "        ROUND(100.0 * SUM(CASE WHEN cancelled = 1 THEN 1 ELSE 0 END) / COUNT(*), 2) AS cancel_rate\n",
    "    FROM project2.airline_2006\n",
    "    WHERE depdelay IS NOT NULL OR cancelled = 1\n",
    "    GROUP BY flightnum\n",
    "    HAVING COUNT(*) >= 100  -- Filter out uncommon flights\n",
    "    ORDER BY cancel_rate DESC\n",
    "    LIMIT 10\n",
    "\"\"\"\n",
    "\n",
    "df13 = pd.read_sql(query13, conn)\n",
    "df13"
   ]
  },
  {
   "cell_type": "code",
   "execution_count": null,
   "id": "3d4e57d6",
   "metadata": {},
   "outputs": [],
   "source": [
    "df13['flightnum'] = df13['flightnum'].astype(str)  # Ensure flightnum is treated as a string for better plotting"
   ]
  },
  {
   "cell_type": "code",
   "execution_count": null,
   "id": "033bf79a",
   "metadata": {},
   "outputs": [
    {
     "name": "stderr",
     "output_type": "stream",
     "text": [
      "C:\\Users\\user\\AppData\\Local\\Temp\\ipykernel_17428\\1740127332.py:1: FutureWarning: \n",
      "\n",
      "Passing `palette` without assigning `hue` is deprecated and will be removed in v0.14.0. Assign the `x` variable to `hue` and set `legend=False` for the same effect.\n",
      "\n",
      "  ax = sns.barplot(x='flightnum', y='cancel_rate', data=df12, palette='magma')\n"
     ]
    },
    {
     "data": {
      "image/png": "[encoded data removed]",
      "text/plain": [
       "<Figure size 640x480 with 1 Axes>"
      ]
     },
     "metadata": {},
     "output_type": "display_data"
    }
   ],
   "source": [
    "ax = sns.barplot(x='flightnum', y='cancel_rate', data=df13, palette='magma')\n",
    "for container in ax.containers:\n",
    "    ax.bar_label(container, labels=[f'{v:.1f}' for v in container.datavalues], padding=3)\n",
    "plt.title(\"Cancellation Rate by Flight Number\")\n",
    "plt.xlabel(\"Flight Number\")\n",
    "plt.ylabel(\"Cancellation Rate (%)\")\n",
    "plt.xticks(rotation=90)\n",
    "plt.tight_layout()\n",
    "plt.ylim(0, 25)\n",
    "plt.show();"
   ]
  },
  {
   "cell_type": "markdown",
   "id": "6dfc9f2b",
   "metadata": {},
   "source": [
    "<h2> 4.2 Analyse the reasons these particular flights are prone to delays or cancellations. </h2>"
   ]
  },
  {
   "cell_type": "code",
   "execution_count": null,
   "id": "bb523996",
   "metadata": {},
   "outputs": [
    {
     "name": "stderr",
     "output_type": "stream",
     "text": [
      "C:\\Users\\user\\AppData\\Local\\Temp\\ipykernel_17428\\3212734709.py:15: UserWarning: pandas only supports SQLAlchemy connectable (engine/connection) or database string URI or sqlite3 DBAPI2 connection. Other DBAPI2 objects are not tested. Please consider using SQLAlchemy.\n",
      "  df13 = pd.read_sql(query13, conn)\n"
     ]
    },
    {
     "ename": "TypeError",
     "evalue": "'NoneType' object is not iterable",
     "output_type": "error",
     "traceback": [
      "\u001b[31m---------------------------------------------------------------------------\u001b[39m",
      "\u001b[31mTypeError\u001b[39m                                 Traceback (most recent call last)",
      "\u001b[36mCell\u001b[39m\u001b[36m \u001b[39m\u001b[32mIn[113]\u001b[39m\u001b[32m, line 15\u001b[39m\n\u001b[32m      1\u001b[39m query13 = \u001b[33m\"\"\"\u001b[39m\n\u001b[32m      2\u001b[39m \u001b[33m    CREATE TEMPORARY TABLE project2.bad_flights AS\u001b[39m\n\u001b[32m      3\u001b[39m \u001b[33m        SELECT\u001b[39m\n\u001b[32m   (...)\u001b[39m\u001b[32m     12\u001b[39m \u001b[33m    HAVING COUNT(*) >= 100 AND avg_depdelay > 30\u001b[39m\n\u001b[32m     13\u001b[39m \u001b[33m\"\"\"\u001b[39m\n\u001b[32m---> \u001b[39m\u001b[32m15\u001b[39m df13 = \u001b[43mpd\u001b[49m\u001b[43m.\u001b[49m\u001b[43mread_sql\u001b[49m\u001b[43m(\u001b[49m\u001b[43mquery13\u001b[49m\u001b[43m,\u001b[49m\u001b[43m \u001b[49m\u001b[43mconn\u001b[49m\u001b[43m)\u001b[49m\n\u001b[32m     16\u001b[39m df13\n",
      "\u001b[36mFile \u001b[39m\u001b[32mc:\\Users\\user\\AppData\\Local\\Programs\\Python\\Python311\\Lib\\site-packages\\pandas\\io\\sql.py:706\u001b[39m, in \u001b[36mread_sql\u001b[39m\u001b[34m(sql, con, index_col, coerce_float, params, parse_dates, columns, chunksize, dtype_backend, dtype)\u001b[39m\n\u001b[32m    704\u001b[39m \u001b[38;5;28;01mwith\u001b[39;00m pandasSQL_builder(con) \u001b[38;5;28;01mas\u001b[39;00m pandas_sql:\n\u001b[32m    705\u001b[39m     \u001b[38;5;28;01mif\u001b[39;00m \u001b[38;5;28misinstance\u001b[39m(pandas_sql, SQLiteDatabase):\n\u001b[32m--> \u001b[39m\u001b[32m706\u001b[39m         \u001b[38;5;28;01mreturn\u001b[39;00m \u001b[43mpandas_sql\u001b[49m\u001b[43m.\u001b[49m\u001b[43mread_query\u001b[49m\u001b[43m(\u001b[49m\n\u001b[32m    707\u001b[39m \u001b[43m            \u001b[49m\u001b[43msql\u001b[49m\u001b[43m,\u001b[49m\n\u001b[32m    708\u001b[39m \u001b[43m            \u001b[49m\u001b[43mindex_col\u001b[49m\u001b[43m=\u001b[49m\u001b[43mindex_col\u001b[49m\u001b[43m,\u001b[49m\n\u001b[32m    709\u001b[39m \u001b[43m            \u001b[49m\u001b[43mparams\u001b[49m\u001b[43m=\u001b[49m\u001b[43mparams\u001b[49m\u001b[43m,\u001b[49m\n\u001b[32m    710\u001b[39m \u001b[43m            \u001b[49m\u001b[43mcoerce_float\u001b[49m\u001b[43m=\u001b[49m\u001b[43mcoerce_float\u001b[49m\u001b[43m,\u001b[49m\n\u001b[32m    711\u001b[39m \u001b[43m            \u001b[49m\u001b[43mparse_dates\u001b[49m\u001b[43m=\u001b[49m\u001b[43mparse_dates\u001b[49m\u001b[43m,\u001b[49m\n\u001b[32m    712\u001b[39m \u001b[43m            \u001b[49m\u001b[43mchunksize\u001b[49m\u001b[43m=\u001b[49m\u001b[43mchunksize\u001b[49m\u001b[43m,\u001b[49m\n\u001b[32m    713\u001b[39m \u001b[43m            \u001b[49m\u001b[43mdtype_backend\u001b[49m\u001b[43m=\u001b[49m\u001b[43mdtype_backend\u001b[49m\u001b[43m,\u001b[49m\n\u001b[32m    714\u001b[39m \u001b[43m            \u001b[49m\u001b[43mdtype\u001b[49m\u001b[43m=\u001b[49m\u001b[43mdtype\u001b[49m\u001b[43m,\u001b[49m\n\u001b[32m    715\u001b[39m \u001b[43m        \u001b[49m\u001b[43m)\u001b[49m\n\u001b[32m    717\u001b[39m     \u001b[38;5;28;01mtry\u001b[39;00m:\n\u001b[32m    718\u001b[39m         _is_table_name = pandas_sql.has_table(sql)\n",
      "\u001b[36mFile \u001b[39m\u001b[32mc:\\Users\\user\\AppData\\Local\\Programs\\Python\\Python311\\Lib\\site-packages\\pandas\\io\\sql.py:2739\u001b[39m, in \u001b[36mSQLiteDatabase.read_query\u001b[39m\u001b[34m(self, sql, index_col, coerce_float, parse_dates, params, chunksize, dtype, dtype_backend)\u001b[39m\n\u001b[32m   2727\u001b[39m \u001b[38;5;28;01mdef\u001b[39;00m\u001b[38;5;250m \u001b[39m\u001b[34mread_query\u001b[39m(\n\u001b[32m   2728\u001b[39m     \u001b[38;5;28mself\u001b[39m,\n\u001b[32m   2729\u001b[39m     sql,\n\u001b[32m   (...)\u001b[39m\u001b[32m   2736\u001b[39m     dtype_backend: DtypeBackend | Literal[\u001b[33m\"\u001b[39m\u001b[33mnumpy\u001b[39m\u001b[33m\"\u001b[39m] = \u001b[33m\"\u001b[39m\u001b[33mnumpy\u001b[39m\u001b[33m\"\u001b[39m,\n\u001b[32m   2737\u001b[39m ) -> DataFrame | Iterator[DataFrame]:\n\u001b[32m   2738\u001b[39m     cursor = \u001b[38;5;28mself\u001b[39m.execute(sql, params)\n\u001b[32m-> \u001b[39m\u001b[32m2739\u001b[39m     columns = \u001b[43m[\u001b[49m\u001b[43mcol_desc\u001b[49m\u001b[43m[\u001b[49m\u001b[32;43m0\u001b[39;49m\u001b[43m]\u001b[49m\u001b[43m \u001b[49m\u001b[38;5;28;43;01mfor\u001b[39;49;00m\u001b[43m \u001b[49m\u001b[43mcol_desc\u001b[49m\u001b[43m \u001b[49m\u001b[38;5;129;43;01min\u001b[39;49;00m\u001b[43m \u001b[49m\u001b[43mcursor\u001b[49m\u001b[43m.\u001b[49m\u001b[43mdescription\u001b[49m\u001b[43m]\u001b[49m\n\u001b[32m   2741\u001b[39m     \u001b[38;5;28;01mif\u001b[39;00m chunksize \u001b[38;5;129;01mis\u001b[39;00m \u001b[38;5;129;01mnot\u001b[39;00m \u001b[38;5;28;01mNone\u001b[39;00m:\n\u001b[32m   2742\u001b[39m         \u001b[38;5;28;01mreturn\u001b[39;00m \u001b[38;5;28mself\u001b[39m._query_iterator(\n\u001b[32m   2743\u001b[39m             cursor,\n\u001b[32m   2744\u001b[39m             chunksize,\n\u001b[32m   (...)\u001b[39m\u001b[32m   2750\u001b[39m             dtype_backend=dtype_backend,\n\u001b[32m   2751\u001b[39m         )\n",
      "\u001b[31mTypeError\u001b[39m: 'NoneType' object is not iterable"
     ]
    }
   ],
   "source": [
    "query13 = \"\"\"\n",
    "    CREATE TEMPORARY TABLE project2.bad_flights AS\n",
    "    SELECT\n",
    "        origin,\n",
    "        dest,\n",
    "        flightnum,\n",
    "        AVG(depdelay) AS avg_depdelay,\n",
    "        COUNT(*) AS total_flights\n",
    "    FROM project2.airline_2006\n",
    "    WHERE depdelay IS NOT NULL\n",
    "    GROUP BY origin, dest, flightnum\n",
    "    HAVING COUNT(*) >= 100 AND avg_depdelay > 30\n",
    "\"\"\"\n",
    "\n",
    "df13 = pd.read_sql(query13, conn)\n",
    "df13"
   ]
  },
  {
   "cell_type": "code",
   "execution_count": null,
   "id": "ee6036a8",
   "metadata": {},
   "outputs": [],
   "source": [
    "query14 = \"\"\"\n",
    "    SELECT\n",
    "        a.origin,\n",
    "        a.dest,\n",
    "        a.flightnum,\n",
    "        SUM(carrierdelay) AS total_carrier_delay,\n",
    "        SUM(weatherdelay) AS total_weather_delay,\n",
    "        SUM(nasdelay) AS total_nas_delay,\n",
    "        SUM(securitydelay) AS total_security_delay,\n",
    "        SUM(lateaircraftdelay) AS total_lateaircraft_delay\n",
    "    FROM project2.airline_2006 a\n",
    "    JOIN project2.bad_flights b\n",
    "        ON a.origin = b.origin AND a.dest = b.dest AND a.flightnum = b.flightnum\n",
    "    GROUP BY a.origin, a.dest, a.flightnum\n",
    "    ORDER BY total_carrier_delay + total_weather_delay + total_nas_delay + total_security_delay + total_lateaircraft_delay DESC;\n",
    "\"\"\"\n",
    "\n",
    "query15 = \"\"\"\n",
    "    SELECT\n",
    "    a.origin,\n",
    "    a.dest,\n",
    "    a.flightnum,\n",
    "    CASE cancellationcode\n",
    "        WHEN 'A' THEN 'Carrier'\n",
    "        WHEN 'B' THEN 'Weather'\n",
    "        WHEN 'C' THEN 'NAS'\n",
    "        WHEN 'D' THEN 'Security'\n",
    "        ELSE 'Unknown'\n",
    "    END AS cancellation_reason,\n",
    "    COUNT(*) AS cancellations\n",
    "    FROM project2.airline_2006 a\n",
    "    JOIN project2.bad_flights b\n",
    "        ON a.origin = b.origin AND a.dest = b.dest AND a.flightnum = b.flightnum\n",
    "    WHERE a.cancelled = 1\n",
    "    GROUP BY a.origin, a.dest, a.flightnum, cancellationcode\n",
    "    ORDER BY cancellations DESC\n",
    "\"\"\"\n"
   ]
  },
  {
   "cell_type": "code",
   "execution_count": null,
   "id": "8236c950",
   "metadata": {},
   "outputs": [],
   "source": []
  },
  {
   "cell_type": "markdown",
   "id": "91ea7430",
   "metadata": {},
   "source": []
  },
  {
   "cell_type": "markdown",
   "id": "8fc26285",
   "metadata": {},
   "source": [
    "<h1> References </h1>\n",
    "1. https://cs229.stanford.edu/proj2013/MathurNagaoNg-PredictingFlightOnTimePerformance.pdf <br>\n",
    "2. https://dataverse.harvard.edu/dataset.xhtml?persistentId=doi%3A10.7910%2FDVN%2FHG7NV7 <br>\n",
    "3. https://learn.microsoft.com/en-us/previous-versions/microsoft-r/r-reference/revoscaler/airontime87to12\n",
    "4. "
   ]
  },
  {
   "cell_type": "markdown",
   "id": "08ab6412",
   "metadata": {},
   "source": []
  },
  {
   "cell_type": "code",
   "execution_count": null,
   "id": "082ae770",
   "metadata": {},
   "outputs": [
    {
     "name": "stdout",
     "output_type": "stream",
     "text": [
      "Processing project2.airline_1987\n",
      "Processing project2.airline_1988\n",
      "Processing project2.airline_1989\n",
      "Processing project2.airline_1990\n",
      "Processing project2.airline_1991\n",
      "Processing project2.airline_1992\n",
      "Processing project2.airline_1993\n",
      "Processing project2.airline_1994\n",
      "Processing project2.airline_1995\n",
      "Processing project2.airline_1996\n",
      "Processing project2.airline_1997\n",
      "Processing project2.airline_1998\n",
      "Processing project2.airline_1999\n",
      "Processing project2.airline_2000\n",
      "Processing project2.airline_2001\n",
      "Processing project2.airline_2002\n",
      "Processing project2.airline_2003\n",
      "Processing project2.airline_2004\n",
      "Processing project2.airline_2005\n",
      "Processing project2.airline_2006\n",
      "Processing project2.airline_2007\n",
      "Processing project2.airline_2008\n",
      "✅ Done. Results saved to missing_values_by_year.csv\n"
     ]
    }
   ],
   "source": [
    "from pyhive import hive\n",
    "import pandas as pd\n",
    "\n",
    "conn = hive.Connection(host='localhost', port=10000, username='maria_dev', database='project2')\n",
    "cursor = conn.cursor()\n",
    "\n",
    "\n"
   ]
  }
 ],
 "metadata": {
  "kernelspec": {
   "display_name": "Python 3",
   "language": "python",
   "name": "python3"
  },
  "language_info": {
   "codemirror_mode": {
    "name": "ipython",
    "version": 3
   },
   "file_extension": ".py",
   "mimetype": "text/x-python",
   "name": "python",
   "nbconvert_exporter": "python",
   "pygments_lexer": "ipython3",
   "version": "3.11.4"
  }
 },
 "nbformat": 4,
 "nbformat_minor": 5
}
