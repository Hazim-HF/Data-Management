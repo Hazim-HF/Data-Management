{
 "cells": [
  {
   "cell_type": "markdown",
   "id": "cee8efed",
   "metadata": {},
   "source": [
    "Apache Hive or Apache Pig"
   ]
  },
  {
   "cell_type": "markdown",
   "id": "7b9c9aa8",
   "metadata": {},
   "source": [
    "# Data Cleaning"
   ]
  },
  {
   "cell_type": "markdown",
   "id": "a722320f",
   "metadata": {},
   "source": [
    "# Data Visualization"
   ]
  },
  {
   "cell_type": "markdown",
   "id": "fbb457e7",
   "metadata": {},
   "source": [
    "# Insights and Explanations"
   ]
  },
  {
   "cell_type": "markdown",
   "id": "056589b0",
   "metadata": {},
   "source": [
    "# Recommendations"
   ]
  },
  {
   "cell_type": "markdown",
   "id": "9243f1b7",
   "metadata": {},
   "source": [
    "# Conclusions"
   ]
  },
  {
   "cell_type": "code",
   "execution_count": null,
   "id": "8b7db779",
   "metadata": {
    "vscode": {
     "languageId": "plaintext"
    }
   },
   "outputs": [],
   "source": []
  }
 ],
 "metadata": {
  "language_info": {
   "name": "python"
  }
 },
 "nbformat": 4,
 "nbformat_minor": 5
}
