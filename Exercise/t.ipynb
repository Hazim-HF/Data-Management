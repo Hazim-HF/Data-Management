{
 "cells": [
  {
   "cell_type": "markdown",
   "id": "70b6c560",
   "metadata": {},
   "source": [
    "**1. Initialize Spark and load the data**"
   ]
  },
  {
   "cell_type": "code",
   "execution_count": 1,
   "id": "24334c3e",
   "metadata": {},
   "outputs": [
    {
     "name": "stdout",
     "output_type": "stream",
     "text": [
      "root\n",
      " |-- gender: string (nullable = true)\n",
      " |-- SeniorCitizen: integer (nullable = true)\n",
      " |-- Partner: string (nullable = true)\n",
      " |-- Dependents: string (nullable = true)\n",
      " |-- tenure: integer (nullable = true)\n",
      " |-- PhoneService: string (nullable = true)\n",
      " |-- MultipleLines: string (nullable = true)\n",
      " |-- InternetService: string (nullable = true)\n",
      " |-- OnlineSecurity: string (nullable = true)\n",
      " |-- OnlineBackup: string (nullable = true)\n",
      " |-- DeviceProtection: string (nullable = true)\n",
      " |-- TechSupport: string (nullable = true)\n",
      " |-- StreamingTV: string (nullable = true)\n",
      " |-- StreamingMovies: string (nullable = true)\n",
      " |-- Contract: string (nullable = true)\n",
      " |-- PaperlessBilling: string (nullable = true)\n",
      " |-- PaymentMethod: string (nullable = true)\n",
      " |-- MonthlyCharges: double (nullable = true)\n",
      " |-- TotalCharges: string (nullable = true)\n",
      " |-- Churn: string (nullable = true)\n",
      "\n",
      "+------+-------------+-------+----------+------+------------+----------------+---------------+--------------+------------+----------------+-----------+-----------+---------------+--------------+----------------+--------------------+--------------+------------+-----+\n",
      "|gender|SeniorCitizen|Partner|Dependents|tenure|PhoneService|   MultipleLines|InternetService|OnlineSecurity|OnlineBackup|DeviceProtection|TechSupport|StreamingTV|StreamingMovies|      Contract|PaperlessBilling|       PaymentMethod|MonthlyCharges|TotalCharges|Churn|\n",
      "+------+-------------+-------+----------+------+------------+----------------+---------------+--------------+------------+----------------+-----------+-----------+---------------+--------------+----------------+--------------------+--------------+------------+-----+\n",
      "|Female|            0|    Yes|        No|     1|          No|No phone service|            DSL|            No|         Yes|              No|         No|         No|             No|Month-to-month|             Yes|    Electronic check|         29.85|       29.85|   No|\n",
      "|  Male|            0|     No|        No|    34|         Yes|              No|            DSL|           Yes|          No|             Yes|         No|         No|             No|      One year|              No|        Mailed check|         56.95|      1889.5|   No|\n",
      "|  Male|            0|     No|        No|     2|         Yes|              No|            DSL|           Yes|         Yes|              No|         No|         No|             No|Month-to-month|             Yes|        Mailed check|         53.85|      108.15|  Yes|\n",
      "|  Male|            0|     No|        No|    45|          No|No phone service|            DSL|           Yes|          No|             Yes|        Yes|         No|             No|      One year|              No|Bank transfer (au...|          42.3|     1840.75|   No|\n",
      "|Female|            0|     No|        No|     2|         Yes|              No|    Fiber optic|            No|          No|              No|         No|         No|             No|Month-to-month|             Yes|    Electronic check|          70.7|      151.65|  Yes|\n",
      "+------+-------------+-------+----------+------+------------+----------------+---------------+--------------+------------+----------------+-----------+-----------+---------------+--------------+----------------+--------------------+--------------+------------+-----+\n",
      "only showing top 5 rows\n",
      "\n"
     ]
    }
   ],
   "source": [
    "from pyspark.sql import SparkSession\n",
    "\n",
    "spark = SparkSession.builder \\\n",
    "    .config(\"spark.driver.memory\", \"8g\") \\\n",
    "    .appName(\"TelcoChurnPipeline\") \\\n",
    "    .getOrCreate()\n",
    "\n",
    "# adjust path as needed\n",
    "data_path = \"/mnt/data/WA_Fn-UseC_-Telco-Customer-Churn.csv\"\n",
    "\n",
    "df = spark.read.csv(\"Data/WA_Fn-UseC_-Telco-Customer-Churn.csv\", header=True, inferSchema=True)\n",
    "df = df.drop(\"customerID\")   # drop unique ID\n",
    "df.printSchema()\n",
    "df.show(5)\n"
   ]
  },
  {
   "cell_type": "markdown",
   "id": "b5949c5b",
   "metadata": {},
   "source": [
    "**2. Exploratory Data Analysis (EDA)**"
   ]
  },
  {
   "cell_type": "code",
   "execution_count": 2,
   "id": "8561e6bf",
   "metadata": {},
   "outputs": [
    {
     "name": "stdout",
     "output_type": "stream",
     "text": [
      "+-------+------------------+------------------+------------------+\n",
      "|summary|     SeniorCitizen|            tenure|    MonthlyCharges|\n",
      "+-------+------------------+------------------+------------------+\n",
      "|  count|              7043|              7043|              7043|\n",
      "|   mean|0.1621468124378816| 32.37114865824223| 64.76169246059922|\n",
      "| stddev|0.3686116056100135|24.559481023094442|30.090047097678482|\n",
      "|    min|                 0|                 0|             18.25|\n",
      "|    max|                 1|                72|            118.75|\n",
      "+-------+------------------+------------------+------------------+\n",
      "\n",
      "+------+-------------+-------+----------+------+------------+-------------+---------------+--------------+------------+----------------+-----------+-----------+---------------+--------+----------------+-------------+--------------+------------+-----+\n",
      "|gender|SeniorCitizen|Partner|Dependents|tenure|PhoneService|MultipleLines|InternetService|OnlineSecurity|OnlineBackup|DeviceProtection|TechSupport|StreamingTV|StreamingMovies|Contract|PaperlessBilling|PaymentMethod|MonthlyCharges|TotalCharges|Churn|\n",
      "+------+-------------+-------+----------+------+------------+-------------+---------------+--------------+------------+----------------+-----------+-----------+---------------+--------+----------------+-------------+--------------+------------+-----+\n",
      "|     0|            0|      0|         0|     0|           0|            0|              0|             0|           0|               0|          0|          0|              0|       0|               0|            0|             0|           0|    0|\n",
      "+------+-------------+-------+----------+------+------------+-------------+---------------+--------------+------------+----------------+-----------+-----------+---------------+--------+----------------+-------------+--------------+------------+-----+\n",
      "\n",
      "+-----+-----+\n",
      "|Churn|count|\n",
      "+-----+-----+\n",
      "|   No| 5174|\n",
      "|  Yes| 1869|\n",
      "+-----+-----+\n",
      "\n"
     ]
    }
   ],
   "source": [
    "# a) Basic stats for numerical columns\n",
    "numeric_cols = [c for c,d in df.dtypes if d in (\"int\",\"double\")]\n",
    "df.select(numeric_cols).describe().show()\n",
    "\n",
    "# b) Count missing values\n",
    "from pyspark.sql.functions import col, sum\n",
    "missing = df.select([ sum(col(c).isNull().cast(\"int\")).alias(c) for c in df.columns ])\n",
    "missing.show()\n",
    "\n",
    "# c) Class balance\n",
    "df.groupBy(\"Churn\").count().show()\n"
   ]
  },
  {
   "cell_type": "markdown",
   "id": "cda0159f",
   "metadata": {},
   "source": [
    "**3. Handle missing values & outliers**"
   ]
  },
  {
   "cell_type": "code",
   "execution_count": 3,
   "id": "8b7f6ce8",
   "metadata": {},
   "outputs": [],
   "source": [
    "# Example: drop rows with any nulls (or use df.na.fill() to impute)\n",
    "df_clean = df.na.drop()\n",
    "\n",
    "# Outlier detection example on MonthlyCharges\n",
    "quantiles = df_clean.approxQuantile(\"MonthlyCharges\", [0.25, 0.75], 0.0)\n",
    "q1, q3 = quantiles\n",
    "iqr = q3 - q1\n",
    "lower, upper = q1 - 1.5*iqr, q3 + 1.5*iqr\n",
    "\n",
    "df_no_outliers = df_clean.filter((col(\"MonthlyCharges\") >= lower) & (col(\"MonthlyCharges\") <= upper))\n"
   ]
  },
  {
   "cell_type": "markdown",
   "id": "63ddcb87",
   "metadata": {},
   "source": [
    "**4. Encode categoricals, assemble & scale**"
   ]
  },
  {
   "cell_type": "code",
   "execution_count": 10,
   "id": "b0eb0557",
   "metadata": {},
   "outputs": [],
   "source": [
    "from pyspark.ml.feature import StringIndexer, OneHotEncoder, VectorAssembler, StandardScaler\n",
    "\n",
    "# label\n",
    "label_indexer = StringIndexer(inputCol=\"Churn\", outputCol=\"label\")\n",
    "\n",
    "# categorical columns\n",
    "cat_cols = [c for c,d in df_no_outliers.dtypes if d==\"string\" and c!=\"Churn\"]\n",
    "indexers = [ StringIndexer(inputCol=c, outputCol=c+\"_idx\", handleInvalid=\"keep\") for c in cat_cols ]\n",
    "encoders = [ OneHotEncoder(inputCol=c+\"_idx\", outputCol=c+\"_ohe\") for c in cat_cols ]\n",
    "\n",
    "# features list\n",
    "num_cols = [c for c in numeric_cols]\n",
    "assembled_inputs = num_cols + [c+\"_ohe\" for c in cat_cols]\n",
    "\n",
    "assembler = VectorAssembler(inputCols=assembled_inputs, outputCol=\"features_assembled\")\n",
    "scaler = StandardScaler(inputCol=\"features_assembled\", outputCol=\"features\")\n"
   ]
  },
  {
   "cell_type": "markdown",
   "id": "a4ae407e",
   "metadata": {},
   "source": [
    "**5. PCA & scree plot**"
   ]
  },
  {
   "cell_type": "code",
   "execution_count": 11,
   "id": "06c17cbf",
   "metadata": {},
   "outputs": [
    {
     "name": "stdout",
     "output_type": "stream",
     "text": [
      "root\n",
      " |-- gender: string (nullable = true)\n",
      " |-- SeniorCitizen: integer (nullable = true)\n",
      " |-- Partner: string (nullable = true)\n",
      " |-- Dependents: string (nullable = true)\n",
      " |-- tenure: integer (nullable = true)\n",
      " |-- PhoneService: string (nullable = true)\n",
      " |-- MultipleLines: string (nullable = true)\n",
      " |-- InternetService: string (nullable = true)\n",
      " |-- OnlineSecurity: string (nullable = true)\n",
      " |-- OnlineBackup: string (nullable = true)\n",
      " |-- DeviceProtection: string (nullable = true)\n",
      " |-- TechSupport: string (nullable = true)\n",
      " |-- StreamingTV: string (nullable = true)\n",
      " |-- StreamingMovies: string (nullable = true)\n",
      " |-- Contract: string (nullable = true)\n",
      " |-- PaperlessBilling: string (nullable = true)\n",
      " |-- PaymentMethod: string (nullable = true)\n",
      " |-- MonthlyCharges: double (nullable = true)\n",
      " |-- TotalCharges: string (nullable = true)\n",
      " |-- Churn: string (nullable = true)\n",
      " |-- gender_idx: double (nullable = false)\n",
      " |-- Partner_idx: double (nullable = false)\n",
      " |-- Dependents_idx: double (nullable = false)\n",
      " |-- PhoneService_idx: double (nullable = false)\n",
      " |-- MultipleLines_idx: double (nullable = false)\n",
      " |-- InternetService_idx: double (nullable = false)\n",
      " |-- OnlineSecurity_idx: double (nullable = false)\n",
      " |-- OnlineBackup_idx: double (nullable = false)\n",
      " |-- DeviceProtection_idx: double (nullable = false)\n",
      " |-- TechSupport_idx: double (nullable = false)\n",
      " |-- StreamingTV_idx: double (nullable = false)\n",
      " |-- StreamingMovies_idx: double (nullable = false)\n",
      " |-- Contract_idx: double (nullable = false)\n",
      " |-- PaperlessBilling_idx: double (nullable = false)\n",
      " |-- PaymentMethod_idx: double (nullable = false)\n",
      " |-- TotalCharges_idx: double (nullable = false)\n",
      " |-- gender_ohe: vector (nullable = true)\n",
      " |-- Partner_ohe: vector (nullable = true)\n",
      " |-- Dependents_ohe: vector (nullable = true)\n",
      " |-- PhoneService_ohe: vector (nullable = true)\n",
      " |-- MultipleLines_ohe: vector (nullable = true)\n",
      " |-- InternetService_ohe: vector (nullable = true)\n",
      " |-- OnlineSecurity_ohe: vector (nullable = true)\n",
      " |-- OnlineBackup_ohe: vector (nullable = true)\n",
      " |-- DeviceProtection_ohe: vector (nullable = true)\n",
      " |-- TechSupport_ohe: vector (nullable = true)\n",
      " |-- StreamingTV_ohe: vector (nullable = true)\n",
      " |-- StreamingMovies_ohe: vector (nullable = true)\n",
      " |-- Contract_ohe: vector (nullable = true)\n",
      " |-- PaperlessBilling_ohe: vector (nullable = true)\n",
      " |-- PaymentMethod_ohe: vector (nullable = true)\n",
      " |-- TotalCharges_ohe: vector (nullable = true)\n",
      " |-- features_assembled: vector (nullable = true)\n",
      "\n"
     ]
    }
   ],
   "source": [
    "from pyspark.ml import Pipeline\n",
    "\n",
    "# 1) Build a mini‑pipeline of just your indexers, encoders, and assembler\n",
    "feature_stages = indexers + encoders + [assembler]\n",
    "feature_pipeline = Pipeline(stages=feature_stages)\n",
    "\n",
    "# 2) Fit that pipeline on your cleaned data\n",
    "feature_model = feature_pipeline.fit(df_no_outliers)\n",
    "\n",
    "# 3) Transform to get the assembled features\n",
    "assembled_df = feature_model.transform(df_no_outliers)\n",
    "\n",
    "# Sanity check: you should now see \"features_assembled\" in the schema\n",
    "assembled_df.printSchema()"
   ]
  },
  {
   "cell_type": "code",
   "execution_count": 12,
   "id": "c4f7aece",
   "metadata": {},
   "outputs": [
    {
     "data": {
      "image/png": "[encoded data removed]",
      "text/plain": [
       "<Figure size 600x400 with 1 Axes>"
      ]
     },
     "metadata": {},
     "output_type": "display_data"
    }
   ],
   "source": [
    "\n",
    "from pyspark.ml.feature import PCA\n",
    "\n",
    "# 4) (Optional) If you want PCA on *scaled* inputs, first fit+transform the scaler:\n",
    "# scaler_model = scaler.fit(assembled_df)\n",
    "# assembled_df = scaler_model.transform(assembled_df)\n",
    "\n",
    "# 5) Fit PCA\n",
    "pca = PCA(k=5,\n",
    "          inputCol=\"features_assembled\",\n",
    "          outputCol=\"pca_features\")\n",
    "pca_model = pca.fit(assembled_df)\n",
    "\n",
    "# 6) Extract explained variance & plot scree\n",
    "explained = pca_model.explainedVariance.toArray().tolist()\n",
    "\n",
    "import matplotlib.pyplot as plt\n",
    "plt.figure(figsize=(6,4))\n",
    "plt.plot(range(1, len(explained)+1), explained, marker='o')\n",
    "plt.title(\"Scree Plot\")\n",
    "plt.xlabel(\"Principal Component\")\n",
    "plt.ylabel(\"Explained Variance\")\n",
    "plt.xticks(range(1, len(explained)+1))\n",
    "plt.show()\n",
    "\n"
   ]
  },
  {
   "cell_type": "markdown",
   "id": "269b0043",
   "metadata": {},
   "source": [
    "**6. Train-test split**"
   ]
  },
  {
   "cell_type": "code",
   "execution_count": 13,
   "id": "8f9cb58b",
   "metadata": {},
   "outputs": [],
   "source": [
    "train_df, test_df = df_no_outliers.randomSplit([0.8, 0.2], seed=42)\n"
   ]
  },
  {
   "cell_type": "markdown",
   "id": "7fcf3911",
   "metadata": {},
   "source": [
    "**7. Build pipeline with classifier & hyperparameter tuning**"
   ]
  },
  {
   "cell_type": "code",
   "execution_count": 14,
   "id": "466c5695",
   "metadata": {},
   "outputs": [],
   "source": [
    "from pyspark.ml.classification import RandomForestClassifier\n",
    "from pyspark.ml import Pipeline\n",
    "from pyspark.ml.tuning import ParamGridBuilder, CrossValidator\n",
    "from pyspark.ml.evaluation import BinaryClassificationEvaluator\n",
    "\n",
    "# choose classifier\n",
    "rf = RandomForestClassifier(featuresCol=\"features\", labelCol=\"label\")\n",
    "\n",
    "# full pipeline\n",
    "stages = indexers + encoders + [label_indexer, assembler, scaler, rf]\n",
    "pipeline = Pipeline(stages=stages)\n",
    "\n",
    "# grid search\n",
    "paramGrid = (ParamGridBuilder()\n",
    "             .addGrid(rf.numTrees, [50,100])\n",
    "             .addGrid(rf.maxDepth, [5,10])\n",
    "             .build())\n",
    "\n",
    "evaluator = BinaryClassificationEvaluator(labelCol=\"label\", rawPredictionCol=\"rawPrediction\")\n",
    "\n",
    "cv = CrossValidator(estimator=pipeline,\n",
    "                    estimatorParamMaps=paramGrid,\n",
    "                    evaluator=evaluator,\n",
    "                    numFolds=5)\n",
    "\n",
    "cvModel = cv.fit(train_df)\n",
    "bestModel = cvModel.bestModel\n"
   ]
  },
  {
   "cell_type": "markdown",
   "id": "51d8bdee",
   "metadata": {},
   "source": [
    "**8. Evaluate on test set**"
   ]
  },
  {
   "cell_type": "code",
   "execution_count": 15,
   "id": "1d03fe0d",
   "metadata": {},
   "outputs": [
    {
     "name": "stdout",
     "output_type": "stream",
     "text": [
      "Accuracy:  0.7368\n",
      "Precision: 0.7685\n",
      "Recall:    0.7368\n",
      "F1-score:  0.6302\n",
      "AUC ROC:   0.8306\n",
      "+-----+----------+-----+\n",
      "|label|prediction|count|\n",
      "+-----+----------+-----+\n",
      "|  0.0|       0.0|  985|\n",
      "|  0.0|       1.0|    1|\n",
      "|  1.0|       0.0|  353|\n",
      "|  1.0|       1.0|    6|\n",
      "+-----+----------+-----+\n",
      "\n"
     ]
    }
   ],
   "source": [
    "predictions = bestModel.transform(test_df)\n",
    "\n",
    "# Overall metrics\n",
    "from pyspark.ml.evaluation import MulticlassClassificationEvaluator\n",
    "\n",
    "acc_evaluator = MulticlassClassificationEvaluator(labelCol=\"label\", predictionCol=\"prediction\", metricName=\"accuracy\")\n",
    "prec_evaluator = MulticlassClassificationEvaluator(labelCol=\"label\", predictionCol=\"prediction\", metricName=\"weightedPrecision\")\n",
    "rec_evaluator = MulticlassClassificationEvaluator(labelCol=\"label\", predictionCol=\"prediction\", metricName=\"weightedRecall\")\n",
    "f1_evaluator  = MulticlassClassificationEvaluator(labelCol=\"label\", predictionCol=\"prediction\", metricName=\"f1\")\n",
    "\n",
    "print(f\"Accuracy:  {acc_evaluator.evaluate(predictions):.4f}\")\n",
    "print(f\"Precision: {prec_evaluator.evaluate(predictions):.4f}\")\n",
    "print(f\"Recall:    {rec_evaluator.evaluate(predictions):.4f}\")\n",
    "print(f\"F1-score:  {f1_evaluator.evaluate(predictions):.4f}\")\n",
    "\n",
    "# AUC\n",
    "auc = evaluator.setMetricName(\"areaUnderROC\").evaluate(predictions)\n",
    "print(f\"AUC ROC:   {auc:.4f}\")\n",
    "\n",
    "# Confusion matrix\n",
    "predictions.groupBy(\"label\",\"prediction\").count().orderBy(\"label\",\"prediction\").show()\n"
   ]
  },
  {
   "cell_type": "code",
   "execution_count": 21,
   "id": "97e13ccb",
   "metadata": {},
   "outputs": [
    {
     "name": "stdout",
     "output_type": "stream",
     "text": [
      "root\n",
      " |-- gender: string (nullable = true)\n",
      " |-- SeniorCitizen: integer (nullable = true)\n",
      " |-- Partner: string (nullable = true)\n",
      " |-- Dependents: string (nullable = true)\n",
      " |-- tenure: integer (nullable = true)\n",
      " |-- PhoneService: string (nullable = true)\n",
      " |-- MultipleLines: string (nullable = true)\n",
      " |-- InternetService: string (nullable = true)\n",
      " |-- OnlineSecurity: string (nullable = true)\n",
      " |-- OnlineBackup: string (nullable = true)\n",
      " |-- DeviceProtection: string (nullable = true)\n",
      " |-- TechSupport: string (nullable = true)\n",
      " |-- StreamingTV: string (nullable = true)\n",
      " |-- StreamingMovies: string (nullable = true)\n",
      " |-- Contract: string (nullable = true)\n",
      " |-- PaperlessBilling: string (nullable = true)\n",
      " |-- PaymentMethod: string (nullable = true)\n",
      " |-- MonthlyCharges: double (nullable = true)\n",
      " |-- TotalCharges: string (nullable = true)\n",
      " |-- Churn: string (nullable = true)\n",
      " |-- gender_idx: double (nullable = false)\n",
      " |-- Partner_idx: double (nullable = false)\n",
      " |-- Dependents_idx: double (nullable = false)\n",
      " |-- PhoneService_idx: double (nullable = false)\n",
      " |-- MultipleLines_idx: double (nullable = false)\n",
      " |-- InternetService_idx: double (nullable = false)\n",
      " |-- OnlineSecurity_idx: double (nullable = false)\n",
      " |-- OnlineBackup_idx: double (nullable = false)\n",
      " |-- DeviceProtection_idx: double (nullable = false)\n",
      " |-- TechSupport_idx: double (nullable = false)\n",
      " |-- StreamingTV_idx: double (nullable = false)\n",
      " |-- StreamingMovies_idx: double (nullable = false)\n",
      " |-- Contract_idx: double (nullable = false)\n",
      " |-- PaperlessBilling_idx: double (nullable = false)\n",
      " |-- PaymentMethod_idx: double (nullable = false)\n",
      " |-- TotalCharges_idx: double (nullable = false)\n",
      " |-- gender_ohe: vector (nullable = true)\n",
      " |-- Partner_ohe: vector (nullable = true)\n",
      " |-- Dependents_ohe: vector (nullable = true)\n",
      " |-- PhoneService_ohe: vector (nullable = true)\n",
      " |-- MultipleLines_ohe: vector (nullable = true)\n",
      " |-- InternetService_ohe: vector (nullable = true)\n",
      " |-- OnlineSecurity_ohe: vector (nullable = true)\n",
      " |-- OnlineBackup_ohe: vector (nullable = true)\n",
      " |-- DeviceProtection_ohe: vector (nullable = true)\n",
      " |-- TechSupport_ohe: vector (nullable = true)\n",
      " |-- StreamingTV_ohe: vector (nullable = true)\n",
      " |-- StreamingMovies_ohe: vector (nullable = true)\n",
      " |-- Contract_ohe: vector (nullable = true)\n",
      " |-- PaperlessBilling_ohe: vector (nullable = true)\n",
      " |-- PaymentMethod_ohe: vector (nullable = true)\n",
      " |-- TotalCharges_ohe: vector (nullable = true)\n",
      " |-- label: double (nullable = false)\n",
      " |-- features_assembled: vector (nullable = true)\n",
      " |-- features: vector (nullable = true)\n",
      " |-- rawPrediction: vector (nullable = true)\n",
      " |-- probability: vector (nullable = true)\n",
      " |-- prediction: double (nullable = false)\n",
      "\n"
     ]
    }
   ],
   "source": [
    "predictions.printSchema()"
   ]
  },
  {
   "cell_type": "markdown",
   "id": "d50f96f0",
   "metadata": {},
   "source": [
    "**9. Plot ROC curve**"
   ]
  },
  {
   "cell_type": "code",
   "execution_count": 25,
   "id": "f25131b8",
   "metadata": {},
   "outputs": [
    {
     "data": {
      "image/png": "[encoded data removed]",
      "text/plain": [
       "<Figure size 600x600 with 1 Axes>"
      ]
     },
     "metadata": {},
     "output_type": "display_data"
    }
   ],
   "source": [
    "from pyspark.ml.functions import vector_to_array\n",
    "from pyspark.sql.functions import col\n",
    "\n",
    "# 1) Extract positive‐class probability via vector_to_array\n",
    "prob_label_df = predictions.select(\n",
    "    vector_to_array(\"probability\").getItem(1).alias(\"prob\"),\n",
    "    col(\"label\").alias(\"true\")\n",
    ")\n",
    "\n",
    "# 2) Convert to Pandas\n",
    "pdf = prob_label_df.toPandas()\n",
    "\n",
    "# 3) Compute & plot ROC with scikit‐learn\n",
    "from sklearn.metrics import roc_curve, auc\n",
    "import matplotlib.pyplot as plt\n",
    "\n",
    "fpr, tpr, _ = roc_curve(pdf[\"true\"], pdf[\"prob\"])\n",
    "roc_auc = auc(fpr, tpr)\n",
    "\n",
    "plt.figure(figsize=(6,6))\n",
    "plt.plot(fpr, tpr, label=f\"AUC = {roc_auc:.3f}\")\n",
    "plt.plot([0,1],[0,1],\"--\", label=\"Random guess\")\n",
    "plt.xlabel(\"False Positive Rate\")\n",
    "plt.ylabel(\"True Positive Rate\")\n",
    "plt.title(\"ROC Curve\")\n",
    "plt.legend(loc=\"lower right\")\n",
    "plt.show()\n"
   ]
  }
 ],
 "metadata": {
  "kernelspec": {
   "display_name": "Python 3",
   "language": "python",
   "name": "python3"
  },
  "language_info": {
   "codemirror_mode": {
    "name": "ipython",
    "version": 3
   },
   "file_extension": ".py",
   "mimetype": "text/x-python",
   "name": "python",
   "nbconvert_exporter": "python",
   "pygments_lexer": "ipython3",
   "version": "3.10.11"
  }
 },
 "nbformat": 4,
 "nbformat_minor": 5
}
