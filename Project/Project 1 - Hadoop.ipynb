{
 "cells": [
  {
   "cell_type": "markdown",
   "id": "7d940701",
   "metadata": {},
   "source": [
    "<h1 style='font-weight:bold; color:orange'> Load Data </h1>"
   ]
  },
  {
   "cell_type": "code",
   "execution_count": 7,
   "id": "c60518c1",
   "metadata": {},
   "outputs": [],
   "source": [
    "from ucimlrepo import fetch_ucirepo\n",
    "import pandas as pd\n",
    "import matplotlib.pyplot as plt\n",
    "import seaborn as sns\n",
    "from pyhive import hive"
   ]
  },
  {
   "cell_type": "code",
   "execution_count": null,
   "id": "c6871e14",
   "metadata": {},
   "outputs": [],
   "source": [
    "# fetch dataset from uci machine learning respository\n",
    "adult = fetch_ucirepo(id=2)\n",
    "X = adult.data.features\n",
    "y = adult.data.targets\n",
    "df = pd.concat([X, y], axis=1)\n",
    "\n",
    "df.to_csv('adult.csv', index=False, header=False)"
   ]
  },
  {
   "cell_type": "code",
   "execution_count": 8,
   "id": "f0a7a8a5",
   "metadata": {},
   "outputs": [],
   "source": [
    "# establish connection hive Apache Hive\n",
    "conn = hive.Connection(\n",
    "    host=\"localhost\",\n",
    "    port=10000,\n",
    "    username=\"maria_dev\",\n",
    ")\n",
    "\n",
    "cursor = conn.cursor()\n",
    "\n",
    "def query_hive(command):\n",
    "    cursor.execute(command)\n",
    "    for result in cursor.fetchall():\n",
    "        print(result)"
   ]
  },
  {
   "cell_type": "code",
   "execution_count": 9,
   "id": "73b2a665",
   "metadata": {},
   "outputs": [],
   "source": [
    "# create a database to store tables\n",
    "cursor.execute(\"CREATE DATABASE IF NOT EXISTS project\")"
   ]
  },
  {
   "cell_type": "markdown",
   "id": "37624405",
   "metadata": {},
   "source": [
    "<h1 style='font-weight:bold; color:orange'> Data Preprocessing inside Apache Hive using HiveQL </h1>"
   ]
  },
  {
   "cell_type": "code",
   "execution_count": null,
   "id": "27546931",
   "metadata": {},
   "outputs": [
    {
     "name": "stdout",
     "output_type": "stream",
     "text": [
      "(39, 'State-gov', 77516, 'Bachelors', 13, 'Never-married', 'Adm-clerical', 'Not-in-family', 'White', 'Male', 2174, 0, 40, 'United-States', '<=50K')\n",
      "(50, 'Self-emp-not-inc', 83311, 'Bachelors', 13, 'Married-civ-spouse', 'Exec-managerial', 'Husband', 'White', 'Male', 0, 0, 13, 'United-States', '<=50K')\n",
      "(38, 'Private', 215646, 'HS-grad', 9, 'Divorced', 'Handlers-cleaners', 'Not-in-family', 'White', 'Male', 0, 0, 40, 'United-States', '<=50K')\n",
      "(53, 'Private', 234721, '11th', 7, 'Married-civ-spouse', 'Handlers-cleaners', 'Husband', 'Black', 'Male', 0, 0, 40, 'United-States', '<=50K')\n",
      "(28, 'Private', 338409, 'Bachelors', 13, 'Married-civ-spouse', 'Prof-specialty', 'Wife', 'Black', 'Female', 0, 0, 40, 'Cuba', '<=50K')\n",
      "(37, 'Private', 284582, 'Masters', 14, 'Married-civ-spouse', 'Exec-managerial', 'Wife', 'White', 'Female', 0, 0, 40, 'United-States', '<=50K')\n",
      "(49, 'Private', 160187, '9th', 5, 'Married-spouse-absent', 'Other-service', 'Not-in-family', 'Black', 'Female', 0, 0, 16, 'Jamaica', '<=50K')\n",
      "(52, 'Self-emp-not-inc', 209642, 'HS-grad', 9, 'Married-civ-spouse', 'Exec-managerial', 'Husband', 'White', 'Male', 0, 0, 45, 'United-States', '>50K')\n",
      "(31, 'Private', 45781, 'Masters', 14, 'Never-married', 'Prof-specialty', 'Not-in-family', 'White', 'Female', 14084, 0, 50, 'United-States', '>50K')\n",
      "(42, 'Private', 159449, 'Bachelors', 13, 'Married-civ-spouse', 'Exec-managerial', 'Husband', 'White', 'Male', 5178, 0, 40, 'United-States', '>50K')\n"
     ]
    }
   ],
   "source": [
    "# view the first 10 rows from the dataset\n",
    "query_hive(\"\"\"\n",
    "           SELECT *\n",
    "           FROM project.adult\n",
    "           LIMIT 10\n",
    "           \"\"\")"
   ]
  },
  {
   "cell_type": "code",
   "execution_count": null,
   "id": "f500529f",
   "metadata": {},
   "outputs": [
    {
     "name": "stdout",
     "output_type": "stream",
     "text": [
      "(48842,)\n"
     ]
    }
   ],
   "source": [
    "# count the total number of rows\n",
    "query_hive(\"\"\"\n",
    "           SELECT COUNT(*)\n",
    "           FROM project.adult\n",
    "           \"\"\")"
   ]
  },
  {
   "cell_type": "code",
   "execution_count": 6,
   "id": "810c070c",
   "metadata": {},
   "outputs": [
    {
     "name": "stdout",
     "output_type": "stream",
     "text": [
      "(48842, 48842, 48842, 48842)\n"
     ]
    }
   ],
   "source": [
    "# check for null values in each column\n",
    "query_hive(\"\"\"\n",
    "           SELECT\n",
    "            COUNT (*) AS total,\n",
    "            COUNT(age) AS age_not_null,\n",
    "            COUNT(workclass) AS workclass_not_null,\n",
    "            COUNT(final_weight) AS weight_not_null\n",
    "           FROM project.adult\n",
    "           \"\"\")"
   ]
  },
  {
   "cell_type": "code",
   "execution_count": null,
   "id": "3e436cae",
   "metadata": {},
   "outputs": [
    {
     "ename": "OperationalError",
     "evalue": "TExecuteStatementResp(status=TStatus(statusCode=3, infoMessages=[\"*org.apache.hive.service.cli.HiveSQLException:Error while compiling statement: FAILED: ParseException line 3:11 cannot recognize input near 'FROM' 'project' '.' in selection target:17:16\", 'org.apache.hive.service.cli.operation.Operation:toSQLException:Operation.java:324', 'org.apache.hive.service.cli.operation.SQLOperation:prepare:SQLOperation.java:148', 'org.apache.hive.service.cli.operation.SQLOperation:runInternal:SQLOperation.java:228', 'org.apache.hive.service.cli.operation.Operation:run:Operation.java:264', 'org.apache.hive.service.cli.session.HiveSessionImpl:executeStatementInternal:HiveSessionImpl.java:479', 'org.apache.hive.service.cli.session.HiveSessionImpl:executeStatement:HiveSessionImpl.java:454', 'org.apache.hive.service.cli.CLIService:executeStatement:CLIService.java:285', 'org.apache.hive.service.cli.thrift.ThriftCLIService:ExecuteStatement:ThriftCLIService.java:510', 'org.apache.hive.service.cli.thrift.TCLIService$Processor$ExecuteStatement:getResult:TCLIService.java:1377', 'org.apache.hive.service.cli.thrift.TCLIService$Processor$ExecuteStatement:getResult:TCLIService.java:1362', 'org.apache.thrift.ProcessFunction:process:ProcessFunction.java:39', 'org.apache.thrift.TBaseProcessor:process:TBaseProcessor.java:39', 'org.apache.hive.service.auth.TSetIpAddressProcessor:process:TSetIpAddressProcessor.java:56', 'org.apache.thrift.server.TThreadPoolServer$WorkerProcess:run:TThreadPoolServer.java:286', 'java.util.concurrent.ThreadPoolExecutor:runWorker:ThreadPoolExecutor.java:1149', 'java.util.concurrent.ThreadPoolExecutor$Worker:run:ThreadPoolExecutor.java:624', 'java.lang.Thread:run:Thread.java:748', \"*org.apache.hadoop.hive.ql.parse.ParseException:line 3:11 cannot recognize input near 'FROM' 'project' '.' in selection target:22:6\", 'org.apache.hadoop.hive.ql.parse.ParseDriver:parse:ParseDriver.java:214', 'org.apache.hadoop.hive.ql.parse.ParseDriver:parse:ParseDriver.java:171', 'org.apache.hadoop.hive.ql.Driver:compile:Driver.java:447', 'org.apache.hadoop.hive.ql.Driver:compile:Driver.java:330', 'org.apache.hadoop.hive.ql.Driver:compileInternal:Driver.java:1233', 'org.apache.hadoop.hive.ql.Driver:compileAndRespond:Driver.java:1227', 'org.apache.hive.service.cli.operation.SQLOperation:prepare:SQLOperation.java:146'], sqlState='42000', errorCode=40000, errorMessage=\"Error while compiling statement: FAILED: ParseException line 3:11 cannot recognize input near 'FROM' 'project' '.' in selection target\"), operationHandle=None)",
     "output_type": "error",
     "traceback": [
      "\u001b[31m---------------------------------------------------------------------------\u001b[39m",
      "\u001b[31mOperationalError\u001b[39m                          Traceback (most recent call last)",
      "\u001b[36mCell\u001b[39m\u001b[36m \u001b[39m\u001b[32mIn[11]\u001b[39m\u001b[32m, line 1\u001b[39m\n\u001b[32m----> \u001b[39m\u001b[32m1\u001b[39m \u001b[43mquery_hive\u001b[49m\u001b[43m(\u001b[49m\u001b[33;43m\"\"\"\u001b[39;49m\n\u001b[32m      2\u001b[39m \u001b[33;43m           SELECT age, COUNT(*) AS count,\u001b[39;49m\n\u001b[32m      3\u001b[39m \u001b[33;43m           FROM project.adult,\u001b[39;49m\n\u001b[32m      4\u001b[39m \u001b[33;43m           GROUP BY age,\u001b[39;49m\n\u001b[32m      5\u001b[39m \u001b[33;43m           ORDER BY age\u001b[39;49m\n\u001b[32m      6\u001b[39m \u001b[33;43m           \u001b[39;49m\u001b[33;43m\"\"\"\u001b[39;49m\u001b[43m)\u001b[49m\n",
      "\u001b[36mCell\u001b[39m\u001b[36m \u001b[39m\u001b[32mIn[8]\u001b[39m\u001b[32m, line 11\u001b[39m, in \u001b[36mquery_hive\u001b[39m\u001b[34m(command)\u001b[39m\n\u001b[32m     10\u001b[39m \u001b[38;5;28;01mdef\u001b[39;00m\u001b[38;5;250m \u001b[39m\u001b[34mquery_hive\u001b[39m(command):\n\u001b[32m---> \u001b[39m\u001b[32m11\u001b[39m     \u001b[43mcursor\u001b[49m\u001b[43m.\u001b[49m\u001b[43mexecute\u001b[49m\u001b[43m(\u001b[49m\u001b[43mcommand\u001b[49m\u001b[43m)\u001b[49m\n\u001b[32m     12\u001b[39m     \u001b[38;5;28;01mfor\u001b[39;00m result \u001b[38;5;129;01min\u001b[39;00m cursor.fetchall():\n\u001b[32m     13\u001b[39m         \u001b[38;5;28mprint\u001b[39m(result)\n",
      "\u001b[36mFile \u001b[39m\u001b[32mc:\\Users\\user\\AppData\\Local\\Programs\\Python\\Python311\\Lib\\site-packages\\pyhive\\hive.py:481\u001b[39m, in \u001b[36mCursor.execute\u001b[39m\u001b[34m(self, operation, parameters, **kwargs)\u001b[39m\n\u001b[32m    479\u001b[39m _logger.debug(req)\n\u001b[32m    480\u001b[39m response = \u001b[38;5;28mself\u001b[39m._connection.client.ExecuteStatement(req)\n\u001b[32m--> \u001b[39m\u001b[32m481\u001b[39m \u001b[43m_check_status\u001b[49m\u001b[43m(\u001b[49m\u001b[43mresponse\u001b[49m\u001b[43m)\u001b[49m\n\u001b[32m    482\u001b[39m \u001b[38;5;28mself\u001b[39m._operationHandle = response.operationHandle\n",
      "\u001b[36mFile \u001b[39m\u001b[32mc:\\Users\\user\\AppData\\Local\\Programs\\Python\\Python311\\Lib\\site-packages\\pyhive\\hive.py:611\u001b[39m, in \u001b[36m_check_status\u001b[39m\u001b[34m(response)\u001b[39m\n\u001b[32m    609\u001b[39m _logger.debug(response)\n\u001b[32m    610\u001b[39m \u001b[38;5;28;01mif\u001b[39;00m response.status.statusCode != ttypes.TStatusCode.SUCCESS_STATUS:\n\u001b[32m--> \u001b[39m\u001b[32m611\u001b[39m     \u001b[38;5;28;01mraise\u001b[39;00m OperationalError(response)\n",
      "\u001b[31mOperationalError\u001b[39m: TExecuteStatementResp(status=TStatus(statusCode=3, infoMessages=[\"*org.apache.hive.service.cli.HiveSQLException:Error while compiling statement: FAILED: ParseException line 3:11 cannot recognize input near 'FROM' 'project' '.' in selection target:17:16\", 'org.apache.hive.service.cli.operation.Operation:toSQLException:Operation.java:324', 'org.apache.hive.service.cli.operation.SQLOperation:prepare:SQLOperation.java:148', 'org.apache.hive.service.cli.operation.SQLOperation:runInternal:SQLOperation.java:228', 'org.apache.hive.service.cli.operation.Operation:run:Operation.java:264', 'org.apache.hive.service.cli.session.HiveSessionImpl:executeStatementInternal:HiveSessionImpl.java:479', 'org.apache.hive.service.cli.session.HiveSessionImpl:executeStatement:HiveSessionImpl.java:454', 'org.apache.hive.service.cli.CLIService:executeStatement:CLIService.java:285', 'org.apache.hive.service.cli.thrift.ThriftCLIService:ExecuteStatement:ThriftCLIService.java:510', 'org.apache.hive.service.cli.thrift.TCLIService$Processor$ExecuteStatement:getResult:TCLIService.java:1377', 'org.apache.hive.service.cli.thrift.TCLIService$Processor$ExecuteStatement:getResult:TCLIService.java:1362', 'org.apache.thrift.ProcessFunction:process:ProcessFunction.java:39', 'org.apache.thrift.TBaseProcessor:process:TBaseProcessor.java:39', 'org.apache.hive.service.auth.TSetIpAddressProcessor:process:TSetIpAddressProcessor.java:56', 'org.apache.thrift.server.TThreadPoolServer$WorkerProcess:run:TThreadPoolServer.java:286', 'java.util.concurrent.ThreadPoolExecutor:runWorker:ThreadPoolExecutor.java:1149', 'java.util.concurrent.ThreadPoolExecutor$Worker:run:ThreadPoolExecutor.java:624', 'java.lang.Thread:run:Thread.java:748', \"*org.apache.hadoop.hive.ql.parse.ParseException:line 3:11 cannot recognize input near 'FROM' 'project' '.' in selection target:22:6\", 'org.apache.hadoop.hive.ql.parse.ParseDriver:parse:ParseDriver.java:214', 'org.apache.hadoop.hive.ql.parse.ParseDriver:parse:ParseDriver.java:171', 'org.apache.hadoop.hive.ql.Driver:compile:Driver.java:447', 'org.apache.hadoop.hive.ql.Driver:compile:Driver.java:330', 'org.apache.hadoop.hive.ql.Driver:compileInternal:Driver.java:1233', 'org.apache.hadoop.hive.ql.Driver:compileAndRespond:Driver.java:1227', 'org.apache.hive.service.cli.operation.SQLOperation:prepare:SQLOperation.java:146'], sqlState='42000', errorCode=40000, errorMessage=\"Error while compiling statement: FAILED: ParseException line 3:11 cannot recognize input near 'FROM' 'project' '.' in selection target\"), operationHandle=None)"
     ]
    }
   ],
   "source": [
    "query_hive(\"\"\"\n",
    "           SELECT age, COUNT(*) AS count,\n",
    "           FROM project.adult,\n",
    "           GROUP BY age,\n",
    "           ORDER BY age\n",
    "           \"\"\")"
   ]
  },
  {
   "cell_type": "code",
   "execution_count": null,
   "id": "f525423d",
   "metadata": {},
   "outputs": [],
   "source": [
    "query = \"\"\"\n",
    "SELECT * FROM project.adult\n",
    "\"\"\"\n",
    "\n",
    "df = pd.read_sql(query, conn)\n",
    "df.head()"
   ]
  },
  {
   "cell_type": "code",
   "execution_count": null,
   "id": "e083750d",
   "metadata": {},
   "outputs": [],
   "source": []
  }
 ],
 "metadata": {
  "kernelspec": {
   "display_name": "Python 3",
   "language": "python",
   "name": "python3"
  },
  "language_info": {
   "codemirror_mode": {
    "name": "ipython",
    "version": 3
   },
   "file_extension": ".py",
   "mimetype": "text/x-python",
   "name": "python",
   "nbconvert_exporter": "python",
   "pygments_lexer": "ipython3",
   "version": "3.11.4"
  }
 },
 "nbformat": 4,
 "nbformat_minor": 5
}
