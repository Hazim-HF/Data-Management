{
 "cells": [
  {
   "cell_type": "code",
   "execution_count": 21,
   "id": "3182a801",
   "metadata": {},
   "outputs": [
    {
     "name": "stdout",
     "output_type": "stream",
     "text": [
      "('account',)\n",
      "('agg_c_10_sales_fact_1997',)\n",
      "('agg_c_14_sales_fact_1997',)\n",
      "('agg_c_special_sales_fact_1997',)\n",
      "('agg_g_ms_pcat_sales_fact_1997',)\n",
      "('agg_l_03_sales_fact_1997',)\n",
      "('agg_l_04_sales_fact_1997',)\n",
      "('agg_l_05_sales_fact_1997',)\n",
      "('agg_lc_06_sales_fact_1997',)\n",
      "('agg_lc_100_sales_fact_1997',)\n",
      "('agg_ll_01_sales_fact_1997',)\n",
      "('agg_pl_01_sales_fact_1997',)\n",
      "('category',)\n",
      "('currency',)\n",
      "('customer',)\n",
      "('days',)\n",
      "('department',)\n",
      "('employee',)\n",
      "('employee_closure',)\n",
      "('expense_fact',)\n",
      "('inventory_fact_1997',)\n",
      "('inventory_fact_1998',)\n",
      "('position',)\n",
      "('product',)\n",
      "('product_class',)\n",
      "('promotion',)\n",
      "('region',)\n",
      "('reserve_employee',)\n",
      "('salary',)\n",
      "('sales_fact_1997',)\n",
      "('sales_fact_1998',)\n",
      "('sales_fact_dec_1998',)\n",
      "('store',)\n",
      "('store_ragged',)\n",
      "('time_by_day',)\n",
      "('warehouse',)\n",
      "('warehouse_class',)\n"
     ]
    }
   ],
   "source": [
    "from pyhive import hive\n",
    "\n",
    "conn = hive.Connection(\n",
    "    host=\"localhost\",\n",
    "    port=10000,\n",
    "    username=\"maria_dev\",\n",
    "    database=\"foodmart\",\n",
    "    auth=\"NONE\"\n",
    ")\n",
    "\n",
    "cursor = conn.cursor()\n",
    "cursor.execute(\"SHOW TABLES\")\n",
    "for result in cursor.fetchall():\n",
    "    print(result)\n"
   ]
  },
  {
   "cell_type": "code",
   "execution_count": 17,
   "id": "a953a1e4",
   "metadata": {},
   "outputs": [
    {
     "name": "stdout",
     "output_type": "stream",
     "text": [
      "     A15    A14 A13 A12  A11 A10 A9    A8  A7  A6 A5 A4      A3     A2 A1\n",
      "0      0  202.0   g   f    1   t  t  1.25   v   w  g  u   0.000  30.83  b\n",
      "1    560   43.0   g   f    6   t  t  3.04   h   q  g  u   4.460  58.67  a\n",
      "2    824  280.0   g   f    0   f  t  1.50   h   q  g  u   0.500  24.50  a\n",
      "3      3  100.0   g   t    5   t  t  3.75   v   w  g  u   1.540  27.83  b\n",
      "4      0  120.0   s   f    0   f  t  1.71   v   w  g  u   5.625  20.17  b\n",
      "..   ...    ...  ..  ..  ...  .. ..   ...  ..  .. .. ..     ...    ... ..\n",
      "685    0  260.0   g   f    0   f  f  1.25   h   e  p  y  10.085  21.08  b\n",
      "686  394  200.0   g   t    2   t  f  2.00   v   c  g  u   0.750  22.67  a\n",
      "687    1  200.0   g   t    1   t  f  2.00  ff  ff  p  y  13.500  25.25  a\n",
      "688  750  280.0   g   f    0   f  f  0.04   v  aa  g  u   0.205  17.92  b\n",
      "689    0    0.0   g   t    0   f  f  8.29   h   c  g  u   3.375  35.00  b\n",
      "\n",
      "[690 rows x 15 columns]\n"
     ]
    }
   ],
   "source": [
    "from ucimlrepo import fetch_ucirepo\n",
    "\n",
    "fraud = fetch_ucirepo(id=27)\n",
    "\n",
    "print(fraud.data.features)"
   ]
  },
  {
   "cell_type": "code",
   "execution_count": 25,
   "id": "9f89f08b",
   "metadata": {},
   "outputs": [],
   "source": [
    "import pandas as pd\n",
    "df = pd.concat([fraud.data.features, fraud.data.target], axis=1)\n",
    "df.to_csv('fraud.csv', index=False, header=False)"
   ]
  }
 ],
 "metadata": {
  "kernelspec": {
   "display_name": "Python 3",
   "language": "python",
   "name": "python3"
  },
  "language_info": {
   "codemirror_mode": {
    "name": "ipython",
    "version": 3
   },
   "file_extension": ".py",
   "mimetype": "text/x-python",
   "name": "python",
   "nbconvert_exporter": "python",
   "pygments_lexer": "ipython3",
   "version": "3.13.2"
  }
 },
 "nbformat": 4,
 "nbformat_minor": 5
}
