{
 "cells": [
  {
   "cell_type": "code",
   "execution_count": 1,
   "id": "80036d51",
   "metadata": {},
   "outputs": [],
   "source": [
    "# Core Data Science Libraries\n",
    "import pandas as pd\n",
    "import numpy as np\n",
    "import matplotlib.pyplot as plt\n",
    "import seaborn as sns\n",
    "\n",
    "# Sklearn Libraries\n",
    "from sklearn.preprocessing import LabelEncoder\n",
    "from sklearn.preprocessing import StandardScaler\n",
    "from sklearn.decomposition import PCA\n",
    "\n",
    "from sklearn.model_selection import train_test_split\n",
    "from sklearn.preprocessing import StandardScaler, OneHotEncoder\n",
    "from sklearn.compose import ColumnTransformer\n",
    "from sklearn.pipeline import Pipeline\n",
    "from sklearn.ensemble import RandomForestClassifier\n",
    "from sklearn.svm import SVC\n",
    "from sklearn.metrics import accuracy_score, confusion_matrix, classification_report, roc_auc_score, roc_curve\n",
    "from sklearn.model_selection import GridSearchCV"
   ]
  },
  {
   "cell_type": "markdown",
   "id": "b99b0d4c",
   "metadata": {},
   "source": [
    "# Data Cleaning"
   ]
  },
  {
   "cell_type": "markdown",
   "id": "eab26c37",
   "metadata": {},
   "source": [
    "## Loading Dataset"
   ]
  },
  {
   "cell_type": "code",
   "execution_count": 2,
   "id": "2d178e37",
   "metadata": {},
   "outputs": [
    {
     "data": {
      "application/vnd.microsoft.datawrangler.viewer.v0+json": {
       "columns": [
        {
         "name": "index",
         "rawType": "int64",
         "type": "integer"
        },
        {
         "name": "customerID",
         "rawType": "object",
         "type": "string"
        },
        {
         "name": "gender",
         "rawType": "object",
         "type": "string"
        },
        {
         "name": "SeniorCitizen",
         "rawType": "int64",
         "type": "integer"
        },
        {
         "name": "Partner",
         "rawType": "object",
         "type": "string"
        },
        {
         "name": "Dependents",
         "rawType": "object",
         "type": "string"
        },
        {
         "name": "tenure",
         "rawType": "int64",
         "type": "integer"
        },
        {
         "name": "PhoneService",
         "rawType": "object",
         "type": "string"
        },
        {
         "name": "MultipleLines",
         "rawType": "object",
         "type": "string"
        },
        {
         "name": "InternetService",
         "rawType": "object",
         "type": "string"
        },
        {
         "name": "OnlineSecurity",
         "rawType": "object",
         "type": "string"
        },
        {
         "name": "OnlineBackup",
         "rawType": "object",
         "type": "string"
        },
        {
         "name": "DeviceProtection",
         "rawType": "object",
         "type": "string"
        },
        {
         "name": "TechSupport",
         "rawType": "object",
         "type": "string"
        },
        {
         "name": "StreamingTV",
         "rawType": "object",
         "type": "string"
        },
        {
         "name": "StreamingMovies",
         "rawType": "object",
         "type": "string"
        },
        {
         "name": "Contract",
         "rawType": "object",
         "type": "string"
        },
        {
         "name": "PaperlessBilling",
         "rawType": "object",
         "type": "string"
        },
        {
         "name": "PaymentMethod",
         "rawType": "object",
         "type": "string"
        },
        {
         "name": "MonthlyCharges",
         "rawType": "float64",
         "type": "float"
        },
        {
         "name": "TotalCharges",
         "rawType": "object",
         "type": "string"
        },
        {
         "name": "Churn",
         "rawType": "object",
         "type": "string"
        }
       ],
       "ref": "60b8f3ae-36f1-4c71-9966-fff4efc7a820",
       "rows": [
        [
         "0",
         "7590-VHVEG",
         "Female",
         "0",
         "Yes",
         "No",
         "1",
         "No",
         "No phone service",
         "DSL",
         "No",
         "Yes",
         "No",
         "No",
         "No",
         "No",
         "Month-to-month",
         "Yes",
         "Electronic check",
         "29.85",
         "29.85",
         "No"
        ],
        [
         "1",
         "5575-GNVDE",
         "Male",
         "0",
         "No",
         "No",
         "34",
         "Yes",
         "No",
         "DSL",
         "Yes",
         "No",
         "Yes",
         "No",
         "No",
         "No",
         "One year",
         "No",
         "Mailed check",
         "56.95",
         "1889.5",
         "No"
        ],
        [
         "2",
         "3668-QPYBK",
         "Male",
         "0",
         "No",
         "No",
         "2",
         "Yes",
         "No",
         "DSL",
         "Yes",
         "Yes",
         "No",
         "No",
         "No",
         "No",
         "Month-to-month",
         "Yes",
         "Mailed check",
         "53.85",
         "108.15",
         "Yes"
        ],
        [
         "3",
         "7795-CFOCW",
         "Male",
         "0",
         "No",
         "No",
         "45",
         "No",
         "No phone service",
         "DSL",
         "Yes",
         "No",
         "Yes",
         "Yes",
         "No",
         "No",
         "One year",
         "No",
         "Bank transfer (automatic)",
         "42.3",
         "1840.75",
         "No"
        ],
        [
         "4",
         "9237-HQITU",
         "Female",
         "0",
         "No",
         "No",
         "2",
         "Yes",
         "No",
         "Fiber optic",
         "No",
         "No",
         "No",
         "No",
         "No",
         "No",
         "Month-to-month",
         "Yes",
         "Electronic check",
         "70.7",
         "151.65",
         "Yes"
        ],
        [
         "5",
         "9305-CDSKC",
         "Female",
         "0",
         "No",
         "No",
         "8",
         "Yes",
         "Yes",
         "Fiber optic",
         "No",
         "No",
         "Yes",
         "No",
         "Yes",
         "Yes",
         "Month-to-month",
         "Yes",
         "Electronic check",
         "99.65",
         "820.5",
         "Yes"
        ],
        [
         "6",
         "1452-KIOVK",
         "Male",
         "0",
         "No",
         "Yes",
         "22",
         "Yes",
         "Yes",
         "Fiber optic",
         "No",
         "Yes",
         "No",
         "No",
         "Yes",
         "No",
         "Month-to-month",
         "Yes",
         "Credit card (automatic)",
         "89.1",
         "1949.4",
         "No"
        ],
        [
         "7",
         "6713-OKOMC",
         "Female",
         "0",
         "No",
         "No",
         "10",
         "No",
         "No phone service",
         "DSL",
         "Yes",
         "No",
         "No",
         "No",
         "No",
         "No",
         "Month-to-month",
         "No",
         "Mailed check",
         "29.75",
         "301.9",
         "No"
        ],
        [
         "8",
         "7892-POOKP",
         "Female",
         "0",
         "Yes",
         "No",
         "28",
         "Yes",
         "Yes",
         "Fiber optic",
         "No",
         "No",
         "Yes",
         "Yes",
         "Yes",
         "Yes",
         "Month-to-month",
         "Yes",
         "Electronic check",
         "104.8",
         "3046.05",
         "Yes"
        ],
        [
         "9",
         "6388-TABGU",
         "Male",
         "0",
         "No",
         "Yes",
         "62",
         "Yes",
         "No",
         "DSL",
         "Yes",
         "Yes",
         "No",
         "No",
         "No",
         "No",
         "One year",
         "No",
         "Bank transfer (automatic)",
         "56.15",
         "3487.95",
         "No"
        ],
        [
         "10",
         "9763-GRSKD",
         "Male",
         "0",
         "Yes",
         "Yes",
         "13",
         "Yes",
         "No",
         "DSL",
         "Yes",
         "No",
         "No",
         "No",
         "No",
         "No",
         "Month-to-month",
         "Yes",
         "Mailed check",
         "49.95",
         "587.45",
         "No"
        ],
        [
         "11",
         "7469-LKBCI",
         "Male",
         "0",
         "No",
         "No",
         "16",
         "Yes",
         "No",
         "No",
         "No internet service",
         "No internet service",
         "No internet service",
         "No internet service",
         "No internet service",
         "No internet service",
         "Two year",
         "No",
         "Credit card (automatic)",
         "18.95",
         "326.8",
         "No"
        ],
        [
         "12",
         "8091-TTVAX",
         "Male",
         "0",
         "Yes",
         "No",
         "58",
         "Yes",
         "Yes",
         "Fiber optic",
         "No",
         "No",
         "Yes",
         "No",
         "Yes",
         "Yes",
         "One year",
         "No",
         "Credit card (automatic)",
         "100.35",
         "5681.1",
         "No"
        ],
        [
         "13",
         "0280-XJGEX",
         "Male",
         "0",
         "No",
         "No",
         "49",
         "Yes",
         "Yes",
         "Fiber optic",
         "No",
         "Yes",
         "Yes",
         "No",
         "Yes",
         "Yes",
         "Month-to-month",
         "Yes",
         "Bank transfer (automatic)",
         "103.7",
         "5036.3",
         "Yes"
        ],
        [
         "14",
         "5129-JLPIS",
         "Male",
         "0",
         "No",
         "No",
         "25",
         "Yes",
         "No",
         "Fiber optic",
         "Yes",
         "No",
         "Yes",
         "Yes",
         "Yes",
         "Yes",
         "Month-to-month",
         "Yes",
         "Electronic check",
         "105.5",
         "2686.05",
         "No"
        ],
        [
         "15",
         "3655-SNQYZ",
         "Female",
         "0",
         "Yes",
         "Yes",
         "69",
         "Yes",
         "Yes",
         "Fiber optic",
         "Yes",
         "Yes",
         "Yes",
         "Yes",
         "Yes",
         "Yes",
         "Two year",
         "No",
         "Credit card (automatic)",
         "113.25",
         "7895.15",
         "No"
        ],
        [
         "16",
         "8191-XWSZG",
         "Female",
         "0",
         "No",
         "No",
         "52",
         "Yes",
         "No",
         "No",
         "No internet service",
         "No internet service",
         "No internet service",
         "No internet service",
         "No internet service",
         "No internet service",
         "One year",
         "No",
         "Mailed check",
         "20.65",
         "1022.95",
         "No"
        ],
        [
         "17",
         "9959-WOFKT",
         "Male",
         "0",
         "No",
         "Yes",
         "71",
         "Yes",
         "Yes",
         "Fiber optic",
         "Yes",
         "No",
         "Yes",
         "No",
         "Yes",
         "Yes",
         "Two year",
         "No",
         "Bank transfer (automatic)",
         "106.7",
         "7382.25",
         "No"
        ],
        [
         "18",
         "4190-MFLUW",
         "Female",
         "0",
         "Yes",
         "Yes",
         "10",
         "Yes",
         "No",
         "DSL",
         "No",
         "No",
         "Yes",
         "Yes",
         "No",
         "No",
         "Month-to-month",
         "No",
         "Credit card (automatic)",
         "55.2",
         "528.35",
         "Yes"
        ],
        [
         "19",
         "4183-MYFRB",
         "Female",
         "0",
         "No",
         "No",
         "21",
         "Yes",
         "No",
         "Fiber optic",
         "No",
         "Yes",
         "Yes",
         "No",
         "No",
         "Yes",
         "Month-to-month",
         "Yes",
         "Electronic check",
         "90.05",
         "1862.9",
         "No"
        ]
       ],
       "shape": {
        "columns": 21,
        "rows": 20
       }
      },
      "text/html": [
       "<div>\n",
       "<style scoped>\n",
       "    .dataframe tbody tr th:only-of-type {\n",
       "        vertical-align: middle;\n",
       "    }\n",
       "\n",
       "    .dataframe tbody tr th {\n",
       "        vertical-align: top;\n",
       "    }\n",
       "\n",
       "    .dataframe thead th {\n",
       "        text-align: right;\n",
       "    }\n",
       "</style>\n",
       "<table border=\"1\" class=\"dataframe\">\n",
       "  <thead>\n",
       "    <tr style=\"text-align: right;\">\n",
       "      <th></th>\n",
       "      <th>customerID</th>\n",
       "      <th>gender</th>\n",
       "      <th>SeniorCitizen</th>\n",
       "      <th>Partner</th>\n",
       "      <th>Dependents</th>\n",
       "      <th>tenure</th>\n",
       "      <th>PhoneService</th>\n",
       "      <th>MultipleLines</th>\n",
       "      <th>InternetService</th>\n",
       "      <th>OnlineSecurity</th>\n",
       "      <th>...</th>\n",
       "      <th>DeviceProtection</th>\n",
       "      <th>TechSupport</th>\n",
       "      <th>StreamingTV</th>\n",
       "      <th>StreamingMovies</th>\n",
       "      <th>Contract</th>\n",
       "      <th>PaperlessBilling</th>\n",
       "      <th>PaymentMethod</th>\n",
       "      <th>MonthlyCharges</th>\n",
       "      <th>TotalCharges</th>\n",
       "      <th>Churn</th>\n",
       "    </tr>\n",
       "  </thead>\n",
       "  <tbody>\n",
       "    <tr>\n",
       "      <th>0</th>\n",
       "      <td>7590-VHVEG</td>\n",
       "      <td>Female</td>\n",
       "      <td>0</td>\n",
       "      <td>Yes</td>\n",
       "      <td>No</td>\n",
       "      <td>1</td>\n",
       "      <td>No</td>\n",
       "      <td>No phone service</td>\n",
       "      <td>DSL</td>\n",
       "      <td>No</td>\n",
       "      <td>...</td>\n",
       "      <td>No</td>\n",
       "      <td>No</td>\n",
       "      <td>No</td>\n",
       "      <td>No</td>\n",
       "      <td>Month-to-month</td>\n",
       "      <td>Yes</td>\n",
       "      <td>Electronic check</td>\n",
       "      <td>29.85</td>\n",
       "      <td>29.85</td>\n",
       "      <td>No</td>\n",
       "    </tr>\n",
       "    <tr>\n",
       "      <th>1</th>\n",
       "      <td>5575-GNVDE</td>\n",
       "      <td>Male</td>\n",
       "      <td>0</td>\n",
       "      <td>No</td>\n",
       "      <td>No</td>\n",
       "      <td>34</td>\n",
       "      <td>Yes</td>\n",
       "      <td>No</td>\n",
       "      <td>DSL</td>\n",
       "      <td>Yes</td>\n",
       "      <td>...</td>\n",
       "      <td>Yes</td>\n",
       "      <td>No</td>\n",
       "      <td>No</td>\n",
       "      <td>No</td>\n",
       "      <td>One year</td>\n",
       "      <td>No</td>\n",
       "      <td>Mailed check</td>\n",
       "      <td>56.95</td>\n",
       "      <td>1889.5</td>\n",
       "      <td>No</td>\n",
       "    </tr>\n",
       "    <tr>\n",
       "      <th>2</th>\n",
       "      <td>3668-QPYBK</td>\n",
       "      <td>Male</td>\n",
       "      <td>0</td>\n",
       "      <td>No</td>\n",
       "      <td>No</td>\n",
       "      <td>2</td>\n",
       "      <td>Yes</td>\n",
       "      <td>No</td>\n",
       "      <td>DSL</td>\n",
       "      <td>Yes</td>\n",
       "      <td>...</td>\n",
       "      <td>No</td>\n",
       "      <td>No</td>\n",
       "      <td>No</td>\n",
       "      <td>No</td>\n",
       "      <td>Month-to-month</td>\n",
       "      <td>Yes</td>\n",
       "      <td>Mailed check</td>\n",
       "      <td>53.85</td>\n",
       "      <td>108.15</td>\n",
       "      <td>Yes</td>\n",
       "    </tr>\n",
       "    <tr>\n",
       "      <th>3</th>\n",
       "      <td>7795-CFOCW</td>\n",
       "      <td>Male</td>\n",
       "      <td>0</td>\n",
       "      <td>No</td>\n",
       "      <td>No</td>\n",
       "      <td>45</td>\n",
       "      <td>No</td>\n",
       "      <td>No phone service</td>\n",
       "      <td>DSL</td>\n",
       "      <td>Yes</td>\n",
       "      <td>...</td>\n",
       "      <td>Yes</td>\n",
       "      <td>Yes</td>\n",
       "      <td>No</td>\n",
       "      <td>No</td>\n",
       "      <td>One year</td>\n",
       "      <td>No</td>\n",
       "      <td>Bank transfer (automatic)</td>\n",
       "      <td>42.30</td>\n",
       "      <td>1840.75</td>\n",
       "      <td>No</td>\n",
       "    </tr>\n",
       "    <tr>\n",
       "      <th>4</th>\n",
       "      <td>9237-HQITU</td>\n",
       "      <td>Female</td>\n",
       "      <td>0</td>\n",
       "      <td>No</td>\n",
       "      <td>No</td>\n",
       "      <td>2</td>\n",
       "      <td>Yes</td>\n",
       "      <td>No</td>\n",
       "      <td>Fiber optic</td>\n",
       "      <td>No</td>\n",
       "      <td>...</td>\n",
       "      <td>No</td>\n",
       "      <td>No</td>\n",
       "      <td>No</td>\n",
       "      <td>No</td>\n",
       "      <td>Month-to-month</td>\n",
       "      <td>Yes</td>\n",
       "      <td>Electronic check</td>\n",
       "      <td>70.70</td>\n",
       "      <td>151.65</td>\n",
       "      <td>Yes</td>\n",
       "    </tr>\n",
       "    <tr>\n",
       "      <th>5</th>\n",
       "      <td>9305-CDSKC</td>\n",
       "      <td>Female</td>\n",
       "      <td>0</td>\n",
       "      <td>No</td>\n",
       "      <td>No</td>\n",
       "      <td>8</td>\n",
       "      <td>Yes</td>\n",
       "      <td>Yes</td>\n",
       "      <td>Fiber optic</td>\n",
       "      <td>No</td>\n",
       "      <td>...</td>\n",
       "      <td>Yes</td>\n",
       "      <td>No</td>\n",
       "      <td>Yes</td>\n",
       "      <td>Yes</td>\n",
       "      <td>Month-to-month</td>\n",
       "      <td>Yes</td>\n",
       "      <td>Electronic check</td>\n",
       "      <td>99.65</td>\n",
       "      <td>820.5</td>\n",
       "      <td>Yes</td>\n",
       "    </tr>\n",
       "    <tr>\n",
       "      <th>6</th>\n",
       "      <td>1452-KIOVK</td>\n",
       "      <td>Male</td>\n",
       "      <td>0</td>\n",
       "      <td>No</td>\n",
       "      <td>Yes</td>\n",
       "      <td>22</td>\n",
       "      <td>Yes</td>\n",
       "      <td>Yes</td>\n",
       "      <td>Fiber optic</td>\n",
       "      <td>No</td>\n",
       "      <td>...</td>\n",
       "      <td>No</td>\n",
       "      <td>No</td>\n",
       "      <td>Yes</td>\n",
       "      <td>No</td>\n",
       "      <td>Month-to-month</td>\n",
       "      <td>Yes</td>\n",
       "      <td>Credit card (automatic)</td>\n",
       "      <td>89.10</td>\n",
       "      <td>1949.4</td>\n",
       "      <td>No</td>\n",
       "    </tr>\n",
       "    <tr>\n",
       "      <th>7</th>\n",
       "      <td>6713-OKOMC</td>\n",
       "      <td>Female</td>\n",
       "      <td>0</td>\n",
       "      <td>No</td>\n",
       "      <td>No</td>\n",
       "      <td>10</td>\n",
       "      <td>No</td>\n",
       "      <td>No phone service</td>\n",
       "      <td>DSL</td>\n",
       "      <td>Yes</td>\n",
       "      <td>...</td>\n",
       "      <td>No</td>\n",
       "      <td>No</td>\n",
       "      <td>No</td>\n",
       "      <td>No</td>\n",
       "      <td>Month-to-month</td>\n",
       "      <td>No</td>\n",
       "      <td>Mailed check</td>\n",
       "      <td>29.75</td>\n",
       "      <td>301.9</td>\n",
       "      <td>No</td>\n",
       "    </tr>\n",
       "    <tr>\n",
       "      <th>8</th>\n",
       "      <td>7892-POOKP</td>\n",
       "      <td>Female</td>\n",
       "      <td>0</td>\n",
       "      <td>Yes</td>\n",
       "      <td>No</td>\n",
       "      <td>28</td>\n",
       "      <td>Yes</td>\n",
       "      <td>Yes</td>\n",
       "      <td>Fiber optic</td>\n",
       "      <td>No</td>\n",
       "      <td>...</td>\n",
       "      <td>Yes</td>\n",
       "      <td>Yes</td>\n",
       "      <td>Yes</td>\n",
       "      <td>Yes</td>\n",
       "      <td>Month-to-month</td>\n",
       "      <td>Yes</td>\n",
       "      <td>Electronic check</td>\n",
       "      <td>104.80</td>\n",
       "      <td>3046.05</td>\n",
       "      <td>Yes</td>\n",
       "    </tr>\n",
       "    <tr>\n",
       "      <th>9</th>\n",
       "      <td>6388-TABGU</td>\n",
       "      <td>Male</td>\n",
       "      <td>0</td>\n",
       "      <td>No</td>\n",
       "      <td>Yes</td>\n",
       "      <td>62</td>\n",
       "      <td>Yes</td>\n",
       "      <td>No</td>\n",
       "      <td>DSL</td>\n",
       "      <td>Yes</td>\n",
       "      <td>...</td>\n",
       "      <td>No</td>\n",
       "      <td>No</td>\n",
       "      <td>No</td>\n",
       "      <td>No</td>\n",
       "      <td>One year</td>\n",
       "      <td>No</td>\n",
       "      <td>Bank transfer (automatic)</td>\n",
       "      <td>56.15</td>\n",
       "      <td>3487.95</td>\n",
       "      <td>No</td>\n",
       "    </tr>\n",
       "    <tr>\n",
       "      <th>10</th>\n",
       "      <td>9763-GRSKD</td>\n",
       "      <td>Male</td>\n",
       "      <td>0</td>\n",
       "      <td>Yes</td>\n",
       "      <td>Yes</td>\n",
       "      <td>13</td>\n",
       "      <td>Yes</td>\n",
       "      <td>No</td>\n",
       "      <td>DSL</td>\n",
       "      <td>Yes</td>\n",
       "      <td>...</td>\n",
       "      <td>No</td>\n",
       "      <td>No</td>\n",
       "      <td>No</td>\n",
       "      <td>No</td>\n",
       "      <td>Month-to-month</td>\n",
       "      <td>Yes</td>\n",
       "      <td>Mailed check</td>\n",
       "      <td>49.95</td>\n",
       "      <td>587.45</td>\n",
       "      <td>No</td>\n",
       "    </tr>\n",
       "    <tr>\n",
       "      <th>11</th>\n",
       "      <td>7469-LKBCI</td>\n",
       "      <td>Male</td>\n",
       "      <td>0</td>\n",
       "      <td>No</td>\n",
       "      <td>No</td>\n",
       "      <td>16</td>\n",
       "      <td>Yes</td>\n",
       "      <td>No</td>\n",
       "      <td>No</td>\n",
       "      <td>No internet service</td>\n",
       "      <td>...</td>\n",
       "      <td>No internet service</td>\n",
       "      <td>No internet service</td>\n",
       "      <td>No internet service</td>\n",
       "      <td>No internet service</td>\n",
       "      <td>Two year</td>\n",
       "      <td>No</td>\n",
       "      <td>Credit card (automatic)</td>\n",
       "      <td>18.95</td>\n",
       "      <td>326.8</td>\n",
       "      <td>No</td>\n",
       "    </tr>\n",
       "    <tr>\n",
       "      <th>12</th>\n",
       "      <td>8091-TTVAX</td>\n",
       "      <td>Male</td>\n",
       "      <td>0</td>\n",
       "      <td>Yes</td>\n",
       "      <td>No</td>\n",
       "      <td>58</td>\n",
       "      <td>Yes</td>\n",
       "      <td>Yes</td>\n",
       "      <td>Fiber optic</td>\n",
       "      <td>No</td>\n",
       "      <td>...</td>\n",
       "      <td>Yes</td>\n",
       "      <td>No</td>\n",
       "      <td>Yes</td>\n",
       "      <td>Yes</td>\n",
       "      <td>One year</td>\n",
       "      <td>No</td>\n",
       "      <td>Credit card (automatic)</td>\n",
       "      <td>100.35</td>\n",
       "      <td>5681.1</td>\n",
       "      <td>No</td>\n",
       "    </tr>\n",
       "    <tr>\n",
       "      <th>13</th>\n",
       "      <td>0280-XJGEX</td>\n",
       "      <td>Male</td>\n",
       "      <td>0</td>\n",
       "      <td>No</td>\n",
       "      <td>No</td>\n",
       "      <td>49</td>\n",
       "      <td>Yes</td>\n",
       "      <td>Yes</td>\n",
       "      <td>Fiber optic</td>\n",
       "      <td>No</td>\n",
       "      <td>...</td>\n",
       "      <td>Yes</td>\n",
       "      <td>No</td>\n",
       "      <td>Yes</td>\n",
       "      <td>Yes</td>\n",
       "      <td>Month-to-month</td>\n",
       "      <td>Yes</td>\n",
       "      <td>Bank transfer (automatic)</td>\n",
       "      <td>103.70</td>\n",
       "      <td>5036.3</td>\n",
       "      <td>Yes</td>\n",
       "    </tr>\n",
       "    <tr>\n",
       "      <th>14</th>\n",
       "      <td>5129-JLPIS</td>\n",
       "      <td>Male</td>\n",
       "      <td>0</td>\n",
       "      <td>No</td>\n",
       "      <td>No</td>\n",
       "      <td>25</td>\n",
       "      <td>Yes</td>\n",
       "      <td>No</td>\n",
       "      <td>Fiber optic</td>\n",
       "      <td>Yes</td>\n",
       "      <td>...</td>\n",
       "      <td>Yes</td>\n",
       "      <td>Yes</td>\n",
       "      <td>Yes</td>\n",
       "      <td>Yes</td>\n",
       "      <td>Month-to-month</td>\n",
       "      <td>Yes</td>\n",
       "      <td>Electronic check</td>\n",
       "      <td>105.50</td>\n",
       "      <td>2686.05</td>\n",
       "      <td>No</td>\n",
       "    </tr>\n",
       "    <tr>\n",
       "      <th>15</th>\n",
       "      <td>3655-SNQYZ</td>\n",
       "      <td>Female</td>\n",
       "      <td>0</td>\n",
       "      <td>Yes</td>\n",
       "      <td>Yes</td>\n",
       "      <td>69</td>\n",
       "      <td>Yes</td>\n",
       "      <td>Yes</td>\n",
       "      <td>Fiber optic</td>\n",
       "      <td>Yes</td>\n",
       "      <td>...</td>\n",
       "      <td>Yes</td>\n",
       "      <td>Yes</td>\n",
       "      <td>Yes</td>\n",
       "      <td>Yes</td>\n",
       "      <td>Two year</td>\n",
       "      <td>No</td>\n",
       "      <td>Credit card (automatic)</td>\n",
       "      <td>113.25</td>\n",
       "      <td>7895.15</td>\n",
       "      <td>No</td>\n",
       "    </tr>\n",
       "    <tr>\n",
       "      <th>16</th>\n",
       "      <td>8191-XWSZG</td>\n",
       "      <td>Female</td>\n",
       "      <td>0</td>\n",
       "      <td>No</td>\n",
       "      <td>No</td>\n",
       "      <td>52</td>\n",
       "      <td>Yes</td>\n",
       "      <td>No</td>\n",
       "      <td>No</td>\n",
       "      <td>No internet service</td>\n",
       "      <td>...</td>\n",
       "      <td>No internet service</td>\n",
       "      <td>No internet service</td>\n",
       "      <td>No internet service</td>\n",
       "      <td>No internet service</td>\n",
       "      <td>One year</td>\n",
       "      <td>No</td>\n",
       "      <td>Mailed check</td>\n",
       "      <td>20.65</td>\n",
       "      <td>1022.95</td>\n",
       "      <td>No</td>\n",
       "    </tr>\n",
       "    <tr>\n",
       "      <th>17</th>\n",
       "      <td>9959-WOFKT</td>\n",
       "      <td>Male</td>\n",
       "      <td>0</td>\n",
       "      <td>No</td>\n",
       "      <td>Yes</td>\n",
       "      <td>71</td>\n",
       "      <td>Yes</td>\n",
       "      <td>Yes</td>\n",
       "      <td>Fiber optic</td>\n",
       "      <td>Yes</td>\n",
       "      <td>...</td>\n",
       "      <td>Yes</td>\n",
       "      <td>No</td>\n",
       "      <td>Yes</td>\n",
       "      <td>Yes</td>\n",
       "      <td>Two year</td>\n",
       "      <td>No</td>\n",
       "      <td>Bank transfer (automatic)</td>\n",
       "      <td>106.70</td>\n",
       "      <td>7382.25</td>\n",
       "      <td>No</td>\n",
       "    </tr>\n",
       "    <tr>\n",
       "      <th>18</th>\n",
       "      <td>4190-MFLUW</td>\n",
       "      <td>Female</td>\n",
       "      <td>0</td>\n",
       "      <td>Yes</td>\n",
       "      <td>Yes</td>\n",
       "      <td>10</td>\n",
       "      <td>Yes</td>\n",
       "      <td>No</td>\n",
       "      <td>DSL</td>\n",
       "      <td>No</td>\n",
       "      <td>...</td>\n",
       "      <td>Yes</td>\n",
       "      <td>Yes</td>\n",
       "      <td>No</td>\n",
       "      <td>No</td>\n",
       "      <td>Month-to-month</td>\n",
       "      <td>No</td>\n",
       "      <td>Credit card (automatic)</td>\n",
       "      <td>55.20</td>\n",
       "      <td>528.35</td>\n",
       "      <td>Yes</td>\n",
       "    </tr>\n",
       "    <tr>\n",
       "      <th>19</th>\n",
       "      <td>4183-MYFRB</td>\n",
       "      <td>Female</td>\n",
       "      <td>0</td>\n",
       "      <td>No</td>\n",
       "      <td>No</td>\n",
       "      <td>21</td>\n",
       "      <td>Yes</td>\n",
       "      <td>No</td>\n",
       "      <td>Fiber optic</td>\n",
       "      <td>No</td>\n",
       "      <td>...</td>\n",
       "      <td>Yes</td>\n",
       "      <td>No</td>\n",
       "      <td>No</td>\n",
       "      <td>Yes</td>\n",
       "      <td>Month-to-month</td>\n",
       "      <td>Yes</td>\n",
       "      <td>Electronic check</td>\n",
       "      <td>90.05</td>\n",
       "      <td>1862.9</td>\n",
       "      <td>No</td>\n",
       "    </tr>\n",
       "  </tbody>\n",
       "</table>\n",
       "<p>20 rows × 21 columns</p>\n",
       "</div>"
      ],
      "text/plain": [
       "    customerID  gender  SeniorCitizen Partner Dependents  tenure PhoneService  \\\n",
       "0   7590-VHVEG  Female              0     Yes         No       1           No   \n",
       "1   5575-GNVDE    Male              0      No         No      34          Yes   \n",
       "2   3668-QPYBK    Male              0      No         No       2          Yes   \n",
       "3   7795-CFOCW    Male              0      No         No      45           No   \n",
       "4   9237-HQITU  Female              0      No         No       2          Yes   \n",
       "5   9305-CDSKC  Female              0      No         No       8          Yes   \n",
       "6   1452-KIOVK    Male              0      No        Yes      22          Yes   \n",
       "7   6713-OKOMC  Female              0      No         No      10           No   \n",
       "8   7892-POOKP  Female              0     Yes         No      28          Yes   \n",
       "9   6388-TABGU    Male              0      No        Yes      62          Yes   \n",
       "10  9763-GRSKD    Male              0     Yes        Yes      13          Yes   \n",
       "11  7469-LKBCI    Male              0      No         No      16          Yes   \n",
       "12  8091-TTVAX    Male              0     Yes         No      58          Yes   \n",
       "13  0280-XJGEX    Male              0      No         No      49          Yes   \n",
       "14  5129-JLPIS    Male              0      No         No      25          Yes   \n",
       "15  3655-SNQYZ  Female              0     Yes        Yes      69          Yes   \n",
       "16  8191-XWSZG  Female              0      No         No      52          Yes   \n",
       "17  9959-WOFKT    Male              0      No        Yes      71          Yes   \n",
       "18  4190-MFLUW  Female              0     Yes        Yes      10          Yes   \n",
       "19  4183-MYFRB  Female              0      No         No      21          Yes   \n",
       "\n",
       "       MultipleLines InternetService       OnlineSecurity  ...  \\\n",
       "0   No phone service             DSL                   No  ...   \n",
       "1                 No             DSL                  Yes  ...   \n",
       "2                 No             DSL                  Yes  ...   \n",
       "3   No phone service             DSL                  Yes  ...   \n",
       "4                 No     Fiber optic                   No  ...   \n",
       "5                Yes     Fiber optic                   No  ...   \n",
       "6                Yes     Fiber optic                   No  ...   \n",
       "7   No phone service             DSL                  Yes  ...   \n",
       "8                Yes     Fiber optic                   No  ...   \n",
       "9                 No             DSL                  Yes  ...   \n",
       "10                No             DSL                  Yes  ...   \n",
       "11                No              No  No internet service  ...   \n",
       "12               Yes     Fiber optic                   No  ...   \n",
       "13               Yes     Fiber optic                   No  ...   \n",
       "14                No     Fiber optic                  Yes  ...   \n",
       "15               Yes     Fiber optic                  Yes  ...   \n",
       "16                No              No  No internet service  ...   \n",
       "17               Yes     Fiber optic                  Yes  ...   \n",
       "18                No             DSL                   No  ...   \n",
       "19                No     Fiber optic                   No  ...   \n",
       "\n",
       "       DeviceProtection          TechSupport          StreamingTV  \\\n",
       "0                    No                   No                   No   \n",
       "1                   Yes                   No                   No   \n",
       "2                    No                   No                   No   \n",
       "3                   Yes                  Yes                   No   \n",
       "4                    No                   No                   No   \n",
       "5                   Yes                   No                  Yes   \n",
       "6                    No                   No                  Yes   \n",
       "7                    No                   No                   No   \n",
       "8                   Yes                  Yes                  Yes   \n",
       "9                    No                   No                   No   \n",
       "10                   No                   No                   No   \n",
       "11  No internet service  No internet service  No internet service   \n",
       "12                  Yes                   No                  Yes   \n",
       "13                  Yes                   No                  Yes   \n",
       "14                  Yes                  Yes                  Yes   \n",
       "15                  Yes                  Yes                  Yes   \n",
       "16  No internet service  No internet service  No internet service   \n",
       "17                  Yes                   No                  Yes   \n",
       "18                  Yes                  Yes                   No   \n",
       "19                  Yes                   No                   No   \n",
       "\n",
       "        StreamingMovies        Contract PaperlessBilling  \\\n",
       "0                    No  Month-to-month              Yes   \n",
       "1                    No        One year               No   \n",
       "2                    No  Month-to-month              Yes   \n",
       "3                    No        One year               No   \n",
       "4                    No  Month-to-month              Yes   \n",
       "5                   Yes  Month-to-month              Yes   \n",
       "6                    No  Month-to-month              Yes   \n",
       "7                    No  Month-to-month               No   \n",
       "8                   Yes  Month-to-month              Yes   \n",
       "9                    No        One year               No   \n",
       "10                   No  Month-to-month              Yes   \n",
       "11  No internet service        Two year               No   \n",
       "12                  Yes        One year               No   \n",
       "13                  Yes  Month-to-month              Yes   \n",
       "14                  Yes  Month-to-month              Yes   \n",
       "15                  Yes        Two year               No   \n",
       "16  No internet service        One year               No   \n",
       "17                  Yes        Two year               No   \n",
       "18                   No  Month-to-month               No   \n",
       "19                  Yes  Month-to-month              Yes   \n",
       "\n",
       "                PaymentMethod MonthlyCharges  TotalCharges Churn  \n",
       "0            Electronic check          29.85         29.85    No  \n",
       "1                Mailed check          56.95        1889.5    No  \n",
       "2                Mailed check          53.85        108.15   Yes  \n",
       "3   Bank transfer (automatic)          42.30       1840.75    No  \n",
       "4            Electronic check          70.70        151.65   Yes  \n",
       "5            Electronic check          99.65         820.5   Yes  \n",
       "6     Credit card (automatic)          89.10        1949.4    No  \n",
       "7                Mailed check          29.75         301.9    No  \n",
       "8            Electronic check         104.80       3046.05   Yes  \n",
       "9   Bank transfer (automatic)          56.15       3487.95    No  \n",
       "10               Mailed check          49.95        587.45    No  \n",
       "11    Credit card (automatic)          18.95         326.8    No  \n",
       "12    Credit card (automatic)         100.35        5681.1    No  \n",
       "13  Bank transfer (automatic)         103.70        5036.3   Yes  \n",
       "14           Electronic check         105.50       2686.05    No  \n",
       "15    Credit card (automatic)         113.25       7895.15    No  \n",
       "16               Mailed check          20.65       1022.95    No  \n",
       "17  Bank transfer (automatic)         106.70       7382.25    No  \n",
       "18    Credit card (automatic)          55.20        528.35   Yes  \n",
       "19           Electronic check          90.05        1862.9    No  \n",
       "\n",
       "[20 rows x 21 columns]"
      ]
     },
     "execution_count": 2,
     "metadata": {},
     "output_type": "execute_result"
    }
   ],
   "source": [
    "data = pd.read_csv(\"Data/WA_Fn-UseC_-Telco-Customer-Churn.csv\")\n",
    "data.head(20)"
   ]
  },
  {
   "cell_type": "markdown",
   "id": "7001a339",
   "metadata": {},
   "source": [
    "## Removing and checking for duplicates"
   ]
  },
  {
   "cell_type": "code",
   "execution_count": 3,
   "id": "0f3d3289",
   "metadata": {},
   "outputs": [
    {
     "data": {
      "text/plain": [
       "0"
      ]
     },
     "execution_count": 3,
     "metadata": {},
     "output_type": "execute_result"
    }
   ],
   "source": [
    "data.duplicated().sum() # Check for duplicates in the data"
   ]
  },
  {
   "cell_type": "markdown",
   "id": "84768dd2",
   "metadata": {},
   "source": [
    "No duplicates in the data"
   ]
  },
  {
   "cell_type": "code",
   "execution_count": 4,
   "id": "1155d0ce",
   "metadata": {},
   "outputs": [],
   "source": [
    "data.drop(columns='customerID', inplace=True) # Drop the customerID as it is a unique identifier and does not have any meaning towards analysis as we already have index rows"
   ]
  },
  {
   "cell_type": "markdown",
   "id": "780cb9b8",
   "metadata": {},
   "source": [
    "## Identifying Data Types"
   ]
  },
  {
   "cell_type": "code",
   "execution_count": 5,
   "id": "952bad6f",
   "metadata": {},
   "outputs": [
    {
     "name": "stdout",
     "output_type": "stream",
     "text": [
      "<class 'pandas.core.frame.DataFrame'>\n",
      "RangeIndex: 7043 entries, 0 to 7042\n",
      "Data columns (total 20 columns):\n",
      " #   Column            Non-Null Count  Dtype  \n",
      "---  ------            --------------  -----  \n",
      " 0   gender            7043 non-null   object \n",
      " 1   SeniorCitizen     7043 non-null   int64  \n",
      " 2   Partner           7043 non-null   object \n",
      " 3   Dependents        7043 non-null   object \n",
      " 4   tenure            7043 non-null   int64  \n",
      " 5   PhoneService      7043 non-null   object \n",
      " 6   MultipleLines     7043 non-null   object \n",
      " 7   InternetService   7043 non-null   object \n",
      " 8   OnlineSecurity    7043 non-null   object \n",
      " 9   OnlineBackup      7043 non-null   object \n",
      " 10  DeviceProtection  7043 non-null   object \n",
      " 11  TechSupport       7043 non-null   object \n",
      " 12  StreamingTV       7043 non-null   object \n",
      " 13  StreamingMovies   7043 non-null   object \n",
      " 14  Contract          7043 non-null   object \n",
      " 15  PaperlessBilling  7043 non-null   object \n",
      " 16  PaymentMethod     7043 non-null   object \n",
      " 17  MonthlyCharges    7043 non-null   float64\n",
      " 18  TotalCharges      7043 non-null   object \n",
      " 19  Churn             7043 non-null   object \n",
      "dtypes: float64(1), int64(2), object(17)\n",
      "memory usage: 1.1+ MB\n"
     ]
    }
   ],
   "source": [
    "data.info()"
   ]
  },
  {
   "cell_type": "code",
   "execution_count": 6,
   "id": "9b461fe5",
   "metadata": {},
   "outputs": [
    {
     "data": {
      "application/vnd.microsoft.datawrangler.viewer.v0+json": {
       "columns": [
        {
         "name": "index",
         "rawType": "object",
         "type": "string"
        },
        {
         "name": "gender",
         "rawType": "object",
         "type": "unknown"
        },
        {
         "name": "Partner",
         "rawType": "object",
         "type": "unknown"
        },
        {
         "name": "Dependents",
         "rawType": "object",
         "type": "unknown"
        },
        {
         "name": "PhoneService",
         "rawType": "object",
         "type": "unknown"
        },
        {
         "name": "MultipleLines",
         "rawType": "object",
         "type": "unknown"
        },
        {
         "name": "InternetService",
         "rawType": "object",
         "type": "unknown"
        },
        {
         "name": "OnlineSecurity",
         "rawType": "object",
         "type": "unknown"
        },
        {
         "name": "OnlineBackup",
         "rawType": "object",
         "type": "unknown"
        },
        {
         "name": "DeviceProtection",
         "rawType": "object",
         "type": "unknown"
        },
        {
         "name": "TechSupport",
         "rawType": "object",
         "type": "unknown"
        },
        {
         "name": "StreamingTV",
         "rawType": "object",
         "type": "unknown"
        },
        {
         "name": "StreamingMovies",
         "rawType": "object",
         "type": "unknown"
        },
        {
         "name": "Contract",
         "rawType": "object",
         "type": "unknown"
        },
        {
         "name": "PaperlessBilling",
         "rawType": "object",
         "type": "unknown"
        },
        {
         "name": "PaymentMethod",
         "rawType": "object",
         "type": "unknown"
        },
        {
         "name": "TotalCharges",
         "rawType": "object",
         "type": "unknown"
        },
        {
         "name": "Churn",
         "rawType": "object",
         "type": "unknown"
        }
       ],
       "ref": "539a4528-3d4c-41cf-a0b0-faf20c08b1f3",
       "rows": [
        [
         "count",
         "7043",
         "7043",
         "7043",
         "7043",
         "7043",
         "7043",
         "7043",
         "7043",
         "7043",
         "7043",
         "7043",
         "7043",
         "7043",
         "7043",
         "7043",
         "7043",
         "7043"
        ],
        [
         "unique",
         "2",
         "2",
         "2",
         "2",
         "3",
         "3",
         "3",
         "3",
         "3",
         "3",
         "3",
         "3",
         "3",
         "2",
         "4",
         "6531",
         "2"
        ],
        [
         "top",
         "Male",
         "No",
         "No",
         "Yes",
         "No",
         "Fiber optic",
         "No",
         "No",
         "No",
         "No",
         "No",
         "No",
         "Month-to-month",
         "Yes",
         "Electronic check",
         " ",
         "No"
        ],
        [
         "freq",
         "3555",
         "3641",
         "4933",
         "6361",
         "3390",
         "3096",
         "3498",
         "3088",
         "3095",
         "3473",
         "2810",
         "2785",
         "3875",
         "4171",
         "2365",
         "11",
         "5174"
        ]
       ],
       "shape": {
        "columns": 17,
        "rows": 4
       }
      },
      "text/html": [
       "<div>\n",
       "<style scoped>\n",
       "    .dataframe tbody tr th:only-of-type {\n",
       "        vertical-align: middle;\n",
       "    }\n",
       "\n",
       "    .dataframe tbody tr th {\n",
       "        vertical-align: top;\n",
       "    }\n",
       "\n",
       "    .dataframe thead th {\n",
       "        text-align: right;\n",
       "    }\n",
       "</style>\n",
       "<table border=\"1\" class=\"dataframe\">\n",
       "  <thead>\n",
       "    <tr style=\"text-align: right;\">\n",
       "      <th></th>\n",
       "      <th>gender</th>\n",
       "      <th>Partner</th>\n",
       "      <th>Dependents</th>\n",
       "      <th>PhoneService</th>\n",
       "      <th>MultipleLines</th>\n",
       "      <th>InternetService</th>\n",
       "      <th>OnlineSecurity</th>\n",
       "      <th>OnlineBackup</th>\n",
       "      <th>DeviceProtection</th>\n",
       "      <th>TechSupport</th>\n",
       "      <th>StreamingTV</th>\n",
       "      <th>StreamingMovies</th>\n",
       "      <th>Contract</th>\n",
       "      <th>PaperlessBilling</th>\n",
       "      <th>PaymentMethod</th>\n",
       "      <th>TotalCharges</th>\n",
       "      <th>Churn</th>\n",
       "    </tr>\n",
       "  </thead>\n",
       "  <tbody>\n",
       "    <tr>\n",
       "      <th>count</th>\n",
       "      <td>7043</td>\n",
       "      <td>7043</td>\n",
       "      <td>7043</td>\n",
       "      <td>7043</td>\n",
       "      <td>7043</td>\n",
       "      <td>7043</td>\n",
       "      <td>7043</td>\n",
       "      <td>7043</td>\n",
       "      <td>7043</td>\n",
       "      <td>7043</td>\n",
       "      <td>7043</td>\n",
       "      <td>7043</td>\n",
       "      <td>7043</td>\n",
       "      <td>7043</td>\n",
       "      <td>7043</td>\n",
       "      <td>7043</td>\n",
       "      <td>7043</td>\n",
       "    </tr>\n",
       "    <tr>\n",
       "      <th>unique</th>\n",
       "      <td>2</td>\n",
       "      <td>2</td>\n",
       "      <td>2</td>\n",
       "      <td>2</td>\n",
       "      <td>3</td>\n",
       "      <td>3</td>\n",
       "      <td>3</td>\n",
       "      <td>3</td>\n",
       "      <td>3</td>\n",
       "      <td>3</td>\n",
       "      <td>3</td>\n",
       "      <td>3</td>\n",
       "      <td>3</td>\n",
       "      <td>2</td>\n",
       "      <td>4</td>\n",
       "      <td>6531</td>\n",
       "      <td>2</td>\n",
       "    </tr>\n",
       "    <tr>\n",
       "      <th>top</th>\n",
       "      <td>Male</td>\n",
       "      <td>No</td>\n",
       "      <td>No</td>\n",
       "      <td>Yes</td>\n",
       "      <td>No</td>\n",
       "      <td>Fiber optic</td>\n",
       "      <td>No</td>\n",
       "      <td>No</td>\n",
       "      <td>No</td>\n",
       "      <td>No</td>\n",
       "      <td>No</td>\n",
       "      <td>No</td>\n",
       "      <td>Month-to-month</td>\n",
       "      <td>Yes</td>\n",
       "      <td>Electronic check</td>\n",
       "      <td></td>\n",
       "      <td>No</td>\n",
       "    </tr>\n",
       "    <tr>\n",
       "      <th>freq</th>\n",
       "      <td>3555</td>\n",
       "      <td>3641</td>\n",
       "      <td>4933</td>\n",
       "      <td>6361</td>\n",
       "      <td>3390</td>\n",
       "      <td>3096</td>\n",
       "      <td>3498</td>\n",
       "      <td>3088</td>\n",
       "      <td>3095</td>\n",
       "      <td>3473</td>\n",
       "      <td>2810</td>\n",
       "      <td>2785</td>\n",
       "      <td>3875</td>\n",
       "      <td>4171</td>\n",
       "      <td>2365</td>\n",
       "      <td>11</td>\n",
       "      <td>5174</td>\n",
       "    </tr>\n",
       "  </tbody>\n",
       "</table>\n",
       "</div>"
      ],
      "text/plain": [
       "       gender Partner Dependents PhoneService MultipleLines InternetService  \\\n",
       "count    7043    7043       7043         7043          7043            7043   \n",
       "unique      2       2          2            2             3               3   \n",
       "top      Male      No         No          Yes            No     Fiber optic   \n",
       "freq     3555    3641       4933         6361          3390            3096   \n",
       "\n",
       "       OnlineSecurity OnlineBackup DeviceProtection TechSupport StreamingTV  \\\n",
       "count            7043         7043             7043        7043        7043   \n",
       "unique              3            3                3           3           3   \n",
       "top                No           No               No          No          No   \n",
       "freq             3498         3088             3095        3473        2810   \n",
       "\n",
       "       StreamingMovies        Contract PaperlessBilling     PaymentMethod  \\\n",
       "count             7043            7043             7043              7043   \n",
       "unique               3               3                2                 4   \n",
       "top                 No  Month-to-month              Yes  Electronic check   \n",
       "freq              2785            3875             4171              2365   \n",
       "\n",
       "       TotalCharges Churn  \n",
       "count          7043  7043  \n",
       "unique         6531     2  \n",
       "top                    No  \n",
       "freq             11  5174  "
      ]
     },
     "execution_count": 6,
     "metadata": {},
     "output_type": "execute_result"
    }
   ],
   "source": [
    "data.describe(include='object')"
   ]
  },
  {
   "cell_type": "code",
   "execution_count": 7,
   "id": "50ab60b9",
   "metadata": {},
   "outputs": [
    {
     "data": {
      "application/vnd.microsoft.datawrangler.viewer.v0+json": {
       "columns": [
        {
         "name": "TotalCharges",
         "rawType": "object",
         "type": "string"
        },
        {
         "name": "count",
         "rawType": "int64",
         "type": "integer"
        }
       ],
       "ref": "48c85ac2-7219-437e-9640-296ca27d003c",
       "rows": [
        [
         " ",
         "11"
        ],
        [
         "20.2",
         "11"
        ],
        [
         "19.75",
         "9"
        ],
        [
         "20.05",
         "8"
        ],
        [
         "19.9",
         "8"
        ],
        [
         "19.65",
         "8"
        ],
        [
         "45.3",
         "7"
        ],
        [
         "19.55",
         "7"
        ],
        [
         "20.15",
         "6"
        ],
        [
         "20.25",
         "6"
        ],
        [
         "19.45",
         "6"
        ],
        [
         "20.3",
         "5"
        ],
        [
         "20.45",
         "5"
        ],
        [
         "19.85",
         "4"
        ],
        [
         "69.9",
         "4"
        ],
        [
         "20.4",
         "4"
        ],
        [
         "70.6",
         "4"
        ],
        [
         "19.2",
         "4"
        ],
        [
         "69.65",
         "4"
        ],
        [
         "44",
         "4"
        ],
        [
         "44.4",
         "4"
        ],
        [
         "20.5",
         "4"
        ],
        [
         "49.9",
         "4"
        ],
        [
         "74.7",
         "4"
        ],
        [
         "19.3",
         "4"
        ],
        [
         "19.95",
         "4"
        ],
        [
         "19.5",
         "4"
        ],
        [
         "75.3",
         "4"
        ],
        [
         "50.15",
         "4"
        ],
        [
         "20.35",
         "4"
        ],
        [
         "69.6",
         "4"
        ],
        [
         "19.4",
         "4"
        ],
        [
         "69.95",
         "4"
        ],
        [
         "19.25",
         "3"
        ],
        [
         "70.45",
         "3"
        ],
        [
         "1284.2",
         "3"
        ],
        [
         "69.25",
         "3"
        ],
        [
         "74.3",
         "3"
        ],
        [
         "20.9",
         "3"
        ],
        [
         "220.45",
         "3"
        ],
        [
         "20.55",
         "3"
        ],
        [
         "69.1",
         "3"
        ],
        [
         "20.1",
         "3"
        ],
        [
         "305.55",
         "3"
        ],
        [
         "50.6",
         "3"
        ],
        [
         "74.6",
         "3"
        ],
        [
         "20",
         "3"
        ],
        [
         "45.85",
         "3"
        ],
        [
         "44.75",
         "3"
        ],
        [
         "70.15",
         "3"
        ]
       ],
       "shape": {
        "columns": 1,
        "rows": 6531
       }
      },
      "text/plain": [
       "TotalCharges\n",
       "          11\n",
       "20.2      11\n",
       "19.75      9\n",
       "20.05      8\n",
       "19.9       8\n",
       "          ..\n",
       "6849.4     1\n",
       "692.35     1\n",
       "130.15     1\n",
       "3211.9     1\n",
       "6844.5     1\n",
       "Name: count, Length: 6531, dtype: int64"
      ]
     },
     "execution_count": 7,
     "metadata": {},
     "output_type": "execute_result"
    }
   ],
   "source": [
    "data['TotalCharges'].value_counts()"
   ]
  },
  {
   "cell_type": "markdown",
   "id": "1c8f8ff4",
   "metadata": {},
   "source": [
    "## Removing Null Values"
   ]
  },
  {
   "cell_type": "code",
   "execution_count": 8,
   "id": "cae4b31a",
   "metadata": {},
   "outputs": [],
   "source": [
    "data.drop(labels=data[data['tenure'] == 0].index, axis=0, inplace=True) # We can remove the null values in the dataset as the null in the TotalCharges col is only 11 out off 7044 rows, a small amount of number\n",
    "\n",
    "data['TotalCharges'] = data['TotalCharges'].astype('float64')\n",
    "\n",
    "data['SeniorCitizen'] = data['SeniorCitizen'].map({\n",
    "    0:'No',\n",
    "    1:'Yes'\n",
    "}).astype(object)"
   ]
  },
  {
   "cell_type": "code",
   "execution_count": 9,
   "id": "9a44e480",
   "metadata": {},
   "outputs": [
    {
     "name": "stdout",
     "output_type": "stream",
     "text": [
      "<class 'pandas.core.frame.DataFrame'>\n",
      "Index: 7032 entries, 0 to 7042\n",
      "Data columns (total 20 columns):\n",
      " #   Column            Non-Null Count  Dtype  \n",
      "---  ------            --------------  -----  \n",
      " 0   gender            7032 non-null   object \n",
      " 1   SeniorCitizen     7032 non-null   object \n",
      " 2   Partner           7032 non-null   object \n",
      " 3   Dependents        7032 non-null   object \n",
      " 4   tenure            7032 non-null   int64  \n",
      " 5   PhoneService      7032 non-null   object \n",
      " 6   MultipleLines     7032 non-null   object \n",
      " 7   InternetService   7032 non-null   object \n",
      " 8   OnlineSecurity    7032 non-null   object \n",
      " 9   OnlineBackup      7032 non-null   object \n",
      " 10  DeviceProtection  7032 non-null   object \n",
      " 11  TechSupport       7032 non-null   object \n",
      " 12  StreamingTV       7032 non-null   object \n",
      " 13  StreamingMovies   7032 non-null   object \n",
      " 14  Contract          7032 non-null   object \n",
      " 15  PaperlessBilling  7032 non-null   object \n",
      " 16  PaymentMethod     7032 non-null   object \n",
      " 17  MonthlyCharges    7032 non-null   float64\n",
      " 18  TotalCharges      7032 non-null   float64\n",
      " 19  Churn             7032 non-null   object \n",
      "dtypes: float64(2), int64(1), object(17)\n",
      "memory usage: 1.1+ MB\n"
     ]
    }
   ],
   "source": [
    "data.info()"
   ]
  },
  {
   "cell_type": "code",
   "execution_count": 10,
   "id": "00774836",
   "metadata": {},
   "outputs": [
    {
     "data": {
      "application/vnd.microsoft.datawrangler.viewer.v0+json": {
       "columns": [
        {
         "name": "index",
         "rawType": "object",
         "type": "string"
        },
        {
         "name": "tenure",
         "rawType": "float64",
         "type": "float"
        },
        {
         "name": "MonthlyCharges",
         "rawType": "float64",
         "type": "float"
        },
        {
         "name": "TotalCharges",
         "rawType": "float64",
         "type": "float"
        }
       ],
       "ref": "d9eb4ab0-b404-460c-84db-5e834efd3d43",
       "rows": [
        [
         "count",
         "7032.0",
         "7032.0",
         "7032.0"
        ],
        [
         "mean",
         "32.421786120591584",
         "64.79820819112628",
         "2283.300440841866"
        ],
        [
         "std",
         "24.545259709263256",
         "30.085973884049842",
         "2266.771361883145"
        ],
        [
         "min",
         "1.0",
         "18.25",
         "18.8"
        ],
        [
         "25%",
         "9.0",
         "35.5875",
         "401.45"
        ],
        [
         "50%",
         "29.0",
         "70.35",
         "1397.475"
        ],
        [
         "75%",
         "55.0",
         "89.8625",
         "3794.7375"
        ],
        [
         "max",
         "72.0",
         "118.75",
         "8684.8"
        ]
       ],
       "shape": {
        "columns": 3,
        "rows": 8
       }
      },
      "text/html": [
       "<div>\n",
       "<style scoped>\n",
       "    .dataframe tbody tr th:only-of-type {\n",
       "        vertical-align: middle;\n",
       "    }\n",
       "\n",
       "    .dataframe tbody tr th {\n",
       "        vertical-align: top;\n",
       "    }\n",
       "\n",
       "    .dataframe thead th {\n",
       "        text-align: right;\n",
       "    }\n",
       "</style>\n",
       "<table border=\"1\" class=\"dataframe\">\n",
       "  <thead>\n",
       "    <tr style=\"text-align: right;\">\n",
       "      <th></th>\n",
       "      <th>tenure</th>\n",
       "      <th>MonthlyCharges</th>\n",
       "      <th>TotalCharges</th>\n",
       "    </tr>\n",
       "  </thead>\n",
       "  <tbody>\n",
       "    <tr>\n",
       "      <th>count</th>\n",
       "      <td>7032.000000</td>\n",
       "      <td>7032.000000</td>\n",
       "      <td>7032.000000</td>\n",
       "    </tr>\n",
       "    <tr>\n",
       "      <th>mean</th>\n",
       "      <td>32.421786</td>\n",
       "      <td>64.798208</td>\n",
       "      <td>2283.300441</td>\n",
       "    </tr>\n",
       "    <tr>\n",
       "      <th>std</th>\n",
       "      <td>24.545260</td>\n",
       "      <td>30.085974</td>\n",
       "      <td>2266.771362</td>\n",
       "    </tr>\n",
       "    <tr>\n",
       "      <th>min</th>\n",
       "      <td>1.000000</td>\n",
       "      <td>18.250000</td>\n",
       "      <td>18.800000</td>\n",
       "    </tr>\n",
       "    <tr>\n",
       "      <th>25%</th>\n",
       "      <td>9.000000</td>\n",
       "      <td>35.587500</td>\n",
       "      <td>401.450000</td>\n",
       "    </tr>\n",
       "    <tr>\n",
       "      <th>50%</th>\n",
       "      <td>29.000000</td>\n",
       "      <td>70.350000</td>\n",
       "      <td>1397.475000</td>\n",
       "    </tr>\n",
       "    <tr>\n",
       "      <th>75%</th>\n",
       "      <td>55.000000</td>\n",
       "      <td>89.862500</td>\n",
       "      <td>3794.737500</td>\n",
       "    </tr>\n",
       "    <tr>\n",
       "      <th>max</th>\n",
       "      <td>72.000000</td>\n",
       "      <td>118.750000</td>\n",
       "      <td>8684.800000</td>\n",
       "    </tr>\n",
       "  </tbody>\n",
       "</table>\n",
       "</div>"
      ],
      "text/plain": [
       "            tenure  MonthlyCharges  TotalCharges\n",
       "count  7032.000000     7032.000000   7032.000000\n",
       "mean     32.421786       64.798208   2283.300441\n",
       "std      24.545260       30.085974   2266.771362\n",
       "min       1.000000       18.250000     18.800000\n",
       "25%       9.000000       35.587500    401.450000\n",
       "50%      29.000000       70.350000   1397.475000\n",
       "75%      55.000000       89.862500   3794.737500\n",
       "max      72.000000      118.750000   8684.800000"
      ]
     },
     "execution_count": 10,
     "metadata": {},
     "output_type": "execute_result"
    }
   ],
   "source": [
    "data.describe(include=['float64','int64'])"
   ]
  },
  {
   "cell_type": "code",
   "execution_count": 11,
   "id": "01c01de5",
   "metadata": {},
   "outputs": [
    {
     "data": {
      "application/vnd.microsoft.datawrangler.viewer.v0+json": {
       "columns": [
        {
         "name": "index",
         "rawType": "object",
         "type": "string"
        },
        {
         "name": "gender",
         "rawType": "object",
         "type": "unknown"
        },
        {
         "name": "SeniorCitizen",
         "rawType": "object",
         "type": "unknown"
        },
        {
         "name": "Partner",
         "rawType": "object",
         "type": "unknown"
        },
        {
         "name": "Dependents",
         "rawType": "object",
         "type": "unknown"
        },
        {
         "name": "PhoneService",
         "rawType": "object",
         "type": "unknown"
        },
        {
         "name": "MultipleLines",
         "rawType": "object",
         "type": "unknown"
        },
        {
         "name": "InternetService",
         "rawType": "object",
         "type": "unknown"
        },
        {
         "name": "OnlineSecurity",
         "rawType": "object",
         "type": "unknown"
        },
        {
         "name": "OnlineBackup",
         "rawType": "object",
         "type": "unknown"
        },
        {
         "name": "DeviceProtection",
         "rawType": "object",
         "type": "unknown"
        },
        {
         "name": "TechSupport",
         "rawType": "object",
         "type": "unknown"
        },
        {
         "name": "StreamingTV",
         "rawType": "object",
         "type": "unknown"
        },
        {
         "name": "StreamingMovies",
         "rawType": "object",
         "type": "unknown"
        },
        {
         "name": "Contract",
         "rawType": "object",
         "type": "unknown"
        },
        {
         "name": "PaperlessBilling",
         "rawType": "object",
         "type": "unknown"
        },
        {
         "name": "PaymentMethod",
         "rawType": "object",
         "type": "unknown"
        },
        {
         "name": "Churn",
         "rawType": "object",
         "type": "unknown"
        }
       ],
       "ref": "7124ebc7-25f2-456d-a3a2-018ccd4a3e07",
       "rows": [
        [
         "count",
         "7032",
         "7032",
         "7032",
         "7032",
         "7032",
         "7032",
         "7032",
         "7032",
         "7032",
         "7032",
         "7032",
         "7032",
         "7032",
         "7032",
         "7032",
         "7032",
         "7032"
        ],
        [
         "unique",
         "2",
         "2",
         "2",
         "2",
         "2",
         "3",
         "3",
         "3",
         "3",
         "3",
         "3",
         "3",
         "3",
         "3",
         "2",
         "4",
         "2"
        ],
        [
         "top",
         "Male",
         "No",
         "No",
         "No",
         "Yes",
         "No",
         "Fiber optic",
         "No",
         "No",
         "No",
         "No",
         "No",
         "No",
         "Month-to-month",
         "Yes",
         "Electronic check",
         "No"
        ],
        [
         "freq",
         "3549",
         "5890",
         "3639",
         "4933",
         "6352",
         "3385",
         "3096",
         "3497",
         "3087",
         "3094",
         "3472",
         "2809",
         "2781",
         "3875",
         "4168",
         "2365",
         "5163"
        ]
       ],
       "shape": {
        "columns": 17,
        "rows": 4
       }
      },
      "text/html": [
       "<div>\n",
       "<style scoped>\n",
       "    .dataframe tbody tr th:only-of-type {\n",
       "        vertical-align: middle;\n",
       "    }\n",
       "\n",
       "    .dataframe tbody tr th {\n",
       "        vertical-align: top;\n",
       "    }\n",
       "\n",
       "    .dataframe thead th {\n",
       "        text-align: right;\n",
       "    }\n",
       "</style>\n",
       "<table border=\"1\" class=\"dataframe\">\n",
       "  <thead>\n",
       "    <tr style=\"text-align: right;\">\n",
       "      <th></th>\n",
       "      <th>gender</th>\n",
       "      <th>SeniorCitizen</th>\n",
       "      <th>Partner</th>\n",
       "      <th>Dependents</th>\n",
       "      <th>PhoneService</th>\n",
       "      <th>MultipleLines</th>\n",
       "      <th>InternetService</th>\n",
       "      <th>OnlineSecurity</th>\n",
       "      <th>OnlineBackup</th>\n",
       "      <th>DeviceProtection</th>\n",
       "      <th>TechSupport</th>\n",
       "      <th>StreamingTV</th>\n",
       "      <th>StreamingMovies</th>\n",
       "      <th>Contract</th>\n",
       "      <th>PaperlessBilling</th>\n",
       "      <th>PaymentMethod</th>\n",
       "      <th>Churn</th>\n",
       "    </tr>\n",
       "  </thead>\n",
       "  <tbody>\n",
       "    <tr>\n",
       "      <th>count</th>\n",
       "      <td>7032</td>\n",
       "      <td>7032</td>\n",
       "      <td>7032</td>\n",
       "      <td>7032</td>\n",
       "      <td>7032</td>\n",
       "      <td>7032</td>\n",
       "      <td>7032</td>\n",
       "      <td>7032</td>\n",
       "      <td>7032</td>\n",
       "      <td>7032</td>\n",
       "      <td>7032</td>\n",
       "      <td>7032</td>\n",
       "      <td>7032</td>\n",
       "      <td>7032</td>\n",
       "      <td>7032</td>\n",
       "      <td>7032</td>\n",
       "      <td>7032</td>\n",
       "    </tr>\n",
       "    <tr>\n",
       "      <th>unique</th>\n",
       "      <td>2</td>\n",
       "      <td>2</td>\n",
       "      <td>2</td>\n",
       "      <td>2</td>\n",
       "      <td>2</td>\n",
       "      <td>3</td>\n",
       "      <td>3</td>\n",
       "      <td>3</td>\n",
       "      <td>3</td>\n",
       "      <td>3</td>\n",
       "      <td>3</td>\n",
       "      <td>3</td>\n",
       "      <td>3</td>\n",
       "      <td>3</td>\n",
       "      <td>2</td>\n",
       "      <td>4</td>\n",
       "      <td>2</td>\n",
       "    </tr>\n",
       "    <tr>\n",
       "      <th>top</th>\n",
       "      <td>Male</td>\n",
       "      <td>No</td>\n",
       "      <td>No</td>\n",
       "      <td>No</td>\n",
       "      <td>Yes</td>\n",
       "      <td>No</td>\n",
       "      <td>Fiber optic</td>\n",
       "      <td>No</td>\n",
       "      <td>No</td>\n",
       "      <td>No</td>\n",
       "      <td>No</td>\n",
       "      <td>No</td>\n",
       "      <td>No</td>\n",
       "      <td>Month-to-month</td>\n",
       "      <td>Yes</td>\n",
       "      <td>Electronic check</td>\n",
       "      <td>No</td>\n",
       "    </tr>\n",
       "    <tr>\n",
       "      <th>freq</th>\n",
       "      <td>3549</td>\n",
       "      <td>5890</td>\n",
       "      <td>3639</td>\n",
       "      <td>4933</td>\n",
       "      <td>6352</td>\n",
       "      <td>3385</td>\n",
       "      <td>3096</td>\n",
       "      <td>3497</td>\n",
       "      <td>3087</td>\n",
       "      <td>3094</td>\n",
       "      <td>3472</td>\n",
       "      <td>2809</td>\n",
       "      <td>2781</td>\n",
       "      <td>3875</td>\n",
       "      <td>4168</td>\n",
       "      <td>2365</td>\n",
       "      <td>5163</td>\n",
       "    </tr>\n",
       "  </tbody>\n",
       "</table>\n",
       "</div>"
      ],
      "text/plain": [
       "       gender SeniorCitizen Partner Dependents PhoneService MultipleLines  \\\n",
       "count    7032          7032    7032       7032         7032          7032   \n",
       "unique      2             2       2          2            2             3   \n",
       "top      Male            No      No         No          Yes            No   \n",
       "freq     3549          5890    3639       4933         6352          3385   \n",
       "\n",
       "       InternetService OnlineSecurity OnlineBackup DeviceProtection  \\\n",
       "count             7032           7032         7032             7032   \n",
       "unique               3              3            3                3   \n",
       "top        Fiber optic             No           No               No   \n",
       "freq              3096           3497         3087             3094   \n",
       "\n",
       "       TechSupport StreamingTV StreamingMovies        Contract  \\\n",
       "count         7032        7032            7032            7032   \n",
       "unique           3           3               3               3   \n",
       "top             No          No              No  Month-to-month   \n",
       "freq          3472        2809            2781            3875   \n",
       "\n",
       "       PaperlessBilling     PaymentMethod Churn  \n",
       "count              7032              7032  7032  \n",
       "unique                2                 4     2  \n",
       "top                 Yes  Electronic check    No  \n",
       "freq               4168              2365  5163  "
      ]
     },
     "execution_count": 11,
     "metadata": {},
     "output_type": "execute_result"
    }
   ],
   "source": [
    "data.describe(include=['object'])"
   ]
  },
  {
   "cell_type": "markdown",
   "id": "9605207c",
   "metadata": {},
   "source": [
    "All the datatype has been properly put into its respective data tyes"
   ]
  },
  {
   "cell_type": "markdown",
   "id": "f0965824",
   "metadata": {},
   "source": [
    "There are some data in the data set that are wrongly put in to the catgory as \"No phone service\", and \"No internet service\" which is similar to \"No\". Thus, these values can be replaced with \"No\""
   ]
  },
  {
   "cell_type": "code",
   "execution_count": 12,
   "id": "528a16c7",
   "metadata": {},
   "outputs": [],
   "source": [
    "for col in data.columns:\n",
    "    if data[col].dtype == 'object':\n",
    "        if 'No internet service' in data[col].unique() or 'No phone service' in data[col].unique():\n",
    "            data[col] = data[col].replace({'No internet service': 'No', 'No phone service': 'No'})"
   ]
  },
  {
   "cell_type": "markdown",
   "id": "6028c021",
   "metadata": {},
   "source": [
    "# Exploratory Data Analysis"
   ]
  },
  {
   "cell_type": "markdown",
   "id": "156d9a4f",
   "metadata": {},
   "source": [
    "## Numerical Data\n"
   ]
  },
  {
   "cell_type": "code",
   "execution_count": 13,
   "id": "b091b1a0",
   "metadata": {},
   "outputs": [
    {
     "data": {
      "image/png": "[encoded data removed]",
      "text/plain": [
       "<Figure size 2000x500 with 3 Axes>"
      ]
     },
     "metadata": {},
     "output_type": "display_data"
    }
   ],
   "source": [
    "CatCols = data.select_dtypes(include=['object']).columns.tolist()\n",
    "NumCols = data.select_dtypes(exclude=['object']).columns.tolist()\n",
    "\n",
    "fig, axes = plt.subplots(nrows=1, ncols=3, figsize=(20, 5))\n",
    "\n",
    "# Create a title for the main figure\n",
    "fig.suptitle('Comparison of Spread of Numerical Dataset', fontsize=20)\n",
    "\n",
    "for i, col in enumerate(NumCols):\n",
    "    z=i-1\n",
    "    sns.boxplot(data=data, x='Churn', y=col, ax=axes[z])\n",
    "    axes[z].set_title(col)\n",
    "\n",
    "plt.show()"
   ]
  },
  {
   "cell_type": "markdown",
   "id": "9e91c238",
   "metadata": {},
   "source": [
    "There are multiple ways to handle outliers. One of the methods is using the Interquartile Range (**IQR**). To decide on whether a data is an outlier, we can observe the equation:\n",
    "\n",
    "$$Upper~Fence = Q_3+1.5(IQR)$$\n",
    "$$Lower~Fence = Q_1-1.5(IQR)$$\n",
    "\n",
    "Any values which are above the upper fence and below the lower fence, can be classified as outliers. These data points that are classified as outliers have to be relocated and identified on the dataset to see if the values are influential outliers, or if there is a mistake in the entry itself. Once the outliers have been identified, method on how to handle the outliers should be determined, either to remove or to edit the data itself due to errors.\n",
    "\n",
    "However, in this dataset if these outliers are removed, it would introduce bias towards the the un-churned group as most outliers are represented in the churned gorup and will be unrepresented. Thus, the outliers are meaningful towards the interpretation of the data and will not be removed from the dataset."
   ]
  },
  {
   "cell_type": "code",
   "execution_count": 14,
   "id": "78e162b6",
   "metadata": {},
   "outputs": [
    {
     "name": "stderr",
     "output_type": "stream",
     "text": [
      "C:\\Users\\user\\AppData\\Local\\Temp\\ipykernel_18896\\2294415660.py:2: FutureWarning: \n",
      "\n",
      "`shade` is now deprecated in favor of `fill`; setting `fill=True`.\n",
      "This will become an error in seaborn v0.14.0; please update your code.\n",
      "\n",
      "  ax = sns.kdeplot(data.MonthlyCharges[(data[\"Churn\"] == \"No\") ],\n",
      "C:\\Users\\user\\AppData\\Local\\Temp\\ipykernel_18896\\2294415660.py:4: FutureWarning: \n",
      "\n",
      "`shade` is now deprecated in favor of `fill`; setting `fill=True`.\n",
      "This will become an error in seaborn v0.14.0; please update your code.\n",
      "\n",
      "  ax = sns.kdeplot(data.MonthlyCharges[(data[\"Churn\"] == 'Yes') ],\n"
     ]
    },
    {
     "data": {
      "image/png": "[encoded data removed]",
      "text/plain": [
       "<Figure size 640x480 with 1 Axes>"
      ]
     },
     "metadata": {},
     "output_type": "display_data"
    }
   ],
   "source": [
    "sns.set_context(\"paper\",font_scale=1.1)\n",
    "ax = sns.kdeplot(data.MonthlyCharges[(data[\"Churn\"] == \"No\") ],\n",
    "                color=\"Red\", shade = True);\n",
    "ax = sns.kdeplot(data.MonthlyCharges[(data[\"Churn\"] == 'Yes') ],\n",
    "                ax =ax, color=\"Blue\", shade= True);\n",
    "ax.legend([\"Not Churn\",\"Churn\"],loc='upper right');\n",
    "ax.set_ylabel('Density');\n",
    "ax.set_xlabel('Monthly Charges');\n",
    "ax.set_title('Distribution of monthly charges by churn')\n",
    "plt.show()\n"
   ]
  },
  {
   "cell_type": "markdown",
   "id": "5cc4027e",
   "metadata": {},
   "source": [
    "Customers with higher Monthly Charges are also more likely to churn"
   ]
  },
  {
   "cell_type": "code",
   "execution_count": 15,
   "id": "63e3144e",
   "metadata": {},
   "outputs": [
    {
     "name": "stderr",
     "output_type": "stream",
     "text": [
      "C:\\Users\\user\\AppData\\Local\\Temp\\ipykernel_18896\\98750494.py:1: FutureWarning: \n",
      "\n",
      "`shade` is now deprecated in favor of `fill`; setting `fill=True`.\n",
      "This will become an error in seaborn v0.14.0; please update your code.\n",
      "\n",
      "  ax = sns.kdeplot(data.TotalCharges[(data[\"Churn\"] == 'No') ],\n",
      "C:\\Users\\user\\AppData\\Local\\Temp\\ipykernel_18896\\98750494.py:3: FutureWarning: \n",
      "\n",
      "`shade` is now deprecated in favor of `fill`; setting `fill=True`.\n",
      "This will become an error in seaborn v0.14.0; please update your code.\n",
      "\n",
      "  ax = sns.kdeplot(data.TotalCharges[(data[\"Churn\"] == 'Yes') ],\n"
     ]
    },
    {
     "data": {
      "image/png": "[encoded data removed]",
      "text/plain": [
       "<Figure size 640x480 with 1 Axes>"
      ]
     },
     "metadata": {},
     "output_type": "display_data"
    }
   ],
   "source": [
    "ax = sns.kdeplot(data.TotalCharges[(data[\"Churn\"] == 'No') ],\n",
    "                color=\"Gold\", shade = True);\n",
    "ax = sns.kdeplot(data.TotalCharges[(data[\"Churn\"] == 'Yes') ],\n",
    "                ax =ax, color=\"Green\", shade= True);\n",
    "ax.legend([\"Not Chu0rn\",\"Churn\"],loc='upper right');\n",
    "ax.set_ylabel('Density');\n",
    "ax.set_xlabel('Total Charges');\n",
    "ax.set_title('Distribution of total charges by churn')\n",
    "plt.show()"
   ]
  },
  {
   "cell_type": "markdown",
   "id": "bf66a58b",
   "metadata": {},
   "source": [
    "## Categorical Data"
   ]
  },
  {
   "cell_type": "code",
   "execution_count": 16,
   "id": "b82f4cdd",
   "metadata": {},
   "outputs": [
    {
     "data": {
      "image/png": "[encoded data removed]",
      "text/plain": [
       "<Figure size 1000x2000 with 18 Axes>"
      ]
     },
     "metadata": {},
     "output_type": "display_data"
    }
   ],
   "source": [
    "pies = CatCols\n",
    "\n",
    "# Create a figure with subplots\n",
    "fig, axes = plt.subplots(nrows=int(len(pies)/2)+1, ncols=2, figsize=(10, 20))\n",
    "\n",
    "fig.suptitle('Comparison of Original Data and Cleaned Data', fontsize=20)\n",
    "\n",
    "axes = axes.flatten()\n",
    "\n",
    "# Define the rainbow color palette\n",
    "colors = plt.cm.rainbow(np.linspace(0, 1, 10))\n",
    "\n",
    "# Create a for loop to produce each pie plot\n",
    "for a, column in enumerate(pies):\n",
    "    i=a-1\n",
    "    # Plot data\n",
    "    data_counts = data[column].value_counts()\n",
    "    axes[i].pie(x=data[column].value_counts(), autopct='%1.1f%%', labels=data[column].dropna().unique())\n",
    "    axes[i].set_title(f'{column}')\n",
    "    axes[i].set_xlabel('')\n",
    "    axes[i].set_ylabel('')\n",
    "\n",
    "# Adjust layout\n",
    "plt.tight_layout(rect=[0, 0, 1, 0.98])\n",
    "plt.show()"
   ]
  },
  {
   "cell_type": "markdown",
   "id": "dd79428b",
   "metadata": {},
   "source": [
    "From the pie plots of the categorical data, it can be seen that majority of the data is related to \"No\". The target variable of \"Churn\" also is imbalanced with only 1/4 of the data being in the Yes category. However, other data not related to the service provider such as demographic data and PaymentMethod are relatively more balanced."
   ]
  },
  {
   "cell_type": "markdown",
   "id": "2896931d",
   "metadata": {},
   "source": [
    "## Categorical Data in relation to Customer Churn"
   ]
  },
  {
   "cell_type": "code",
   "execution_count": 17,
   "id": "eff88a64",
   "metadata": {},
   "outputs": [
    {
     "data": {
      "image/png": "[encoded data removed]",
      "text/plain": [
       "<Figure size 640x480 with 1 Axes>"
      ]
     },
     "metadata": {},
     "output_type": "display_data"
    }
   ],
   "source": [
    "sns.countplot(data, x=\"Churn\", hue=\"Dependents\")\n",
    "plt.title(\"Dependents distribution\")\n",
    "plt.show()"
   ]
  },
  {
   "cell_type": "markdown",
   "id": "c95021cd",
   "metadata": {},
   "source": [
    "Customers without dependents are more likely to churn"
   ]
  },
  {
   "cell_type": "code",
   "execution_count": 18,
   "id": "8fe79f99",
   "metadata": {},
   "outputs": [
    {
     "data": {
      "image/png": "[encoded data removed]",
      "text/plain": [
       "<Figure size 640x480 with 1 Axes>"
      ]
     },
     "metadata": {},
     "output_type": "display_data"
    }
   ],
   "source": [
    "sns.countplot(data, x=\"Churn\", hue=\"Partner\")\n",
    "plt.title(\"Partner distribution\")\n",
    "plt.show()"
   ]
  },
  {
   "cell_type": "markdown",
   "id": "3d8c61bb",
   "metadata": {},
   "source": [
    "Customers that doesn't have partners are more likely to churn"
   ]
  },
  {
   "cell_type": "markdown",
   "id": "ac027d93",
   "metadata": {},
   "source": [
    "# Data Preparation"
   ]
  },
  {
   "cell_type": "code",
   "execution_count": 13,
   "id": "2a42e70c",
   "metadata": {},
   "outputs": [
    {
     "ename": "NameError",
     "evalue": "name 'NumCols' is not defined",
     "output_type": "error",
     "traceback": [
      "\u001b[1;31m---------------------------------------------------------------------------\u001b[0m",
      "\u001b[1;31mNameError\u001b[0m                                 Traceback (most recent call last)",
      "Cell \u001b[1;32mIn[13], line 1\u001b[0m\n\u001b[1;32m----> 1\u001b[0m pairs \u001b[38;5;241m=\u001b[39m \u001b[43mNumCols\u001b[49m \u001b[38;5;241m+\u001b[39m [\u001b[38;5;124m'\u001b[39m\u001b[38;5;124mChurn\u001b[39m\u001b[38;5;124m'\u001b[39m]\n\u001b[0;32m      3\u001b[0m sns\u001b[38;5;241m.\u001b[39mpairplot(data[pairs], hue\u001b[38;5;241m=\u001b[39m\u001b[38;5;124m'\u001b[39m\u001b[38;5;124mChurn\u001b[39m\u001b[38;5;124m'\u001b[39m)\n\u001b[0;32m      4\u001b[0m plt\u001b[38;5;241m.\u001b[39mshow()\n",
      "\u001b[1;31mNameError\u001b[0m: name 'NumCols' is not defined"
     ]
    }
   ],
   "source": [
    "pairs = NumCols + ['Churn']\n",
    "\n",
    "sns.pairplot(data[pairs], hue='Churn')\n",
    "plt.show()"
   ]
  },
  {
   "cell_type": "markdown",
   "id": "a989046b",
   "metadata": {},
   "source": [
    "Some numerical features show linear relationship such as monthly charges and total charges. This would make sense as the TotalCharges is the sum of the MonthlyCharges which may introduce multicolinearity."
   ]
  },
  {
   "cell_type": "markdown",
   "id": "8282b00f",
   "metadata": {},
   "source": [
    "## Convert to numerical form"
   ]
  },
  {
   "cell_type": "code",
   "execution_count": 14,
   "id": "5be84dff",
   "metadata": {},
   "outputs": [],
   "source": [
    "def object_to_int(dataframe_series):\n",
    "    if dataframe_series.dtype=='object':\n",
    "        dataframe_series = LabelEncoder().fit_transform(dataframe_series)\n",
    "    return dataframe_series"
   ]
  },
  {
   "cell_type": "code",
   "execution_count": 15,
   "id": "6782ee81",
   "metadata": {},
   "outputs": [
    {
     "data": {
      "application/vnd.microsoft.datawrangler.viewer.v0+json": {
       "columns": [
        {
         "name": "index",
         "rawType": "int64",
         "type": "integer"
        },
        {
         "name": "gender",
         "rawType": "int32",
         "type": "integer"
        },
        {
         "name": "SeniorCitizen",
         "rawType": "int32",
         "type": "integer"
        },
        {
         "name": "Partner",
         "rawType": "int32",
         "type": "integer"
        },
        {
         "name": "Dependents",
         "rawType": "int32",
         "type": "integer"
        },
        {
         "name": "tenure",
         "rawType": "int64",
         "type": "integer"
        },
        {
         "name": "PhoneService",
         "rawType": "int32",
         "type": "integer"
        },
        {
         "name": "MultipleLines",
         "rawType": "int32",
         "type": "integer"
        },
        {
         "name": "InternetService",
         "rawType": "int32",
         "type": "integer"
        },
        {
         "name": "OnlineSecurity",
         "rawType": "int32",
         "type": "integer"
        },
        {
         "name": "OnlineBackup",
         "rawType": "int32",
         "type": "integer"
        },
        {
         "name": "DeviceProtection",
         "rawType": "int32",
         "type": "integer"
        },
        {
         "name": "TechSupport",
         "rawType": "int32",
         "type": "integer"
        },
        {
         "name": "StreamingTV",
         "rawType": "int32",
         "type": "integer"
        },
        {
         "name": "StreamingMovies",
         "rawType": "int32",
         "type": "integer"
        },
        {
         "name": "Contract",
         "rawType": "int32",
         "type": "integer"
        },
        {
         "name": "PaperlessBilling",
         "rawType": "int32",
         "type": "integer"
        },
        {
         "name": "PaymentMethod",
         "rawType": "int32",
         "type": "integer"
        },
        {
         "name": "MonthlyCharges",
         "rawType": "float64",
         "type": "float"
        },
        {
         "name": "TotalCharges",
         "rawType": "float64",
         "type": "float"
        },
        {
         "name": "Churn",
         "rawType": "int32",
         "type": "integer"
        }
       ],
       "ref": "2715798f-8c8a-475b-a53d-05fbc3817d02",
       "rows": [
        [
         "0",
         "0",
         "0",
         "1",
         "0",
         "1",
         "0",
         "0",
         "0",
         "0",
         "1",
         "0",
         "0",
         "0",
         "0",
         "0",
         "1",
         "2",
         "29.85",
         "29.85",
         "0"
        ],
        [
         "1",
         "1",
         "0",
         "0",
         "0",
         "34",
         "1",
         "0",
         "0",
         "1",
         "0",
         "1",
         "0",
         "0",
         "0",
         "1",
         "0",
         "3",
         "56.95",
         "1889.5",
         "0"
        ],
        [
         "2",
         "1",
         "0",
         "0",
         "0",
         "2",
         "1",
         "0",
         "0",
         "1",
         "1",
         "0",
         "0",
         "0",
         "0",
         "0",
         "1",
         "3",
         "53.85",
         "108.15",
         "1"
        ],
        [
         "3",
         "1",
         "0",
         "0",
         "0",
         "45",
         "0",
         "0",
         "0",
         "1",
         "0",
         "1",
         "1",
         "0",
         "0",
         "1",
         "0",
         "0",
         "42.3",
         "1840.75",
         "0"
        ],
        [
         "4",
         "0",
         "0",
         "0",
         "0",
         "2",
         "1",
         "0",
         "1",
         "0",
         "0",
         "0",
         "0",
         "0",
         "0",
         "0",
         "1",
         "2",
         "70.7",
         "151.65",
         "1"
        ]
       ],
       "shape": {
        "columns": 20,
        "rows": 5
       }
      },
      "text/html": [
       "<div>\n",
       "<style scoped>\n",
       "    .dataframe tbody tr th:only-of-type {\n",
       "        vertical-align: middle;\n",
       "    }\n",
       "\n",
       "    .dataframe tbody tr th {\n",
       "        vertical-align: top;\n",
       "    }\n",
       "\n",
       "    .dataframe thead th {\n",
       "        text-align: right;\n",
       "    }\n",
       "</style>\n",
       "<table border=\"1\" class=\"dataframe\">\n",
       "  <thead>\n",
       "    <tr style=\"text-align: right;\">\n",
       "      <th></th>\n",
       "      <th>gender</th>\n",
       "      <th>SeniorCitizen</th>\n",
       "      <th>Partner</th>\n",
       "      <th>Dependents</th>\n",
       "      <th>tenure</th>\n",
       "      <th>PhoneService</th>\n",
       "      <th>MultipleLines</th>\n",
       "      <th>InternetService</th>\n",
       "      <th>OnlineSecurity</th>\n",
       "      <th>OnlineBackup</th>\n",
       "      <th>DeviceProtection</th>\n",
       "      <th>TechSupport</th>\n",
       "      <th>StreamingTV</th>\n",
       "      <th>StreamingMovies</th>\n",
       "      <th>Contract</th>\n",
       "      <th>PaperlessBilling</th>\n",
       "      <th>PaymentMethod</th>\n",
       "      <th>MonthlyCharges</th>\n",
       "      <th>TotalCharges</th>\n",
       "      <th>Churn</th>\n",
       "    </tr>\n",
       "  </thead>\n",
       "  <tbody>\n",
       "    <tr>\n",
       "      <th>0</th>\n",
       "      <td>0</td>\n",
       "      <td>0</td>\n",
       "      <td>1</td>\n",
       "      <td>0</td>\n",
       "      <td>1</td>\n",
       "      <td>0</td>\n",
       "      <td>0</td>\n",
       "      <td>0</td>\n",
       "      <td>0</td>\n",
       "      <td>1</td>\n",
       "      <td>0</td>\n",
       "      <td>0</td>\n",
       "      <td>0</td>\n",
       "      <td>0</td>\n",
       "      <td>0</td>\n",
       "      <td>1</td>\n",
       "      <td>2</td>\n",
       "      <td>29.85</td>\n",
       "      <td>29.85</td>\n",
       "      <td>0</td>\n",
       "    </tr>\n",
       "    <tr>\n",
       "      <th>1</th>\n",
       "      <td>1</td>\n",
       "      <td>0</td>\n",
       "      <td>0</td>\n",
       "      <td>0</td>\n",
       "      <td>34</td>\n",
       "      <td>1</td>\n",
       "      <td>0</td>\n",
       "      <td>0</td>\n",
       "      <td>1</td>\n",
       "      <td>0</td>\n",
       "      <td>1</td>\n",
       "      <td>0</td>\n",
       "      <td>0</td>\n",
       "      <td>0</td>\n",
       "      <td>1</td>\n",
       "      <td>0</td>\n",
       "      <td>3</td>\n",
       "      <td>56.95</td>\n",
       "      <td>1889.50</td>\n",
       "      <td>0</td>\n",
       "    </tr>\n",
       "    <tr>\n",
       "      <th>2</th>\n",
       "      <td>1</td>\n",
       "      <td>0</td>\n",
       "      <td>0</td>\n",
       "      <td>0</td>\n",
       "      <td>2</td>\n",
       "      <td>1</td>\n",
       "      <td>0</td>\n",
       "      <td>0</td>\n",
       "      <td>1</td>\n",
       "      <td>1</td>\n",
       "      <td>0</td>\n",
       "      <td>0</td>\n",
       "      <td>0</td>\n",
       "      <td>0</td>\n",
       "      <td>0</td>\n",
       "      <td>1</td>\n",
       "      <td>3</td>\n",
       "      <td>53.85</td>\n",
       "      <td>108.15</td>\n",
       "      <td>1</td>\n",
       "    </tr>\n",
       "    <tr>\n",
       "      <th>3</th>\n",
       "      <td>1</td>\n",
       "      <td>0</td>\n",
       "      <td>0</td>\n",
       "      <td>0</td>\n",
       "      <td>45</td>\n",
       "      <td>0</td>\n",
       "      <td>0</td>\n",
       "      <td>0</td>\n",
       "      <td>1</td>\n",
       "      <td>0</td>\n",
       "      <td>1</td>\n",
       "      <td>1</td>\n",
       "      <td>0</td>\n",
       "      <td>0</td>\n",
       "      <td>1</td>\n",
       "      <td>0</td>\n",
       "      <td>0</td>\n",
       "      <td>42.30</td>\n",
       "      <td>1840.75</td>\n",
       "      <td>0</td>\n",
       "    </tr>\n",
       "    <tr>\n",
       "      <th>4</th>\n",
       "      <td>0</td>\n",
       "      <td>0</td>\n",
       "      <td>0</td>\n",
       "      <td>0</td>\n",
       "      <td>2</td>\n",
       "      <td>1</td>\n",
       "      <td>0</td>\n",
       "      <td>1</td>\n",
       "      <td>0</td>\n",
       "      <td>0</td>\n",
       "      <td>0</td>\n",
       "      <td>0</td>\n",
       "      <td>0</td>\n",
       "      <td>0</td>\n",
       "      <td>0</td>\n",
       "      <td>1</td>\n",
       "      <td>2</td>\n",
       "      <td>70.70</td>\n",
       "      <td>151.65</td>\n",
       "      <td>1</td>\n",
       "    </tr>\n",
       "  </tbody>\n",
       "</table>\n",
       "</div>"
      ],
      "text/plain": [
       "   gender  SeniorCitizen  Partner  Dependents  tenure  PhoneService  \\\n",
       "0       0              0        1           0       1             0   \n",
       "1       1              0        0           0      34             1   \n",
       "2       1              0        0           0       2             1   \n",
       "3       1              0        0           0      45             0   \n",
       "4       0              0        0           0       2             1   \n",
       "\n",
       "   MultipleLines  InternetService  OnlineSecurity  OnlineBackup  \\\n",
       "0              0                0               0             1   \n",
       "1              0                0               1             0   \n",
       "2              0                0               1             1   \n",
       "3              0                0               1             0   \n",
       "4              0                1               0             0   \n",
       "\n",
       "   DeviceProtection  TechSupport  StreamingTV  StreamingMovies  Contract  \\\n",
       "0                 0            0            0                0         0   \n",
       "1                 1            0            0                0         1   \n",
       "2                 0            0            0                0         0   \n",
       "3                 1            1            0                0         1   \n",
       "4                 0            0            0                0         0   \n",
       "\n",
       "   PaperlessBilling  PaymentMethod  MonthlyCharges  TotalCharges  Churn  \n",
       "0                 1              2           29.85         29.85      0  \n",
       "1                 0              3           56.95       1889.50      0  \n",
       "2                 1              3           53.85        108.15      1  \n",
       "3                 0              0           42.30       1840.75      0  \n",
       "4                 1              2           70.70        151.65      1  "
      ]
     },
     "execution_count": 15,
     "metadata": {},
     "output_type": "execute_result"
    }
   ],
   "source": [
    "data = data.apply(lambda x: object_to_int(x))\n",
    "data.head()"
   ]
  },
  {
   "cell_type": "code",
   "execution_count": 18,
   "id": "007cbac3",
   "metadata": {},
   "outputs": [
    {
     "data": {
      "application/vnd.microsoft.datawrangler.viewer.v0+json": {
       "columns": [
        {
         "name": "Contract",
         "rawType": "int32",
         "type": "integer"
        },
        {
         "name": "count",
         "rawType": "int64",
         "type": "integer"
        }
       ],
       "ref": "dd843c8a-9d6b-45c5-bb9a-71031587ab1d",
       "rows": [
        [
         "0",
         "3875"
        ],
        [
         "2",
         "1685"
        ],
        [
         "1",
         "1472"
        ]
       ],
       "shape": {
        "columns": 1,
        "rows": 3
       }
      },
      "text/plain": [
       "Contract\n",
       "0    3875\n",
       "2    1685\n",
       "1    1472\n",
       "Name: count, dtype: int64"
      ]
     },
     "execution_count": 18,
     "metadata": {},
     "output_type": "execute_result"
    }
   ],
   "source": [
    "data.Contract.value_counts()"
   ]
  },
  {
   "cell_type": "code",
   "execution_count": 22,
   "id": "0f5460ea",
   "metadata": {},
   "outputs": [],
   "source": [
    "X = data.drop(columns='Churn')\n",
    "y = data['Churn']"
   ]
  },
  {
   "cell_type": "markdown",
   "id": "f0cbfe0f",
   "metadata": {},
   "source": [
    "# Data Preprocessing"
   ]
  },
  {
   "cell_type": "code",
   "execution_count": null,
   "id": "05d28a52",
   "metadata": {},
   "outputs": [],
   "source": []
  },
  {
   "cell_type": "markdown",
   "id": "f62053d6",
   "metadata": {},
   "source": [
    "## Train Test Split"
   ]
  },
  {
   "cell_type": "code",
   "execution_count": 23,
   "id": "4e5072fa",
   "metadata": {},
   "outputs": [],
   "source": [
    "# Train-test split\n",
    "X_train, X_test, y_train, y_test = train_test_split(X, y, test_size=0.3, random_state=42, stratify=y)"
   ]
  },
  {
   "cell_type": "markdown",
   "id": "d585ef77",
   "metadata": {},
   "source": [
    "## Scaling"
   ]
  },
  {
   "cell_type": "code",
   "execution_count": 24,
   "id": "ff3b7fb4",
   "metadata": {},
   "outputs": [],
   "source": [
    "scaler = StandardScaler()\n",
    "\n",
    "X_train[NumCols] = scaler.fit_transform(X_train[NumCols])\n",
    "X_test[NumCols] = scaler.transform(X_test[NumCols])"
   ]
  },
  {
   "cell_type": "markdown",
   "id": "d3bffd1e",
   "metadata": {},
   "source": [
    "## Dimension Reducsion"
   ]
  },
  {
   "cell_type": "code",
   "execution_count": 25,
   "id": "c290f25d",
   "metadata": {},
   "outputs": [],
   "source": [
    "pca = PCA()\n",
    "\n",
    "data_pca = pca.fit_transform(X_train)"
   ]
  },
  {
   "cell_type": "code",
   "execution_count": 26,
   "id": "6ea6400e",
   "metadata": {},
   "outputs": [
    {
     "data": {
      "image/png": "[encoded data removed]",
      "text/plain": [
       "<Figure size 1000x600 with 1 Axes>"
      ]
     },
     "metadata": {},
     "output_type": "display_data"
    }
   ],
   "source": [
    "# Scree plot\n",
    "plt.figure(figsize=(10, 6))\n",
    "plt.plot(range(1, pca.n_components_ + 1), pca.explained_variance_ratio_, marker='o')\n",
    "plt.title('Scree Plot')\n",
    "plt.xlabel('Principal Component')\n",
    "plt.ylabel('Variance Explained')\n",
    "plt.xticks(range(1, pca.n_components_ + 1))\n",
    "plt.grid()\n",
    "plt.show()"
   ]
  },
  {
   "cell_type": "markdown",
   "id": "9a6deac5",
   "metadata": {},
   "source": [
    "Elbow can be seen at the 5 principle components, thus the 5 components will be used for the model building"
   ]
  },
  {
   "cell_type": "code",
   "execution_count": 27,
   "id": "1f7e869c",
   "metadata": {},
   "outputs": [
    {
     "name": "stdout",
     "output_type": "stream",
     "text": [
      "Total Variance for 5 Principle Components is : 78.39%\n"
     ]
    }
   ],
   "source": [
    "print(f\"Total Variance for 5 Principle Components is : {np.cumsum(pca.explained_variance_ratio_)[5]*100:.2f}%\")"
   ]
  },
  {
   "cell_type": "code",
   "execution_count": 28,
   "id": "38fb3257",
   "metadata": {},
   "outputs": [],
   "source": [
    "# Reduce the number of components\n",
    "pca_reduced = PCA(n_components=5)\n",
    "X_train = pca_reduced.fit_transform(X_train)\n",
    "X_test = pca_reduced.transform(X_test)"
   ]
  },
  {
   "cell_type": "markdown",
   "id": "5183b5df",
   "metadata": {},
   "source": [
    "# Model Building"
   ]
  },
  {
   "cell_type": "code",
   "execution_count": 29,
   "id": "5ad7e026",
   "metadata": {},
   "outputs": [],
   "source": [
    "# Initialize df to store results\n",
    "results_df = pd.DataFrame(columns=['Model Name','Model', 'Accuracy', 'Confusion Matrix', 'Classification Report', 'ROC AUC', 'Precision', 'Recall', 'F1-Score'])\n",
    "\n",
    "# Create a function to evaluate models and store results in results_df\n",
    "def evaluate_model(model, model_name=None):\n",
    "    model.fit(X_train, y_train)\n",
    "    y_pred = model.predict(X_test)\n",
    "    \n",
    "    accuracy = accuracy_score(y_test, y_pred)\n",
    "    conf_matrix = confusion_matrix(y_test, y_pred)\n",
    "    class_report = classification_report(y_test, y_pred, output_dict=True)\n",
    "    \n",
    "    # Calculate ROC AUC\n",
    "    if hasattr(model, \"predict_proba\"):\n",
    "        y_proba = model.predict_proba(X_test)[:, 1]\n",
    "        roc_auc = roc_auc_score(y_test, y_proba)\n",
    "    else:\n",
    "        roc_auc = None\n",
    "    \n",
    "    results_df.loc[len(results_df)] = [\n",
    "        model_name,\n",
    "        model,\n",
    "        accuracy,\n",
    "        conf_matrix,\n",
    "        class_report,\n",
    "        roc_auc,\n",
    "        class_report['1']['precision'],\n",
    "        class_report['1']['recall'],\n",
    "        class_report['1']['f1-score']\n",
    "    ]"
   ]
  },
  {
   "cell_type": "markdown",
   "id": "2f41b959",
   "metadata": {},
   "source": [
    "## A. Random Forest"
   ]
  },
  {
   "cell_type": "code",
   "execution_count": 30,
   "id": "1d589e0f",
   "metadata": {},
   "outputs": [
    {
     "name": "stdout",
     "output_type": "stream",
     "text": [
      "{'max_depth': 5, 'min_samples_split': 3}\n"
     ]
    }
   ],
   "source": [
    "# Random Forest\n",
    "rf_model = RandomForestClassifier(random_state=42)\n",
    "rf_param_grid = [{\n",
    "    'max_depth' : [3,5,10],\n",
    "    'min_samples_split' : [3,5,10]\n",
    "}]\n",
    "\n",
    "grid = GridSearchCV(rf_model, rf_param_grid, cv=5, scoring='roc_auc')\n",
    "grid.fit(X_train, y_train)\n",
    "print(grid.best_params_)"
   ]
  },
  {
   "cell_type": "code",
   "execution_count": 31,
   "id": "323554c3",
   "metadata": {},
   "outputs": [],
   "source": [
    "evaluate_model(RandomForestClassifier(random_state=42, max_depth=10, min_samples_split=10), 'Random Forest')"
   ]
  },
  {
   "cell_type": "markdown",
   "id": "39168835",
   "metadata": {},
   "source": [
    "## B. Support Vector Classifier"
   ]
  },
  {
   "cell_type": "code",
   "execution_count": 32,
   "id": "41bc9d5f",
   "metadata": {},
   "outputs": [
    {
     "data": {
      "text/plain": [
       "{'C': 0.001, 'gamma': 0.5, 'kernel': 'linear'}"
      ]
     },
     "execution_count": 32,
     "metadata": {},
     "output_type": "execute_result"
    }
   ],
   "source": [
    "svc = SVC()\n",
    "svc_param_grid = [{\n",
    "    'C': [0.001, 0.01, 0.1, 1, 5, 10, 100],\n",
    "    'kernel' : ['linear','rbf'],\n",
    "    'gamma': [0.5, 1,2,3,4]\n",
    "}]\n",
    "\n",
    "grid = GridSearchCV(svc, svc_param_grid, cv=5, scoring='roc_auc')\n",
    "grid.fit(X_train, y_train)\n",
    "\n",
    "grid.best_params_"
   ]
  },
  {
   "cell_type": "code",
   "execution_count": 33,
   "id": "9a0d72ad",
   "metadata": {},
   "outputs": [],
   "source": [
    "evaluate_model(SVC(random_state=42, C=100, gamma=0.5, kernel='linear', probability=True), 'Support Vector Classifier')"
   ]
  },
  {
   "cell_type": "code",
   "execution_count": 34,
   "id": "3b925415",
   "metadata": {},
   "outputs": [
    {
     "data": {
      "application/vnd.microsoft.datawrangler.viewer.v0+json": {
       "columns": [
        {
         "name": "index",
         "rawType": "int64",
         "type": "integer"
        },
        {
         "name": "Model Name",
         "rawType": "object",
         "type": "string"
        },
        {
         "name": "Model",
         "rawType": "object",
         "type": "unknown"
        },
        {
         "name": "Accuracy",
         "rawType": "float64",
         "type": "float"
        },
        {
         "name": "Confusion Matrix",
         "rawType": "object",
         "type": "unknown"
        },
        {
         "name": "Classification Report",
         "rawType": "object",
         "type": "unknown"
        },
        {
         "name": "ROC AUC",
         "rawType": "float64",
         "type": "float"
        },
        {
         "name": "Precision",
         "rawType": "float64",
         "type": "float"
        },
        {
         "name": "Recall",
         "rawType": "float64",
         "type": "float"
        },
        {
         "name": "F1-Score",
         "rawType": "float64",
         "type": "float"
        }
       ],
       "ref": "3932e10e-a993-4495-980f-8875b321545c",
       "rows": [
        [
         "0",
         "Random Forest",
         "RandomForestClassifier(max_depth=10, min_samples_split=10, random_state=42)",
         "0.7886255924170616",
         "[[1383  166]\n [ 280  281]]",
         "{'0': {'precision': 0.8316295850871919, 'recall': 0.8928340865074241, 'f1-score': 0.861145703611457, 'support': 1549.0}, '1': {'precision': 0.6286353467561522, 'recall': 0.5008912655971479, 'f1-score': 0.5575396825396826, 'support': 561.0}, 'accuracy': 0.7886255924170616, 'macro avg': {'precision': 0.730132465921672, 'recall': 0.696862676052286, 'f1-score': 0.7093426930755697, 'support': 2110.0}, 'weighted avg': {'precision': 0.7776581311991762, 'recall': 0.7886255924170616, 'f1-score': 0.7804239131748384, 'support': 2110.0}}",
         "0.8248861608144638",
         "0.6286353467561522",
         "0.5008912655971479",
         "0.5575396825396826"
        ],
        [
         "1",
         "Support Vector Classifier",
         "SVC(C=100, gamma=0.5, kernel='linear', probability=True, random_state=42)",
         "0.7838862559241706",
         "[[1370  179]\n [ 277  284]]",
         "{'0': {'precision': 0.8318154219793564, 'recall': 0.8844415752098128, 'f1-score': 0.8573216520650814, 'support': 1549.0}, '1': {'precision': 0.6133909287257019, 'recall': 0.5062388591800356, 'f1-score': 0.5546875, 'support': 561.0}, 'accuracy': 0.7838862559241706, 'macro avg': {'precision': 0.7226031753525292, 'recall': 0.6953402171949242, 'f1-score': 0.7060045760325406, 'support': 2110.0}, 'weighted avg': {'precision': 0.7737414216403515, 'recall': 0.7838862559241706, 'f1-score': 0.7768582590278725, 'support': 2110.0}}",
         "0.8218303108554883",
         "0.6133909287257019",
         "0.5062388591800356",
         "0.5546875"
        ]
       ],
       "shape": {
        "columns": 9,
        "rows": 2
       }
      },
      "text/html": [
       "<div>\n",
       "<style scoped>\n",
       "    .dataframe tbody tr th:only-of-type {\n",
       "        vertical-align: middle;\n",
       "    }\n",
       "\n",
       "    .dataframe tbody tr th {\n",
       "        vertical-align: top;\n",
       "    }\n",
       "\n",
       "    .dataframe thead th {\n",
       "        text-align: right;\n",
       "    }\n",
       "</style>\n",
       "<table border=\"1\" class=\"dataframe\">\n",
       "  <thead>\n",
       "    <tr style=\"text-align: right;\">\n",
       "      <th></th>\n",
       "      <th>Model Name</th>\n",
       "      <th>Model</th>\n",
       "      <th>Accuracy</th>\n",
       "      <th>Confusion Matrix</th>\n",
       "      <th>Classification Report</th>\n",
       "      <th>ROC AUC</th>\n",
       "      <th>Precision</th>\n",
       "      <th>Recall</th>\n",
       "      <th>F1-Score</th>\n",
       "    </tr>\n",
       "  </thead>\n",
       "  <tbody>\n",
       "    <tr>\n",
       "      <th>0</th>\n",
       "      <td>Random Forest</td>\n",
       "      <td>(DecisionTreeClassifier(max_depth=10, max_feat...</td>\n",
       "      <td>0.788626</td>\n",
       "      <td>[[1383, 166], [280, 281]]</td>\n",
       "      <td>{'0': {'precision': 0.8316295850871919, 'recal...</td>\n",
       "      <td>0.824886</td>\n",
       "      <td>0.628635</td>\n",
       "      <td>0.500891</td>\n",
       "      <td>0.557540</td>\n",
       "    </tr>\n",
       "    <tr>\n",
       "      <th>1</th>\n",
       "      <td>Support Vector Classifier</td>\n",
       "      <td>SVC(C=100, gamma=0.5, kernel='linear', probabi...</td>\n",
       "      <td>0.783886</td>\n",
       "      <td>[[1370, 179], [277, 284]]</td>\n",
       "      <td>{'0': {'precision': 0.8318154219793564, 'recal...</td>\n",
       "      <td>0.821830</td>\n",
       "      <td>0.613391</td>\n",
       "      <td>0.506239</td>\n",
       "      <td>0.554688</td>\n",
       "    </tr>\n",
       "  </tbody>\n",
       "</table>\n",
       "</div>"
      ],
      "text/plain": [
       "                  Model Name  \\\n",
       "0              Random Forest   \n",
       "1  Support Vector Classifier   \n",
       "\n",
       "                                               Model  Accuracy  \\\n",
       "0  (DecisionTreeClassifier(max_depth=10, max_feat...  0.788626   \n",
       "1  SVC(C=100, gamma=0.5, kernel='linear', probabi...  0.783886   \n",
       "\n",
       "            Confusion Matrix  \\\n",
       "0  [[1383, 166], [280, 281]]   \n",
       "1  [[1370, 179], [277, 284]]   \n",
       "\n",
       "                               Classification Report   ROC AUC  Precision  \\\n",
       "0  {'0': {'precision': 0.8316295850871919, 'recal...  0.824886   0.628635   \n",
       "1  {'0': {'precision': 0.8318154219793564, 'recal...  0.821830   0.613391   \n",
       "\n",
       "     Recall  F1-Score  \n",
       "0  0.500891  0.557540  \n",
       "1  0.506239  0.554688  "
      ]
     },
     "execution_count": 34,
     "metadata": {},
     "output_type": "execute_result"
    }
   ],
   "source": [
    "results_df"
   ]
  },
  {
   "cell_type": "code",
   "execution_count": 35,
   "id": "b6094e4f",
   "metadata": {},
   "outputs": [
    {
     "data": {
      "application/vnd.microsoft.datawrangler.viewer.v0+json": {
       "columns": [
        {
         "name": "Model Name",
         "rawType": "object",
         "type": "string"
        },
        {
         "name": "Accuracy",
         "rawType": "float64",
         "type": "float"
        },
        {
         "name": "ROC AUC",
         "rawType": "float64",
         "type": "float"
        },
        {
         "name": "Precision",
         "rawType": "float64",
         "type": "float"
        },
        {
         "name": "Recall",
         "rawType": "float64",
         "type": "float"
        },
        {
         "name": "F1-Score",
         "rawType": "float64",
         "type": "float"
        }
       ],
       "ref": "befac4c9-fc62-4154-ade1-7164ea61380d",
       "rows": [
        [
         "Random Forest",
         "0.7886255924170616",
         "0.8248861608144638",
         "0.6286353467561522",
         "0.5008912655971479",
         "0.5575396825396826"
        ],
        [
         "Support Vector Classifier",
         "0.7838862559241706",
         "0.8218303108554883",
         "0.6133909287257019",
         "0.5062388591800356",
         "0.5546875"
        ]
       ],
       "shape": {
        "columns": 5,
        "rows": 2
       }
      },
      "text/html": [
       "<div>\n",
       "<style scoped>\n",
       "    .dataframe tbody tr th:only-of-type {\n",
       "        vertical-align: middle;\n",
       "    }\n",
       "\n",
       "    .dataframe tbody tr th {\n",
       "        vertical-align: top;\n",
       "    }\n",
       "\n",
       "    .dataframe thead th {\n",
       "        text-align: right;\n",
       "    }\n",
       "</style>\n",
       "<table border=\"1\" class=\"dataframe\">\n",
       "  <thead>\n",
       "    <tr style=\"text-align: right;\">\n",
       "      <th></th>\n",
       "      <th>Accuracy</th>\n",
       "      <th>ROC AUC</th>\n",
       "      <th>Precision</th>\n",
       "      <th>Recall</th>\n",
       "      <th>F1-Score</th>\n",
       "    </tr>\n",
       "    <tr>\n",
       "      <th>Model Name</th>\n",
       "      <th></th>\n",
       "      <th></th>\n",
       "      <th></th>\n",
       "      <th></th>\n",
       "      <th></th>\n",
       "    </tr>\n",
       "  </thead>\n",
       "  <tbody>\n",
       "    <tr>\n",
       "      <th>Random Forest</th>\n",
       "      <td>0.788626</td>\n",
       "      <td>0.824886</td>\n",
       "      <td>0.628635</td>\n",
       "      <td>0.500891</td>\n",
       "      <td>0.557540</td>\n",
       "    </tr>\n",
       "    <tr>\n",
       "      <th>Support Vector Classifier</th>\n",
       "      <td>0.783886</td>\n",
       "      <td>0.821830</td>\n",
       "      <td>0.613391</td>\n",
       "      <td>0.506239</td>\n",
       "      <td>0.554688</td>\n",
       "    </tr>\n",
       "  </tbody>\n",
       "</table>\n",
       "</div>"
      ],
      "text/plain": [
       "                           Accuracy   ROC AUC  Precision    Recall  F1-Score\n",
       "Model Name                                                                  \n",
       "Random Forest              0.788626  0.824886   0.628635  0.500891  0.557540\n",
       "Support Vector Classifier  0.783886  0.821830   0.613391  0.506239  0.554688"
      ]
     },
     "execution_count": 35,
     "metadata": {},
     "output_type": "execute_result"
    }
   ],
   "source": [
    "heatmap_data = results_df[['Model Name','Accuracy','ROC AUC','Precision','Recall','F1-Score']].set_index('Model Name')\n",
    "\n",
    "heatmap_data"
   ]
  },
  {
   "cell_type": "markdown",
   "id": "d9b60f52",
   "metadata": {},
   "source": [
    "# Model Evaluation"
   ]
  },
  {
   "cell_type": "markdown",
   "id": "ceb8225f",
   "metadata": {},
   "source": [
    "## Confusion Matrix"
   ]
  },
  {
   "cell_type": "code",
   "execution_count": 36,
   "id": "89f927e1",
   "metadata": {},
   "outputs": [
    {
     "name": "stdout",
     "output_type": "stream",
     "text": [
      "Classification Report for Random Forest:\n"
     ]
    },
    {
     "data": {
      "text/plain": [
       "{'0': {'precision': 0.8316295850871919,\n",
       "  'recall': 0.8928340865074241,\n",
       "  'f1-score': 0.861145703611457,\n",
       "  'support': 1549.0},\n",
       " '1': {'precision': 0.6286353467561522,\n",
       "  'recall': 0.5008912655971479,\n",
       "  'f1-score': 0.5575396825396826,\n",
       "  'support': 561.0},\n",
       " 'accuracy': 0.7886255924170616,\n",
       " 'macro avg': {'precision': 0.730132465921672,\n",
       "  'recall': 0.696862676052286,\n",
       "  'f1-score': 0.7093426930755697,\n",
       "  'support': 2110.0},\n",
       " 'weighted avg': {'precision': 0.7776581311991762,\n",
       "  'recall': 0.7886255924170616,\n",
       "  'f1-score': 0.7804239131748384,\n",
       "  'support': 2110.0}}"
      ]
     },
     "execution_count": 36,
     "metadata": {},
     "output_type": "execute_result"
    }
   ],
   "source": [
    "print(\"Classification Report for Random Forest:\")\n",
    "results_df.iloc[0,4]"
   ]
  },
  {
   "cell_type": "code",
   "execution_count": 37,
   "id": "179ef09e",
   "metadata": {},
   "outputs": [
    {
     "name": "stdout",
     "output_type": "stream",
     "text": [
      "Confusion Matrix for Random Forest:\n"
     ]
    },
    {
     "data": {
      "image/png": "[encoded data removed]",
      "text/plain": [
       "<Figure size 640x480 with 2 Axes>"
      ]
     },
     "metadata": {},
     "output_type": "display_data"
    }
   ],
   "source": [
    "print(\"Confusion Matrix for Random Forest:\")\n",
    "sns.heatmap(results_df.iloc[0,3], annot=True, fmt=\"d\")\n",
    "plt.show()"
   ]
  },
  {
   "cell_type": "code",
   "execution_count": 38,
   "id": "9de91868",
   "metadata": {},
   "outputs": [
    {
     "name": "stdout",
     "output_type": "stream",
     "text": [
      "Classification Report for SVC:\n"
     ]
    },
    {
     "data": {
      "text/plain": [
       "{'0': {'precision': 0.8318154219793564,\n",
       "  'recall': 0.8844415752098128,\n",
       "  'f1-score': 0.8573216520650814,\n",
       "  'support': 1549.0},\n",
       " '1': {'precision': 0.6133909287257019,\n",
       "  'recall': 0.5062388591800356,\n",
       "  'f1-score': 0.5546875,\n",
       "  'support': 561.0},\n",
       " 'accuracy': 0.7838862559241706,\n",
       " 'macro avg': {'precision': 0.7226031753525292,\n",
       "  'recall': 0.6953402171949242,\n",
       "  'f1-score': 0.7060045760325406,\n",
       "  'support': 2110.0},\n",
       " 'weighted avg': {'precision': 0.7737414216403515,\n",
       "  'recall': 0.7838862559241706,\n",
       "  'f1-score': 0.7768582590278725,\n",
       "  'support': 2110.0}}"
      ]
     },
     "execution_count": 38,
     "metadata": {},
     "output_type": "execute_result"
    }
   ],
   "source": [
    "print(\"Classification Report for SVC:\")\n",
    "results_df.iloc[1,4]"
   ]
  },
  {
   "cell_type": "code",
   "execution_count": 39,
   "id": "aea5a39e",
   "metadata": {},
   "outputs": [
    {
     "name": "stdout",
     "output_type": "stream",
     "text": [
      "Confusion Matrix for Random Forest:\n"
     ]
    },
    {
     "data": {
      "image/png": "[encoded data removed]",
      "text/plain": [
       "<Figure size 640x480 with 2 Axes>"
      ]
     },
     "metadata": {},
     "output_type": "display_data"
    }
   ],
   "source": [
    "print(\"Confusion Matrix for Random Forest:\")\n",
    "sns.heatmap(results_df.iloc[1,3], annot=True, fmt=\"d\")\n",
    "plt.show()"
   ]
  },
  {
   "cell_type": "markdown",
   "id": "77eb62c4",
   "metadata": {},
   "source": [
    "## Performance Heatmap"
   ]
  },
  {
   "cell_type": "code",
   "execution_count": 40,
   "id": "62d755e9",
   "metadata": {},
   "outputs": [
    {
     "data": {
      "image/png": "[encoded data removed]",
      "text/plain": [
       "<Figure size 1200x600 with 2 Axes>"
      ]
     },
     "metadata": {},
     "output_type": "display_data"
    }
   ],
   "source": [
    "# Plot model performance\n",
    "plt.figure(figsize=(12, 6))\n",
    "sns.heatmap(heatmap_data, annot=True, fmt=\".3f\", cmap=\"viridis\")\n",
    "plt.title(\"Performance Metrics by Sampling Method and Model\")\n",
    "plt.ylabel(\"Metric\")\n",
    "plt.xlabel(\"Sampling + Model\")\n",
    "plt.tight_layout()\n",
    "plt.show()"
   ]
  },
  {
   "cell_type": "markdown",
   "id": "f51ad476",
   "metadata": {},
   "source": [
    "From the performance heatmap, it can be seen that RFC outperforms SVC. It outperforms the SVC in all metrics. However, both models are unable to learn from the Churned class (Yes) due to class imbalance. This causes an underrepresentation on the minority class causing an inflated precision but poor recall for all models. However in general both models struggle to learn from minority class. Addressing this imbalance should help with improving the score for the minority class."
   ]
  },
  {
   "cell_type": "markdown",
   "id": "35077d63",
   "metadata": {},
   "source": [
    "## ROC Plot"
   ]
  },
  {
   "cell_type": "code",
   "execution_count": 41,
   "id": "5567fa14",
   "metadata": {},
   "outputs": [
    {
     "data": {
      "image/png": "[encoded data removed]",
      "text/plain": [
       "<Figure size 640x480 with 1 Axes>"
      ]
     },
     "metadata": {},
     "output_type": "display_data"
    }
   ],
   "source": [
    "# plot ROC Curve for multiple models\n",
    "def plot_roc_curve(model, label=None):\n",
    "    if hasattr(model, \"predict_proba\"):\n",
    "        y_scores = model.predict_proba(X_test)[:, 1]\n",
    "    else:\n",
    "        y_scores = model.decision_function(X_test)\n",
    "    \n",
    "    fpr, tpr, _ = roc_curve(y_test, y_scores)\n",
    "    roc_auc = roc_auc_score(y_test, y_scores)\n",
    "    \n",
    "    plt.plot(fpr, tpr, label=f'{label} (AUC = {roc_auc:.2f})')\n",
    "    \n",
    "# Plot ROC Curve for Random Forest\n",
    "plot_roc_curve(results_df.iloc[0,1], label='Random Forest')\n",
    "\n",
    "# Plot ROC Curve for SVC\n",
    "plot_roc_curve(results_df.iloc[1,1], label='SVC')\n",
    "\n",
    "plt.plot([0, 1], [0, 1], 'k--', label='Random Guessing')\n",
    "plt.xlabel('False Positive Rate')\n",
    "plt.ylabel('True Positive Rate')\n",
    "plt.title('ROC Curve')\n",
    "plt.legend()\n",
    "plt.show()\n"
   ]
  },
  {
   "cell_type": "markdown",
   "id": "3ab46d33",
   "metadata": {},
   "source": [
    "Both models achieve fairly similarly good AUC score of 0.81 with RFC performing only slightly better. "
   ]
  },
  {
   "cell_type": "markdown",
   "id": "e47d6c77",
   "metadata": {},
   "source": [
    "# Discussion, Limitaions, Improvements."
   ]
  },
  {
   "cell_type": "markdown",
   "id": "b856913b",
   "metadata": {},
   "source": [
    "This project involves using two classification algorithm which are Random Forest Classifier and Support Vector Classifier. It can be shown that using these 2 models, RFC is able to achieve a slightly better performance. However, during the preprocessing, PCA was performed for dimension reduction. This is to reduce multicollinearity in the variables, but this comes with the cost of model interpretations. Models that excel in interpretability such as random forest which can extract the feature importance and is very much intuitive compared to SVC when involved in higher dimension dataset. When PCA is introduced into the pipeline, the interprebility of the features becomes an issue due to the tranformation of the dataset to its principle components.\n",
    "\n",
    "If interpretation of features involvement towards the prediction is important, other dimension reduction methods should be considered such as Factor Analysis, or filtering subset selection using domain knowledge. By manually isolating subsets of the models, the true nature of the features can be used in the models, and relationship of features towards the prediction could be isolated using methods such as random forest feature importance, LIME, or SHAP evaluations.\n",
    "\n",
    "Overall better performance can be achieved by:\n",
    "1. Addressing the class imbalance\n",
    "2. Increasing number of Principle Components of the model"
   ]
  }
 ],
 "metadata": {
  "kernelspec": {
   "display_name": "Python 3",
   "language": "python",
   "name": "python3"
  },
  "language_info": {
   "codemirror_mode": {
    "name": "ipython",
    "version": 3
   },
   "file_extension": ".py",
   "mimetype": "text/x-python",
   "name": "python",
   "nbconvert_exporter": "python",
   "pygments_lexer": "ipython3",
   "version": "3.10.11"
  }
 },
 "nbformat": 4,
 "nbformat_minor": 5
}
