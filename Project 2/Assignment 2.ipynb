{
 "cells": [
  {
   "cell_type": "markdown",
   "id": "473f568d",
   "metadata": {},
   "source": [
    "# Assignment 2: Airline On-Time Performance Data\n",
    "Airline on-time performance data from 1987 to 2012"
   ]
  },
  {
   "cell_type": "markdown",
   "id": "0b3187dd",
   "metadata": {},
   "source": [
    "**1987 - 2008**\n",
    "| **Variable** | **Description** |\n",
    "|---:|---:|\n",
    "| Year | Year of flight |\n",
    "| Month | Month of the flight (1 = Jan, ..., 12 = Dec) |\n",
    "| DayofMonth | Day of the Month (1 to 31) |\n",
    "| DayofWeek | Day of the week (1 = Monday, ..., 7 = Sunday) |\n",
    "| DepTime | Actual Departure Time in 24hrs format |\n",
    "| CRSDepTime | Scheduled Departure Time in 24hrs format |\n",
    "| ArrTime | Actual Arrival Time in 24hrs format |\n",
    "| CRSArrTime | Scheduled Arrival Time in 24hrs format |\n",
    "| UniqueCarrier | Carrier Code | \n",
    "| FlightNum | Flight Number |\n",
    "| TailNum | Plane's tail number |\n",
    "| ActualEplapsedTime | Actual elapsed time (in minutes) |\n",
    "| CRSElapsedTime | Estimated elapsed time (in minutes) |\n",
    "| AirTime | Flight time (in minutes) |\n",
    "| ArrDelay | Arrival Delay in minutes (ArrTime - CRSArrTime) | \n",
    "| DepDelay | Departure Delay in minutes (DepTime - CRSDepTime) |\n",
    "| Origin | Origin IATA airport code |\n",
    "| Dest | Destination IATA airport code|\n",
    "| Distance | Distance in KM|\n",
    "| TaxiIn | Wheels down and arrival at the destination airport gate (in minutes) |\n",
    "| Cancelled | Was the flight cancelled? (1 = yes, 0 = no) |\n",
    "| CancellationCode | Reasons for cancellation (A = carrier, B =  weather, C = NAS, D = security) |\n",
    "| Diverted | 1 = yes, 0 = no |\n",
    "| CarrierDelay | Delay (in minutes) caused by carrier |\n",
    "| WeatherDelay | Delay (in minutes) caused by weather|\n",
    "| NASDelay | National Air Security (NAS) delay |\n",
    "| SecurityDelay | Delay (in minutes) caused by security |\n",
    "| LateAircraftDelay | Delay (in minutes) caused by late aircraft |\n",
    "\n",
    "**airports**\n",
    "| **Variable** | **Description** |\n",
    "| ---: | ---: | \n",
    "| iata | Airport code |\n",
    "| airport | Airport Name  |\n",
    "| city | Airport ity |\n",
    "| state | Airport state |\n",
    "| country | Airport country |\n",
    "| lat | Airport latitude |\n",
    "| long | Airport longitude | \n",
    "\n",
    "**carriers**\n",
    "| **Variable** | **Description** |\n",
    "| ---: | ---: | \n",
    "| Code | Carrier code |\n",
    "| Description | Carrier name |\n",
    "\n",
    "**plane-data**\n",
    "| **Variable** | **Description** |\n",
    "| ---: | ---: | \n",
    "| tailnum | Aircraft tial number |\n",
    "| type | Usage type | \n",
    "| manufacturer | Manufacturer company | \n",
    "| issue_date | Date start operating |\n",
    "| model | Aircraft model |\n",
    "| status | Status |\n",
    "| aircraft_type | Aircraft type |\n",
    "| engine_type | Engine type |\n",
    "| year | Manufacture year |\n",
    "\n",
    "2008['TailNum'] = plane-data['tailnum']\n",
    "\n",
    "2008[['Dest', 'Origin']] = airports['iata']\n",
    "\n",
    "2008['UniqueCarrier'] = carriers['Code']"
   ]
  },
  {
   "cell_type": "code",
   "execution_count": 12,
   "id": "8fc809a8",
   "metadata": {},
   "outputs": [],
   "source": [
    "from pyhive import hive\n",
    "import pandas as pd\n",
    "import matplotlib.pyplot as plt\n",
    "import seaborn as sns"
   ]
  },
  {
   "cell_type": "code",
   "execution_count": null,
   "id": "6b16e036",
   "metadata": {},
   "outputs": [],
   "source": [
    "# establish a connection to hive\n",
    "conn = hive.Connection(host='localhost',\n",
    "                       port=10000,\n",
    "                       username='maria_dev')\n",
    "\n",
    "# create a cursor object using the connection\n",
    "cursor = conn.cursor()\n",
    "\n",
    "def hive_query(query):\n",
    "    cursor.execute(query)\n",
    "    for result in cursor.fetchall():\n",
    "        print(result)"
   ]
  },
  {
   "cell_type": "code",
   "execution_count": 5,
   "id": "90a261b1",
   "metadata": {},
   "outputs": [],
   "source": [
    "for year in range(1987, 2009):\n",
    "    location = f\"/user/maria_dev/project2/{year}\"\n",
    "    table_name = f\"project2.airline_{year}\"\n",
    "# Create external table pointing to the CSV\n",
    "    cursor.execute(f\"\"\"\n",
    "    CREATE EXTERNAL TABLE IF NOT EXISTS {table_name} (\n",
    "        Year INT,\n",
    "        Month INT,\n",
    "        DayofMonth INT,\n",
    "        DayOfWeek INT,\n",
    "        DepTime INT,\n",
    "        CRSDepTime INT,\n",
    "        ArrTime INT,\n",
    "        CRSArrTime INT,\n",
    "        UniqueCarrier STRING,\n",
    "        FlightNum INT,\n",
    "        TailNum STRING,\n",
    "        ActualElapsedTime INT,\n",
    "        CRSElapsedTime INT,\n",
    "        AirTime INT,\n",
    "        ArrDelay INT,\n",
    "        DepDelay INT,\n",
    "        Origin STRING,\n",
    "        Dest STRING,\n",
    "        Distance INT,\n",
    "        TaxiIn INT,\n",
    "        TaxiOut INT,\n",
    "        Cancelled INT,\n",
    "        CancellationCode STRING,\n",
    "        Diverted INT,\n",
    "        CarrierDelay INT,\n",
    "        WeatherDelay INT,\n",
    "        NASDelay INT,\n",
    "        SecurityDelay INT,\n",
    "        LateAircraftDelay INT\n",
    "    )\n",
    "    ROW FORMAT DELIMITED\n",
    "    FIELDS TERMINATED BY ','\n",
    "    STORED AS TEXTFILE\n",
    "    LOCATION '{location}'\n",
    "    TBLPROPERTIES (\"skip.header.line.count\"=\"1\")\n",
    "    \"\"\")\n"
   ]
  },
  {
   "cell_type": "code",
   "execution_count": null,
   "id": "baabf5ca",
   "metadata": {},
   "outputs": [],
   "source": [
    "cursor.execute(\"\"\"\n",
    "               CREATE TABLE IF NOT EXISTS project2.airports (\n",
    "                iata STRING,\n",
    "                airport STRING,\n",
    "                city STRING,\n",
    "                state STRING,\n",
    "                country STRING,\n",
    "                lat FLOAT,\n",
    "                long FLOAT\n",
    "               )\n",
    "                ROW FORMAT DELIMITED\n",
    "                FIELDS TERMINATED BY ','\n",
    "                STORED AS TEXTFILE\n",
    "                LOCATION '/user/maria_dev/project2/airports'\n",
    "                TBLPROPERTIES (\"skip.header.line.count\"=\"1\")\n",
    "                \"\"\")\n"
   ]
  },
  {
   "cell_type": "code",
   "execution_count": null,
   "id": "f9db0580",
   "metadata": {},
   "outputs": [],
   "source": [
    "cursor.execute(\"\"\"\n",
    "               CREATE TABLE IF NOT EXISTS project2.carriers (\n",
    "                Code STRING,\n",
    "                Description STRING\n",
    "               )\n",
    "                ROW FORMAT DELIMITED\n",
    "                FIELDS TERMINATED BY ','\n",
    "                STORED AS TEXTFILE\n",
    "                LOCATION '/user/maria_dev/project2/carriers'\n",
    "                TBLPROPERTIES (\"skip.header.line.count\"=\"1\")\n",
    "\"\"\")\n"
   ]
  },
  {
   "cell_type": "code",
   "execution_count": null,
   "id": "0932424a",
   "metadata": {},
   "outputs": [],
   "source": [
    "cursor.execute(\"\"\"\n",
    "               CREATE TABLE IF NOT EXISTS project2.plane_data (\n",
    "                tailnum STRING,\n",
    "                type STRING,\n",
    "                manufacturer STRING,\n",
    "                issue_date STRING,\n",
    "                model STRING,\n",
    "                status STRING,\n",
    "                serial_number STRING,\n",
    "                engine_type STRING,\n",
    "                year INT\n",
    "               )\n",
    "                ROW FORMAT DELIMITED\n",
    "                FIELDS TERMINATED BY ','\n",
    "                STORED AS TEXTFILE\n",
    "                LOCATION '/user/maria_dev/project2/plane_data'\n",
    "                TBLPROPERTIES (\"skip.header.line.count\"=\"1\")\n",
    "\"\"\")\n"
   ]
  },
  {
   "cell_type": "markdown",
   "id": "591bc160",
   "metadata": {},
   "source": [
    "<h1 style = 'font-weight:bold'> 1. Delay patterns </h1>\n",
    "<h2> 1.1 What times of the day have the lowest average delays </h2>"
   ]
  },
  {
   "cell_type": "code",
   "execution_count": null,
   "id": "f3804e8c",
   "metadata": {},
   "outputs": [],
   "source": [
    "# combine all airline data from 1987 to 2008 into a single table airline_all\n",
    "years = range(1987, 2009)  \n",
    "union_query_parts = [f\"SELECT * FROM project2.airline_{year}\" for year in years]\n",
    "union_all_query = \" UNION ALL\\n\".join(union_query_parts)\n",
    "\n",
    "cursor.execute(f\"\"\"\n",
    "CREATE TABLE IF NOT EXISTS project2.airline_all\n",
    "AS\n",
    "{union_all_query}\n",
    "\"\"\")"
   ]
  },
  {
   "cell_type": "code",
   "execution_count": null,
   "id": "b7872f96",
   "metadata": {},
   "outputs": [
    {
     "name": "stderr",
     "output_type": "stream",
     "text": [
      "C:\\Users\\user\\AppData\\Local\\Temp\\ipykernel_5596\\2051806102.py:24: UserWarning: pandas only supports SQLAlchemy connectable (engine/connection) or database string URI or sqlite3 DBAPI2 connection. Other DBAPI2 objects are not tested. Please consider using SQLAlchemy.\n",
      "  df = pd.read_sql(query1, conn)\n"
     ]
    },
    {
     "data": {
      "application/vnd.microsoft.datawrangler.viewer.v0+json": {
       "columns": [
        {
         "name": "index",
         "rawType": "int64",
         "type": "integer"
        },
        {
         "name": "time_of_day",
         "rawType": "object",
         "type": "string"
        },
        {
         "name": "avg_depdelay",
         "rawType": "float64",
         "type": "float"
        }
       ],
       "ref": "2d05e7ec-d55e-44b6-8466-ffa35099050b",
       "rows": [
        [
         "0",
         "Morning",
         "4.321774295879754"
        ],
        [
         "1",
         "Afternoon",
         "8.847098243643224"
        ],
        [
         "2",
         "Night",
         "10.551351761518209"
        ],
        [
         "3",
         "Evening",
         "12.895180983646261"
        ]
       ],
       "shape": {
        "columns": 2,
        "rows": 4
       }
      },
      "text/html": [
       "<div>\n",
       "<style scoped>\n",
       "    .dataframe tbody tr th:only-of-type {\n",
       "        vertical-align: middle;\n",
       "    }\n",
       "\n",
       "    .dataframe tbody tr th {\n",
       "        vertical-align: top;\n",
       "    }\n",
       "\n",
       "    .dataframe thead th {\n",
       "        text-align: right;\n",
       "    }\n",
       "</style>\n",
       "<table border=\"1\" class=\"dataframe\">\n",
       "  <thead>\n",
       "    <tr style=\"text-align: right;\">\n",
       "      <th></th>\n",
       "      <th>time_of_day</th>\n",
       "      <th>avg_depdelay</th>\n",
       "    </tr>\n",
       "  </thead>\n",
       "  <tbody>\n",
       "    <tr>\n",
       "      <th>0</th>\n",
       "      <td>Morning</td>\n",
       "      <td>4.321774</td>\n",
       "    </tr>\n",
       "    <tr>\n",
       "      <th>1</th>\n",
       "      <td>Afternoon</td>\n",
       "      <td>8.847098</td>\n",
       "    </tr>\n",
       "    <tr>\n",
       "      <th>2</th>\n",
       "      <td>Night</td>\n",
       "      <td>10.551352</td>\n",
       "    </tr>\n",
       "    <tr>\n",
       "      <th>3</th>\n",
       "      <td>Evening</td>\n",
       "      <td>12.895181</td>\n",
       "    </tr>\n",
       "  </tbody>\n",
       "</table>\n",
       "</div>"
      ],
      "text/plain": [
       "  time_of_day  avg_depdelay\n",
       "0     Morning      4.321774\n",
       "1   Afternoon      8.847098\n",
       "2       Night     10.551352\n",
       "3     Evening     12.895181"
      ]
     },
     "execution_count": 11,
     "metadata": {},
     "output_type": "execute_result"
    }
   ],
   "source": [
    "# query data of average departure delay by time of day\n",
    "query1 = \"\"\"\n",
    "    SELECT\n",
    "        CASE\n",
    "            WHEN crsdeptime BETWEEN 500 AND 1159 THEN 'Morning'\n",
    "            WHEN crsdeptime BETWEEN 1200 AND 1659 THEN 'Afternoon'\n",
    "            WHEN crsdeptime BETWEEN 1700 AND 2059 THEN 'Evening'\n",
    "            ELSE 'Night'\n",
    "        END AS time_of_day,\n",
    "        AVG(depdelay) AS avg_depdelay\n",
    "    FROM project2.airline_all\n",
    "    WHERE depdelay IS NOT NULL\n",
    "    AND crsdeptime IS NOT NULL\n",
    "    GROUP BY\n",
    "        CASE\n",
    "            WHEN crsdeptime BETWEEN 500 AND 1159 THEN 'Morning'\n",
    "            WHEN crsdeptime BETWEEN 1200 AND 1659 THEN 'Afternoon'\n",
    "            WHEN crsdeptime BETWEEN 1700 AND 2059 THEN 'Evening'\n",
    "            ELSE 'Night'\n",
    "        END\n",
    "    ORDER BY avg_depdelay\n",
    "\"\"\"\n",
    "\n",
    "df = pd.read_sql(query1, conn)\n",
    "df.head()"
   ]
  },
  {
   "cell_type": "code",
   "execution_count": null,
   "id": "8baaf107",
   "metadata": {},
   "outputs": [
    {
     "data": {
      "image/png": "[encoded data removed]",
      "text/plain": [
       "<Figure size 640x480 with 1 Axes>"
      ]
     },
     "metadata": {},
     "output_type": "display_data"
    }
   ],
   "source": [
    "# visualize the average departure delay by time of day\n",
    "sns.barplot(x = 'time_of_day', y = 'avg_depdelay', data = df)\n",
    "plt.title(\"Average Departure Delay by Time of Day\")\n",
    "plt.xlabel(\"Time of Day\")\n",
    "plt.ylabel(\"Average Departure Delay (minutes)\")\n",
    "plt.show();"
   ]
  },
  {
   "cell_type": "markdown",
   "id": "74b5a8e2",
   "metadata": {},
   "source": [
    "<h2> 1.2 Which days of the week show better on-time performance? </h2>"
   ]
  },
  {
   "cell_type": "code",
   "execution_count": null,
   "id": "485c9378",
   "metadata": {},
   "outputs": [
    {
     "name": "stderr",
     "output_type": "stream",
     "text": [
      "C:\\Users\\user\\AppData\\Local\\Temp\\ipykernel_5596\\456788989.py:12: UserWarning: pandas only supports SQLAlchemy connectable (engine/connection) or database string URI or sqlite3 DBAPI2 connection. Other DBAPI2 objects are not tested. Please consider using SQLAlchemy.\n",
      "  df2 = pd.read_sql(query, conn)\n"
     ]
    },
    {
     "data": {
      "application/vnd.microsoft.datawrangler.viewer.v0+json": {
       "columns": [
        {
         "name": "index",
         "rawType": "int64",
         "type": "integer"
        },
        {
         "name": "dayofweek",
         "rawType": "int64",
         "type": "integer"
        },
        {
         "name": "total_flights",
         "rawType": "int64",
         "type": "integer"
        },
        {
         "name": "on_time_flights",
         "rawType": "int64",
         "type": "integer"
        },
        {
         "name": "on_time_percent",
         "rawType": "float64",
         "type": "float"
        }
       ],
       "ref": "dabbbe71-4d50-49b1-86e8-087df845a360",
       "rows": [
        [
         "0",
         "2",
         "17023604",
         "10670456",
         "62.68"
        ],
        [
         "1",
         "6",
         "15090192",
         "9150944",
         "60.64"
        ],
        [
         "2",
         "3",
         "17075451",
         "10301016",
         "60.33"
        ],
        [
         "3",
         "1",
         "17114412",
         "10257209",
         "59.93"
        ],
        [
         "4",
         "7",
         "16248655",
         "9255218",
         "56.96"
        ],
        [
         "5",
         "4",
         "17053551",
         "9547380",
         "55.98"
        ],
        [
         "6",
         "5",
         "17078261",
         "9191002",
         "53.82"
        ]
       ],
       "shape": {
        "columns": 4,
        "rows": 7
       }
      },
      "text/html": [
       "<div>\n",
       "<style scoped>\n",
       "    .dataframe tbody tr th:only-of-type {\n",
       "        vertical-align: middle;\n",
       "    }\n",
       "\n",
       "    .dataframe tbody tr th {\n",
       "        vertical-align: top;\n",
       "    }\n",
       "\n",
       "    .dataframe thead th {\n",
       "        text-align: right;\n",
       "    }\n",
       "</style>\n",
       "<table border=\"1\" class=\"dataframe\">\n",
       "  <thead>\n",
       "    <tr style=\"text-align: right;\">\n",
       "      <th></th>\n",
       "      <th>dayofweek</th>\n",
       "      <th>total_flights</th>\n",
       "      <th>on_time_flights</th>\n",
       "      <th>on_time_percent</th>\n",
       "    </tr>\n",
       "  </thead>\n",
       "  <tbody>\n",
       "    <tr>\n",
       "      <th>0</th>\n",
       "      <td>2</td>\n",
       "      <td>17023604</td>\n",
       "      <td>10670456</td>\n",
       "      <td>62.68</td>\n",
       "    </tr>\n",
       "    <tr>\n",
       "      <th>1</th>\n",
       "      <td>6</td>\n",
       "      <td>15090192</td>\n",
       "      <td>9150944</td>\n",
       "      <td>60.64</td>\n",
       "    </tr>\n",
       "    <tr>\n",
       "      <th>2</th>\n",
       "      <td>3</td>\n",
       "      <td>17075451</td>\n",
       "      <td>10301016</td>\n",
       "      <td>60.33</td>\n",
       "    </tr>\n",
       "    <tr>\n",
       "      <th>3</th>\n",
       "      <td>1</td>\n",
       "      <td>17114412</td>\n",
       "      <td>10257209</td>\n",
       "      <td>59.93</td>\n",
       "    </tr>\n",
       "    <tr>\n",
       "      <th>4</th>\n",
       "      <td>7</td>\n",
       "      <td>16248655</td>\n",
       "      <td>9255218</td>\n",
       "      <td>56.96</td>\n",
       "    </tr>\n",
       "    <tr>\n",
       "      <th>5</th>\n",
       "      <td>4</td>\n",
       "      <td>17053551</td>\n",
       "      <td>9547380</td>\n",
       "      <td>55.98</td>\n",
       "    </tr>\n",
       "    <tr>\n",
       "      <th>6</th>\n",
       "      <td>5</td>\n",
       "      <td>17078261</td>\n",
       "      <td>9191002</td>\n",
       "      <td>53.82</td>\n",
       "    </tr>\n",
       "  </tbody>\n",
       "</table>\n",
       "</div>"
      ],
      "text/plain": [
       "   dayofweek  total_flights  on_time_flights  on_time_percent\n",
       "0          2       17023604         10670456            62.68\n",
       "1          6       15090192          9150944            60.64\n",
       "2          3       17075451         10301016            60.33\n",
       "3          1       17114412         10257209            59.93\n",
       "4          7       16248655          9255218            56.96\n",
       "5          4       17053551          9547380            55.98\n",
       "6          5       17078261          9191002            53.82"
      ]
     },
     "execution_count": 10,
     "metadata": {},
     "output_type": "execute_result"
    }
   ],
   "source": [
    "query = \"\"\"\n",
    "    SELECT \n",
    "        dayofweek,\n",
    "        COUNT(*) AS total_flights,\n",
    "        SUM(CASE WHEN depdelay <= 0 THEN 1 ELSE 0 END) AS on_time_flights,\n",
    "        ROUND(100.0 * SUM(CASE WHEN depdelay <= 0 THEN 1 ELSE 0 END) / COUNT(*), 2) AS on_time_percent\n",
    "    FROM project2.airline_all\n",
    "    WHERE depdelay IS NOT NULL AND dayofweek IS NOT NULL\n",
    "    GROUP BY dayofweek\n",
    "    ORDER BY on_time_percent DESC\n",
    "\"\"\"\n",
    "\n",
    "df2 = pd.read_sql(query, conn)\n",
    "df2"
   ]
  },
  {
   "cell_type": "code",
   "execution_count": 15,
   "id": "26172196",
   "metadata": {},
   "outputs": [
    {
     "data": {
      "text/plain": [
       "Text(0.5, 1.0, 'On-Time Performance by Day of Week')"
      ]
     },
     "execution_count": 15,
     "metadata": {},
     "output_type": "execute_result"
    },
    {
     "data": {
      "image/png": "[encoded data removed]",
      "text/plain": [
       "<Figure size 640x480 with 1 Axes>"
      ]
     },
     "metadata": {},
     "output_type": "display_data"
    }
   ],
   "source": [
    "sns.barplot(x='dayofweek', y='on_time_percent', data=df2)\n",
    "plt.title(\"On-Time Performance by Day of Week\")"
   ]
  },
  {
   "cell_type": "markdown",
   "id": "7e12200c",
   "metadata": {},
   "source": [
    "<h2> 1.3 During which months or seasons are flights most likely to be on time? </h2>"
   ]
  },
  {
   "cell_type": "code",
   "execution_count": 22,
   "id": "8e8df4a6",
   "metadata": {},
   "outputs": [
    {
     "name": "stderr",
     "output_type": "stream",
     "text": [
      "C:\\Users\\user\\AppData\\Local\\Temp\\ipykernel_5596\\1065052547.py:13: UserWarning: pandas only supports SQLAlchemy connectable (engine/connection) or database string URI or sqlite3 DBAPI2 connection. Other DBAPI2 objects are not tested. Please consider using SQLAlchemy.\n",
      "  df3 = pd.read_sql(query3, conn)\n"
     ]
    },
    {
     "data": {
      "application/vnd.microsoft.datawrangler.viewer.v0+json": {
       "columns": [
        {
         "name": "index",
         "rawType": "int64",
         "type": "integer"
        },
        {
         "name": "month",
         "rawType": "int64",
         "type": "integer"
        },
        {
         "name": "total_flights",
         "rawType": "int64",
         "type": "integer"
        },
        {
         "name": "on_time_flights",
         "rawType": "int64",
         "type": "integer"
        },
        {
         "name": "on_time_percent",
         "rawType": "float64",
         "type": "float"
        }
       ],
       "ref": "ae652bfd-6328-4a28-a473-70f49dac7979",
       "rows": [
        [
         "0",
         "9",
         "9179898",
         "6071140",
         "66.14"
        ],
        [
         "1",
         "5",
         "9603585",
         "5970467",
         "62.17"
        ],
        [
         "2",
         "10",
         "10071314",
         "6259621",
         "62.15"
        ],
        [
         "3",
         "4",
         "9956265",
         "6134349",
         "61.61"
        ],
        [
         "4",
         "11",
         "9573697",
         "5746828",
         "60.03"
        ],
        [
         "5",
         "2",
         "9182556",
         "5278669",
         "57.49"
        ],
        [
         "6",
         "3",
         "10235777",
         "5866618",
         "57.31"
        ],
        [
         "7",
         "8",
         "9877597",
         "5635316",
         "57.05"
        ],
        [
         "8",
         "1",
         "9950241",
         "5669081",
         "56.97"
        ],
        [
         "9",
         "7",
         "9788085",
         "5465171",
         "55.83"
        ],
        [
         "10",
         "6",
         "9463217",
         "5199120",
         "54.94"
        ],
        [
         "11",
         "12",
         "9801894",
         "5076845",
         "51.79"
        ]
       ],
       "shape": {
        "columns": 4,
        "rows": 12
       }
      },
      "text/html": [
       "<div>\n",
       "<style scoped>\n",
       "    .dataframe tbody tr th:only-of-type {\n",
       "        vertical-align: middle;\n",
       "    }\n",
       "\n",
       "    .dataframe tbody tr th {\n",
       "        vertical-align: top;\n",
       "    }\n",
       "\n",
       "    .dataframe thead th {\n",
       "        text-align: right;\n",
       "    }\n",
       "</style>\n",
       "<table border=\"1\" class=\"dataframe\">\n",
       "  <thead>\n",
       "    <tr style=\"text-align: right;\">\n",
       "      <th></th>\n",
       "      <th>month</th>\n",
       "      <th>total_flights</th>\n",
       "      <th>on_time_flights</th>\n",
       "      <th>on_time_percent</th>\n",
       "    </tr>\n",
       "  </thead>\n",
       "  <tbody>\n",
       "    <tr>\n",
       "      <th>0</th>\n",
       "      <td>9</td>\n",
       "      <td>9179898</td>\n",
       "      <td>6071140</td>\n",
       "      <td>66.14</td>\n",
       "    </tr>\n",
       "    <tr>\n",
       "      <th>1</th>\n",
       "      <td>5</td>\n",
       "      <td>9603585</td>\n",
       "      <td>5970467</td>\n",
       "      <td>62.17</td>\n",
       "    </tr>\n",
       "    <tr>\n",
       "      <th>2</th>\n",
       "      <td>10</td>\n",
       "      <td>10071314</td>\n",
       "      <td>6259621</td>\n",
       "      <td>62.15</td>\n",
       "    </tr>\n",
       "    <tr>\n",
       "      <th>3</th>\n",
       "      <td>4</td>\n",
       "      <td>9956265</td>\n",
       "      <td>6134349</td>\n",
       "      <td>61.61</td>\n",
       "    </tr>\n",
       "    <tr>\n",
       "      <th>4</th>\n",
       "      <td>11</td>\n",
       "      <td>9573697</td>\n",
       "      <td>5746828</td>\n",
       "      <td>60.03</td>\n",
       "    </tr>\n",
       "    <tr>\n",
       "      <th>5</th>\n",
       "      <td>2</td>\n",
       "      <td>9182556</td>\n",
       "      <td>5278669</td>\n",
       "      <td>57.49</td>\n",
       "    </tr>\n",
       "    <tr>\n",
       "      <th>6</th>\n",
       "      <td>3</td>\n",
       "      <td>10235777</td>\n",
       "      <td>5866618</td>\n",
       "      <td>57.31</td>\n",
       "    </tr>\n",
       "    <tr>\n",
       "      <th>7</th>\n",
       "      <td>8</td>\n",
       "      <td>9877597</td>\n",
       "      <td>5635316</td>\n",
       "      <td>57.05</td>\n",
       "    </tr>\n",
       "    <tr>\n",
       "      <th>8</th>\n",
       "      <td>1</td>\n",
       "      <td>9950241</td>\n",
       "      <td>5669081</td>\n",
       "      <td>56.97</td>\n",
       "    </tr>\n",
       "    <tr>\n",
       "      <th>9</th>\n",
       "      <td>7</td>\n",
       "      <td>9788085</td>\n",
       "      <td>5465171</td>\n",
       "      <td>55.83</td>\n",
       "    </tr>\n",
       "    <tr>\n",
       "      <th>10</th>\n",
       "      <td>6</td>\n",
       "      <td>9463217</td>\n",
       "      <td>5199120</td>\n",
       "      <td>54.94</td>\n",
       "    </tr>\n",
       "    <tr>\n",
       "      <th>11</th>\n",
       "      <td>12</td>\n",
       "      <td>9801894</td>\n",
       "      <td>5076845</td>\n",
       "      <td>51.79</td>\n",
       "    </tr>\n",
       "  </tbody>\n",
       "</table>\n",
       "</div>"
      ],
      "text/plain": [
       "    month  total_flights  on_time_flights  on_time_percent\n",
       "0       9        9179898          6071140            66.14\n",
       "1       5        9603585          5970467            62.17\n",
       "2      10       10071314          6259621            62.15\n",
       "3       4        9956265          6134349            61.61\n",
       "4      11        9573697          5746828            60.03\n",
       "5       2        9182556          5278669            57.49\n",
       "6       3       10235777          5866618            57.31\n",
       "7       8        9877597          5635316            57.05\n",
       "8       1        9950241          5669081            56.97\n",
       "9       7        9788085          5465171            55.83\n",
       "10      6        9463217          5199120            54.94\n",
       "11     12        9801894          5076845            51.79"
      ]
     },
     "execution_count": 22,
     "metadata": {},
     "output_type": "execute_result"
    }
   ],
   "source": [
    "query3 = \"\"\"\n",
    "    SELECT \n",
    "        month,\n",
    "        COUNT(*) AS total_flights,\n",
    "        SUM(CASE WHEN depdelay <= 0 THEN 1 ELSE 0 END) AS on_time_flights,\n",
    "        ROUND(100.0 * SUM(CASE WHEN depdelay <= 0 THEN 1 ELSE 0 END) / COUNT(*), 2) AS on_time_percent\n",
    "    FROM project2.airline_all\n",
    "    WHERE depdelay IS NOT NULL AND month IS NOT NULL\n",
    "    GROUP BY month\n",
    "    ORDER BY on_time_percent DESC\n",
    "\"\"\"\n",
    "\n",
    "df3 = pd.read_sql(query3, conn)\n",
    "df3"
   ]
  },
  {
   "cell_type": "code",
   "execution_count": 23,
   "id": "52c702d6",
   "metadata": {},
   "outputs": [
    {
     "name": "stderr",
     "output_type": "stream",
     "text": [
      "C:\\Users\\user\\AppData\\Local\\Temp\\ipykernel_5596\\1790978808.py:24: UserWarning: pandas only supports SQLAlchemy connectable (engine/connection) or database string URI or sqlite3 DBAPI2 connection. Other DBAPI2 objects are not tested. Please consider using SQLAlchemy.\n",
      "  df4 = pd.read_sql(query4, conn)\n"
     ]
    },
    {
     "data": {
      "application/vnd.microsoft.datawrangler.viewer.v0+json": {
       "columns": [
        {
         "name": "index",
         "rawType": "int64",
         "type": "integer"
        },
        {
         "name": "season",
         "rawType": "object",
         "type": "string"
        },
        {
         "name": "total_flights",
         "rawType": "int64",
         "type": "integer"
        },
        {
         "name": "on_time_flights",
         "rawType": "int64",
         "type": "integer"
        },
        {
         "name": "on_time_percent",
         "rawType": "float64",
         "type": "float"
        }
       ],
       "ref": "ce337e6d-33a4-4a12-95bb-98f11e4e511f",
       "rows": [
        [
         "0",
         "Fall",
         "28824909",
         "18077589",
         "62.72"
        ],
        [
         "1",
         "Spring",
         "29795627",
         "17971434",
         "60.32"
        ],
        [
         "2",
         "Summer",
         "29128899",
         "16299607",
         "55.96"
        ],
        [
         "3",
         "Winter",
         "28934691",
         "16024595",
         "55.38"
        ]
       ],
       "shape": {
        "columns": 4,
        "rows": 4
       }
      },
      "text/html": [
       "<div>\n",
       "<style scoped>\n",
       "    .dataframe tbody tr th:only-of-type {\n",
       "        vertical-align: middle;\n",
       "    }\n",
       "\n",
       "    .dataframe tbody tr th {\n",
       "        vertical-align: top;\n",
       "    }\n",
       "\n",
       "    .dataframe thead th {\n",
       "        text-align: right;\n",
       "    }\n",
       "</style>\n",
       "<table border=\"1\" class=\"dataframe\">\n",
       "  <thead>\n",
       "    <tr style=\"text-align: right;\">\n",
       "      <th></th>\n",
       "      <th>season</th>\n",
       "      <th>total_flights</th>\n",
       "      <th>on_time_flights</th>\n",
       "      <th>on_time_percent</th>\n",
       "    </tr>\n",
       "  </thead>\n",
       "  <tbody>\n",
       "    <tr>\n",
       "      <th>0</th>\n",
       "      <td>Fall</td>\n",
       "      <td>28824909</td>\n",
       "      <td>18077589</td>\n",
       "      <td>62.72</td>\n",
       "    </tr>\n",
       "    <tr>\n",
       "      <th>1</th>\n",
       "      <td>Spring</td>\n",
       "      <td>29795627</td>\n",
       "      <td>17971434</td>\n",
       "      <td>60.32</td>\n",
       "    </tr>\n",
       "    <tr>\n",
       "      <th>2</th>\n",
       "      <td>Summer</td>\n",
       "      <td>29128899</td>\n",
       "      <td>16299607</td>\n",
       "      <td>55.96</td>\n",
       "    </tr>\n",
       "    <tr>\n",
       "      <th>3</th>\n",
       "      <td>Winter</td>\n",
       "      <td>28934691</td>\n",
       "      <td>16024595</td>\n",
       "      <td>55.38</td>\n",
       "    </tr>\n",
       "  </tbody>\n",
       "</table>\n",
       "</div>"
      ],
      "text/plain": [
       "   season  total_flights  on_time_flights  on_time_percent\n",
       "0    Fall       28824909         18077589            62.72\n",
       "1  Spring       29795627         17971434            60.32\n",
       "2  Summer       29128899         16299607            55.96\n",
       "3  Winter       28934691         16024595            55.38"
      ]
     },
     "execution_count": 23,
     "metadata": {},
     "output_type": "execute_result"
    }
   ],
   "source": [
    "query4 = \"\"\"\n",
    "    SELECT \n",
    "    CASE \n",
    "        WHEN month IN (12, 1, 2) THEN 'Winter'\n",
    "        WHEN month IN (3, 4, 5) THEN 'Spring'\n",
    "        WHEN month IN (6, 7, 8) THEN 'Summer'\n",
    "        WHEN month IN (9, 10, 11) THEN 'Fall'\n",
    "    END AS season,\n",
    "    COUNT(*) AS total_flights,\n",
    "    SUM(CASE WHEN depdelay <= 0 THEN 1 ELSE 0 END) AS on_time_flights,\n",
    "    ROUND(100.0 * SUM(CASE WHEN depdelay <= 0 THEN 1 ELSE 0 END) / COUNT(*), 2) AS on_time_percent\n",
    "    FROM project2.airline_all\n",
    "    WHERE depdelay IS NOT NULL AND month IS NOT NULL\n",
    "    GROUP BY \n",
    "    CASE \n",
    "        WHEN month IN (12, 1, 2) THEN 'Winter'\n",
    "        WHEN month IN (3, 4, 5) THEN 'Spring'\n",
    "        WHEN month IN (6, 7, 8) THEN 'Summer'\n",
    "        WHEN month IN (9, 10, 11) THEN 'Fall'\n",
    "    END\n",
    "    ORDER BY on_time_percent DESC\n",
    "\"\"\"\n",
    "\n",
    "df4 = pd.read_sql(query4, conn)\n",
    "df4"
   ]
  },
  {
   "cell_type": "code",
   "execution_count": null,
   "id": "9214d293",
   "metadata": {},
   "outputs": [],
   "source": [
    "# combine month and season data"
   ]
  },
  {
   "cell_type": "markdown",
   "id": "9e769b03",
   "metadata": {},
   "source": [
    "<h1 style='font-weight:bold'> 2. Delay Factors </h1>\n",
    "<h2> 2.1 Identify and rank the top 3 - 5 factors contributing to flight delays, based on the delays categories provided in the dataset </h2>"
   ]
  },
  {
   "cell_type": "code",
   "execution_count": null,
   "id": "b26f1e08",
   "metadata": {},
   "outputs": [
    {
     "name": "stderr",
     "output_type": "stream",
     "text": [
      "C:\\Users\\user\\AppData\\Local\\Temp\\ipykernel_5596\\2726025457.py:15: UserWarning: pandas only supports SQLAlchemy connectable (engine/connection) or database string URI or sqlite3 DBAPI2 connection. Other DBAPI2 objects are not tested. Please consider using SQLAlchemy.\n",
      "  df5 = pd.read_sql(query5, conn)\n"
     ]
    },
    {
     "data": {
      "application/vnd.microsoft.datawrangler.viewer.v0+json": {
       "columns": [
        {
         "name": "index",
         "rawType": "int64",
         "type": "integer"
        },
        {
         "name": "_u1.delay_type",
         "rawType": "object",
         "type": "string"
        },
        {
         "name": "_u1.total_delay",
         "rawType": "int64",
         "type": "integer"
        }
       ],
       "ref": "a1eacffe-4cc9-4552-a69d-cf7621e7c545",
       "rows": [
        [
         "0",
         "Late Aircraft Delay",
         "143279932"
        ],
        [
         "1",
         "NAS Delay",
         "123638531"
        ],
        [
         "2",
         "Carrier Delay",
         "111115872"
        ],
        [
         "3",
         "Weather Delay",
         "24049544"
        ],
        [
         "4",
         "Security Delay",
         "846239"
        ]
       ],
       "shape": {
        "columns": 2,
        "rows": 5
       }
      },
      "text/html": [
       "<div>\n",
       "<style scoped>\n",
       "    .dataframe tbody tr th:only-of-type {\n",
       "        vertical-align: middle;\n",
       "    }\n",
       "\n",
       "    .dataframe tbody tr th {\n",
       "        vertical-align: top;\n",
       "    }\n",
       "\n",
       "    .dataframe thead th {\n",
       "        text-align: right;\n",
       "    }\n",
       "</style>\n",
       "<table border=\"1\" class=\"dataframe\">\n",
       "  <thead>\n",
       "    <tr style=\"text-align: right;\">\n",
       "      <th></th>\n",
       "      <th>_u1.delay_type</th>\n",
       "      <th>_u1.total_delay</th>\n",
       "    </tr>\n",
       "  </thead>\n",
       "  <tbody>\n",
       "    <tr>\n",
       "      <th>0</th>\n",
       "      <td>Late Aircraft Delay</td>\n",
       "      <td>143279932</td>\n",
       "    </tr>\n",
       "    <tr>\n",
       "      <th>1</th>\n",
       "      <td>NAS Delay</td>\n",
       "      <td>123638531</td>\n",
       "    </tr>\n",
       "    <tr>\n",
       "      <th>2</th>\n",
       "      <td>Carrier Delay</td>\n",
       "      <td>111115872</td>\n",
       "    </tr>\n",
       "    <tr>\n",
       "      <th>3</th>\n",
       "      <td>Weather Delay</td>\n",
       "      <td>24049544</td>\n",
       "    </tr>\n",
       "    <tr>\n",
       "      <th>4</th>\n",
       "      <td>Security Delay</td>\n",
       "      <td>846239</td>\n",
       "    </tr>\n",
       "  </tbody>\n",
       "</table>\n",
       "</div>"
      ],
      "text/plain": [
       "        _u1.delay_type  _u1.total_delay\n",
       "0  Late Aircraft Delay        143279932\n",
       "1            NAS Delay        123638531\n",
       "2        Carrier Delay        111115872\n",
       "3        Weather Delay         24049544\n",
       "4       Security Delay           846239"
      ]
     },
     "execution_count": 24,
     "metadata": {},
     "output_type": "execute_result"
    }
   ],
   "source": [
    "query5 = \"\"\"\n",
    "    SELECT \n",
    "        'Carrier Delay' AS delay_type, \n",
    "        SUM(carrierdelay) AS total_delay \n",
    "    FROM project2.airline_all\n",
    "    UNION ALL\n",
    "    SELECT \n",
    "        'Weather Delay', \n",
    "        SUM(weatherdelay) \n",
    "    FROM project2.airline_all\n",
    "    UNION ALL\n",
    "    SELECT \n",
    "        'NAS Delay', \n",
    "        SUM(nasdelay) \n",
    "    FROM project2.airline_all\n",
    "    UNION ALL\n",
    "    SELECT \n",
    "        'Security Delay', \n",
    "        SUM(securitydelay) \n",
    "    FROM project2.airline_all\n",
    "    UNION ALL\n",
    "    SELECT \n",
    "        'Late Aircraft Delay', \n",
    "        SUM(lateaircraftdelay) \n",
    "    FROM project2.airline_all\n",
    "    ORDER BY total_delay DESC\n",
    "    LIMIT 5\n",
    "\"\"\"\n",
    "\n",
    "df5 = pd.read_sql(query5, conn)\n",
    "df5"
   ]
  },
  {
   "cell_type": "markdown",
   "id": "960ddbb5",
   "metadata": {},
   "source": [
    "<h2> 2.2 Quantify the impact of each factor (in minutes of delay and percentage of total delays). </h2>"
   ]
  },
  {
   "cell_type": "code",
   "execution_count": 25,
   "id": "5ef75515",
   "metadata": {},
   "outputs": [
    {
     "name": "stderr",
     "output_type": "stream",
     "text": [
      "C:\\Users\\user\\AppData\\Local\\Temp\\ipykernel_5596\\712895008.py:58: UserWarning: pandas only supports SQLAlchemy connectable (engine/connection) or database string URI or sqlite3 DBAPI2 connection. Other DBAPI2 objects are not tested. Please consider using SQLAlchemy.\n",
      "  df6 = pd.read_sql(query6, conn)\n"
     ]
    },
    {
     "data": {
      "application/vnd.microsoft.datawrangler.viewer.v0+json": {
       "columns": [
        {
         "name": "index",
         "rawType": "int64",
         "type": "integer"
        },
        {
         "name": "u1.delay_type",
         "rawType": "object",
         "type": "string"
        },
        {
         "name": "u1.delay_minutes",
         "rawType": "int64",
         "type": "integer"
        },
        {
         "name": "u1.percentage",
         "rawType": "float64",
         "type": "float"
        }
       ],
       "ref": "16614197-b9b7-4a04-8130-ab00913503da",
       "rows": [
        [
         "0",
         "Late Aircraft Delay",
         "143279932",
         "35.56"
        ],
        [
         "1",
         "NAS Delay",
         "123638531",
         "30.68"
        ],
        [
         "2",
         "Carrier Delay",
         "111115872",
         "27.58"
        ],
        [
         "3",
         "Weather Delay",
         "24049544",
         "5.97"
        ],
        [
         "4",
         "Security Delay",
         "846239",
         "0.21"
        ]
       ],
       "shape": {
        "columns": 3,
        "rows": 5
       }
      },
      "text/html": [
       "<div>\n",
       "<style scoped>\n",
       "    .dataframe tbody tr th:only-of-type {\n",
       "        vertical-align: middle;\n",
       "    }\n",
       "\n",
       "    .dataframe tbody tr th {\n",
       "        vertical-align: top;\n",
       "    }\n",
       "\n",
       "    .dataframe thead th {\n",
       "        text-align: right;\n",
       "    }\n",
       "</style>\n",
       "<table border=\"1\" class=\"dataframe\">\n",
       "  <thead>\n",
       "    <tr style=\"text-align: right;\">\n",
       "      <th></th>\n",
       "      <th>u1.delay_type</th>\n",
       "      <th>u1.delay_minutes</th>\n",
       "      <th>u1.percentage</th>\n",
       "    </tr>\n",
       "  </thead>\n",
       "  <tbody>\n",
       "    <tr>\n",
       "      <th>0</th>\n",
       "      <td>Late Aircraft Delay</td>\n",
       "      <td>143279932</td>\n",
       "      <td>35.56</td>\n",
       "    </tr>\n",
       "    <tr>\n",
       "      <th>1</th>\n",
       "      <td>NAS Delay</td>\n",
       "      <td>123638531</td>\n",
       "      <td>30.68</td>\n",
       "    </tr>\n",
       "    <tr>\n",
       "      <th>2</th>\n",
       "      <td>Carrier Delay</td>\n",
       "      <td>111115872</td>\n",
       "      <td>27.58</td>\n",
       "    </tr>\n",
       "    <tr>\n",
       "      <th>3</th>\n",
       "      <td>Weather Delay</td>\n",
       "      <td>24049544</td>\n",
       "      <td>5.97</td>\n",
       "    </tr>\n",
       "    <tr>\n",
       "      <th>4</th>\n",
       "      <td>Security Delay</td>\n",
       "      <td>846239</td>\n",
       "      <td>0.21</td>\n",
       "    </tr>\n",
       "  </tbody>\n",
       "</table>\n",
       "</div>"
      ],
      "text/plain": [
       "         u1.delay_type  u1.delay_minutes  u1.percentage\n",
       "0  Late Aircraft Delay         143279932          35.56\n",
       "1            NAS Delay         123638531          30.68\n",
       "2        Carrier Delay         111115872          27.58\n",
       "3        Weather Delay          24049544           5.97\n",
       "4       Security Delay            846239           0.21"
      ]
     },
     "execution_count": 25,
     "metadata": {},
     "output_type": "execute_result"
    }
   ],
   "source": [
    "query6 = \"\"\"\n",
    "    WITH delay_totals AS (\n",
    "    SELECT\n",
    "        SUM(carrierdelay) AS carrier,\n",
    "        SUM(weatherdelay) AS weather,\n",
    "        SUM(nasdelay) AS nas,\n",
    "        SUM(securitydelay) AS security,\n",
    "        SUM(lateaircraftdelay) AS late_aircraft\n",
    "    FROM project2.airline_all\n",
    "    ),\n",
    "    total_delay AS (\n",
    "    SELECT\n",
    "        (carrier + weather + nas + security + late_aircraft) AS grand_total\n",
    "    FROM delay_totals\n",
    "    )\n",
    "\n",
    "    SELECT\n",
    "    'Carrier Delay' AS delay_type,\n",
    "    dt.carrier AS delay_minutes,\n",
    "    ROUND(100.0 * dt.carrier / td.grand_total, 2) AS percentage\n",
    "    FROM delay_totals dt, total_delay td\n",
    "\n",
    "    UNION ALL\n",
    "\n",
    "    SELECT\n",
    "    'Weather Delay',\n",
    "    dt.weather,\n",
    "    ROUND(100.0 * dt.weather / td.grand_total, 2)\n",
    "    FROM delay_totals dt, total_delay td\n",
    "\n",
    "    UNION ALL\n",
    "\n",
    "    SELECT\n",
    "    'NAS Delay',\n",
    "    dt.nas,\n",
    "    ROUND(100.0 * dt.nas / td.grand_total, 2)\n",
    "    FROM delay_totals dt, total_delay td\n",
    "\n",
    "    UNION ALL\n",
    "\n",
    "    SELECT\n",
    "    'Security Delay',\n",
    "    dt.security,\n",
    "    ROUND(100.0 * dt.security / td.grand_total, 2)\n",
    "    FROM delay_totals dt, total_delay td\n",
    "\n",
    "    UNION ALL\n",
    "\n",
    "    SELECT\n",
    "    'Late Aircraft Delay',\n",
    "    dt.late_aircraft,\n",
    "    ROUND(100.0 * dt.late_aircraft / td.grand_total, 2)\n",
    "    FROM delay_totals dt, total_delay td\n",
    "\n",
    "    ORDER BY percentage DESC\n",
    "\"\"\"\n",
    "\n",
    "df6 = pd.read_sql(query6, conn)\n",
    "df6\n"
   ]
  },
  {
   "cell_type": "markdown",
   "id": "8a507c68",
   "metadata": {},
   "source": [
    "<h1 style='font-weight:bold'> 3. Cancellation Analysis </h1>\n",
    "\n",
    "<h2> 3.1 Identify the primary reasons for flight cancellations as categorized in the dataset. </h2>"
   ]
  },
  {
   "cell_type": "code",
   "execution_count": null,
   "id": "a645fb30",
   "metadata": {},
   "outputs": [],
   "source": [
    "query7 = \"\"\"\n",
    "    SELECT\n",
    "    CASE cancellationcode\n",
    "        WHEN 'A' THEN 'Carrier'\n",
    "        WHEN 'B' THEN 'Weather'\n",
    "        WHEN 'C' THEN 'NAS'\n",
    "        WHEN 'D' THEN 'Security'\n",
    "        ELSE 'Unknown'\n",
    "    END AS cancellation_reason,\n",
    "    COUNT(*) AS total_cancellations\n",
    "    FROM project2.airline_all\n",
    "    WHERE cancelled = 1 AND cancellationcode IS NOT NULL\n",
    "    GROUP BY\n",
    "    CASE cancellationcode\n",
    "        WHEN 'A' THEN 'Carrier'\n",
    "        WHEN 'B' THEN 'Weather'\n",
    "        WHEN 'C' THEN 'NAS'\n",
    "        WHEN 'D' THEN 'Security'\n",
    "        ELSE 'Unknown'\n",
    "    END\n",
    "    ORDER BY total_cancellations DESC\n",
    "\"\"\"\n",
    "\n",
    "df7 = pd.read_sql(query7, conn)\n",
    "df7"
   ]
  },
  {
   "cell_type": "markdown",
   "id": "027b60ba",
   "metadata": {},
   "source": [
    "<h2> Determine if cancellations correlate with specific airlines, airports, or time periods. </h2>"
   ]
  },
  {
   "cell_type": "code",
   "execution_count": null,
   "id": "6b6aada4",
   "metadata": {},
   "outputs": [
    {
     "name": "stderr",
     "output_type": "stream",
     "text": [
      "C:\\Users\\user\\AppData\\Local\\Temp\\ipykernel_5596\\2997301319.py:12: UserWarning: pandas only supports SQLAlchemy connectable (engine/connection) or database string URI or sqlite3 DBAPI2 connection. Other DBAPI2 objects are not tested. Please consider using SQLAlchemy.\n",
      "  df8 = pd.read_sql(query8, conn)\n"
     ]
    },
    {
     "data": {
      "application/vnd.microsoft.datawrangler.viewer.v0+json": {
       "columns": [
        {
         "name": "index",
         "rawType": "int64",
         "type": "integer"
        },
        {
         "name": "airline",
         "rawType": "object",
         "type": "string"
        },
        {
         "name": "total_flights",
         "rawType": "int64",
         "type": "integer"
        },
        {
         "name": "cancellations",
         "rawType": "int64",
         "type": "integer"
        },
        {
         "name": "cancel_rate",
         "rawType": "float64",
         "type": "float"
        }
       ],
       "ref": "d36e2bde-318a-46a0-9d4e-3d7e0e43ccd7",
       "rows": [
        [
         "0",
         "MQ",
         "3632062",
         "148107",
         "4.08"
        ],
        [
         "1",
         "YV",
         "684812",
         "25981",
         "3.79"
        ],
        [
         "2",
         "9E",
         "347210",
         "12036",
         "3.47"
        ],
        [
         "3",
         "OH",
         "1338503",
         "43330",
         "3.24"
        ],
        [
         "4",
         "DH",
         "693047",
         "22176",
         "3.2"
        ],
        [
         "5",
         "EA",
         "919785",
         "28702",
         "3.12"
        ],
        [
         "6",
         "EV",
         "1508980",
         "45996",
         "3.05"
        ],
        [
         "7",
         "OO",
         "2718878",
         "59727",
         "2.2"
        ],
        [
         "8",
         "UA",
         "13004338",
         "284581",
         "2.19"
        ],
        [
         "9",
         "XE",
         "2114556",
         "45924",
         "2.17"
        ],
        [
         "10",
         "NW",
         "10067774",
         "212655",
         "2.11"
        ],
        [
         "11",
         "US",
         "13775480",
         "287458",
         "2.09"
        ],
        [
         "12",
         "AS",
         "2776804",
         "55786",
         "2.01"
        ],
        [
         "13",
         "AA",
         "14584281",
         "280233",
         "1.92"
        ],
        [
         "14",
         "ML (1)",
         "70622",
         "1342",
         "1.9"
        ],
        [
         "15",
         "AQ",
         "154381",
         "2837",
         "1.84"
        ],
        [
         "16",
         "TW",
         "3757747",
         "69088",
         "1.84"
        ],
        [
         "17",
         "DL",
         "16247348",
         "254620",
         "1.57"
        ],
        [
         "18",
         "HP",
         "3636682",
         "55431",
         "1.52"
        ],
        [
         "19",
         "CO",
         "7950035",
         "110446",
         "1.39"
        ],
        [
         "20",
         "PS",
         "83617",
         "1151",
         "1.38"
        ],
        [
         "21",
         "PA (1)",
         "316167",
         "3521",
         "1.11"
        ],
        [
         "22",
         "TZ",
         "208420",
         "2307",
         "1.11"
        ],
        [
         "23",
         "FL",
         "1090310",
         "11521",
         "1.06"
        ],
        [
         "24",
         "PI",
         "873957",
         "8910",
         "1.02"
        ],
        [
         "25",
         "B6",
         "682728",
         "6978",
         "1.02"
        ],
        [
         "26",
         "WN",
         "15173234",
         "147044",
         "0.97"
        ],
        [
         "27",
         "F9",
         "271876",
         "1573",
         "0.58"
        ],
        [
         "28",
         "HA",
         "230824",
         "871",
         "0.38"
        ]
       ],
       "shape": {
        "columns": 4,
        "rows": 29
       }
      },
      "text/html": [
       "<div>\n",
       "<style scoped>\n",
       "    .dataframe tbody tr th:only-of-type {\n",
       "        vertical-align: middle;\n",
       "    }\n",
       "\n",
       "    .dataframe tbody tr th {\n",
       "        vertical-align: top;\n",
       "    }\n",
       "\n",
       "    .dataframe thead th {\n",
       "        text-align: right;\n",
       "    }\n",
       "</style>\n",
       "<table border=\"1\" class=\"dataframe\">\n",
       "  <thead>\n",
       "    <tr style=\"text-align: right;\">\n",
       "      <th></th>\n",
       "      <th>airline</th>\n",
       "      <th>total_flights</th>\n",
       "      <th>cancellations</th>\n",
       "      <th>cancel_rate</th>\n",
       "    </tr>\n",
       "  </thead>\n",
       "  <tbody>\n",
       "    <tr>\n",
       "      <th>0</th>\n",
       "      <td>MQ</td>\n",
       "      <td>3632062</td>\n",
       "      <td>148107</td>\n",
       "      <td>4.08</td>\n",
       "    </tr>\n",
       "    <tr>\n",
       "      <th>1</th>\n",
       "      <td>YV</td>\n",
       "      <td>684812</td>\n",
       "      <td>25981</td>\n",
       "      <td>3.79</td>\n",
       "    </tr>\n",
       "    <tr>\n",
       "      <th>2</th>\n",
       "      <td>9E</td>\n",
       "      <td>347210</td>\n",
       "      <td>12036</td>\n",
       "      <td>3.47</td>\n",
       "    </tr>\n",
       "    <tr>\n",
       "      <th>3</th>\n",
       "      <td>OH</td>\n",
       "      <td>1338503</td>\n",
       "      <td>43330</td>\n",
       "      <td>3.24</td>\n",
       "    </tr>\n",
       "    <tr>\n",
       "      <th>4</th>\n",
       "      <td>DH</td>\n",
       "      <td>693047</td>\n",
       "      <td>22176</td>\n",
       "      <td>3.20</td>\n",
       "    </tr>\n",
       "    <tr>\n",
       "      <th>5</th>\n",
       "      <td>EA</td>\n",
       "      <td>919785</td>\n",
       "      <td>28702</td>\n",
       "      <td>3.12</td>\n",
       "    </tr>\n",
       "    <tr>\n",
       "      <th>6</th>\n",
       "      <td>EV</td>\n",
       "      <td>1508980</td>\n",
       "      <td>45996</td>\n",
       "      <td>3.05</td>\n",
       "    </tr>\n",
       "    <tr>\n",
       "      <th>7</th>\n",
       "      <td>OO</td>\n",
       "      <td>2718878</td>\n",
       "      <td>59727</td>\n",
       "      <td>2.20</td>\n",
       "    </tr>\n",
       "    <tr>\n",
       "      <th>8</th>\n",
       "      <td>UA</td>\n",
       "      <td>13004338</td>\n",
       "      <td>284581</td>\n",
       "      <td>2.19</td>\n",
       "    </tr>\n",
       "    <tr>\n",
       "      <th>9</th>\n",
       "      <td>XE</td>\n",
       "      <td>2114556</td>\n",
       "      <td>45924</td>\n",
       "      <td>2.17</td>\n",
       "    </tr>\n",
       "    <tr>\n",
       "      <th>10</th>\n",
       "      <td>NW</td>\n",
       "      <td>10067774</td>\n",
       "      <td>212655</td>\n",
       "      <td>2.11</td>\n",
       "    </tr>\n",
       "    <tr>\n",
       "      <th>11</th>\n",
       "      <td>US</td>\n",
       "      <td>13775480</td>\n",
       "      <td>287458</td>\n",
       "      <td>2.09</td>\n",
       "    </tr>\n",
       "    <tr>\n",
       "      <th>12</th>\n",
       "      <td>AS</td>\n",
       "      <td>2776804</td>\n",
       "      <td>55786</td>\n",
       "      <td>2.01</td>\n",
       "    </tr>\n",
       "    <tr>\n",
       "      <th>13</th>\n",
       "      <td>AA</td>\n",
       "      <td>14584281</td>\n",
       "      <td>280233</td>\n",
       "      <td>1.92</td>\n",
       "    </tr>\n",
       "    <tr>\n",
       "      <th>14</th>\n",
       "      <td>ML (1)</td>\n",
       "      <td>70622</td>\n",
       "      <td>1342</td>\n",
       "      <td>1.90</td>\n",
       "    </tr>\n",
       "    <tr>\n",
       "      <th>15</th>\n",
       "      <td>AQ</td>\n",
       "      <td>154381</td>\n",
       "      <td>2837</td>\n",
       "      <td>1.84</td>\n",
       "    </tr>\n",
       "    <tr>\n",
       "      <th>16</th>\n",
       "      <td>TW</td>\n",
       "      <td>3757747</td>\n",
       "      <td>69088</td>\n",
       "      <td>1.84</td>\n",
       "    </tr>\n",
       "    <tr>\n",
       "      <th>17</th>\n",
       "      <td>DL</td>\n",
       "      <td>16247348</td>\n",
       "      <td>254620</td>\n",
       "      <td>1.57</td>\n",
       "    </tr>\n",
       "    <tr>\n",
       "      <th>18</th>\n",
       "      <td>HP</td>\n",
       "      <td>3636682</td>\n",
       "      <td>55431</td>\n",
       "      <td>1.52</td>\n",
       "    </tr>\n",
       "    <tr>\n",
       "      <th>19</th>\n",
       "      <td>CO</td>\n",
       "      <td>7950035</td>\n",
       "      <td>110446</td>\n",
       "      <td>1.39</td>\n",
       "    </tr>\n",
       "    <tr>\n",
       "      <th>20</th>\n",
       "      <td>PS</td>\n",
       "      <td>83617</td>\n",
       "      <td>1151</td>\n",
       "      <td>1.38</td>\n",
       "    </tr>\n",
       "    <tr>\n",
       "      <th>21</th>\n",
       "      <td>PA (1)</td>\n",
       "      <td>316167</td>\n",
       "      <td>3521</td>\n",
       "      <td>1.11</td>\n",
       "    </tr>\n",
       "    <tr>\n",
       "      <th>22</th>\n",
       "      <td>TZ</td>\n",
       "      <td>208420</td>\n",
       "      <td>2307</td>\n",
       "      <td>1.11</td>\n",
       "    </tr>\n",
       "    <tr>\n",
       "      <th>23</th>\n",
       "      <td>FL</td>\n",
       "      <td>1090310</td>\n",
       "      <td>11521</td>\n",
       "      <td>1.06</td>\n",
       "    </tr>\n",
       "    <tr>\n",
       "      <th>24</th>\n",
       "      <td>PI</td>\n",
       "      <td>873957</td>\n",
       "      <td>8910</td>\n",
       "      <td>1.02</td>\n",
       "    </tr>\n",
       "    <tr>\n",
       "      <th>25</th>\n",
       "      <td>B6</td>\n",
       "      <td>682728</td>\n",
       "      <td>6978</td>\n",
       "      <td>1.02</td>\n",
       "    </tr>\n",
       "    <tr>\n",
       "      <th>26</th>\n",
       "      <td>WN</td>\n",
       "      <td>15173234</td>\n",
       "      <td>147044</td>\n",
       "      <td>0.97</td>\n",
       "    </tr>\n",
       "    <tr>\n",
       "      <th>27</th>\n",
       "      <td>F9</td>\n",
       "      <td>271876</td>\n",
       "      <td>1573</td>\n",
       "      <td>0.58</td>\n",
       "    </tr>\n",
       "    <tr>\n",
       "      <th>28</th>\n",
       "      <td>HA</td>\n",
       "      <td>230824</td>\n",
       "      <td>871</td>\n",
       "      <td>0.38</td>\n",
       "    </tr>\n",
       "  </tbody>\n",
       "</table>\n",
       "</div>"
      ],
      "text/plain": [
       "   airline  total_flights  cancellations  cancel_rate\n",
       "0       MQ        3632062         148107         4.08\n",
       "1       YV         684812          25981         3.79\n",
       "2       9E         347210          12036         3.47\n",
       "3       OH        1338503          43330         3.24\n",
       "4       DH         693047          22176         3.20\n",
       "5       EA         919785          28702         3.12\n",
       "6       EV        1508980          45996         3.05\n",
       "7       OO        2718878          59727         2.20\n",
       "8       UA       13004338         284581         2.19\n",
       "9       XE        2114556          45924         2.17\n",
       "10      NW       10067774         212655         2.11\n",
       "11      US       13775480         287458         2.09\n",
       "12      AS        2776804          55786         2.01\n",
       "13      AA       14584281         280233         1.92\n",
       "14  ML (1)          70622           1342         1.90\n",
       "15      AQ         154381           2837         1.84\n",
       "16      TW        3757747          69088         1.84\n",
       "17      DL       16247348         254620         1.57\n",
       "18      HP        3636682          55431         1.52\n",
       "19      CO        7950035         110446         1.39\n",
       "20      PS          83617           1151         1.38\n",
       "21  PA (1)         316167           3521         1.11\n",
       "22      TZ         208420           2307         1.11\n",
       "23      FL        1090310          11521         1.06\n",
       "24      PI         873957           8910         1.02\n",
       "25      B6         682728           6978         1.02\n",
       "26      WN       15173234         147044         0.97\n",
       "27      F9         271876           1573         0.58\n",
       "28      HA         230824            871         0.38"
      ]
     },
     "execution_count": 18,
     "metadata": {},
     "output_type": "execute_result"
    }
   ],
   "source": [
    "# by airline\n",
    "query8 = \"\"\"\n",
    "    SELECT\n",
    "        uniquecarrier AS airline,\n",
    "        COUNT(*) AS total_flights,\n",
    "        SUM(CASE WHEN cancelled = 1 THEN 1 ELSE 0 END) AS cancellations,\n",
    "        ROUND(100.0 * SUM(CASE WHEN cancelled = 1 THEN 1 ELSE 0 END) / COUNT(*), 2) AS cancel_rate\n",
    "    FROM project2.airline_all\n",
    "    GROUP BY uniquecarrier\n",
    "    ORDER BY cancel_rate DESC\n",
    "\"\"\"\n",
    "\n",
    "df8 = pd.read_sql(query8, conn)\n",
    "df8"
   ]
  },
  {
   "cell_type": "code",
   "execution_count": null,
   "id": "349f30b1",
   "metadata": {},
   "outputs": [],
   "source": [
    "# by origin airport\n",
    "query9 = \"\"\"\n",
    "  SELECT\n",
    "    origin AS airport,\n",
    "    COUNT(*) AS total_flights,\n",
    "    SUM(CASE WHEN cancelled = 1 THEN 1 ELSE 0 END) AS cancellations,\n",
    "    ROUND(100.0 * SUM(CASE WHEN cancelled = 1 THEN 1 ELSE 0 END) / COUNT(*), 2) AS cancel_rate\n",
    "  FROM project2.airline_all\n",
    "  GROUP BY origin\n",
    "  ORDER BY cancel_rate DESC\n",
    "\"\"\"\n",
    "\n",
    "df9 = pd.read_sql(query9, conn)\n",
    "df9"
   ]
  },
  {
   "cell_type": "code",
   "execution_count": 19,
   "id": "cbc5ac1a",
   "metadata": {},
   "outputs": [
    {
     "name": "stderr",
     "output_type": "stream",
     "text": [
      "C:\\Users\\user\\AppData\\Local\\Temp\\ipykernel_5596\\1841743741.py:13: UserWarning: pandas only supports SQLAlchemy connectable (engine/connection) or database string URI or sqlite3 DBAPI2 connection. Other DBAPI2 objects are not tested. Please consider using SQLAlchemy.\n",
      "  df10 = pd.read_sql(query10, conn)\n"
     ]
    },
    {
     "data": {
      "application/vnd.microsoft.datawrangler.viewer.v0+json": {
       "columns": [
        {
         "name": "index",
         "rawType": "int64",
         "type": "integer"
        },
        {
         "name": "month",
         "rawType": "int64",
         "type": "integer"
        },
        {
         "name": "total_flights",
         "rawType": "int64",
         "type": "integer"
        },
        {
         "name": "cancellations",
         "rawType": "int64",
         "type": "integer"
        },
        {
         "name": "cancel_rate",
         "rawType": "float64",
         "type": "float"
        }
       ],
       "ref": "997c9fa8-19d8-48b6-9730-8b1f3640f413",
       "rows": [
        [
         "0",
         "1",
         "10272489",
         "322248",
         "3.14"
        ],
        [
         "1",
         "9",
         "9435046",
         "255148",
         "2.7"
        ],
        [
         "2",
         "2",
         "9431225",
         "248669",
         "2.64"
        ],
        [
         "3",
         "12",
         "10027298",
         "225404",
         "2.25"
        ],
        [
         "4",
         "3",
         "10448039",
         "212262",
         "2.03"
        ],
        [
         "5",
         "6",
         "9618281",
         "155064",
         "1.61"
        ],
        [
         "6",
         "7",
         "9944011",
         "155926",
         "1.57"
        ],
        [
         "7",
         "8",
         "10034556",
         "156959",
         "1.56"
        ],
        [
         "8",
         "10",
         "10202453",
         "131139",
         "1.29"
        ],
        [
         "9",
         "11",
         "9694904",
         "121207",
         "1.25"
        ],
        [
         "10",
         "4",
         "10081982",
         "125717",
         "1.25"
        ],
        [
         "11",
         "5",
         "9724174",
         "120589",
         "1.24"
        ]
       ],
       "shape": {
        "columns": 4,
        "rows": 12
       }
      },
      "text/html": [
       "<div>\n",
       "<style scoped>\n",
       "    .dataframe tbody tr th:only-of-type {\n",
       "        vertical-align: middle;\n",
       "    }\n",
       "\n",
       "    .dataframe tbody tr th {\n",
       "        vertical-align: top;\n",
       "    }\n",
       "\n",
       "    .dataframe thead th {\n",
       "        text-align: right;\n",
       "    }\n",
       "</style>\n",
       "<table border=\"1\" class=\"dataframe\">\n",
       "  <thead>\n",
       "    <tr style=\"text-align: right;\">\n",
       "      <th></th>\n",
       "      <th>month</th>\n",
       "      <th>total_flights</th>\n",
       "      <th>cancellations</th>\n",
       "      <th>cancel_rate</th>\n",
       "    </tr>\n",
       "  </thead>\n",
       "  <tbody>\n",
       "    <tr>\n",
       "      <th>0</th>\n",
       "      <td>1</td>\n",
       "      <td>10272489</td>\n",
       "      <td>322248</td>\n",
       "      <td>3.14</td>\n",
       "    </tr>\n",
       "    <tr>\n",
       "      <th>1</th>\n",
       "      <td>9</td>\n",
       "      <td>9435046</td>\n",
       "      <td>255148</td>\n",
       "      <td>2.70</td>\n",
       "    </tr>\n",
       "    <tr>\n",
       "      <th>2</th>\n",
       "      <td>2</td>\n",
       "      <td>9431225</td>\n",
       "      <td>248669</td>\n",
       "      <td>2.64</td>\n",
       "    </tr>\n",
       "    <tr>\n",
       "      <th>3</th>\n",
       "      <td>12</td>\n",
       "      <td>10027298</td>\n",
       "      <td>225404</td>\n",
       "      <td>2.25</td>\n",
       "    </tr>\n",
       "    <tr>\n",
       "      <th>4</th>\n",
       "      <td>3</td>\n",
       "      <td>10448039</td>\n",
       "      <td>212262</td>\n",
       "      <td>2.03</td>\n",
       "    </tr>\n",
       "    <tr>\n",
       "      <th>5</th>\n",
       "      <td>6</td>\n",
       "      <td>9618281</td>\n",
       "      <td>155064</td>\n",
       "      <td>1.61</td>\n",
       "    </tr>\n",
       "    <tr>\n",
       "      <th>6</th>\n",
       "      <td>7</td>\n",
       "      <td>9944011</td>\n",
       "      <td>155926</td>\n",
       "      <td>1.57</td>\n",
       "    </tr>\n",
       "    <tr>\n",
       "      <th>7</th>\n",
       "      <td>8</td>\n",
       "      <td>10034556</td>\n",
       "      <td>156959</td>\n",
       "      <td>1.56</td>\n",
       "    </tr>\n",
       "    <tr>\n",
       "      <th>8</th>\n",
       "      <td>10</td>\n",
       "      <td>10202453</td>\n",
       "      <td>131139</td>\n",
       "      <td>1.29</td>\n",
       "    </tr>\n",
       "    <tr>\n",
       "      <th>9</th>\n",
       "      <td>11</td>\n",
       "      <td>9694904</td>\n",
       "      <td>121207</td>\n",
       "      <td>1.25</td>\n",
       "    </tr>\n",
       "    <tr>\n",
       "      <th>10</th>\n",
       "      <td>4</td>\n",
       "      <td>10081982</td>\n",
       "      <td>125717</td>\n",
       "      <td>1.25</td>\n",
       "    </tr>\n",
       "    <tr>\n",
       "      <th>11</th>\n",
       "      <td>5</td>\n",
       "      <td>9724174</td>\n",
       "      <td>120589</td>\n",
       "      <td>1.24</td>\n",
       "    </tr>\n",
       "  </tbody>\n",
       "</table>\n",
       "</div>"
      ],
      "text/plain": [
       "    month  total_flights  cancellations  cancel_rate\n",
       "0       1       10272489         322248         3.14\n",
       "1       9        9435046         255148         2.70\n",
       "2       2        9431225         248669         2.64\n",
       "3      12       10027298         225404         2.25\n",
       "4       3       10448039         212262         2.03\n",
       "5       6        9618281         155064         1.61\n",
       "6       7        9944011         155926         1.57\n",
       "7       8       10034556         156959         1.56\n",
       "8      10       10202453         131139         1.29\n",
       "9      11        9694904         121207         1.25\n",
       "10      4       10081982         125717         1.25\n",
       "11      5        9724174         120589         1.24"
      ]
     },
     "execution_count": 19,
     "metadata": {},
     "output_type": "execute_result"
    }
   ],
   "source": [
    "# by month\n",
    "query10 = \"\"\"\n",
    "    SELECT\n",
    "        month,\n",
    "        COUNT(*) AS total_flights,\n",
    "        SUM(CASE WHEN cancelled = 1 THEN 1 ELSE 0 END) AS cancellations,\n",
    "        ROUND(100.0 * SUM(CASE WHEN cancelled = 1 THEN 1 ELSE 0 END) / COUNT(*), 2) AS cancel_rate\n",
    "    FROM project2.airline_all\n",
    "    GROUP BY month\n",
    "    ORDER BY cancel_rate DESC\n",
    "\"\"\"\n",
    "\n",
    "df10 = pd.read_sql(query10, conn)\n",
    "df10"
   ]
  },
  {
   "cell_type": "markdown",
   "id": "42aab565",
   "metadata": {},
   "source": [
    "<h1 style='font-weight:bold'> Problematic Routes </h1>\n",
    "\n",
    "<h2> identify specific routes (origin-destination pairs), carriers, or flight numbers that show consistently poor performance </h2>"
   ]
  },
  {
   "cell_type": "code",
   "execution_count": 20,
   "id": "7d5e051e",
   "metadata": {},
   "outputs": [
    {
     "name": "stderr",
     "output_type": "stream",
     "text": [
      "C:\\Users\\user\\AppData\\Local\\Temp\\ipykernel_5596\\3873773230.py:18: UserWarning: pandas only supports SQLAlchemy connectable (engine/connection) or database string URI or sqlite3 DBAPI2 connection. Other DBAPI2 objects are not tested. Please consider using SQLAlchemy.\n",
      "  df11 = pd.read_sql(query11, conn)\n"
     ]
    },
    {
     "data": {
      "application/vnd.microsoft.datawrangler.viewer.v0+json": {
       "columns": [
        {
         "name": "index",
         "rawType": "int64",
         "type": "integer"
        },
        {
         "name": "origin",
         "rawType": "object",
         "type": "string"
        },
        {
         "name": "dest",
         "rawType": "object",
         "type": "string"
        },
        {
         "name": "total_flights",
         "rawType": "int64",
         "type": "integer"
        },
        {
         "name": "avg_depdelay",
         "rawType": "float64",
         "type": "float"
        },
        {
         "name": "cancellations",
         "rawType": "int64",
         "type": "integer"
        },
        {
         "name": "cancel_rate",
         "rawType": "float64",
         "type": "float"
        }
       ],
       "ref": "14acb9dd-67cd-48f4-9359-25d2768802fe",
       "rows": [
        [
         "0",
         "MKE",
         "MQT",
         "128",
         "62.16949152542373",
         "10",
         "7.81"
        ],
        [
         "1",
         "ACK",
         "JFK",
         "147",
         "55.09090909090909",
         "15",
         "10.2"
        ],
        [
         "2",
         "ASE",
         "ORD",
         "584",
         "48.98640776699029",
         "69",
         "11.82"
        ],
        [
         "3",
         "SFO",
         "EGE",
         "439",
         "40.9375",
         "7",
         "1.59"
        ],
        [
         "4",
         "ASE",
         "SFO",
         "162",
         "39.66197183098591",
         "20",
         "12.35"
        ],
        [
         "5",
         "MQT",
         "MKE",
         "127",
         "38.47457627118644",
         "9",
         "7.09"
        ],
        [
         "6",
         "DFW",
         "MDT",
         "602",
         "31.93344709897611",
         "16",
         "2.66"
        ],
        [
         "7",
         "LGA",
         "FNT",
         "283",
         "31.87966804979253",
         "42",
         "14.84"
        ],
        [
         "8",
         "EGE",
         "MIA",
         "381",
         "31.762666666666668",
         "6",
         "1.57"
        ],
        [
         "9",
         "DAB",
         "LGA",
         "175",
         "31.74390243902439",
         "11",
         "6.29"
        ]
       ],
       "shape": {
        "columns": 6,
        "rows": 10
       }
      },
      "text/html": [
       "<div>\n",
       "<style scoped>\n",
       "    .dataframe tbody tr th:only-of-type {\n",
       "        vertical-align: middle;\n",
       "    }\n",
       "\n",
       "    .dataframe tbody tr th {\n",
       "        vertical-align: top;\n",
       "    }\n",
       "\n",
       "    .dataframe thead th {\n",
       "        text-align: right;\n",
       "    }\n",
       "</style>\n",
       "<table border=\"1\" class=\"dataframe\">\n",
       "  <thead>\n",
       "    <tr style=\"text-align: right;\">\n",
       "      <th></th>\n",
       "      <th>origin</th>\n",
       "      <th>dest</th>\n",
       "      <th>total_flights</th>\n",
       "      <th>avg_depdelay</th>\n",
       "      <th>cancellations</th>\n",
       "      <th>cancel_rate</th>\n",
       "    </tr>\n",
       "  </thead>\n",
       "  <tbody>\n",
       "    <tr>\n",
       "      <th>0</th>\n",
       "      <td>MKE</td>\n",
       "      <td>MQT</td>\n",
       "      <td>128</td>\n",
       "      <td>62.169492</td>\n",
       "      <td>10</td>\n",
       "      <td>7.81</td>\n",
       "    </tr>\n",
       "    <tr>\n",
       "      <th>1</th>\n",
       "      <td>ACK</td>\n",
       "      <td>JFK</td>\n",
       "      <td>147</td>\n",
       "      <td>55.090909</td>\n",
       "      <td>15</td>\n",
       "      <td>10.20</td>\n",
       "    </tr>\n",
       "    <tr>\n",
       "      <th>2</th>\n",
       "      <td>ASE</td>\n",
       "      <td>ORD</td>\n",
       "      <td>584</td>\n",
       "      <td>48.986408</td>\n",
       "      <td>69</td>\n",
       "      <td>11.82</td>\n",
       "    </tr>\n",
       "    <tr>\n",
       "      <th>3</th>\n",
       "      <td>SFO</td>\n",
       "      <td>EGE</td>\n",
       "      <td>439</td>\n",
       "      <td>40.937500</td>\n",
       "      <td>7</td>\n",
       "      <td>1.59</td>\n",
       "    </tr>\n",
       "    <tr>\n",
       "      <th>4</th>\n",
       "      <td>ASE</td>\n",
       "      <td>SFO</td>\n",
       "      <td>162</td>\n",
       "      <td>39.661972</td>\n",
       "      <td>20</td>\n",
       "      <td>12.35</td>\n",
       "    </tr>\n",
       "    <tr>\n",
       "      <th>5</th>\n",
       "      <td>MQT</td>\n",
       "      <td>MKE</td>\n",
       "      <td>127</td>\n",
       "      <td>38.474576</td>\n",
       "      <td>9</td>\n",
       "      <td>7.09</td>\n",
       "    </tr>\n",
       "    <tr>\n",
       "      <th>6</th>\n",
       "      <td>DFW</td>\n",
       "      <td>MDT</td>\n",
       "      <td>602</td>\n",
       "      <td>31.933447</td>\n",
       "      <td>16</td>\n",
       "      <td>2.66</td>\n",
       "    </tr>\n",
       "    <tr>\n",
       "      <th>7</th>\n",
       "      <td>LGA</td>\n",
       "      <td>FNT</td>\n",
       "      <td>283</td>\n",
       "      <td>31.879668</td>\n",
       "      <td>42</td>\n",
       "      <td>14.84</td>\n",
       "    </tr>\n",
       "    <tr>\n",
       "      <th>8</th>\n",
       "      <td>EGE</td>\n",
       "      <td>MIA</td>\n",
       "      <td>381</td>\n",
       "      <td>31.762667</td>\n",
       "      <td>6</td>\n",
       "      <td>1.57</td>\n",
       "    </tr>\n",
       "    <tr>\n",
       "      <th>9</th>\n",
       "      <td>DAB</td>\n",
       "      <td>LGA</td>\n",
       "      <td>175</td>\n",
       "      <td>31.743902</td>\n",
       "      <td>11</td>\n",
       "      <td>6.29</td>\n",
       "    </tr>\n",
       "  </tbody>\n",
       "</table>\n",
       "</div>"
      ],
      "text/plain": [
       "  origin dest  total_flights  avg_depdelay  cancellations  cancel_rate\n",
       "0    MKE  MQT            128     62.169492             10         7.81\n",
       "1    ACK  JFK            147     55.090909             15        10.20\n",
       "2    ASE  ORD            584     48.986408             69        11.82\n",
       "3    SFO  EGE            439     40.937500              7         1.59\n",
       "4    ASE  SFO            162     39.661972             20        12.35\n",
       "5    MQT  MKE            127     38.474576              9         7.09\n",
       "6    DFW  MDT            602     31.933447             16         2.66\n",
       "7    LGA  FNT            283     31.879668             42        14.84\n",
       "8    EGE  MIA            381     31.762667              6         1.57\n",
       "9    DAB  LGA            175     31.743902             11         6.29"
      ]
     },
     "execution_count": 20,
     "metadata": {},
     "output_type": "execute_result"
    }
   ],
   "source": [
    "# by route\n",
    "query11 = \"\"\"\n",
    "    SELECT\n",
    "        origin,\n",
    "        dest,\n",
    "        COUNT(*) AS total_flights,\n",
    "        AVG(depdelay) AS avg_depdelay,\n",
    "        SUM(CASE WHEN cancelled = 1 THEN 1 ELSE 0 END) AS cancellations,\n",
    "        ROUND(100.0 * SUM(CASE WHEN cancelled = 1 THEN 1 ELSE 0 END) / COUNT(*), 2) AS cancel_rate\n",
    "    FROM project2.airline_all\n",
    "    WHERE depdelay IS NOT NULL OR cancelled = 1\n",
    "    GROUP BY origin, dest\n",
    "    HAVING COUNT(*) >= 100  -- Filter out rare routes\n",
    "    ORDER BY avg_depdelay DESC, cancel_rate DESC\n",
    "    LIMIT 10\n",
    "\"\"\"\n",
    "\n",
    "df11 = pd.read_sql(query11, conn)\n",
    "df11"
   ]
  },
  {
   "cell_type": "code",
   "execution_count": 21,
   "id": "173986d7",
   "metadata": {},
   "outputs": [
    {
     "name": "stderr",
     "output_type": "stream",
     "text": [
      "C:\\Users\\user\\AppData\\Local\\Temp\\ipykernel_5596\\3497109198.py:16: UserWarning: pandas only supports SQLAlchemy connectable (engine/connection) or database string URI or sqlite3 DBAPI2 connection. Other DBAPI2 objects are not tested. Please consider using SQLAlchemy.\n",
      "  df12 = pd.read_sql(query12, conn)\n"
     ]
    },
    {
     "data": {
      "application/vnd.microsoft.datawrangler.viewer.v0+json": {
       "columns": [
        {
         "name": "index",
         "rawType": "int64",
         "type": "integer"
        },
        {
         "name": "flightnum",
         "rawType": "int64",
         "type": "integer"
        },
        {
         "name": "total_flights",
         "rawType": "int64",
         "type": "integer"
        },
        {
         "name": "avg_depdelay",
         "rawType": "float64",
         "type": "float"
        },
        {
         "name": "cancel_rate",
         "rawType": "float64",
         "type": "float"
        }
       ],
       "ref": "2212468b-6678-46cb-9a9f-b457ad094a80",
       "rows": [
        [
         "0",
         "6001",
         "163",
         "44.319148936170215",
         "13.5"
        ],
        [
         "1",
         "7188",
         "1006",
         "40.20421052631579",
         "5.57"
        ],
        [
         "2",
         "7474",
         "911",
         "33.94232987312572",
         "4.83"
        ],
        [
         "3",
         "7426",
         "681",
         "33.921996879875195",
         "5.87"
        ],
        [
         "4",
         "6007",
         "109",
         "33.6822429906542",
         "1.83"
        ],
        [
         "5",
         "7256",
         "1406",
         "33.57373271889401",
         "7.4"
        ],
        [
         "6",
         "7458",
         "1023",
         "33.527494908350306",
         "4.01"
        ],
        [
         "7",
         "7368",
         "933",
         "33.50885478158205",
         "9.22"
        ],
        [
         "8",
         "7617",
         "545",
         "33.0916179337232",
         "5.87"
        ],
        [
         "9",
         "7238",
         "1134",
         "33.02247191011236",
         "5.82"
        ]
       ],
       "shape": {
        "columns": 4,
        "rows": 10
       }
      },
      "text/html": [
       "<div>\n",
       "<style scoped>\n",
       "    .dataframe tbody tr th:only-of-type {\n",
       "        vertical-align: middle;\n",
       "    }\n",
       "\n",
       "    .dataframe tbody tr th {\n",
       "        vertical-align: top;\n",
       "    }\n",
       "\n",
       "    .dataframe thead th {\n",
       "        text-align: right;\n",
       "    }\n",
       "</style>\n",
       "<table border=\"1\" class=\"dataframe\">\n",
       "  <thead>\n",
       "    <tr style=\"text-align: right;\">\n",
       "      <th></th>\n",
       "      <th>flightnum</th>\n",
       "      <th>total_flights</th>\n",
       "      <th>avg_depdelay</th>\n",
       "      <th>cancel_rate</th>\n",
       "    </tr>\n",
       "  </thead>\n",
       "  <tbody>\n",
       "    <tr>\n",
       "      <th>0</th>\n",
       "      <td>6001</td>\n",
       "      <td>163</td>\n",
       "      <td>44.319149</td>\n",
       "      <td>13.50</td>\n",
       "    </tr>\n",
       "    <tr>\n",
       "      <th>1</th>\n",
       "      <td>7188</td>\n",
       "      <td>1006</td>\n",
       "      <td>40.204211</td>\n",
       "      <td>5.57</td>\n",
       "    </tr>\n",
       "    <tr>\n",
       "      <th>2</th>\n",
       "      <td>7474</td>\n",
       "      <td>911</td>\n",
       "      <td>33.942330</td>\n",
       "      <td>4.83</td>\n",
       "    </tr>\n",
       "    <tr>\n",
       "      <th>3</th>\n",
       "      <td>7426</td>\n",
       "      <td>681</td>\n",
       "      <td>33.921997</td>\n",
       "      <td>5.87</td>\n",
       "    </tr>\n",
       "    <tr>\n",
       "      <th>4</th>\n",
       "      <td>6007</td>\n",
       "      <td>109</td>\n",
       "      <td>33.682243</td>\n",
       "      <td>1.83</td>\n",
       "    </tr>\n",
       "    <tr>\n",
       "      <th>5</th>\n",
       "      <td>7256</td>\n",
       "      <td>1406</td>\n",
       "      <td>33.573733</td>\n",
       "      <td>7.40</td>\n",
       "    </tr>\n",
       "    <tr>\n",
       "      <th>6</th>\n",
       "      <td>7458</td>\n",
       "      <td>1023</td>\n",
       "      <td>33.527495</td>\n",
       "      <td>4.01</td>\n",
       "    </tr>\n",
       "    <tr>\n",
       "      <th>7</th>\n",
       "      <td>7368</td>\n",
       "      <td>933</td>\n",
       "      <td>33.508855</td>\n",
       "      <td>9.22</td>\n",
       "    </tr>\n",
       "    <tr>\n",
       "      <th>8</th>\n",
       "      <td>7617</td>\n",
       "      <td>545</td>\n",
       "      <td>33.091618</td>\n",
       "      <td>5.87</td>\n",
       "    </tr>\n",
       "    <tr>\n",
       "      <th>9</th>\n",
       "      <td>7238</td>\n",
       "      <td>1134</td>\n",
       "      <td>33.022472</td>\n",
       "      <td>5.82</td>\n",
       "    </tr>\n",
       "  </tbody>\n",
       "</table>\n",
       "</div>"
      ],
      "text/plain": [
       "   flightnum  total_flights  avg_depdelay  cancel_rate\n",
       "0       6001            163     44.319149        13.50\n",
       "1       7188           1006     40.204211         5.57\n",
       "2       7474            911     33.942330         4.83\n",
       "3       7426            681     33.921997         5.87\n",
       "4       6007            109     33.682243         1.83\n",
       "5       7256           1406     33.573733         7.40\n",
       "6       7458           1023     33.527495         4.01\n",
       "7       7368            933     33.508855         9.22\n",
       "8       7617            545     33.091618         5.87\n",
       "9       7238           1134     33.022472         5.82"
      ]
     },
     "execution_count": 21,
     "metadata": {},
     "output_type": "execute_result"
    }
   ],
   "source": [
    "# by flight number\n",
    "query12 = \"\"\"\n",
    "        SELECT\n",
    "        flightnum,\n",
    "        COUNT(*) AS total_flights,\n",
    "        AVG(depdelay) AS avg_depdelay,\n",
    "        ROUND(100.0 * SUM(CASE WHEN cancelled = 1 THEN 1 ELSE 0 END) / COUNT(*), 2) AS cancel_rate\n",
    "    FROM project2.airline_all\n",
    "    WHERE depdelay IS NOT NULL OR cancelled = 1\n",
    "    GROUP BY flightnum\n",
    "    HAVING COUNT(*) >= 100  -- Filter out uncommon flights\n",
    "    ORDER BY avg_depdelay DESC, cancel_rate DESC\n",
    "    LIMIT 10\n",
    "\"\"\"\n",
    "\n",
    "df12 = pd.read_sql(query12, conn)\n",
    "df12"
   ]
  },
  {
   "cell_type": "markdown",
   "id": "6dfc9f2b",
   "metadata": {},
   "source": [
    "<h2> Analyse the reasons these particular flights are prone to delays or cancellations. </h2>"
   ]
  },
  {
   "cell_type": "code",
   "execution_count": null,
   "id": "ee6036a8",
   "metadata": {},
   "outputs": [],
   "source": [
    "query13 = \"\"\"\n",
    "    CREATE TEMPORARY TABLE project2.bad_flights AS\n",
    "        SELECT\n",
    "        origin,\n",
    "        dest,\n",
    "        flightnum,\n",
    "        AVG(depdelay) AS avg_depdelay,\n",
    "        COUNT(*) AS total_flights\n",
    "    FROM project2.airline_all\n",
    "    WHERE depdelay IS NOT NULL\n",
    "    GROUP BY origin, dest, flightnum\n",
    "    HAVING COUNT(*) >= 100 AND avg_depdelay > 30\n",
    "\"\"\"\n",
    "\n",
    "query14 = \"\"\"\n",
    "    SELECT\n",
    "        a.origin,\n",
    "        a.dest,\n",
    "        a.flightnum,\n",
    "        SUM(carrierdelay) AS total_carrier_delay,\n",
    "        SUM(weatherdelay) AS total_weather_delay,\n",
    "        SUM(nasdelay) AS total_nas_delay,\n",
    "        SUM(securitydelay) AS total_security_delay,\n",
    "        SUM(lateaircraftdelay) AS total_lateaircraft_delay\n",
    "    FROM project2.airline_all a\n",
    "    JOIN project2.bad_flights b\n",
    "        ON a.origin = b.origin AND a.dest = b.dest AND a.flightnum = b.flightnum\n",
    "    GROUP BY a.origin, a.dest, a.flightnum\n",
    "    ORDER BY total_carrier_delay + total_weather_delay + total_nas_delay + total_security_delay + total_lateaircraft_delay DESC;\n",
    "\"\"\"\n",
    "\n",
    "query15 = \"\"\"\n",
    "    SELECT\n",
    "    a.origin,\n",
    "    a.dest,\n",
    "    a.flightnum,\n",
    "    CASE cancellationcode\n",
    "        WHEN 'A' THEN 'Carrier'\n",
    "        WHEN 'B' THEN 'Weather'\n",
    "        WHEN 'C' THEN 'NAS'\n",
    "        WHEN 'D' THEN 'Security'\n",
    "        ELSE 'Unknown'\n",
    "    END AS cancellation_reason,\n",
    "    COUNT(*) AS cancellations\n",
    "    FROM project2.airline_all a\n",
    "    JOIN project2.bad_flights b\n",
    "        ON a.origin = b.origin AND a.dest = b.dest AND a.flightnum = b.flightnum\n",
    "    WHERE a.cancelled = 1\n",
    "    GROUP BY a.origin, a.dest, a.flightnum, cancellationcode\n",
    "    ORDER BY cancellations DESC\n",
    "\"\"\"\n"
   ]
  },
  {
   "cell_type": "markdown",
   "id": "91ea7430",
   "metadata": {},
   "source": []
  },
  {
   "cell_type": "markdown",
   "id": "8fc26285",
   "metadata": {},
   "source": [
    "<h1> References </h1>\n",
    "1. https://cs229.stanford.edu/proj2013/MathurNagaoNg-PredictingFlightOnTimePerformance.pdf <br>\n",
    "2. https://dataverse.harvard.edu/dataset.xhtml?persistentId=doi%3A10.7910%2FDVN%2FHG7NV7 <br>\n",
    "3. https://learn.microsoft.com/en-us/previous-versions/microsoft-r/r-reference/revoscaler/airontime87to12\n",
    "4. "
   ]
  },
  {
   "cell_type": "markdown",
   "id": "08ab6412",
   "metadata": {},
   "source": []
  }
 ],
 "metadata": {
  "kernelspec": {
   "display_name": "Python 3",
   "language": "python",
   "name": "python3"
  },
  "language_info": {
   "codemirror_mode": {
    "name": "ipython",
    "version": 3
   },
   "file_extension": ".py",
   "mimetype": "text/x-python",
   "name": "python",
   "nbconvert_exporter": "python",
   "pygments_lexer": "ipython3",
   "version": "3.11.4"
  }
 },
 "nbformat": 4,
 "nbformat_minor": 5
}
