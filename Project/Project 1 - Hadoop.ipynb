{
 "cells": [
  {
   "cell_type": "markdown",
   "id": "7d940701",
   "metadata": {},
   "source": [
    "<h1 style='font-weight:bold; color:orange'> Load Data </h1>"
   ]
  },
  {
   "cell_type": "code",
   "execution_count": 7,
   "id": "c60518c1",
   "metadata": {},
   "outputs": [],
   "source": [
    "from ucimlrepo import fetch_ucirepo\n",
    "import pandas as pd\n",
    "import matplotlib.pyplot as plt\n",
    "import seaborn as sns\n",
    "from pyhive import hive"
   ]
  },
  {
   "cell_type": "code",
   "execution_count": null,
   "id": "c6871e14",
   "metadata": {},
   "outputs": [],
   "source": [
    "# fetch dataset from uci machine learning respository\n",
    "adult = fetch_ucirepo(id=2)\n",
    "X = adult.data.features\n",
    "y = adult.data.targets\n",
    "df = pd.concat([X, y], axis=1)\n",
    "\n",
    "df.to_csv('adult.csv', index=False, header=False)"
   ]
  },
  {
   "cell_type": "code",
   "execution_count": 8,
   "id": "f0a7a8a5",
   "metadata": {},
   "outputs": [],
   "source": [
    "# establish connection hive Apache Hive\n",
    "conn = hive.Connection(\n",
    "    host=\"localhost\",\n",
    "    port=10000,\n",
    "    username=\"maria_dev\",\n",
    ")\n",
    "\n",
    "cursor = conn.cursor()\n",
    "\n",
    "def query_hive(command):\n",
    "    cursor.execute(command)\n",
    "    for result in cursor.fetchall():\n",
    "        print(result)"
   ]
  },
  {
   "cell_type": "code",
   "execution_count": 9,
   "id": "73b2a665",
   "metadata": {},
   "outputs": [],
   "source": [
    "# create a database to store tables\n",
    "cursor.execute(\"CREATE DATABASE IF NOT EXISTS project\")"
   ]
  },
  {
   "cell_type": "markdown",
   "id": "37624405",
   "metadata": {},
   "source": [
    "<h1 style='font-weight:bold; color:orange'> Data Preprocessing inside Apache Hive using HiveQL </h1>"
   ]
  },
  {
   "cell_type": "code",
   "execution_count": null,
   "id": "27546931",
   "metadata": {},
   "outputs": [
    {
     "name": "stdout",
     "output_type": "stream",
     "text": [
      "(39, 'State-gov', 77516, 'Bachelors', 13, 'Never-married', 'Adm-clerical', 'Not-in-family', 'White', 'Male', 2174, 0, 40, 'United-States', '<=50K')\n",
      "(50, 'Self-emp-not-inc', 83311, 'Bachelors', 13, 'Married-civ-spouse', 'Exec-managerial', 'Husband', 'White', 'Male', 0, 0, 13, 'United-States', '<=50K')\n",
      "(38, 'Private', 215646, 'HS-grad', 9, 'Divorced', 'Handlers-cleaners', 'Not-in-family', 'White', 'Male', 0, 0, 40, 'United-States', '<=50K')\n",
      "(53, 'Private', 234721, '11th', 7, 'Married-civ-spouse', 'Handlers-cleaners', 'Husband', 'Black', 'Male', 0, 0, 40, 'United-States', '<=50K')\n",
      "(28, 'Private', 338409, 'Bachelors', 13, 'Married-civ-spouse', 'Prof-specialty', 'Wife', 'Black', 'Female', 0, 0, 40, 'Cuba', '<=50K')\n",
      "(37, 'Private', 284582, 'Masters', 14, 'Married-civ-spouse', 'Exec-managerial', 'Wife', 'White', 'Female', 0, 0, 40, 'United-States', '<=50K')\n",
      "(49, 'Private', 160187, '9th', 5, 'Married-spouse-absent', 'Other-service', 'Not-in-family', 'Black', 'Female', 0, 0, 16, 'Jamaica', '<=50K')\n",
      "(52, 'Self-emp-not-inc', 209642, 'HS-grad', 9, 'Married-civ-spouse', 'Exec-managerial', 'Husband', 'White', 'Male', 0, 0, 45, 'United-States', '>50K')\n",
      "(31, 'Private', 45781, 'Masters', 14, 'Never-married', 'Prof-specialty', 'Not-in-family', 'White', 'Female', 14084, 0, 50, 'United-States', '>50K')\n",
      "(42, 'Private', 159449, 'Bachelors', 13, 'Married-civ-spouse', 'Exec-managerial', 'Husband', 'White', 'Male', 5178, 0, 40, 'United-States', '>50K')\n"
     ]
    }
   ],
   "source": [
    "# view the first 10 rows from the dataset\n",
    "query_hive(\"\"\"\n",
    "           SELECT *\n",
    "           FROM project.adult\n",
    "           LIMIT 10\n",
    "           \"\"\")"
   ]
  },
  {
   "cell_type": "code",
   "execution_count": null,
   "id": "f500529f",
   "metadata": {},
   "outputs": [
    {
     "name": "stdout",
     "output_type": "stream",
     "text": [
      "(48842,)\n"
     ]
    }
   ],
   "source": [
    "# count the total number of rows\n",
    "query_hive(\"\"\"\n",
    "           SELECT COUNT(*)\n",
    "           FROM project.adult\n",
    "           \"\"\")"
   ]
  },
  {
   "cell_type": "code",
   "execution_count": 6,
   "id": "810c070c",
   "metadata": {},
   "outputs": [
    {
     "name": "stdout",
     "output_type": "stream",
     "text": [
      "(48842, 48842, 48842, 48842)\n"
     ]
    }
   ],
   "source": [
    "# check for null values in each column\n",
    "query_hive(\"\"\"\n",
    "           SELECT\n",
    "            COUNT (*) AS total,\n",
    "            COUNT(age) AS age_not_null,\n",
    "            COUNT(workclass) AS workclass_not_null,\n",
    "            COUNT(final_weight) AS weight_not_null\n",
    "           FROM project.adult\n",
    "           \"\"\")"
   ]
  },
  {
   "cell_type": "code",
   "execution_count": null,
   "id": "3e436cae",
   "metadata": {},
   "outputs": [
    {
     "name": "stdout",
     "output_type": "stream",
     "text": [
      "(17, 595)\n",
      "(18, 862)\n",
      "(19, 1053)\n",
      "(20, 1113)\n",
      "(21, 1096)\n",
      "(22, 1178)\n",
      "(23, 1329)\n",
      "(24, 1206)\n",
      "(25, 1195)\n",
      "(26, 1153)\n"
     ]
    }
   ],
   "source": [
    "# age count\n",
    "query_hive(\"\"\"\n",
    "           SELECT age, COUNT(*) AS count\n",
    "           FROM project.adult\n",
    "           GROUP BY age\n",
    "           ORDER BY age\n",
    "           LIMIT 10\n",
    "           \"\"\")"
   ]
  },
  {
   "cell_type": "code",
   "execution_count": 15,
   "id": "c553ce7e",
   "metadata": {},
   "outputs": [
    {
     "name": "stdout",
     "output_type": "stream",
     "text": [
      "(1836,)\n"
     ]
    }
   ],
   "source": [
    "query_hive(\"\"\"\n",
    "           SELECT COUNT(*)\n",
    "           FROM project.adult\n",
    "           WHERE workclass = '?'\n",
    "           \"\"\")"
   ]
  },
  {
   "cell_type": "code",
   "execution_count": null,
   "id": "f525423d",
   "metadata": {},
   "outputs": [],
   "source": [
    "query = \"\"\"\n",
    "SELECT * FROM project.adult\n",
    "\"\"\"\n",
    "\n",
    "df = pd.read_sql(query, conn)\n",
    "df.head()"
   ]
  },
  {
   "cell_type": "code",
   "execution_count": null,
   "id": "e083750d",
   "metadata": {},
   "outputs": [],
   "source": []
  }
 ],
 "metadata": {
  "kernelspec": {
   "display_name": "Python 3",
   "language": "python",
   "name": "python3"
  },
  "language_info": {
   "codemirror_mode": {
    "name": "ipython",
    "version": 3
   },
   "file_extension": ".py",
   "mimetype": "text/x-python",
   "name": "python",
   "nbconvert_exporter": "python",
   "pygments_lexer": "ipython3",
   "version": "3.11.4"
  }
 },
 "nbformat": 4,
 "nbformat_minor": 5
}
