{
 "cells": [
  {
   "cell_type": "code",
   "execution_count": 1,
   "id": "4291532c",
   "metadata": {},
   "outputs": [],
   "source": [
    "from pyhive import hive\n",
    "from ucimlrepo import fetch_ucirepo\n",
    "import pandas as pd"
   ]
  },
  {
   "cell_type": "code",
   "execution_count": 2,
   "id": "5f602422",
   "metadata": {},
   "outputs": [
    {
     "name": "stdout",
     "output_type": "stream",
     "text": [
      "('credit_approval',)\n",
      "('credit_fraud',)\n",
      "('cuba',)\n",
      "('movie_names',)\n",
      "('ratings',)\n"
     ]
    }
   ],
   "source": [
    "conn = hive.Connection(\n",
    "    host='localhost',\n",
    "    port=10000,\n",
    "    username='maria_dev'\n",
    ")\n",
    "\n",
    "cursor = conn.cursor()\n",
    "\n",
    "def hive_query(query):\n",
    "    cursor.execute(query)\n",
    "    for result in cursor.fetchall():\n",
    "        print(result)\n",
    "\n",
    "hive_query('SHOW TABLES')"
   ]
  },
  {
   "cell_type": "code",
   "execution_count": 15,
   "id": "856f1bfa",
   "metadata": {},
   "outputs": [
    {
     "data": {
      "application/vnd.microsoft.datawrangler.viewer.v0+json": {
       "columns": [
        {
         "name": "index",
         "rawType": "int64",
         "type": "integer"
        },
        {
         "name": "age",
         "rawType": "int64",
         "type": "integer"
        },
        {
         "name": "workclass",
         "rawType": "object",
         "type": "string"
        },
        {
         "name": "fnlwgt",
         "rawType": "int64",
         "type": "integer"
        },
        {
         "name": "education",
         "rawType": "object",
         "type": "string"
        },
        {
         "name": "education-num",
         "rawType": "int64",
         "type": "integer"
        },
        {
         "name": "marital-status",
         "rawType": "object",
         "type": "string"
        },
        {
         "name": "occupation",
         "rawType": "object",
         "type": "string"
        },
        {
         "name": "relationship",
         "rawType": "object",
         "type": "string"
        },
        {
         "name": "race",
         "rawType": "object",
         "type": "string"
        },
        {
         "name": "sex",
         "rawType": "object",
         "type": "string"
        },
        {
         "name": "capital-gain",
         "rawType": "int64",
         "type": "integer"
        },
        {
         "name": "capital-loss",
         "rawType": "int64",
         "type": "integer"
        },
        {
         "name": "hours-per-week",
         "rawType": "int64",
         "type": "integer"
        },
        {
         "name": "native-country",
         "rawType": "object",
         "type": "string"
        },
        {
         "name": "income",
         "rawType": "object",
         "type": "string"
        }
       ],
       "conversionMethod": "pd.DataFrame",
       "ref": "110ffb5a-95a3-40a9-8734-05f38b0a975f",
       "rows": [
        [
         "0",
         "39",
         "State-gov",
         "77516",
         "Bachelors",
         "13",
         "Never-married",
         "Adm-clerical",
         "Not-in-family",
         "White",
         "Male",
         "2174",
         "0",
         "40",
         "United-States",
         "<=50K"
        ],
        [
         "1",
         "50",
         "Self-emp-not-inc",
         "83311",
         "Bachelors",
         "13",
         "Married-civ-spouse",
         "Exec-managerial",
         "Husband",
         "White",
         "Male",
         "0",
         "0",
         "13",
         "United-States",
         "<=50K"
        ],
        [
         "2",
         "38",
         "Private",
         "215646",
         "HS-grad",
         "9",
         "Divorced",
         "Handlers-cleaners",
         "Not-in-family",
         "White",
         "Male",
         "0",
         "0",
         "40",
         "United-States",
         "<=50K"
        ],
        [
         "3",
         "53",
         "Private",
         "234721",
         "11th",
         "7",
         "Married-civ-spouse",
         "Handlers-cleaners",
         "Husband",
         "Black",
         "Male",
         "0",
         "0",
         "40",
         "United-States",
         "<=50K"
        ],
        [
         "4",
         "28",
         "Private",
         "338409",
         "Bachelors",
         "13",
         "Married-civ-spouse",
         "Prof-specialty",
         "Wife",
         "Black",
         "Female",
         "0",
         "0",
         "40",
         "Cuba",
         "<=50K"
        ]
       ],
       "shape": {
        "columns": 15,
        "rows": 5
       }
      },
      "text/html": [
       "<div>\n",
       "<style scoped>\n",
       "    .dataframe tbody tr th:only-of-type {\n",
       "        vertical-align: middle;\n",
       "    }\n",
       "\n",
       "    .dataframe tbody tr th {\n",
       "        vertical-align: top;\n",
       "    }\n",
       "\n",
       "    .dataframe thead th {\n",
       "        text-align: right;\n",
       "    }\n",
       "</style>\n",
       "<table border=\"1\" class=\"dataframe\">\n",
       "  <thead>\n",
       "    <tr style=\"text-align: right;\">\n",
       "      <th></th>\n",
       "      <th>age</th>\n",
       "      <th>workclass</th>\n",
       "      <th>fnlwgt</th>\n",
       "      <th>education</th>\n",
       "      <th>education-num</th>\n",
       "      <th>marital-status</th>\n",
       "      <th>occupation</th>\n",
       "      <th>relationship</th>\n",
       "      <th>race</th>\n",
       "      <th>sex</th>\n",
       "      <th>capital-gain</th>\n",
       "      <th>capital-loss</th>\n",
       "      <th>hours-per-week</th>\n",
       "      <th>native-country</th>\n",
       "      <th>income</th>\n",
       "    </tr>\n",
       "  </thead>\n",
       "  <tbody>\n",
       "    <tr>\n",
       "      <th>0</th>\n",
       "      <td>39</td>\n",
       "      <td>State-gov</td>\n",
       "      <td>77516</td>\n",
       "      <td>Bachelors</td>\n",
       "      <td>13</td>\n",
       "      <td>Never-married</td>\n",
       "      <td>Adm-clerical</td>\n",
       "      <td>Not-in-family</td>\n",
       "      <td>White</td>\n",
       "      <td>Male</td>\n",
       "      <td>2174</td>\n",
       "      <td>0</td>\n",
       "      <td>40</td>\n",
       "      <td>United-States</td>\n",
       "      <td>&lt;=50K</td>\n",
       "    </tr>\n",
       "    <tr>\n",
       "      <th>1</th>\n",
       "      <td>50</td>\n",
       "      <td>Self-emp-not-inc</td>\n",
       "      <td>83311</td>\n",
       "      <td>Bachelors</td>\n",
       "      <td>13</td>\n",
       "      <td>Married-civ-spouse</td>\n",
       "      <td>Exec-managerial</td>\n",
       "      <td>Husband</td>\n",
       "      <td>White</td>\n",
       "      <td>Male</td>\n",
       "      <td>0</td>\n",
       "      <td>0</td>\n",
       "      <td>13</td>\n",
       "      <td>United-States</td>\n",
       "      <td>&lt;=50K</td>\n",
       "    </tr>\n",
       "    <tr>\n",
       "      <th>2</th>\n",
       "      <td>38</td>\n",
       "      <td>Private</td>\n",
       "      <td>215646</td>\n",
       "      <td>HS-grad</td>\n",
       "      <td>9</td>\n",
       "      <td>Divorced</td>\n",
       "      <td>Handlers-cleaners</td>\n",
       "      <td>Not-in-family</td>\n",
       "      <td>White</td>\n",
       "      <td>Male</td>\n",
       "      <td>0</td>\n",
       "      <td>0</td>\n",
       "      <td>40</td>\n",
       "      <td>United-States</td>\n",
       "      <td>&lt;=50K</td>\n",
       "    </tr>\n",
       "    <tr>\n",
       "      <th>3</th>\n",
       "      <td>53</td>\n",
       "      <td>Private</td>\n",
       "      <td>234721</td>\n",
       "      <td>11th</td>\n",
       "      <td>7</td>\n",
       "      <td>Married-civ-spouse</td>\n",
       "      <td>Handlers-cleaners</td>\n",
       "      <td>Husband</td>\n",
       "      <td>Black</td>\n",
       "      <td>Male</td>\n",
       "      <td>0</td>\n",
       "      <td>0</td>\n",
       "      <td>40</td>\n",
       "      <td>United-States</td>\n",
       "      <td>&lt;=50K</td>\n",
       "    </tr>\n",
       "    <tr>\n",
       "      <th>4</th>\n",
       "      <td>28</td>\n",
       "      <td>Private</td>\n",
       "      <td>338409</td>\n",
       "      <td>Bachelors</td>\n",
       "      <td>13</td>\n",
       "      <td>Married-civ-spouse</td>\n",
       "      <td>Prof-specialty</td>\n",
       "      <td>Wife</td>\n",
       "      <td>Black</td>\n",
       "      <td>Female</td>\n",
       "      <td>0</td>\n",
       "      <td>0</td>\n",
       "      <td>40</td>\n",
       "      <td>Cuba</td>\n",
       "      <td>&lt;=50K</td>\n",
       "    </tr>\n",
       "  </tbody>\n",
       "</table>\n",
       "</div>"
      ],
      "text/plain": [
       "   age         workclass  fnlwgt  education  education-num  \\\n",
       "0   39         State-gov   77516  Bachelors             13   \n",
       "1   50  Self-emp-not-inc   83311  Bachelors             13   \n",
       "2   38           Private  215646    HS-grad              9   \n",
       "3   53           Private  234721       11th              7   \n",
       "4   28           Private  338409  Bachelors             13   \n",
       "\n",
       "       marital-status         occupation   relationship   race     sex  \\\n",
       "0       Never-married       Adm-clerical  Not-in-family  White    Male   \n",
       "1  Married-civ-spouse    Exec-managerial        Husband  White    Male   \n",
       "2            Divorced  Handlers-cleaners  Not-in-family  White    Male   \n",
       "3  Married-civ-spouse  Handlers-cleaners        Husband  Black    Male   \n",
       "4  Married-civ-spouse     Prof-specialty           Wife  Black  Female   \n",
       "\n",
       "   capital-gain  capital-loss  hours-per-week native-country income  \n",
       "0          2174             0              40  United-States  <=50K  \n",
       "1             0             0              13  United-States  <=50K  \n",
       "2             0             0              40  United-States  <=50K  \n",
       "3             0             0              40  United-States  <=50K  \n",
       "4             0             0              40           Cuba  <=50K  "
      ]
     },
     "execution_count": 15,
     "metadata": {},
     "output_type": "execute_result"
    }
   ],
   "source": [
    "adult = fetch_ucirepo(id=2)\n",
    "X = adult.data.features\n",
    "y = adult.data.targets\n",
    "\n",
    "df = pd.concat([X, y], axis=1)\n",
    "df.head()\n"
   ]
  },
  {
   "cell_type": "code",
   "execution_count": 16,
   "id": "da07db71",
   "metadata": {},
   "outputs": [],
   "source": [
    "cursor.execute(\"\"\"\n",
    "               CREATE DATABASE IF NOT EXISTS adult\n",
    "               \"\"\")"
   ]
  },
  {
   "cell_type": "code",
   "execution_count": 17,
   "id": "d08fb244",
   "metadata": {},
   "outputs": [],
   "source": [
    "# Save DataFrame to CSV\n",
    "df.to_csv('adult_data.csv', index=False, header=False)"
   ]
  },
  {
   "cell_type": "code",
   "execution_count": null,
   "id": "8a793f07",
   "metadata": {},
   "outputs": [],
   "source": [
    "# Create external table pointing to the CSV\n",
    "cursor.execute(\"\"\"\n",
    "CREATE EXTERNAL TABLE IF NOT EXISTS adult.adult_data (\n",
    "    age INT,\n",
    "    workclass STRING,\n",
    "    fnlwgt INT,\n",
    "    education STRING,\n",
    "    education_num INT,\n",
    "    marital_status STRING,\n",
    "    occupation STRING,\n",
    "    relationship STRING,\n",
    "    race STRING,\n",
    "    sex STRING,\n",
    "    capital_gain INT,\n",
    "    capital_loss INT,\n",
    "    hours_per_week INT,\n",
    "    native_country STRING,\n",
    "    income STRING\n",
    ")\n",
    "ROW FORMAT DELIMITED\n",
    "FIELDS TERMINATED BY ','\n",
    "STORED AS TEXTFILE\n",
    "LOCATION '/user/maria_dev/adult/'\n",
    "\"\"\")\n",
    "\n",
    "# Then load the data (run this in Hive shell or via subprocess)\n",
    "# LOAD DATA LOCAL INPATH 'adult_data.csv' INTO TABLE adult.adult_data\n",
    "# make sure that there is only 1 file inside adult folder"
   ]
  },
  {
   "cell_type": "code",
   "execution_count": 24,
   "id": "a0270294",
   "metadata": {},
   "outputs": [
    {
     "ename": "OperationalError",
     "evalue": "TExecuteStatementResp(status=TStatus(statusCode=3, infoMessages=[\"*org.apache.hive.service.cli.HiveSQLException:Error while compiling statement: FAILED: SemanticException Line 2:17 Invalid path ''adult_data.csv'': No files matching path hdfs://sandbox-hdp.hortonworks.com:8020/user/hive/adult_data.csv:17:16\", 'org.apache.hive.service.cli.operation.Operation:toSQLException:Operation.java:324', 'org.apache.hive.service.cli.operation.SQLOperation:prepare:SQLOperation.java:148', 'org.apache.hive.service.cli.operation.SQLOperation:runInternal:SQLOperation.java:228', 'org.apache.hive.service.cli.operation.Operation:run:Operation.java:264', 'org.apache.hive.service.cli.session.HiveSessionImpl:executeStatementInternal:HiveSessionImpl.java:479', 'org.apache.hive.service.cli.session.HiveSessionImpl:executeStatement:HiveSessionImpl.java:454', 'org.apache.hive.service.cli.CLIService:executeStatement:CLIService.java:285', 'org.apache.hive.service.cli.thrift.ThriftCLIService:ExecuteStatement:ThriftCLIService.java:510', 'org.apache.hive.service.cli.thrift.TCLIService$Processor$ExecuteStatement:getResult:TCLIService.java:1377', 'org.apache.hive.service.cli.thrift.TCLIService$Processor$ExecuteStatement:getResult:TCLIService.java:1362', 'org.apache.thrift.ProcessFunction:process:ProcessFunction.java:39', 'org.apache.thrift.TBaseProcessor:process:TBaseProcessor.java:39', 'org.apache.hive.service.auth.TSetIpAddressProcessor:process:TSetIpAddressProcessor.java:56', 'org.apache.thrift.server.TThreadPoolServer$WorkerProcess:run:TThreadPoolServer.java:286', 'java.util.concurrent.ThreadPoolExecutor:runWorker:ThreadPoolExecutor.java:1149', 'java.util.concurrent.ThreadPoolExecutor$Worker:run:ThreadPoolExecutor.java:624', 'java.lang.Thread:run:Thread.java:748', \"*org.apache.hadoop.hive.ql.parse.SemanticException:Line 2:17 Invalid path ''adult_data.csv'': No files matching path hdfs://sandbox-hdp.hortonworks.com:8020/user/hive/adult_data.csv:23:7\", 'org.apache.hadoop.hive.ql.parse.LoadSemanticAnalyzer:applyConstraintsAndGetFiles:LoadSemanticAnalyzer.java:147', 'org.apache.hadoop.hive.ql.parse.LoadSemanticAnalyzer:analyzeInternal:LoadSemanticAnalyzer.java:225', 'org.apache.hadoop.hive.ql.parse.BaseSemanticAnalyzer:analyze:BaseSemanticAnalyzer.java:238', 'org.apache.hadoop.hive.ql.Driver:compile:Driver.java:474', 'org.apache.hadoop.hive.ql.Driver:compile:Driver.java:330', 'org.apache.hadoop.hive.ql.Driver:compileInternal:Driver.java:1233', 'org.apache.hadoop.hive.ql.Driver:compileAndRespond:Driver.java:1227', 'org.apache.hive.service.cli.operation.SQLOperation:prepare:SQLOperation.java:146'], sqlState='42000', errorCode=40000, errorMessage=\"Error while compiling statement: FAILED: SemanticException Line 2:17 Invalid path ''adult_data.csv'': No files matching path hdfs://sandbox-hdp.hortonworks.com:8020/user/hive/adult_data.csv\"), operationHandle=None)",
     "output_type": "error",
     "traceback": [
      "\u001b[31m---------------------------------------------------------------------------\u001b[39m",
      "\u001b[31mOperationalError\u001b[39m                          Traceback (most recent call last)",
      "\u001b[36mCell\u001b[39m\u001b[36m \u001b[39m\u001b[32mIn[24]\u001b[39m\u001b[32m, line 1\u001b[39m\n\u001b[32m----> \u001b[39m\u001b[32m1\u001b[39m \u001b[43mcursor\u001b[49m\u001b[43m.\u001b[49m\u001b[43mexecute\u001b[49m\u001b[43m(\u001b[49m\u001b[33;43m\"\"\"\u001b[39;49m\n\u001b[32m      2\u001b[39m \u001b[33;43mLOAD DATA INPATH \u001b[39;49m\u001b[33;43m'\u001b[39;49m\u001b[33;43madult_data.csv\u001b[39;49m\u001b[33;43m'\u001b[39;49m\u001b[33;43m INTO TABLE adult.adult_data\u001b[39;49m\n\u001b[32m      3\u001b[39m \u001b[33;43m               \u001b[39;49m\u001b[33;43m\"\"\"\u001b[39;49m\u001b[43m)\u001b[49m\n",
      "\u001b[36mFile \u001b[39m\u001b[32mc:\\Users\\user\\AppData\\Local\\Programs\\Python\\Python311\\Lib\\site-packages\\pyhive\\hive.py:481\u001b[39m, in \u001b[36mCursor.execute\u001b[39m\u001b[34m(self, operation, parameters, **kwargs)\u001b[39m\n\u001b[32m    479\u001b[39m _logger.debug(req)\n\u001b[32m    480\u001b[39m response = \u001b[38;5;28mself\u001b[39m._connection.client.ExecuteStatement(req)\n\u001b[32m--> \u001b[39m\u001b[32m481\u001b[39m \u001b[43m_check_status\u001b[49m\u001b[43m(\u001b[49m\u001b[43mresponse\u001b[49m\u001b[43m)\u001b[49m\n\u001b[32m    482\u001b[39m \u001b[38;5;28mself\u001b[39m._operationHandle = response.operationHandle\n",
      "\u001b[36mFile \u001b[39m\u001b[32mc:\\Users\\user\\AppData\\Local\\Programs\\Python\\Python311\\Lib\\site-packages\\pyhive\\hive.py:611\u001b[39m, in \u001b[36m_check_status\u001b[39m\u001b[34m(response)\u001b[39m\n\u001b[32m    609\u001b[39m _logger.debug(response)\n\u001b[32m    610\u001b[39m \u001b[38;5;28;01mif\u001b[39;00m response.status.statusCode != ttypes.TStatusCode.SUCCESS_STATUS:\n\u001b[32m--> \u001b[39m\u001b[32m611\u001b[39m     \u001b[38;5;28;01mraise\u001b[39;00m OperationalError(response)\n",
      "\u001b[31mOperationalError\u001b[39m: TExecuteStatementResp(status=TStatus(statusCode=3, infoMessages=[\"*org.apache.hive.service.cli.HiveSQLException:Error while compiling statement: FAILED: SemanticException Line 2:17 Invalid path ''adult_data.csv'': No files matching path hdfs://sandbox-hdp.hortonworks.com:8020/user/hive/adult_data.csv:17:16\", 'org.apache.hive.service.cli.operation.Operation:toSQLException:Operation.java:324', 'org.apache.hive.service.cli.operation.SQLOperation:prepare:SQLOperation.java:148', 'org.apache.hive.service.cli.operation.SQLOperation:runInternal:SQLOperation.java:228', 'org.apache.hive.service.cli.operation.Operation:run:Operation.java:264', 'org.apache.hive.service.cli.session.HiveSessionImpl:executeStatementInternal:HiveSessionImpl.java:479', 'org.apache.hive.service.cli.session.HiveSessionImpl:executeStatement:HiveSessionImpl.java:454', 'org.apache.hive.service.cli.CLIService:executeStatement:CLIService.java:285', 'org.apache.hive.service.cli.thrift.ThriftCLIService:ExecuteStatement:ThriftCLIService.java:510', 'org.apache.hive.service.cli.thrift.TCLIService$Processor$ExecuteStatement:getResult:TCLIService.java:1377', 'org.apache.hive.service.cli.thrift.TCLIService$Processor$ExecuteStatement:getResult:TCLIService.java:1362', 'org.apache.thrift.ProcessFunction:process:ProcessFunction.java:39', 'org.apache.thrift.TBaseProcessor:process:TBaseProcessor.java:39', 'org.apache.hive.service.auth.TSetIpAddressProcessor:process:TSetIpAddressProcessor.java:56', 'org.apache.thrift.server.TThreadPoolServer$WorkerProcess:run:TThreadPoolServer.java:286', 'java.util.concurrent.ThreadPoolExecutor:runWorker:ThreadPoolExecutor.java:1149', 'java.util.concurrent.ThreadPoolExecutor$Worker:run:ThreadPoolExecutor.java:624', 'java.lang.Thread:run:Thread.java:748', \"*org.apache.hadoop.hive.ql.parse.SemanticException:Line 2:17 Invalid path ''adult_data.csv'': No files matching path hdfs://sandbox-hdp.hortonworks.com:8020/user/hive/adult_data.csv:23:7\", 'org.apache.hadoop.hive.ql.parse.LoadSemanticAnalyzer:applyConstraintsAndGetFiles:LoadSemanticAnalyzer.java:147', 'org.apache.hadoop.hive.ql.parse.LoadSemanticAnalyzer:analyzeInternal:LoadSemanticAnalyzer.java:225', 'org.apache.hadoop.hive.ql.parse.BaseSemanticAnalyzer:analyze:BaseSemanticAnalyzer.java:238', 'org.apache.hadoop.hive.ql.Driver:compile:Driver.java:474', 'org.apache.hadoop.hive.ql.Driver:compile:Driver.java:330', 'org.apache.hadoop.hive.ql.Driver:compileInternal:Driver.java:1233', 'org.apache.hadoop.hive.ql.Driver:compileAndRespond:Driver.java:1227', 'org.apache.hive.service.cli.operation.SQLOperation:prepare:SQLOperation.java:146'], sqlState='42000', errorCode=40000, errorMessage=\"Error while compiling statement: FAILED: SemanticException Line 2:17 Invalid path ''adult_data.csv'': No files matching path hdfs://sandbox-hdp.hortonworks.com:8020/user/hive/adult_data.csv\"), operationHandle=None)"
     ]
    }
   ],
   "source": [
    "cursor.execute(\"\"\"\n",
    "LOAD DATA INPATH 'adult_data.csv' INTO TABLE adult.adult_data\n",
    "               \"\"\")"
   ]
  },
  {
   "cell_type": "code",
   "execution_count": 18,
   "id": "0fe75b32",
   "metadata": {},
   "outputs": [
    {
     "name": "stdout",
     "output_type": "stream",
     "text": [
      "<class 'pandas.core.frame.DataFrame'>\n",
      "RangeIndex: 529 entries, 0 to 528\n",
      "Data columns (total 15 columns):\n",
      " #   Column                     Non-Null Count  Dtype \n",
      "---  ------                     --------------  ----- \n",
      " 0   adult_data.age             529 non-null    int64 \n",
      " 1   adult_data.workclass       529 non-null    object\n",
      " 2   adult_data.fnlwgt          529 non-null    int64 \n",
      " 3   adult_data.education       529 non-null    object\n",
      " 4   adult_data.education_num   529 non-null    int64 \n",
      " 5   adult_data.marital_status  529 non-null    object\n",
      " 6   adult_data.occupation      529 non-null    object\n",
      " 7   adult_data.relationship    529 non-null    object\n",
      " 8   adult_data.race            529 non-null    object\n",
      " 9   adult_data.sex             529 non-null    object\n",
      " 10  adult_data.capital_gain    529 non-null    int64 \n",
      " 11  adult_data.capital_loss    529 non-null    int64 \n",
      " 12  adult_data.hours_per_week  529 non-null    int64 \n",
      " 13  adult_data.native_country  529 non-null    object\n",
      " 14  adult_data.income          529 non-null    object\n",
      "dtypes: int64(6), object(9)\n",
      "memory usage: 62.1+ KB\n"
     ]
    }
   ],
   "source": [
    "df.info()"
   ]
  },
  {
   "cell_type": "code",
   "execution_count": 19,
   "id": "02a61ef1",
   "metadata": {},
   "outputs": [
    {
     "data": {
      "application/vnd.microsoft.datawrangler.viewer.v0+json": {
       "columns": [
        {
         "name": "index",
         "rawType": "object",
         "type": "string"
        },
        {
         "name": "adult_data.age",
         "rawType": "float64",
         "type": "float"
        },
        {
         "name": "adult_data.fnlwgt",
         "rawType": "float64",
         "type": "float"
        },
        {
         "name": "adult_data.education_num",
         "rawType": "float64",
         "type": "float"
        },
        {
         "name": "adult_data.capital_gain",
         "rawType": "float64",
         "type": "float"
        },
        {
         "name": "adult_data.capital_loss",
         "rawType": "float64",
         "type": "float"
        },
        {
         "name": "adult_data.hours_per_week",
         "rawType": "float64",
         "type": "float"
        }
       ],
       "conversionMethod": "pd.DataFrame",
       "ref": "91ed3232-9fb2-46f3-b06a-0ce376ebeaa8",
       "rows": [
        [
         "count",
         "529.0",
         "529.0",
         "529.0",
         "529.0",
         "529.0",
         "529.0"
        ],
        [
         "mean",
         "38.01890359168242",
         "195684.2268431002",
         "10.079395085066162",
         "576.6275992438564",
         "104.59168241965973",
         "39.63137996219282"
        ],
        [
         "std",
         "13.480191062011672",
         "114711.54659795768",
         "2.566046292017903",
         "2669.3243220773697",
         "432.10526259349103",
         "11.895784768193675"
        ],
        [
         "min",
         "17.0",
         "21174.0",
         "1.0",
         "0.0",
         "0.0",
         "1.0"
        ],
        [
         "25%",
         "28.0",
         "115745.0",
         "9.0",
         "0.0",
         "0.0",
         "40.0"
        ],
        [
         "50%",
         "37.0",
         "184018.0",
         "10.0",
         "0.0",
         "0.0",
         "40.0"
        ],
        [
         "75%",
         "46.0",
         "249609.0",
         "12.0",
         "0.0",
         "0.0",
         "42.0"
        ],
        [
         "max",
         "90.0",
         "1033222.0",
         "16.0",
         "34095.0",
         "2415.0",
         "98.0"
        ]
       ],
       "shape": {
        "columns": 6,
        "rows": 8
       }
      },
      "text/html": [
       "<div>\n",
       "<style scoped>\n",
       "    .dataframe tbody tr th:only-of-type {\n",
       "        vertical-align: middle;\n",
       "    }\n",
       "\n",
       "    .dataframe tbody tr th {\n",
       "        vertical-align: top;\n",
       "    }\n",
       "\n",
       "    .dataframe thead th {\n",
       "        text-align: right;\n",
       "    }\n",
       "</style>\n",
       "<table border=\"1\" class=\"dataframe\">\n",
       "  <thead>\n",
       "    <tr style=\"text-align: right;\">\n",
       "      <th></th>\n",
       "      <th>adult_data.age</th>\n",
       "      <th>adult_data.fnlwgt</th>\n",
       "      <th>adult_data.education_num</th>\n",
       "      <th>adult_data.capital_gain</th>\n",
       "      <th>adult_data.capital_loss</th>\n",
       "      <th>adult_data.hours_per_week</th>\n",
       "    </tr>\n",
       "  </thead>\n",
       "  <tbody>\n",
       "    <tr>\n",
       "      <th>count</th>\n",
       "      <td>529.000000</td>\n",
       "      <td>5.290000e+02</td>\n",
       "      <td>529.000000</td>\n",
       "      <td>529.000000</td>\n",
       "      <td>529.000000</td>\n",
       "      <td>529.000000</td>\n",
       "    </tr>\n",
       "    <tr>\n",
       "      <th>mean</th>\n",
       "      <td>38.018904</td>\n",
       "      <td>1.956842e+05</td>\n",
       "      <td>10.079395</td>\n",
       "      <td>576.627599</td>\n",
       "      <td>104.591682</td>\n",
       "      <td>39.631380</td>\n",
       "    </tr>\n",
       "    <tr>\n",
       "      <th>std</th>\n",
       "      <td>13.480191</td>\n",
       "      <td>1.147115e+05</td>\n",
       "      <td>2.566046</td>\n",
       "      <td>2669.324322</td>\n",
       "      <td>432.105263</td>\n",
       "      <td>11.895785</td>\n",
       "    </tr>\n",
       "    <tr>\n",
       "      <th>min</th>\n",
       "      <td>17.000000</td>\n",
       "      <td>2.117400e+04</td>\n",
       "      <td>1.000000</td>\n",
       "      <td>0.000000</td>\n",
       "      <td>0.000000</td>\n",
       "      <td>1.000000</td>\n",
       "    </tr>\n",
       "    <tr>\n",
       "      <th>25%</th>\n",
       "      <td>28.000000</td>\n",
       "      <td>1.157450e+05</td>\n",
       "      <td>9.000000</td>\n",
       "      <td>0.000000</td>\n",
       "      <td>0.000000</td>\n",
       "      <td>40.000000</td>\n",
       "    </tr>\n",
       "    <tr>\n",
       "      <th>50%</th>\n",
       "      <td>37.000000</td>\n",
       "      <td>1.840180e+05</td>\n",
       "      <td>10.000000</td>\n",
       "      <td>0.000000</td>\n",
       "      <td>0.000000</td>\n",
       "      <td>40.000000</td>\n",
       "    </tr>\n",
       "    <tr>\n",
       "      <th>75%</th>\n",
       "      <td>46.000000</td>\n",
       "      <td>2.496090e+05</td>\n",
       "      <td>12.000000</td>\n",
       "      <td>0.000000</td>\n",
       "      <td>0.000000</td>\n",
       "      <td>42.000000</td>\n",
       "    </tr>\n",
       "    <tr>\n",
       "      <th>max</th>\n",
       "      <td>90.000000</td>\n",
       "      <td>1.033222e+06</td>\n",
       "      <td>16.000000</td>\n",
       "      <td>34095.000000</td>\n",
       "      <td>2415.000000</td>\n",
       "      <td>98.000000</td>\n",
       "    </tr>\n",
       "  </tbody>\n",
       "</table>\n",
       "</div>"
      ],
      "text/plain": [
       "       adult_data.age  adult_data.fnlwgt  adult_data.education_num  \\\n",
       "count      529.000000       5.290000e+02                529.000000   \n",
       "mean        38.018904       1.956842e+05                 10.079395   \n",
       "std         13.480191       1.147115e+05                  2.566046   \n",
       "min         17.000000       2.117400e+04                  1.000000   \n",
       "25%         28.000000       1.157450e+05                  9.000000   \n",
       "50%         37.000000       1.840180e+05                 10.000000   \n",
       "75%         46.000000       2.496090e+05                 12.000000   \n",
       "max         90.000000       1.033222e+06                 16.000000   \n",
       "\n",
       "       adult_data.capital_gain  adult_data.capital_loss  \\\n",
       "count               529.000000               529.000000   \n",
       "mean                576.627599               104.591682   \n",
       "std                2669.324322               432.105263   \n",
       "min                   0.000000                 0.000000   \n",
       "25%                   0.000000                 0.000000   \n",
       "50%                   0.000000                 0.000000   \n",
       "75%                   0.000000                 0.000000   \n",
       "max               34095.000000              2415.000000   \n",
       "\n",
       "       adult_data.hours_per_week  \n",
       "count                 529.000000  \n",
       "mean                   39.631380  \n",
       "std                    11.895785  \n",
       "min                     1.000000  \n",
       "25%                    40.000000  \n",
       "50%                    40.000000  \n",
       "75%                    42.000000  \n",
       "max                    98.000000  "
      ]
     },
     "execution_count": 19,
     "metadata": {},
     "output_type": "execute_result"
    }
   ],
   "source": [
    "df.describe()"
   ]
  },
  {
   "cell_type": "code",
   "execution_count": 20,
   "id": "6e2b4b7d",
   "metadata": {},
   "outputs": [
    {
     "data": {
      "text/plain": [
       "0"
      ]
     },
     "execution_count": 20,
     "metadata": {},
     "output_type": "execute_result"
    }
   ],
   "source": [
    "df.isnull().sum().sum()"
   ]
  },
  {
   "cell_type": "code",
   "execution_count": 21,
   "id": "2ab2156e",
   "metadata": {},
   "outputs": [
    {
     "data": {
      "text/plain": [
       "adult_data.workclass\n",
       "Private             365\n",
       "Local-gov            39\n",
       "Self-emp-not-inc     36\n",
       "?                    35\n",
       "State-gov            22\n",
       "Federal-gov          17\n",
       "Self-emp-inc         15\n",
       "Name: count, dtype: int64"
      ]
     },
     "execution_count": 21,
     "metadata": {},
     "output_type": "execute_result"
    }
   ],
   "source": [
    "df['adult_data.workclass'].value_counts()"
   ]
  },
  {
   "cell_type": "code",
   "execution_count": 10,
   "id": "636b1f62",
   "metadata": {},
   "outputs": [
    {
     "name": "stderr",
     "output_type": "stream",
     "text": [
      "C:\\Users\\user\\AppData\\Local\\Temp\\ipykernel_33408\\3084217856.py:17: FutureWarning: errors='ignore' is deprecated and will raise in a future version. Use to_numeric without passing `errors` and catch exceptions explicitly instead\n",
      "  data = wb.download(indicator=code, country='all', start=2018, end=2018)\n",
      "C:\\Users\\user\\AppData\\Local\\Temp\\ipykernel_33408\\3084217856.py:17: FutureWarning: errors='ignore' is deprecated and will raise in a future version. Use to_numeric without passing `errors` and catch exceptions explicitly instead\n",
      "  data = wb.download(indicator=code, country='all', start=2018, end=2018)\n",
      "C:\\Users\\user\\AppData\\Local\\Temp\\ipykernel_33408\\3084217856.py:17: FutureWarning: errors='ignore' is deprecated and will raise in a future version. Use to_numeric without passing `errors` and catch exceptions explicitly instead\n",
      "  data = wb.download(indicator=code, country='all', start=2018, end=2018)\n",
      "C:\\Users\\user\\AppData\\Local\\Temp\\ipykernel_33408\\3084217856.py:17: FutureWarning: errors='ignore' is deprecated and will raise in a future version. Use to_numeric without passing `errors` and catch exceptions explicitly instead\n",
      "  data = wb.download(indicator=code, country='all', start=2018, end=2018)\n",
      "C:\\Users\\user\\AppData\\Local\\Temp\\ipykernel_33408\\3084217856.py:17: FutureWarning: errors='ignore' is deprecated and will raise in a future version. Use to_numeric without passing `errors` and catch exceptions explicitly instead\n",
      "  data = wb.download(indicator=code, country='all', start=2018, end=2018)\n"
     ]
    },
    {
     "name": "stdout",
     "output_type": "stream",
     "text": [
      "                                       country  year  gdp_per_capita  \\\n",
      "4               Central Europe and the Baltics  2018    16181.607370   \n",
      "5                   Early-demographic dividend  2018     3503.213201   \n",
      "6                          East Asia & Pacific  2018    11285.897230   \n",
      "7  East Asia & Pacific (excluding high income)  2018     7925.424765   \n",
      "8   East Asia & Pacific (IDA & IBRD countries)  2018     8014.497663   \n",
      "\n",
      "   literacy_rate  primary_enrollment  secondary_enrollment  \\\n",
      "4      99.418678           95.326233            101.131561   \n",
      "5      79.297913          101.392952             74.488922   \n",
      "6      95.369431          100.902206             87.774780   \n",
      "7      95.632133          100.901573             86.334831   \n",
      "8      95.577133          100.975578             86.210693   \n",
      "\n",
      "   education_expenditure  pupil_teacher_ratio  \n",
      "4               4.243570             12.66168  \n",
      "5               3.689163             27.85282  \n",
      "6               3.261967             17.53589  \n",
      "7               3.171359             17.66661  \n",
      "8               3.171359             17.64651  \n"
     ]
    },
    {
     "name": "stderr",
     "output_type": "stream",
     "text": [
      "C:\\Users\\user\\AppData\\Local\\Temp\\ipykernel_33408\\3084217856.py:17: FutureWarning: errors='ignore' is deprecated and will raise in a future version. Use to_numeric without passing `errors` and catch exceptions explicitly instead\n",
      "  data = wb.download(indicator=code, country='all', start=2018, end=2018)\n"
     ]
    }
   ],
   "source": [
    "import pandas_datareader.wb as wb\n",
    "import pandas as pd\n",
    "\n",
    "# Define indicators\n",
    "indicators = {\n",
    "    'NY.GDP.PCAP.CD': 'gdp_per_capita',\n",
    "    'SE.ADT.LITR.ZS': 'literacy_rate',\n",
    "    'SE.PRM.ENRR': 'primary_enrollment',\n",
    "    'SE.SEC.ENRR': 'secondary_enrollment',\n",
    "    'SE.XPD.TOTL.GD.ZS': 'education_expenditure',\n",
    "    'SE.PRM.ENRL.TC.ZS': 'pupil_teacher_ratio'\n",
    "}\n",
    "\n",
    "# Fetch data for all countries from 2018\n",
    "df_list = []\n",
    "for code, name in indicators.items():\n",
    "    data = wb.download(indicator=code, country='all', start=2018, end=2018)\n",
    "    data = data.rename(columns={code: name})\n",
    "    df_list.append(data)\n",
    "\n",
    "# Merge all dataframes on index (country, year)\n",
    "final_df = pd.concat(df_list, axis=1).reset_index()\n",
    "\n",
    "# Drop missing values\n",
    "final_df.dropna(inplace=True)\n",
    "\n",
    "# Preview\n",
    "print(final_df.head())\n"
   ]
  },
  {
   "cell_type": "code",
   "execution_count": 11,
   "id": "de99eb2e",
   "metadata": {},
   "outputs": [
    {
     "name": "stderr",
     "output_type": "stream",
     "text": [
      "C:\\Users\\user\\AppData\\Local\\Temp\\ipykernel_33408\\2507428105.py:1: FutureWarning: errors='ignore' is deprecated and will raise in a future version. Use to_numeric without passing `errors` and catch exceptions explicitly instead\n",
      "  wb.download(indicator='NY.GDP.PCAP.CD', country='all', start=2018, end=2018)\n"
     ]
    },
    {
     "data": {
      "application/vnd.microsoft.datawrangler.viewer.v0+json": {
       "columns": [
        {
         "name": "('country', 'year')",
         "rawType": "object",
         "type": "unknown"
        },
        {
         "name": "NY.GDP.PCAP.CD",
         "rawType": "float64",
         "type": "float"
        }
       ],
       "conversionMethod": "pd.DataFrame",
       "ref": "eb5001c9-5b52-4726-b7a0-4dfe9e48713f",
       "rows": [
        [
         "('Africa Eastern and Southern', '2018')",
         "1538.92418773564"
        ],
        [
         "('Africa Western and Central', '2018')",
         "1703.89639222804"
        ],
        [
         "('Arab World', '2018')",
         "6576.51663083912"
        ],
        [
         "('Caribbean small states', '2018')",
         "12047.8528111635"
        ],
        [
         "('Central Europe and the Baltics', '2018')",
         "16181.6073703684"
        ],
        [
         "('Early-demographic dividend', '2018')",
         "3503.21320137921"
        ],
        [
         "('East Asia & Pacific', '2018')",
         "11285.8972298534"
        ],
        [
         "('East Asia & Pacific (excluding high income)', '2018')",
         "7925.42476458248"
        ],
        [
         "('East Asia & Pacific (IDA & IBRD countries)', '2018')",
         "8014.49766251885"
        ],
        [
         "('Euro area', '2018')",
         "40068.5215464339"
        ],
        [
         "('Europe & Central Asia', '2018')",
         "25340.1536558293"
        ],
        [
         "('Europe & Central Asia (excluding high income)', '2018')",
         "5952.35226461881"
        ],
        [
         "('Europe & Central Asia (IDA & IBRD countries)', '2018')",
         "8884.71291375979"
        ],
        [
         "('European Union', '2018')",
         "36002.564051993"
        ],
        [
         "('Fragile and conflict affected situations', '2018')",
         "1819.00302147749"
        ],
        [
         "('Heavily indebted poor countries (HIPC)', '2018')",
         "968.18729528141"
        ],
        [
         "('High income', '2018')",
         "41180.3426854104"
        ],
        [
         "('IBRD only', '2018')",
         "6376.20637613021"
        ],
        [
         "('IDA & IBRD total', '2018')",
         "5071.47780601742"
        ],
        [
         "('IDA blend', '2018')",
         "1856.81876322366"
        ],
        [
         "('IDA only', '2018')",
         "1177.52764226474"
        ],
        [
         "('IDA total', '2018')",
         "1405.59717231873"
        ],
        [
         "('Late-demographic dividend', '2018')",
         "9850.36115121356"
        ],
        [
         "('Latin America & Caribbean', '2018')",
         "9034.70781075095"
        ],
        [
         "('Latin America & Caribbean (excluding high income)', '2018')",
         "8504.73822009602"
        ],
        [
         "('Latin America & the Caribbean (IDA & IBRD countries)', '2018')",
         "8877.72299219367"
        ],
        [
         "('Least developed countries: UN classification', '2018')",
         "1065.22658037951"
        ],
        [
         "('Low & middle income', '2018')",
         "4738.20340339937"
        ],
        [
         "('Low income', '2018')",
         "654.345171301588"
        ],
        [
         "('Lower middle income', '2018')",
         "2076.456710545"
        ],
        [
         "('Middle East & North Africa', '2018')",
         "7732.44296580288"
        ],
        [
         "('Middle East & North Africa (excluding high income)', '2018')",
         "3682.71025533449"
        ],
        [
         "('Middle East & North Africa (IDA & IBRD countries)', '2018')",
         "3684.084605003"
        ],
        [
         "('Middle income', '2018')",
         "5202.51034300538"
        ],
        [
         "('North America', '2018')",
         "61512.7212012788"
        ],
        [
         "('Not classified', '2018')",
         null
        ],
        [
         "('OECD members', '2018')",
         "39573.0447485009"
        ],
        [
         "('Other small states', '2018')",
         "14455.7757539518"
        ],
        [
         "('Pacific island small states', '2018')",
         "4245.78718413539"
        ],
        [
         "('Post-demographic dividend', '2018')",
         "45562.8677932304"
        ],
        [
         "('Pre-demographic dividend', '2018')",
         "1432.1297922805"
        ],
        [
         "('Small states', '2018')",
         "12723.981268455"
        ],
        [
         "('South Asia', '2018')",
         "1907.38178097978"
        ],
        [
         "('South Asia (IDA & IBRD)', '2018')",
         "1907.38178097978"
        ],
        [
         "('Sub-Saharan Africa', '2018')",
         "1606.1313576289"
        ],
        [
         "('Sub-Saharan Africa (excluding high income)', '2018')",
         "1604.66374694771"
        ],
        [
         "('Sub-Saharan Africa (IDA & IBRD countries)', '2018')",
         "1606.1313576289"
        ],
        [
         "('Upper middle income', '2018')",
         "8473.68198859219"
        ],
        [
         "('World', '2018')",
         "11288.8842617304"
        ],
        [
         "('Afghanistan', '2018')",
         "491.337221382603"
        ]
       ],
       "shape": {
        "columns": 1,
        "rows": 266
       }
      },
      "text/html": [
       "<div>\n",
       "<style scoped>\n",
       "    .dataframe tbody tr th:only-of-type {\n",
       "        vertical-align: middle;\n",
       "    }\n",
       "\n",
       "    .dataframe tbody tr th {\n",
       "        vertical-align: top;\n",
       "    }\n",
       "\n",
       "    .dataframe thead th {\n",
       "        text-align: right;\n",
       "    }\n",
       "</style>\n",
       "<table border=\"1\" class=\"dataframe\">\n",
       "  <thead>\n",
       "    <tr style=\"text-align: right;\">\n",
       "      <th></th>\n",
       "      <th></th>\n",
       "      <th>NY.GDP.PCAP.CD</th>\n",
       "    </tr>\n",
       "    <tr>\n",
       "      <th>country</th>\n",
       "      <th>year</th>\n",
       "      <th></th>\n",
       "    </tr>\n",
       "  </thead>\n",
       "  <tbody>\n",
       "    <tr>\n",
       "      <th>Africa Eastern and Southern</th>\n",
       "      <th>2018</th>\n",
       "      <td>1538.924188</td>\n",
       "    </tr>\n",
       "    <tr>\n",
       "      <th>Africa Western and Central</th>\n",
       "      <th>2018</th>\n",
       "      <td>1703.896392</td>\n",
       "    </tr>\n",
       "    <tr>\n",
       "      <th>Arab World</th>\n",
       "      <th>2018</th>\n",
       "      <td>6576.516631</td>\n",
       "    </tr>\n",
       "    <tr>\n",
       "      <th>Caribbean small states</th>\n",
       "      <th>2018</th>\n",
       "      <td>12047.852811</td>\n",
       "    </tr>\n",
       "    <tr>\n",
       "      <th>Central Europe and the Baltics</th>\n",
       "      <th>2018</th>\n",
       "      <td>16181.607370</td>\n",
       "    </tr>\n",
       "    <tr>\n",
       "      <th>...</th>\n",
       "      <th>...</th>\n",
       "      <td>...</td>\n",
       "    </tr>\n",
       "    <tr>\n",
       "      <th>Virgin Islands (U.S.)</th>\n",
       "      <th>2018</th>\n",
       "      <td>36663.208755</td>\n",
       "    </tr>\n",
       "    <tr>\n",
       "      <th>West Bank and Gaza</th>\n",
       "      <th>2018</th>\n",
       "      <td>3562.330943</td>\n",
       "    </tr>\n",
       "    <tr>\n",
       "      <th>Yemen, Rep.</th>\n",
       "      <th>2018</th>\n",
       "      <td>633.887206</td>\n",
       "    </tr>\n",
       "    <tr>\n",
       "      <th>Zambia</th>\n",
       "      <th>2018</th>\n",
       "      <td>1463.899979</td>\n",
       "    </tr>\n",
       "    <tr>\n",
       "      <th>Zimbabwe</th>\n",
       "      <th>2018</th>\n",
       "      <td>2271.853335</td>\n",
       "    </tr>\n",
       "  </tbody>\n",
       "</table>\n",
       "<p>266 rows × 1 columns</p>\n",
       "</div>"
      ],
      "text/plain": [
       "                                     NY.GDP.PCAP.CD\n",
       "country                        year                \n",
       "Africa Eastern and Southern    2018     1538.924188\n",
       "Africa Western and Central     2018     1703.896392\n",
       "Arab World                     2018     6576.516631\n",
       "Caribbean small states         2018    12047.852811\n",
       "Central Europe and the Baltics 2018    16181.607370\n",
       "...                                             ...\n",
       "Virgin Islands (U.S.)          2018    36663.208755\n",
       "West Bank and Gaza             2018     3562.330943\n",
       "Yemen, Rep.                    2018      633.887206\n",
       "Zambia                         2018     1463.899979\n",
       "Zimbabwe                       2018     2271.853335\n",
       "\n",
       "[266 rows x 1 columns]"
      ]
     },
     "execution_count": 11,
     "metadata": {},
     "output_type": "execute_result"
    }
   ],
   "source": [
    "wb.download(indicator='NY.GDP.PCAP.CD', country='all', start=2018, end=2018)"
   ]
  }
 ],
 "metadata": {
  "kernelspec": {
   "display_name": "Python 3",
   "language": "python",
   "name": "python3"
  },
  "language_info": {
   "codemirror_mode": {
    "name": "ipython",
    "version": 3
   },
   "file_extension": ".py",
   "mimetype": "text/x-python",
   "name": "python",
   "nbconvert_exporter": "python",
   "pygments_lexer": "ipython3",
   "version": "3.11.4"
  }
 },
 "nbformat": 4,
 "nbformat_minor": 5
}
