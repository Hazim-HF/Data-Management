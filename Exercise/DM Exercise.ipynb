{
 "cells": [
  {
   "cell_type": "code",
   "execution_count": 1,
   "id": "c697b692-e204-4823-addd-63645d3b9389",
   "metadata": {},
   "outputs": [],
   "source": [
    "from pyspark.sql import SparkSession\n",
    "from pyspark.sql.types import *\n",
    "from pyspark.ml import Pipeline\n",
    "from pyspark.ml.feature import StringIndexer, VectorAssembler, OneHotEncoder\n",
    "from pyspark.ml.classification import RandomForestClassifier\n",
    "from pyspark.ml.evaluation import MulticlassClassificationEvaluator\n",
    "from pyspark.ml.tuning import ParamGridBuilder, CrossValidator\n",
    "from pyspark.sql.functions import col, isnan, when, count\n",
    "import pandas as pd\n",
    "import numpy as np"
   ]
  },
  {
   "cell_type": "code",
   "execution_count": 2,
   "id": "ffec3932",
   "metadata": {},
   "outputs": [],
   "source": [
    "import findspark\n",
    "findspark.init()"
   ]
  },
  {
   "cell_type": "code",
   "execution_count": 3,
   "id": "99b4fed2-a6a3-4d76-883f-60754e61a871",
   "metadata": {},
   "outputs": [
    {
     "name": "stdout",
     "output_type": "stream",
     "text": [
      "+----------+------+-------------+-------+----------+------+------------+----------------+---------------+--------------+------------+----------------+-----------+-----------+---------------+--------------+----------------+--------------------+--------------+------------+-----+\n",
      "|customerID|gender|SeniorCitizen|Partner|Dependents|tenure|PhoneService|   MultipleLines|InternetService|OnlineSecurity|OnlineBackup|DeviceProtection|TechSupport|StreamingTV|StreamingMovies|      Contract|PaperlessBilling|       PaymentMethod|MonthlyCharges|TotalCharges|Churn|\n",
      "+----------+------+-------------+-------+----------+------+------------+----------------+---------------+--------------+------------+----------------+-----------+-----------+---------------+--------------+----------------+--------------------+--------------+------------+-----+\n",
      "|7590-VHVEG|Female|            0|    Yes|        No|     1|          No|No phone service|            DSL|            No|         Yes|              No|         No|         No|             No|Month-to-month|             Yes|    Electronic check|         29.85|       29.85|   No|\n",
      "|5575-GNVDE|  Male|            0|     No|        No|    34|         Yes|              No|            DSL|           Yes|          No|             Yes|         No|         No|             No|      One year|              No|        Mailed check|         56.95|      1889.5|   No|\n",
      "|3668-QPYBK|  Male|            0|     No|        No|     2|         Yes|              No|            DSL|           Yes|         Yes|              No|         No|         No|             No|Month-to-month|             Yes|        Mailed check|         53.85|      108.15|  Yes|\n",
      "|7795-CFOCW|  Male|            0|     No|        No|    45|          No|No phone service|            DSL|           Yes|          No|             Yes|        Yes|         No|             No|      One year|              No|Bank transfer (au...|          42.3|     1840.75|   No|\n",
      "|9237-HQITU|Female|            0|     No|        No|     2|         Yes|              No|    Fiber optic|            No|          No|              No|         No|         No|             No|Month-to-month|             Yes|    Electronic check|          70.7|      151.65|  Yes|\n",
      "|9305-CDSKC|Female|            0|     No|        No|     8|         Yes|             Yes|    Fiber optic|            No|          No|             Yes|         No|        Yes|            Yes|Month-to-month|             Yes|    Electronic check|         99.65|       820.5|  Yes|\n",
      "|1452-KIOVK|  Male|            0|     No|       Yes|    22|         Yes|             Yes|    Fiber optic|            No|         Yes|              No|         No|        Yes|             No|Month-to-month|             Yes|Credit card (auto...|          89.1|      1949.4|   No|\n",
      "|6713-OKOMC|Female|            0|     No|        No|    10|          No|No phone service|            DSL|           Yes|          No|              No|         No|         No|             No|Month-to-month|              No|        Mailed check|         29.75|       301.9|   No|\n",
      "|7892-POOKP|Female|            0|    Yes|        No|    28|         Yes|             Yes|    Fiber optic|            No|          No|             Yes|        Yes|        Yes|            Yes|Month-to-month|             Yes|    Electronic check|         104.8|     3046.05|  Yes|\n",
      "|6388-TABGU|  Male|            0|     No|       Yes|    62|         Yes|              No|            DSL|           Yes|         Yes|              No|         No|         No|             No|      One year|              No|Bank transfer (au...|         56.15|     3487.95|   No|\n",
      "+----------+------+-------------+-------+----------+------+------------+----------------+---------------+--------------+------------+----------------+-----------+-----------+---------------+--------------+----------------+--------------------+--------------+------------+-----+\n",
      "only showing top 10 rows\n",
      "\n"
     ]
    }
   ],
   "source": [
    "### a) Data Preparation\n",
    "## 1. Create Spark session & Load dataset\n",
    "\n",
    "spark = SparkSession.builder.appName(\"CustomerChurn\").getOrCreate()\n",
    "\n",
    "data = spark.read.csv(\"Data/WA_Fn-UseC_-Telco-Customer-Churn.csv\", header=True, inferSchema=True)\n",
    "\n",
    "data.show(10)"
   ]
  },
  {
   "cell_type": "code",
   "execution_count": 4,
   "id": "3cf4c13b-2c62-460e-ba9c-7544a1a7028c",
   "metadata": {},
   "outputs": [
    {
     "name": "stdout",
     "output_type": "stream",
     "text": [
      "root\n",
      " |-- customerID: string (nullable = true)\n",
      " |-- gender: string (nullable = true)\n",
      " |-- SeniorCitizen: integer (nullable = true)\n",
      " |-- Partner: string (nullable = true)\n",
      " |-- Dependents: string (nullable = true)\n",
      " |-- tenure: integer (nullable = true)\n",
      " |-- PhoneService: string (nullable = true)\n",
      " |-- MultipleLines: string (nullable = true)\n",
      " |-- InternetService: string (nullable = true)\n",
      " |-- OnlineSecurity: string (nullable = true)\n",
      " |-- OnlineBackup: string (nullable = true)\n",
      " |-- DeviceProtection: string (nullable = true)\n",
      " |-- TechSupport: string (nullable = true)\n",
      " |-- StreamingTV: string (nullable = true)\n",
      " |-- StreamingMovies: string (nullable = true)\n",
      " |-- Contract: string (nullable = true)\n",
      " |-- PaperlessBilling: string (nullable = true)\n",
      " |-- PaymentMethod: string (nullable = true)\n",
      " |-- MonthlyCharges: double (nullable = true)\n",
      " |-- TotalCharges: string (nullable = true)\n",
      " |-- Churn: string (nullable = true)\n",
      "\n",
      "+-------+----------+------+------------------+-------+----------+------------------+------------+-------------+---------------+--------------+------------+----------------+-----------+-----------+---------------+--------------+----------------+--------------------+------------------+------------------+-----+\n",
      "|summary|customerID|gender|     SeniorCitizen|Partner|Dependents|            tenure|PhoneService|MultipleLines|InternetService|OnlineSecurity|OnlineBackup|DeviceProtection|TechSupport|StreamingTV|StreamingMovies|      Contract|PaperlessBilling|       PaymentMethod|    MonthlyCharges|      TotalCharges|Churn|\n",
      "+-------+----------+------+------------------+-------+----------+------------------+------------+-------------+---------------+--------------+------------+----------------+-----------+-----------+---------------+--------------+----------------+--------------------+------------------+------------------+-----+\n",
      "|  count|      7043|  7043|              7043|   7043|      7043|              7043|        7043|         7043|           7043|          7043|        7043|            7043|       7043|       7043|           7043|          7043|            7043|                7043|              7043|              7043| 7043|\n",
      "|   mean|      NULL|  NULL|0.1621468124378816|   NULL|      NULL| 32.37114865824223|        NULL|         NULL|           NULL|          NULL|        NULL|            NULL|       NULL|       NULL|           NULL|          NULL|            NULL|                NULL| 64.76169246059922|2283.3004408418697| NULL|\n",
      "| stddev|      NULL|  NULL|0.3686116056100135|   NULL|      NULL|24.559481023094442|        NULL|         NULL|           NULL|          NULL|        NULL|            NULL|       NULL|       NULL|           NULL|          NULL|            NULL|                NULL|30.090047097678482| 2266.771361883145| NULL|\n",
      "|    min|0002-ORFBO|Female|                 0|     No|        No|                 0|          No|           No|            DSL|            No|          No|              No|         No|         No|             No|Month-to-month|              No|Bank transfer (au...|             18.25|                  |   No|\n",
      "|    max|9995-HOTOH|  Male|                 1|    Yes|       Yes|                72|         Yes|          Yes|             No|           Yes|         Yes|             Yes|        Yes|        Yes|            Yes|      Two year|             Yes|        Mailed check|            118.75|             999.9|  Yes|\n",
      "+-------+----------+------+------------------+-------+----------+------------------+------------+-------------+---------------+--------------+------------+----------------+-----------+-----------+---------------+--------------+----------------+--------------------+------------------+------------------+-----+\n",
      "\n"
     ]
    }
   ],
   "source": [
    "## 2. EDA\n",
    "# Basic info\n",
    "data.printSchema()\n",
    "data.describe().show()"
   ]
  },
  {
   "cell_type": "code",
   "execution_count": 5,
   "id": "ee9ada2d-6d39-40be-a311-90c25e856c43",
   "metadata": {},
   "outputs": [
    {
     "name": "stdout",
     "output_type": "stream",
     "text": [
      "+-----+-----+\n",
      "|Churn|count|\n",
      "+-----+-----+\n",
      "|   No| 5174|\n",
      "|  Yes| 1869|\n",
      "+-----+-----+\n",
      "\n"
     ]
    }
   ],
   "source": [
    "# Churn distribution\n",
    "data.groupBy(\"Churn\").count().orderBy(\"Churn\").show()"
   ]
  },
  {
   "cell_type": "code",
   "execution_count": 6,
   "id": "4303c8d2-5512-445b-99b8-dd4cd9fd39a0",
   "metadata": {},
   "outputs": [
    {
     "name": "stdout",
     "output_type": "stream",
     "text": [
      "+----------+\n",
      "|customerID|\n",
      "+----------+\n",
      "+----------+\n",
      "\n",
      "+------+\n",
      "|gender|\n",
      "+------+\n",
      "+------+\n",
      "\n",
      "+-------------+\n",
      "|SeniorCitizen|\n",
      "+-------------+\n",
      "+-------------+\n",
      "\n",
      "+-------+\n",
      "|Partner|\n",
      "+-------+\n",
      "+-------+\n",
      "\n",
      "+----------+\n",
      "|Dependents|\n",
      "+----------+\n",
      "+----------+\n",
      "\n",
      "+------+\n",
      "|tenure|\n",
      "+------+\n",
      "+------+\n",
      "\n",
      "+------------+\n",
      "|PhoneService|\n",
      "+------------+\n",
      "+------------+\n",
      "\n",
      "+-------------+\n",
      "|MultipleLines|\n",
      "+-------------+\n",
      "+-------------+\n",
      "\n",
      "+---------------+\n",
      "|InternetService|\n",
      "+---------------+\n",
      "+---------------+\n",
      "\n",
      "+--------------+\n",
      "|OnlineSecurity|\n",
      "+--------------+\n",
      "+--------------+\n",
      "\n",
      "+------------+\n",
      "|OnlineBackup|\n",
      "+------------+\n",
      "+------------+\n",
      "\n",
      "+----------------+\n",
      "|DeviceProtection|\n",
      "+----------------+\n",
      "+----------------+\n",
      "\n",
      "+-----------+\n",
      "|TechSupport|\n",
      "+-----------+\n",
      "+-----------+\n",
      "\n",
      "+-----------+\n",
      "|StreamingTV|\n",
      "+-----------+\n",
      "+-----------+\n",
      "\n",
      "+---------------+\n",
      "|StreamingMovies|\n",
      "+---------------+\n",
      "+---------------+\n",
      "\n",
      "+--------+\n",
      "|Contract|\n",
      "+--------+\n",
      "+--------+\n",
      "\n",
      "+----------------+\n",
      "|PaperlessBilling|\n",
      "+----------------+\n",
      "+----------------+\n",
      "\n",
      "+-------------+\n",
      "|PaymentMethod|\n",
      "+-------------+\n",
      "+-------------+\n",
      "\n",
      "+--------------+\n",
      "|MonthlyCharges|\n",
      "+--------------+\n",
      "+--------------+\n",
      "\n",
      "+------------+\n",
      "|TotalCharges|\n",
      "+------------+\n",
      "+------------+\n",
      "\n",
      "+-----+\n",
      "|Churn|\n",
      "+-----+\n",
      "+-----+\n",
      "\n"
     ]
    }
   ],
   "source": [
    "## 3. Look at missing values and outliers\n",
    "# Look at missing values\n",
    "for col in data.columns:\n",
    "    data.select(col).filter(data[col].isNull()).show() # Empty set, no missing value to handle"
   ]
  },
  {
   "cell_type": "code",
   "execution_count": 8,
   "id": "ebcee355-6f7a-42d7-bfbe-f85b101cd68c",
   "metadata": {},
   "outputs": [
    {
     "name": "stdout",
     "output_type": "stream",
     "text": [
      "+----------+------+-------------+-------+----------+------+------------+-------------+---------------+--------------+------------+----------------+-----------+-----------+---------------+--------+----------------+-------------+--------------+------------+-----+\n",
      "|customerID|gender|SeniorCitizen|Partner|Dependents|tenure|PhoneService|MultipleLines|InternetService|OnlineSecurity|OnlineBackup|DeviceProtection|TechSupport|StreamingTV|StreamingMovies|Contract|PaperlessBilling|PaymentMethod|MonthlyCharges|TotalCharges|Churn|\n",
      "+----------+------+-------------+-------+----------+------+------------+-------------+---------------+--------------+------------+----------------+-----------+-----------+---------------+--------+----------------+-------------+--------------+------------+-----+\n",
      "+----------+------+-------------+-------+----------+------+------------+-------------+---------------+--------------+------------+----------------+-----------+-----------+---------------+--------+----------------+-------------+--------------+------------+-----+\n",
      "\n"
     ]
    }
   ],
   "source": [
    "# According to the dataset structure, Churn should be only \"Yes\" or \"No\", otherwise will be outliers\n",
    "data.filter((data[\"Churn\"] != \"Yes\" ) & (data[\"Churn\"] != \"No\")).show() # Empty set, no outlier to handle"
   ]
  },
  {
   "cell_type": "code",
   "execution_count": 10,
   "id": "234939dd-6bbf-463d-b039-187b305624f2",
   "metadata": {},
   "outputs": [],
   "source": [
    "## 4. Convert step (using list way)\n",
    "\n",
    "label_indexer = StringIndexer(inputCol=\"Churn\", outputCol=\"label\")\n",
    "\n",
    "# Define categorical and numerical columns\n",
    "categorical_cols = ['gender','Partner','Dependents','PhoneService','MultipleLines',\n",
    "                    'InternetService','OnlineSecurity','OnlineBackup','DeviceProtection',\n",
    "                    'TechSupport','StreamingTV','StreamingMovies','Contract','PaperlessBilling',\n",
    "                    'PaymentMethod']\n",
    "\n",
    "numerical_cols = ['SeniorCitizen','tenure','MonthlyCharges','TotalCharges']\n",
    "\n",
    "# 2. Index categorical columns\n",
    "indexers = [StringIndexer(inputCol=col, \n",
    "                          outputCol=col+\"_index\", \n",
    "                          handleInvalid=\"keep\") for col in categorical_cols]\n",
    "\n",
    "encoders = [OneHotEncoder(inputCol=col+\"_index\", \n",
    "                          outputCol=col+\"_vec\") for col in categorical_cols]\n"
   ]
  },
  {
   "cell_type": "code",
   "execution_count": 11,
   "id": "bc8b9e74-7830-4cdd-ad5a-0628c9e2b78f",
   "metadata": {},
   "outputs": [
    {
     "name": "stdout",
     "output_type": "stream",
     "text": [
      "+----------+------+-------------+-------+----------+------+------------+----------------+---------------+--------------+------------+----------------+-----------+-----------+---------------+--------------+----------------+--------------------+--------------+------------+-----+------------+-------------+----------------+------------------+-------------------+---------------------+--------------------+------------------+----------------------+-----------------+-----------------+---------------------+--------------+----------------------+-------------------+\n",
      "|customerID|gender|SeniorCitizen|Partner|Dependents|tenure|PhoneService|   MultipleLines|InternetService|OnlineSecurity|OnlineBackup|DeviceProtection|TechSupport|StreamingTV|StreamingMovies|      Contract|PaperlessBilling|       PaymentMethod|MonthlyCharges|TotalCharges|Churn|gender_label|Partner_label|Dependents_label|PhoneService_label|MultipleLines_label|InternetService_label|OnlineSecurity_label|OnlineBackup_label|DeviceProtection_label|TechSupport_label|StreamingTV_label|StreamingMovies_label|Contract_label|PaperlessBilling_label|PaymentMethod_label|\n",
      "+----------+------+-------------+-------+----------+------+------------+----------------+---------------+--------------+------------+----------------+-----------+-----------+---------------+--------------+----------------+--------------------+--------------+------------+-----+------------+-------------+----------------+------------------+-------------------+---------------------+--------------------+------------------+----------------------+-----------------+-----------------+---------------------+--------------+----------------------+-------------------+\n",
      "|7590-VHVEG|Female|            0|    Yes|        No|     1|          No|No phone service|            DSL|            No|         Yes|              No|         No|         No|             No|Month-to-month|             Yes|    Electronic check|         29.85|       29.85|   No|         1.0|          1.0|             0.0|               1.0|                2.0|                  1.0|                 0.0|               1.0|                   0.0|              0.0|              0.0|                  0.0|           0.0|                   0.0|                0.0|\n",
      "|5575-GNVDE|  Male|            0|     No|        No|    34|         Yes|              No|            DSL|           Yes|          No|             Yes|         No|         No|             No|      One year|              No|        Mailed check|         56.95|      1889.5|   No|         0.0|          0.0|             0.0|               0.0|                0.0|                  1.0|                 1.0|               0.0|                   1.0|              0.0|              0.0|                  0.0|           2.0|                   1.0|                1.0|\n",
      "|3668-QPYBK|  Male|            0|     No|        No|     2|         Yes|              No|            DSL|           Yes|         Yes|              No|         No|         No|             No|Month-to-month|             Yes|        Mailed check|         53.85|      108.15|  Yes|         0.0|          0.0|             0.0|               0.0|                0.0|                  1.0|                 1.0|               1.0|                   0.0|              0.0|              0.0|                  0.0|           0.0|                   0.0|                1.0|\n",
      "|7795-CFOCW|  Male|            0|     No|        No|    45|          No|No phone service|            DSL|           Yes|          No|             Yes|        Yes|         No|             No|      One year|              No|Bank transfer (au...|          42.3|     1840.75|   No|         0.0|          0.0|             0.0|               1.0|                2.0|                  1.0|                 1.0|               0.0|                   1.0|              1.0|              0.0|                  0.0|           2.0|                   1.0|                2.0|\n",
      "|9237-HQITU|Female|            0|     No|        No|     2|         Yes|              No|    Fiber optic|            No|          No|              No|         No|         No|             No|Month-to-month|             Yes|    Electronic check|          70.7|      151.65|  Yes|         1.0|          0.0|             0.0|               0.0|                0.0|                  0.0|                 0.0|               0.0|                   0.0|              0.0|              0.0|                  0.0|           0.0|                   0.0|                0.0|\n",
      "|9305-CDSKC|Female|            0|     No|        No|     8|         Yes|             Yes|    Fiber optic|            No|          No|             Yes|         No|        Yes|            Yes|Month-to-month|             Yes|    Electronic check|         99.65|       820.5|  Yes|         1.0|          0.0|             0.0|               0.0|                1.0|                  0.0|                 0.0|               0.0|                   1.0|              0.0|              1.0|                  1.0|           0.0|                   0.0|                0.0|\n",
      "|1452-KIOVK|  Male|            0|     No|       Yes|    22|         Yes|             Yes|    Fiber optic|            No|         Yes|              No|         No|        Yes|             No|Month-to-month|             Yes|Credit card (auto...|          89.1|      1949.4|   No|         0.0|          0.0|             1.0|               0.0|                1.0|                  0.0|                 0.0|               1.0|                   0.0|              0.0|              1.0|                  0.0|           0.0|                   0.0|                3.0|\n",
      "|6713-OKOMC|Female|            0|     No|        No|    10|          No|No phone service|            DSL|           Yes|          No|              No|         No|         No|             No|Month-to-month|              No|        Mailed check|         29.75|       301.9|   No|         1.0|          0.0|             0.0|               1.0|                2.0|                  1.0|                 1.0|               0.0|                   0.0|              0.0|              0.0|                  0.0|           0.0|                   1.0|                1.0|\n",
      "|7892-POOKP|Female|            0|    Yes|        No|    28|         Yes|             Yes|    Fiber optic|            No|          No|             Yes|        Yes|        Yes|            Yes|Month-to-month|             Yes|    Electronic check|         104.8|     3046.05|  Yes|         1.0|          1.0|             0.0|               0.0|                1.0|                  0.0|                 0.0|               0.0|                   1.0|              1.0|              1.0|                  1.0|           0.0|                   0.0|                0.0|\n",
      "|6388-TABGU|  Male|            0|     No|       Yes|    62|         Yes|              No|            DSL|           Yes|         Yes|              No|         No|         No|             No|      One year|              No|Bank transfer (au...|         56.15|     3487.95|   No|         0.0|          0.0|             1.0|               0.0|                0.0|                  1.0|                 1.0|               1.0|                   0.0|              0.0|              0.0|                  0.0|           2.0|                   1.0|                2.0|\n",
      "+----------+------+-------------+-------+----------+------+------------+----------------+---------------+--------------+------------+----------------+-----------+-----------+---------------+--------------+----------------+--------------------+--------------+------------+-----+------------+-------------+----------------+------------------+-------------------+---------------------+--------------------+------------------+----------------------+-----------------+-----------------+---------------------+--------------+----------------------+-------------------+\n",
      "only showing top 10 rows\n",
      "\n"
     ]
    }
   ],
   "source": [
    "# Give feature a label(numerical):\n",
    "for col in categorical_cols:\n",
    "    indexer = StringIndexer(inputCol=col, outputCol=col+\"_label\")\n",
    "    data = indexer.fit(data).transform(data)\n",
    "data.show(10)"
   ]
  },
  {
   "cell_type": "code",
   "execution_count": 12,
   "id": "e512876a-3335-4fd2-bc26-5bdd3d923b8a",
   "metadata": {},
   "outputs": [],
   "source": [
    "## 5. Split step\n",
    "train_data, test_data = data.randomSplit([0.8, 0.2], seed=666)"
   ]
  },
  {
   "cell_type": "code",
   "execution_count": 13,
   "id": "3113a4d1-b549-4a2e-a045-3d877aeab8d5",
   "metadata": {},
   "outputs": [],
   "source": [
    "### b) Feature Engineering\n",
    "from pyspark.ml.feature import MinMaxScaler, VectorAssembler\n",
    "\n",
    "## 1. New label features\n",
    "# Already get new _label features in above step\n",
    "\n",
    "## 2. Select relevant features based on domain knowledge\n",
    "key_cols=['Partner','Dependents','PhoneService','MultipleLines',\n",
    "                    'InternetService','OnlineSecurity','OnlineBackup','DeviceProtection',\n",
    "                    'TechSupport','StreamingTV','StreamingMovies','Contract','PaperlessBilling',\n",
    "                    'PaymentMethod']\n",
    "\n",
    "key_numerical_cols=['SeniorCitizen','tenure','MonthlyCharges']\n",
    "\n",
    "## 3. Feature vector\n",
    "assembler_inputs = [col + \"_label\" for col in key_cols] + key_numerical_cols\n",
    "assembler = VectorAssembler(inputCols=assembler_inputs, outputCol=\"features\")\n"
   ]
  },
  {
   "cell_type": "code",
   "execution_count": 18,
   "id": "93c63b99-f664-40d8-9e4b-cb67509a5d77",
   "metadata": {},
   "outputs": [
    {
     "name": "stdout",
     "output_type": "stream",
     "text": [
      "+------------------------------------------------------------------------------+\n",
      "|features                                                                      |\n",
      "+------------------------------------------------------------------------------+\n",
      "|(17,[0,2,3,4,6,15,16],[1.0,1.0,2.0,1.0,1.0,1.0,29.85])                        |\n",
      "|(17,[4,5,7,11,12,13,15,16],[1.0,1.0,1.0,2.0,1.0,1.0,34.0,56.95])              |\n",
      "|(17,[4,5,6,13,15,16],[1.0,1.0,1.0,1.0,2.0,53.85])                             |\n",
      "|[0.0,0.0,1.0,2.0,1.0,1.0,0.0,1.0,1.0,0.0,0.0,2.0,1.0,2.0,0.0,45.0,42.3]       |\n",
      "|(17,[15,16],[2.0,70.7])                                                       |\n",
      "|(17,[3,7,9,10,15,16],[1.0,1.0,1.0,1.0,8.0,99.65])                             |\n",
      "|(17,[1,3,6,9,13,15,16],[1.0,1.0,1.0,1.0,3.0,22.0,89.1])                       |\n",
      "|(17,[2,3,4,5,12,13,15,16],[1.0,2.0,1.0,1.0,1.0,1.0,10.0,29.75])               |\n",
      "|(17,[0,3,7,8,9,10,15,16],[1.0,1.0,1.0,1.0,1.0,1.0,28.0,104.8])                |\n",
      "|(17,[1,4,5,6,11,12,13,15,16],[1.0,1.0,1.0,1.0,2.0,1.0,2.0,62.0,56.15])        |\n",
      "|(17,[0,1,4,5,13,15,16],[1.0,1.0,1.0,1.0,1.0,13.0,49.95])                      |\n",
      "|[0.0,0.0,0.0,0.0,2.0,2.0,2.0,2.0,2.0,2.0,2.0,1.0,1.0,3.0,0.0,16.0,18.95]      |\n",
      "|(17,[0,3,7,9,10,11,12,13,15,16],[1.0,1.0,1.0,1.0,1.0,2.0,1.0,3.0,58.0,100.35])|\n",
      "|(17,[3,6,7,9,10,13,15,16],[1.0,1.0,1.0,1.0,1.0,2.0,49.0,103.7])               |\n",
      "|(17,[5,7,8,9,10,15,16],[1.0,1.0,1.0,1.0,1.0,25.0,105.5])                      |\n",
      "|[1.0,1.0,0.0,1.0,0.0,1.0,1.0,1.0,1.0,1.0,1.0,1.0,1.0,3.0,0.0,69.0,113.25]     |\n",
      "|[0.0,0.0,0.0,0.0,2.0,2.0,2.0,2.0,2.0,2.0,2.0,2.0,1.0,1.0,0.0,52.0,20.65]      |\n",
      "|[0.0,1.0,0.0,1.0,0.0,1.0,0.0,1.0,0.0,1.0,1.0,1.0,1.0,2.0,0.0,71.0,106.7]      |\n",
      "|(17,[0,1,4,7,8,12,13,15,16],[1.0,1.0,1.0,1.0,1.0,1.0,3.0,10.0,55.2])          |\n",
      "|(17,[6,7,10,15,16],[1.0,1.0,1.0,21.0,90.05])                                  |\n",
      "+------------------------------------------------------------------------------+\n",
      "only showing top 20 rows\n",
      "\n"
     ]
    }
   ],
   "source": [
    "data_vec = assembler.transform(data)\n",
    "data_vec.select(\"features\").show(n=20, truncate=False)\n"
   ]
  },
  {
   "cell_type": "markdown",
   "id": "d3494bae",
   "metadata": {},
   "source": [
    "The full feature vector has 17 dimensions.\n",
    "\n",
    "Index 0 has value 1.0, index 2 has value 1.0, ..., index 15 = 29.85, and 16 = 56.95.\n",
    "\n",
    "All other positions (e.g., 1, 5, 7...) are zero."
   ]
  },
  {
   "cell_type": "code",
   "execution_count": 19,
   "id": "f9eff87b-7638-44da-b26f-52c7c06a38e6",
   "metadata": {},
   "outputs": [],
   "source": [
    "## 4. Normalize rating\n",
    "scaler = MinMaxScaler(inputCol=\"features\", outputCol=\"scaled_data\")\n",
    "scaler_model = scaler.fit(data_vec)\n",
    "data_scaled = scaler_model.transform(data_vec)\n"
   ]
  },
  {
   "cell_type": "code",
   "execution_count": 21,
   "id": "9af0bb6b-d499-4e7d-bac7-b51d5959dd39",
   "metadata": {},
   "outputs": [
    {
     "name": "stdout",
     "output_type": "stream",
     "text": [
      "+----------+---------------------------------------------------------------------------------------------------------------+\n",
      "|customerID|scaled_data                                                                                                    |\n",
      "+----------+---------------------------------------------------------------------------------------------------------------+\n",
      "|7590-VHVEG|(17,[0,2,3,4,6,15,16],[1.0,1.0,1.0,0.5,0.5,0.013888888888888888,0.11542288557213931])                          |\n",
      "|5575-GNVDE|(17,[4,5,7,11,12,13,15,16],[0.5,0.5,0.5,1.0,1.0,0.3333333333333333,0.4722222222222222,0.3850746268656717])     |\n",
      "|3668-QPYBK|(17,[4,5,6,13,15,16],[0.5,0.5,0.5,0.3333333333333333,0.027777777777777776,0.35422885572139307])                |\n",
      "|7795-CFOCW|[0.0,0.0,1.0,1.0,0.5,0.5,0.0,0.5,0.5,0.0,0.0,1.0,1.0,0.6666666666666666,0.0,0.625,0.23930348258706463]         |\n",
      "|9237-HQITU|(17,[15,16],[0.027777777777777776,0.5218905472636816])                                                         |\n",
      "|9305-CDSKC|(17,[3,7,9,10,15,16],[0.5,0.5,0.5,0.5,0.1111111111111111,0.8099502487562189])                                  |\n",
      "|1452-KIOVK|(17,[1,3,6,9,13,15,16],[1.0,0.5,0.5,0.5,1.0,0.3055555555555555,0.7049751243781094])                            |\n",
      "|6713-OKOMC|(17,[2,3,4,5,12,13,15,16],[1.0,1.0,0.5,0.5,1.0,0.3333333333333333,0.1388888888888889,0.1144278606965174])      |\n",
      "|7892-POOKP|(17,[0,3,7,8,9,10,15,16],[1.0,0.5,0.5,0.5,0.5,0.5,0.38888888888888884,0.8611940298507462])                     |\n",
      "|6388-TABGU|(17,[1,4,5,6,11,12,13,15,16],[1.0,0.5,0.5,0.5,1.0,1.0,0.6666666666666666,0.861111111111111,0.3771144278606965])|\n",
      "+----------+---------------------------------------------------------------------------------------------------------------+\n",
      "only showing top 10 rows\n",
      "\n"
     ]
    }
   ],
   "source": [
    "data_scaled.select(\"customerID\", \"scaled_data\").show(n = 10, truncate=False)"
   ]
  },
  {
   "cell_type": "code",
   "execution_count": 23,
   "id": "9be1df83-4a3c-4057-ab31-c4691d513c1b",
   "metadata": {},
   "outputs": [
    {
     "name": "stdout",
     "output_type": "stream",
     "text": [
      "+----------+-----------------------------------------------------------+\n",
      "|customerID|pca_features                                               |\n",
      "+----------+-----------------------------------------------------------+\n",
      "|7590-VHVEG|[-27.406691178016334,11.693790868578565,1.1969727088506252]|\n",
      "|5575-GNVDE|[-65.92985815796929,-6.727223526642739,2.707176250522056]  |\n",
      "|3668-QPYBK|[-49.520899117989934,20.940307086484992,3.1083642143072026]|\n",
      "|7795-CFOCW|[-57.35010884651055,-22.929783459084042,1.7980282699980046]|\n",
      "|9237-HQITU|[-64.80325489013778,28.14919500187816,2.824674190910207]   |\n",
      "|9305-CDSKC|[-93.52016716553062,34.94429258733854,4.8852894966922795]  |\n",
      "|1452-KIOVK|[-89.93973205142214,17.762948723375242,4.04167982216013]   |\n",
      "|6713-OKOMC|[-31.133151982310405,3.494643572100136,1.0900020120929679] |\n",
      "|7892-POOKP|[-106.67147667432033,19.014496930306297,4.950745626065711] |\n",
      "|6388-TABGU|[-77.10861552968844,-32.41372180314005,2.061728739797676]  |\n",
      "+----------+-----------------------------------------------------------+\n",
      "only showing top 10 rows\n",
      "\n"
     ]
    }
   ],
   "source": [
    "## 5. PCA\n",
    "from pyspark.ml.feature import PCA\n",
    "\n",
    "pca = PCA(k=3, inputCol=\"features\", outputCol=\"pca_features\")\n",
    "pca_model = pca.fit(data_vec)\n",
    "data_pca = pca_model.transform(data_vec)\n",
    "data_pca.select(\"customerID\", \"pca_features\").show(10, truncate=False)"
   ]
  },
  {
   "cell_type": "code",
   "execution_count": 26,
   "id": "c4eaf19f-3655-47ac-8f45-72108bda7129",
   "metadata": {},
   "outputs": [
    {
     "name": "stdout",
     "output_type": "stream",
     "text": [
      "\n",
      "==================== Decision Tree ====================\n",
      "Accuracy: 0.8025\n",
      "Weightedprecision: 0.7979\n",
      "Weightedrecall: 0.8025\n",
      "F1: 0.7998\n",
      "+----------+-----+----------+----------------------------------------+\n",
      "|customerID|label|prediction|probability                             |\n",
      "+----------+-----+----------+----------------------------------------+\n",
      "|0023-XUOPT|1.0  |1.0       |[0.36261980830670926,0.6373801916932907]|\n",
      "|0042-RLHYP|0.0  |0.0       |[0.9360857483128225,0.06391425168717745]|\n",
      "|0048-PIHNL|0.0  |0.0       |[0.9360857483128225,0.06391425168717745]|\n",
      "|0057-QBUQH|0.0  |0.0       |[0.9360857483128225,0.06391425168717745]|\n",
      "|0058-EVZWM|0.0  |0.0       |[0.6818181818181818,0.3181818181818182] |\n",
      "+----------+-----+----------+----------------------------------------+\n",
      "only showing top 5 rows\n",
      "\n",
      "\n",
      "==================== Random Forest ====================\n",
      "Accuracy: 0.8105\n",
      "Weightedprecision: 0.8007\n",
      "Weightedrecall: 0.8105\n",
      "F1: 0.8023\n",
      "+----------+-----+----------+-----------------------------------------+\n",
      "|customerID|label|prediction|probability                              |\n",
      "+----------+-----+----------+-----------------------------------------+\n",
      "|0023-XUOPT|1.0  |0.0       |[0.553016703838732,0.44698329616126803]  |\n",
      "|0042-RLHYP|0.0  |0.0       |[0.9935695995734646,0.006430400426535365]|\n",
      "|0048-PIHNL|0.0  |0.0       |[0.9875534297694781,0.012446570230521868]|\n",
      "|0057-QBUQH|0.0  |0.0       |[0.9696050455312456,0.03039495446875451] |\n",
      "|0058-EVZWM|0.0  |0.0       |[0.8062141847561284,0.19378581524387156] |\n",
      "+----------+-----+----------+-----------------------------------------+\n",
      "only showing top 5 rows\n",
      "\n",
      "\n",
      "==================== Logistic Regression ====================\n",
      "Accuracy: 0.8274\n",
      "Weightedprecision: 0.8191\n",
      "Weightedrecall: 0.8274\n",
      "F1: 0.8190\n",
      "+----------+-----+----------+-----------------------------------------+\n",
      "|customerID|label|prediction|probability                              |\n",
      "+----------+-----+----------+-----------------------------------------+\n",
      "|0023-XUOPT|1.0  |1.0       |[0.4278349545021057,0.5721650454978944]  |\n",
      "|0042-RLHYP|0.0  |0.0       |[0.9910164605177176,0.008983539482282366]|\n",
      "|0048-PIHNL|0.0  |0.0       |[0.9868228123120617,0.013177187687938297]|\n",
      "|0057-QBUQH|0.0  |0.0       |[0.9424360143233395,0.057563985676660545]|\n",
      "|0058-EVZWM|0.0  |0.0       |[0.788933411159995,0.21106658884000495]  |\n",
      "+----------+-----+----------+-----------------------------------------+\n",
      "only showing top 5 rows\n",
      "\n"
     ]
    }
   ],
   "source": [
    "### c) Model Implementation & d) Evaluation and Discussion\n",
    "from pyspark.ml.classification import DecisionTreeClassifier\n",
    "from pyspark.ml.classification import RandomForestClassifier\n",
    "from pyspark.ml.classification import LogisticRegression\n",
    "\n",
    "def evaluate_model(model_name, model, train_data, test_data, param_grid):\n",
    "    print(f\"\\n{'='*20} {model_name} {'='*20}\")\n",
    "    pipeline = Pipeline(stages=indexers + encoders + [label_indexer, assembler, model])\n",
    "\n",
    "    evaluator = MulticlassClassificationEvaluator(labelCol=\"label\", predictionCol=\"prediction\", metricName=\"f1\")\n",
    "\n",
    "    cv = CrossValidator(estimator=pipeline,\n",
    "                        estimatorParamMaps=param_grid,\n",
    "                        evaluator=evaluator,\n",
    "                        numFolds=3)\n",
    "\n",
    "    cv_model = cv.fit(train_data)\n",
    "    predictions = cv_model.transform(test_data)\n",
    "\n",
    "    # Evaluation metrics\n",
    "    for metric in [\"accuracy\", \"weightedPrecision\", \"weightedRecall\", \"f1\"]:\n",
    "        evaluator = MulticlassClassificationEvaluator(labelCol=\"label\", predictionCol=\"prediction\", metricName=metric)\n",
    "        score = evaluator.evaluate(predictions)\n",
    "        print(f\"{metric.capitalize()}: {score:.4f}\")\n",
    "\n",
    "    # Show predictions\n",
    "    predictions.select(\"customerID\", \"label\", \"prediction\", \"probability\").show(5, truncate=False)\n",
    "\n",
    "\n",
    "# ========== 1. Decision Tree ==========\n",
    "dt = DecisionTreeClassifier(labelCol=\"label\", featuresCol=\"features\")\n",
    "dt_param_grid = ParamGridBuilder() \\\n",
    "    .addGrid(dt.maxDepth, [3, 5, 10]) \\\n",
    "    .addGrid(dt.minInstancesPerNode, [1, 5]) \\\n",
    "    .build()\n",
    "\n",
    "evaluate_model(\"Decision Tree\", dt, train_data, test_data, dt_param_grid)\n",
    "\n",
    "\n",
    "# ========== 2. Random Forest ==========\n",
    "rf = RandomForestClassifier(labelCol=\"label\", featuresCol=\"features\")\n",
    "rf_param_grid = ParamGridBuilder() \\\n",
    "    .addGrid(rf.numTrees, [10, 20]) \\\n",
    "    .addGrid(rf.maxDepth, [5, 10]) \\\n",
    "    .build()\n",
    "\n",
    "evaluate_model(\"Random Forest\", rf, train_data, test_data, rf_param_grid)\n",
    "\n",
    "\n",
    "# ========== 3. Logistic Regression ==========\n",
    "lr = LogisticRegression(labelCol=\"label\", featuresCol=\"features\", maxIter=10)\n",
    "lr_param_grid = ParamGridBuilder() \\\n",
    "    .addGrid(lr.regParam, [0.01, 0.1]) \\\n",
    "    .addGrid(lr.elasticNetParam, [0.0, 0.5, 1.0]) \\\n",
    "    .build()\n",
    "\n",
    "evaluate_model(\"Logistic Regression\", lr, train_data, test_data, lr_param_grid)\n",
    "\n"
   ]
  },
  {
   "cell_type": "code",
   "execution_count": null,
   "id": "9ff88252-5ef8-4eda-aaf5-983016cdecc3",
   "metadata": {},
   "outputs": [],
   "source": [
    "###### I think LR model is the best one because Accuracy, Weightedprecision, Weightedrecall and F1 are all the highest, and it use shortest time.\n",
    "###### 'OnlineSecurity','OnlineBackup','DeviceProtection','TechSupport'is the most affecting features.\n",
    "###### Limit: Some method may only useful in thin matrix\n",
    "###### Suggestions: Try implicitPrefs=True if having data like clicks or watch counts. \n",
    "###### Use MAP or NDCG for ranked metrics (can be implemented manually).\n",
    "###### Segment by user type (new vs. frequent) for deeper analysis.\n",
    "\n"
   ]
  },
  {
   "cell_type": "code",
   "execution_count": null,
   "id": "79c74333-48ac-48f2-b797-70a65ea859a0",
   "metadata": {},
   "outputs": [],
   "source": [
    "# Stop Spark session\n",
    "spark.stop()"
   ]
  }
 ],
 "metadata": {
  "kernelspec": {
   "display_name": "Python 3",
   "language": "python",
   "name": "python3"
  },
  "language_info": {
   "codemirror_mode": {
    "name": "ipython",
    "version": 3
   },
   "file_extension": ".py",
   "mimetype": "text/x-python",
   "name": "python",
   "nbconvert_exporter": "python",
   "pygments_lexer": "ipython3",
   "version": "3.10.11"
  }
 },
 "nbformat": 4,
 "nbformat_minor": 5
}
