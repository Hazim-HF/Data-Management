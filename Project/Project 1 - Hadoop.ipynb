{
 "cells": [
  {
   "cell_type": "code",
   "execution_count": 14,
   "id": "3182a801",
   "metadata": {},
   "outputs": [
    {
     "name": "stdout",
     "output_type": "stream",
     "text": [
      "('cuba',)\n",
      "('movie_names',)\n",
      "('ratings',)\n"
     ]
    }
   ],
   "source": [
    "from pyhive import hive\n",
    "\n",
    "\n",
    "conn = hive.Connection(\n",
    "    host=\"localhost\",\n",
    "    port=10000,\n",
    "    username=\"maria_dev\",\n",
    "    database=\"default\",\n",
    "    auth=\"NONE\"\n",
    ")\n",
    "\n",
    "cursor = conn.cursor()\n",
    "cursor.execute('SHOW TABLES ')\n",
    "for result in cursor.fetchall():\n",
    "    print(result)\n"
   ]
  },
  {
   "cell_type": "code",
   "execution_count": 13,
   "id": "a953a1e4",
   "metadata": {},
   "outputs": [
    {
     "name": "stdout",
     "output_type": "stream",
     "text": [
      "     A15    A14 A13 A12  A11 A10 A9    A8  A7  A6 A5 A4      A3     A2 A1\n",
      "0      0  202.0   g   f    1   t  t  1.25   v   w  g  u   0.000  30.83  b\n",
      "1    560   43.0   g   f    6   t  t  3.04   h   q  g  u   4.460  58.67  a\n",
      "2    824  280.0   g   f    0   f  t  1.50   h   q  g  u   0.500  24.50  a\n",
      "3      3  100.0   g   t    5   t  t  3.75   v   w  g  u   1.540  27.83  b\n",
      "4      0  120.0   s   f    0   f  t  1.71   v   w  g  u   5.625  20.17  b\n",
      "..   ...    ...  ..  ..  ...  .. ..   ...  ..  .. .. ..     ...    ... ..\n",
      "685    0  260.0   g   f    0   f  f  1.25   h   e  p  y  10.085  21.08  b\n",
      "686  394  200.0   g   t    2   t  f  2.00   v   c  g  u   0.750  22.67  a\n",
      "687    1  200.0   g   t    1   t  f  2.00  ff  ff  p  y  13.500  25.25  a\n",
      "688  750  280.0   g   f    0   f  f  0.04   v  aa  g  u   0.205  17.92  b\n",
      "689    0    0.0   g   t    0   f  f  8.29   h   c  g  u   3.375  35.00  b\n",
      "\n",
      "[690 rows x 15 columns]\n"
     ]
    }
   ],
   "source": [
    "from ucimlrepo import fetch_ucirepo\n",
    "\n",
    "fraud = fetch_ucirepo(id=27)\n",
    "\n",
    "print(fraud.data.features)"
   ]
  },
  {
   "cell_type": "code",
   "execution_count": 15,
   "id": "9f89f08b",
   "metadata": {},
   "outputs": [],
   "source": [
    "import pandas as pd\n",
    "df = pd.concat([fraud.data.features, fraud.data.target], axis=1)\n",
    "df.to_csv('fraud.csv', index=False, header=False)"
   ]
  },
  {
   "cell_type": "code",
   "execution_count": 16,
   "id": "9e18a530",
   "metadata": {},
   "outputs": [
    {
     "data": {
      "text/plain": [
       "67"
      ]
     },
     "execution_count": 16,
     "metadata": {},
     "output_type": "execute_result"
    }
   ],
   "source": [
    "credit = pd.read_csv('fraud.csv')\n",
    "credit.isna().sum().sum()"
   ]
  },
  {
   "cell_type": "code",
   "execution_count": 21,
   "id": "73b2a665",
   "metadata": {},
   "outputs": [],
   "source": [
    "cursor.execute(\"CREATE DATABASE credit\")"
   ]
  },
  {
   "cell_type": "code",
   "execution_count": 24,
   "id": "8a84c5d4",
   "metadata": {},
   "outputs": [],
   "source": [
    "cursor.execute(\"\"\"\n",
    "CREATE TABLE credit.credit_approval (\n",
    "    A1 INT,\n",
    "    A2 INT, \n",
    "    A3 STRING, \n",
    "    A4 STRING, \n",
    "    A5 INT,\n",
    "    A6 STRING, \n",
    "    A7 STRING, \n",
    "    A8 FLOAT, \n",
    "    A9 STRING,\n",
    "    A10 STRING,\n",
    "    A11 STRING, \n",
    "    A12 STRING, \n",
    "    A13 FLOAT, \n",
    "    A14 FLOAT, \n",
    "    A15 STRING\n",
    ")\n",
    "\"\"\")"
   ]
  },
  {
   "cell_type": "code",
   "execution_count": null,
   "id": "4a821297",
   "metadata": {},
   "outputs": [],
   "source": [
    "cursor.execute(\"\"\"\n",
    "               LOAD DATA INPATH '/user/maria_dev/fraud.csv'\n",
    "               OVERWRITE INTO TABLE credit.credit_approval\n",
    "               \"\"\")"
   ]
  },
  {
   "cell_type": "code",
   "execution_count": 26,
   "id": "f24d94a2",
   "metadata": {},
   "outputs": [],
   "source": [
    "cursor.execute(\"\"\"\n",
    "SELECT * FROM credit.credit_approval\n",
    "\"\"\")"
   ]
  },
  {
   "cell_type": "code",
   "execution_count": null,
   "id": "ed0fbfb7",
   "metadata": {},
   "outputs": [],
   "source": []
  }
 ],
 "metadata": {
  "kernelspec": {
   "display_name": "Python 3",
   "language": "python",
   "name": "python3"
  },
  "language_info": {
   "codemirror_mode": {
    "name": "ipython",
    "version": 3
   },
   "file_extension": ".py",
   "mimetype": "text/x-python",
   "name": "python",
   "nbconvert_exporter": "python",
   "pygments_lexer": "ipython3",
   "version": "3.11.4"
  }
 },
 "nbformat": 4,
 "nbformat_minor": 5
}
